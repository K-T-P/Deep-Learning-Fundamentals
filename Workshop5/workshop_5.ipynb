{
 "cells": [
  {
   "cell_type": "markdown",
   "metadata": {
    "id": "1H4m2VIPgrrH"
   },
   "source": [
    "# NLP?\n",
    "NLP or NAtural Language Processing is a part of AI which deals with the textual aspect of the data. We can perform different task using NLP some of the simplest being:\n",
    "\n",
    "1. Classify the kind of text data. (Science,Sports etc)\n",
    "2. Extract the summary from the text (useful in the key points for legal documents)\n",
    "3. Make a Fill in the Blanks Model\n",
    "4. ChatBots\n",
    "5. Image Captioning\n",
    "\n",
    "NLP has reached a point of complexity where the models are generating scripts for a play or generate a random story based on a random word."
   ]
  },
  {
   "cell_type": "markdown",
   "metadata": {
    "id": "1vz-HMf0grrH"
   },
   "source": [
    "# Problem?\n",
    "We have to classify the given comments in 2 parts whether these are toxis or not by using the comments. 1 shows Toxic, 0 shows Not Toxic"
   ]
  },
  {
   "cell_type": "markdown",
   "metadata": {
    "id": "fXymW27BgrrH"
   },
   "source": [
    "# Solution?\n",
    "## RNN (Recurrent Neural Networks):\n",
    "I can not draw the figure for weights,biases and all the other things that are very essential to have a deep understanding of RNN so Please check out [this insightful video](https://www.youtube.com/watch?v=2E65LDnM2cA&list=PL1F3ABbhcqa3BBWo170U4Ev2wfsF7FN8l) on RNN by Andrew NG and a very [intutive video by MIT](https://www.youtube.com/watch?v=SEnXr6v2ifU&t=1398s) before you start.\n",
    "\n",
    "**<font color='teal'>RNN helps wherever we need context from the previous input such as:**</font>\n",
    "\n",
    "1. Language to Language Translation (Many to Many Articture: Many inputs Many Outputs)\n",
    "2. Sentimeny Analysis (Many to One Articture: Many inputs One Output)\n",
    "3. Music, Story Generation (One to Many Articture: One input Many Outputs)\n",
    "\n",
    "**<font color='red'>We're talking about the `Many to Many Architecture Below`</font>**\n",
    "\n",
    "RNN are specialised version of Neural Networks which deals with the time aspect as well. For instance, given a sentence like `Because Eminem is the only Rapper to win an Oscar, best selling rapper of all time, most top Billboards and has got 15 Grammy award wins so it makes him the ____` can have a complex structure because filling the right word as `GOD/GOAT/Best` is linked to the first word itself and has a relation with the entire sequence of the words. Simple Dense networds can not address the problem so to get the results in the sentence, we have to get the relation from the past where the output is based on  `only,rapper,win,Oscar,most,selling,all,time,most,top,billboards,15,Grammy`. So in order to teach the model, RNN are used where an output is based only not only on the inputs but the previous outputs too.\n",
    "\n",
    "RNN have <font color='green'>**BPTT**: **Back Propagation Through Time**</font> which is a specialised version of Back Propagation Algorithm to train RNN.\n",
    "\n",
    "Conceptually, BPTT works by unrolling all input timesteps. Each timestep has one input timestep, one copy of the network, and one output. Errors are then calculated and accumulated for each timestep. The network is rolled back up and the weights are updated.\n",
    "\n",
    "Gradients will have to be called for the past cells too so if layers are in thousands so BPTT can be computationally expensive as the number of timesteps increases and it also leads to Vanishing gradients (no change in Gradients) or exploding (gradients changing too fast).\n",
    "\n",
    "## Working and feeding data into RNN for NLP?\n",
    "Unlike the data that we feed in simple DNN, we feed the data at time intervals. Let us see by an example.\n",
    "Suppose we have the Sentence `Eminem is the GOAT` and the vector representation of it suppose `[1,2,3,4]` and we want to train a super slow but intelligent model model of just 1 cell or layer in RNN `(t-1 only)`. So insted of feeding the whole instance at 12:00 PM, it'll feed starting hidden state as `h_start` (which is generally random or 0) and `1`  which is notation for  `Eminem` at 12:00 PM and generate an output say `99` and a hidden state `h0` at 12:01. At 12:02, We'll feed the model with past state `h0` and the current input `2` to get a result `42` and a modified hidden state from `h0 -> h1` at 12:03 and it goes on until the end of the vector. By the time our model finish training, it would have produced a vector of results and a final state `h_end`(which is of no use now except we are using Encoder-Decoder) which interprets to  `He is indeed GOD. Period`.\n",
    "\n",
    "**<font color='red'>NOTE: RNN uses SAME function (mostly`tanh`) as activation function and SAME weight matrix `W` to calculate the variables at EACH TIME STEP. Depending on the requirements, there can be multiple Weight Matrices for example one weight matrix  (`Wh`) that gets multiplied by the previous hidden state (`h_old`), another one as (`Wx`) that gets multiplied by input (`x_in`).`h_now = tanh(Wh*h_old + Wx*x_in)`. To calculate the current output as (`y_now`), we use another weight matrix (`Wy`)  so that `y_now = softmax(Wy * h_now)`</font>**\n",
    "\n",
    "**<font color='teal'>Note: Hidden State is not a scaler but has dimension `d`.Hidden state represent how many different features you want to remember for either short term or long term (in LSTM's context). Hidden States tend to do something like this:</font>**\n",
    "\n",
    "1. Remember the context\n",
    "2. Remeber the Grammar\n",
    "3. Preserve the style words have been used\n",
    "4. etc... etc...\n",
    "\n",
    "**<font color='maroon'>Data should be of same length for all of the Training instances for most of the basic Deep Learning models (except sequence-to-seqence, attention etc)**</font>. You can not pass in Vectors of different length to the model such as `Eminem is the best rapper` and `Eminem is the best rapper born EOD`. You need to either truncate the second one or to pad the first one. People mostly use the padding where the sentence with the maximum length is considered as base and a unique vector is appended to the each sentence in the end to mae the vectors of same size. By doing that, our second sentence will become `Eminem is the best rapper -PAD- PAD-` and it'll become `[1,2,3,4,777,777]`.\n",
    "\n",
    "There might be times when your model will encounter some words that it is unaware of. For example we have the sentence `But Kanye has more Grammys. Now What?`. Our model will literally throw an error like `Kanye?? WHO???? I don't know that name. Never Heard of this word`. So to overcome the problem, another unidentified token is attached as -UN- to make the sentence as `But -UN- has more Grammys` and the result for that would be `For Producing Music mostly not Rapping, got it?`."
   ]
  },
  {
   "cell_type": "markdown",
   "metadata": {
    "id": "zHKNLpbYgrrI"
   },
   "source": [
    "# Imports\n",
    "Import the required libraries."
   ]
  },
  {
   "cell_type": "code",
   "execution_count": null,
   "metadata": {
    "colab": {
     "base_uri": "https://localhost:8080/"
    },
    "id": "bH--XwKjxdio",
    "outputId": "4b1baf92-8bdb-4933-bade-1dc0cd7af5ab"
   },
   "outputs": [],
   "source": [
    "!pip install -U torchtext==0.6.0"
   ]
  },
  {
   "cell_type": "code",
   "execution_count": 1,
   "metadata": {
    "_cell_guid": "79c7e3d0-c299-4dcb-8224-4455121ee9b0",
    "_uuid": "d629ff2d2480ee46fbb7e2d37f6b5fab8052498a",
    "id": "LDi57OgigrrI"
   },
   "outputs": [],
   "source": [
    "import pandas as pd # data handling\n",
    "import numpy as np # base of all\n",
    "import matplotlib.pyplot as plt # plotting\n",
    "import seaborn as sns  # advance plotting\n",
    "from wordcloud import WordCloud # to see the words as image\n",
    "import torch # PyTorch for building Networks\n",
    "import torch.nn as nn\n",
    "import torch.nn.functional as F\n",
    "from torchtext.data import Field,LabelField,BucketIterator,TabularDataset # TorchText has Text processing Function\n",
    "from torchtext import vocab\n",
    "from torchtext.vocab import GloVe\n",
    "from sklearn.model_selection import train_test_split # split the data into training and testing\n",
    "from sklearn.metrics import accuracy_score # accuracy metric\n",
    "from nltk import word_tokenize # very popular Text processing Library\n",
    "import random # to perform randomisation of tasks\n",
    "from tqdm.notebook import tqdm # for a continuous progress bar style\n",
    "import time # time module\n",
    "import os # import operating system"
   ]
  },
  {
   "cell_type": "code",
   "execution_count": 2,
   "metadata": {
    "id": "PkrJPNX7BuAC"
   },
   "outputs": [],
   "source": [
    "import nltk\n",
    "# nltk.download('punkt_tab')"
   ]
  },
  {
   "cell_type": "markdown",
   "metadata": {
    "id": "bFOAOhaZgrrK"
   },
   "source": [
    "# Set Defaults & Globals\n",
    "Set default conditions for some libraries and Global Variables"
   ]
  },
  {
   "cell_type": "code",
   "execution_count": null,
   "metadata": {
    "id": "aRmGvmFtgrrK"
   },
   "outputs": [],
   "source": [
    "SEED = 13 # reproducible results: Same results in every run\n",
    "EPOCH = 1 # number of epochs to run for model\n",
    "device = torch.device('cuda' if torch.cuda.is_available() else 'cpu') # use 'cuda' if available else 'cpu'"
   ]
  },
  {
   "cell_type": "markdown",
   "metadata": {
    "id": "qCXVrPt4grrK"
   },
   "source": [
    "# Input & EDA\n",
    "Check out the data"
   ]
  },
  {
   "cell_type": "code",
   "execution_count": 1,
   "metadata": {
    "colab": {
     "base_uri": "https://localhost:8080/"
    },
    "id": "28esBAkblnbk",
    "outputId": "e73d1591-330a-4403-960e-1bbc9b537777"
   },
   "outputs": [
    {
     "name": "stdout",
     "output_type": "stream",
     "text": [
      "^C\n"
     ]
    },
    {
     "name": "stderr",
     "output_type": "stream",
     "text": [
      "Downloading...\n",
      "From: https://drive.google.com/uc?id=1-sFJBsHlRvFIVCEFhCf7s7eCz-AjEzOD\n",
      "To: j:\\Seventh Semester\\Deep Learning\\Workshops\\Workshop5\\data.csv\n",
      "\n",
      "  0%|          | 0.00/68.8M [00:00<?, ?B/s]\n",
      "  1%|          | 524k/68.8M [00:11<25:27, 44.7kB/s]\n",
      "  2%|▏         | 1.05M/68.8M [00:20<21:25, 52.7kB/s]\n",
      "  2%|▏         | 1.57M/68.8M [00:22<13:10, 85.1kB/s]\n",
      "  3%|▎         | 2.10M/68.8M [00:23<09:23, 118kB/s] \n",
      "  4%|▍         | 2.62M/68.8M [00:24<06:44, 164kB/s]\n",
      "  5%|▍         | 3.15M/68.8M [00:27<06:12, 176kB/s]\n",
      "  5%|▌         | 3.67M/68.8M [00:29<05:49, 186kB/s]\n",
      "  6%|▌         | 4.19M/68.8M [00:31<04:46, 225kB/s]\n",
      "  7%|▋         | 4.72M/68.8M [00:33<04:59, 214kB/s]\n",
      "  8%|▊         | 5.24M/68.8M [00:36<04:44, 223kB/s]\n",
      "  8%|▊         | 5.77M/68.8M [00:37<03:57, 266kB/s]\n",
      "  9%|▉         | 6.29M/68.8M [00:38<03:15, 319kB/s]\n",
      " 10%|▉         | 6.82M/68.8M [00:39<02:52, 360kB/s]\n",
      " 11%|█         | 7.34M/68.8M [00:42<03:59, 257kB/s]\n",
      " 11%|█▏        | 7.86M/68.8M [00:44<03:49, 266kB/s]\n",
      " 12%|█▏        | 8.39M/68.8M [00:45<03:28, 289kB/s]\n",
      " 13%|█▎        | 8.91M/68.8M [00:47<03:20, 299kB/s]\n",
      " 14%|█▎        | 9.44M/68.8M [00:48<03:10, 311kB/s]\n",
      " 14%|█▍        | 9.96M/68.8M [00:50<02:59, 328kB/s]\n",
      " 15%|█▌        | 10.5M/68.8M [00:51<02:34, 377kB/s]\n",
      " 16%|█▌        | 11.0M/68.8M [00:52<02:29, 388kB/s]\n",
      " 17%|█▋        | 11.5M/68.8M [00:53<02:33, 372kB/s]\n",
      " 18%|█▊        | 12.1M/68.8M [00:55<02:34, 368kB/s]\n",
      " 18%|█▊        | 12.6M/68.8M [00:56<02:24, 389kB/s]\n",
      " 19%|█▉        | 13.1M/68.8M [00:57<02:10, 425kB/s]\n",
      " 20%|█▉        | 13.6M/68.8M [00:58<01:59, 463kB/s]\n",
      " 21%|██        | 14.2M/68.8M [00:59<01:46, 512kB/s]\n",
      " 21%|██▏       | 14.7M/68.8M [01:00<01:40, 539kB/s]\n",
      " 22%|██▏       | 15.2M/68.8M [01:00<01:32, 581kB/s]\n",
      " 23%|██▎       | 15.7M/68.8M [01:01<01:35, 557kB/s]\n",
      " 24%|██▎       | 16.3M/68.8M [01:02<01:34, 554kB/s]\n",
      " 24%|██▍       | 16.8M/68.8M [01:03<01:28, 591kB/s]\n",
      " 25%|██▌       | 17.3M/68.8M [01:04<01:21, 630kB/s]\n",
      " 26%|██▌       | 17.8M/68.8M [01:05<01:18, 650kB/s]\n",
      " 27%|██▋       | 18.4M/68.8M [01:05<01:11, 707kB/s]\n",
      " 27%|██▋       | 18.9M/68.8M [01:06<01:08, 731kB/s]\n",
      " 28%|██▊       | 19.4M/68.8M [01:06<01:04, 770kB/s]\n",
      " 29%|██▉       | 19.9M/68.8M [01:07<01:04, 757kB/s]\n",
      " 30%|██▉       | 20.4M/68.8M [01:08<01:05, 743kB/s]\n",
      " 30%|███       | 21.0M/68.8M [01:08<00:56, 846kB/s]\n",
      " 31%|███       | 21.5M/68.8M [01:09<00:57, 820kB/s]\n",
      " 32%|███▏      | 22.0M/68.8M [01:09<00:53, 868kB/s]\n",
      " 33%|███▎      | 22.5M/68.8M [01:10<00:55, 839kB/s]\n",
      " 34%|███▎      | 23.1M/68.8M [01:11<00:51, 885kB/s]\n",
      " 34%|███▍      | 23.6M/68.8M [01:11<00:46, 974kB/s]\n",
      " 35%|███▌      | 24.1M/68.8M [01:12<00:56, 794kB/s]\n",
      " 36%|███▌      | 24.6M/68.8M [01:13<00:53, 819kB/s]\n",
      " 37%|███▋      | 25.2M/68.8M [01:13<00:54, 802kB/s]\n",
      " 37%|███▋      | 25.7M/68.8M [01:14<00:52, 823kB/s]\n",
      " 38%|███▊      | 26.2M/68.8M [01:15<00:54, 784kB/s]\n",
      " 39%|███▉      | 26.7M/68.8M [01:15<00:40, 1.04MB/s]\n",
      " 40%|███▉      | 27.3M/68.8M [01:15<00:41, 997kB/s] \n",
      " 40%|████      | 27.8M/68.8M [01:16<00:42, 955kB/s]\n",
      " 41%|████      | 28.3M/68.8M [01:16<00:40, 990kB/s]\n",
      " 42%|████▏     | 28.8M/68.8M [01:17<00:44, 893kB/s]\n",
      " 43%|████▎     | 29.4M/68.8M [01:18<00:45, 864kB/s]\n",
      " 43%|████▎     | 29.9M/68.8M [01:19<00:50, 770kB/s]\n",
      " 44%|████▍     | 30.4M/68.8M [01:19<00:53, 711kB/s]\n",
      " 45%|████▍     | 30.9M/68.8M [01:20<00:53, 706kB/s]\n",
      " 46%|████▌     | 31.5M/68.8M [01:21<00:50, 743kB/s]\n",
      " 46%|████▋     | 32.0M/68.8M [01:22<00:49, 740kB/s]\n",
      " 47%|████▋     | 32.5M/68.8M [01:23<00:55, 655kB/s]\n",
      " 48%|████▊     | 33.0M/68.8M [01:24<01:10, 508kB/s]\n",
      " 49%|████▉     | 33.6M/68.8M [01:25<01:10, 496kB/s]\n",
      " 50%|████▉     | 34.1M/68.8M [01:26<01:12, 482kB/s]\n",
      " 50%|█████     | 34.6M/68.8M [01:27<01:04, 526kB/s]\n",
      " 51%|█████     | 35.1M/68.8M [01:28<01:08, 489kB/s]\n",
      " 52%|█████▏    | 35.7M/68.8M [01:30<01:12, 460kB/s]\n",
      " 53%|█████▎    | 36.2M/68.8M [01:31<01:16, 426kB/s]\n",
      " 53%|█████▎    | 36.7M/68.8M [01:32<01:09, 460kB/s]\n",
      " 54%|█████▍    | 37.2M/68.8M [01:33<01:00, 523kB/s]\n",
      " 55%|█████▍    | 37.7M/68.8M [01:33<00:50, 614kB/s]\n",
      " 56%|█████▌    | 38.3M/68.8M [01:35<00:55, 553kB/s]\n",
      " 56%|█████▋    | 38.8M/68.8M [01:35<00:40, 742kB/s]\n",
      " 57%|█████▋    | 39.3M/68.8M [01:35<00:41, 708kB/s]\n",
      " 58%|█████▊    | 39.8M/68.8M [01:37<00:53, 538kB/s]\n",
      " 59%|█████▊    | 40.4M/68.8M [01:39<01:04, 440kB/s]\n",
      " 59%|█████▉    | 40.9M/68.8M [01:40<01:08, 407kB/s]\n",
      " 60%|██████    | 41.4M/68.8M [01:42<01:19, 346kB/s]\n",
      " 61%|██████    | 41.9M/68.8M [01:43<01:12, 368kB/s]\n",
      " 62%|██████▏   | 42.5M/68.8M [01:44<01:03, 414kB/s]\n",
      " 62%|██████▏   | 43.0M/68.8M [01:46<01:02, 410kB/s]\n",
      " 63%|██████▎   | 43.5M/68.8M [01:46<00:49, 515kB/s]\n",
      " 64%|██████▍   | 44.0M/68.8M [01:47<00:47, 524kB/s]\n",
      " 65%|██████▍   | 44.6M/68.8M [01:48<00:48, 498kB/s]\n",
      " 66%|██████▌   | 45.1M/68.8M [01:49<00:41, 578kB/s]\n",
      " 66%|██████▋   | 45.6M/68.8M [01:50<00:40, 573kB/s]\n",
      " 67%|██████▋   | 46.1M/68.8M [01:50<00:36, 614kB/s]\n",
      " 68%|██████▊   | 46.7M/68.8M [01:51<00:34, 638kB/s]\n",
      " 69%|██████▊   | 47.2M/68.8M [01:52<00:33, 646kB/s]\n",
      " 69%|██████▉   | 47.7M/68.8M [01:52<00:29, 727kB/s]\n",
      " 70%|███████   | 48.2M/68.8M [01:53<00:25, 800kB/s]\n",
      " 71%|███████   | 48.8M/68.8M [01:54<00:25, 791kB/s]\n",
      " 72%|███████▏  | 49.3M/68.8M [01:54<00:21, 913kB/s]\n",
      " 72%|███████▏  | 49.8M/68.8M [01:54<00:19, 971kB/s]\n",
      " 73%|███████▎  | 50.3M/68.8M [01:55<00:18, 1.02MB/s]\n",
      " 74%|███████▍  | 50.9M/68.8M [01:55<00:16, 1.07MB/s]\n",
      " 75%|███████▍  | 51.4M/68.8M [01:56<00:15, 1.12MB/s]\n",
      " 75%|███████▌  | 51.9M/68.8M [01:56<00:15, 1.09MB/s]\n",
      " 76%|███████▌  | 52.4M/68.8M [01:57<00:15, 1.03MB/s]\n",
      " 77%|███████▋  | 53.0M/68.8M [01:57<00:13, 1.13MB/s]\n",
      " 78%|███████▊  | 53.5M/68.8M [01:58<00:13, 1.17MB/s]\n",
      " 78%|███████▊  | 54.0M/68.8M [01:58<00:12, 1.18MB/s]\n",
      " 79%|███████▉  | 54.5M/68.8M [01:59<00:13, 1.09MB/s]\n",
      " 80%|████████  | 55.1M/68.8M [01:59<00:13, 997kB/s] \n",
      " 81%|████████  | 55.6M/68.8M [02:00<00:13, 968kB/s]\n",
      " 82%|████████▏ | 56.1M/68.8M [02:00<00:12, 1.02MB/s]\n",
      " 82%|████████▏ | 56.6M/68.8M [02:01<00:09, 1.24MB/s]\n",
      " 83%|████████▎ | 57.1M/68.8M [02:01<00:09, 1.29MB/s]\n",
      " 84%|████████▍ | 57.7M/68.8M [02:01<00:08, 1.35MB/s]\n",
      " 85%|████████▍ | 58.2M/68.8M [02:02<00:08, 1.25MB/s]\n",
      " 85%|████████▌ | 58.7M/68.8M [02:02<00:08, 1.25MB/s]\n",
      " 86%|████████▌ | 59.2M/68.8M [02:02<00:06, 1.48MB/s]\n",
      " 87%|████████▋ | 59.8M/68.8M [02:03<00:05, 1.52MB/s]\n",
      " 88%|████████▊ | 60.3M/68.8M [02:03<00:05, 1.46MB/s]\n",
      " 88%|████████▊ | 60.8M/68.8M [02:03<00:05, 1.46MB/s]\n",
      " 89%|████████▉ | 61.3M/68.8M [02:04<00:07, 1.04MB/s]\n",
      " 91%|█████████ | 62.4M/68.8M [02:05<00:05, 1.27MB/s]\n",
      " 91%|█████████▏| 62.9M/68.8M [02:05<00:04, 1.35MB/s]\n",
      " 92%|█████████▏| 63.4M/68.8M [02:05<00:03, 1.47MB/s]\n",
      " 93%|█████████▎| 64.0M/68.8M [02:06<00:03, 1.38MB/s]\n",
      " 94%|█████████▎| 64.5M/68.8M [02:06<00:03, 1.33MB/s]\n",
      " 94%|█████████▍| 65.0M/68.8M [02:07<00:02, 1.33MB/s]\n",
      " 95%|█████████▌| 65.5M/68.8M [02:07<00:02, 1.46MB/s]\n",
      " 96%|█████████▌| 66.1M/68.8M [02:07<00:01, 1.48MB/s]\n",
      " 97%|█████████▋| 66.6M/68.8M [02:08<00:01, 1.58MB/s]\n",
      " 98%|█████████▊| 67.1M/68.8M [02:08<00:01, 1.60MB/s]\n",
      " 98%|█████████▊| 67.6M/68.8M [02:08<00:00, 1.71MB/s]\n",
      " 99%|█████████▉| 68.2M/68.8M [02:09<00:00, 1.66MB/s]\n",
      "100%|█████████▉| 68.7M/68.8M [02:09<00:00, 1.60MB/s]\n",
      "100%|██████████| 68.8M/68.8M [02:09<00:00, 532kB/s] \n"
     ]
    }
   ],
   "source": [
    "!gdown 1-sFJBsHlRvFIVCEFhCf7s7eCz-AjEzOD"
   ]
  },
  {
   "cell_type": "code",
   "execution_count": null,
   "metadata": {
    "colab": {
     "base_uri": "https://localhost:8080/",
     "height": 206
    },
    "id": "gbHsqnHhgrrK",
    "outputId": "a2085232-b539-4fea-9eee-af0e02275b27"
   },
   "outputs": [],
   "source": [
    "# read data.csv file with pandas (1 line)\n",
    "# start of your code\n",
    "df = pd.read_csv('data.csv')\n",
    "# end of your code\n",
    "df.head()"
   ]
  },
  {
   "cell_type": "code",
   "execution_count": null,
   "metadata": {
    "colab": {
     "base_uri": "https://localhost:8080/",
     "height": 406
    },
    "id": "xg7xK-ncgrrL",
    "outputId": "66f754d5-a35e-4218-d826-7ba409dabb07"
   },
   "outputs": [],
   "source": [
    "df['toxic'].value_counts().plot(kind='pie',autopct='%.2f%%',labels=['Not Toxic','Toxic'],cmap='Set2')\n",
    "# distribution of Toxic or Non Toxic. 1 detemines Toxic\n",
    "plt.show()"
   ]
  },
  {
   "cell_type": "code",
   "execution_count": null,
   "metadata": {
    "colab": {
     "base_uri": "https://localhost:8080/"
    },
    "id": "1FkMfQrggrrL",
    "outputId": "607d9c7d-c46b-44a6-cc4c-3aabf798b659"
   },
   "outputs": [],
   "source": [
    "# join all the comments to make a new one big comment (1 line)\n",
    "# start of your code\n",
    "text = ' '.join(df['comment_text'])\n",
    "# end of your code\n",
    "print(f'There are {len(text)} unique words in the whole dataset')"
   ]
  },
  {
   "cell_type": "markdown",
   "metadata": {
    "id": "Zdfqb1mEgrrM"
   },
   "source": [
    "# Pre- Processing\n",
    "Remove Null Values, Duplicates etc . Split the data, and change the structure according to the requiements of PyTorch\n",
    "\n",
    "## Remove un-necessary values\n",
    "Remove unwanted columns, Null rows and duplicated rows"
   ]
  },
  {
   "cell_type": "code",
   "execution_count": null,
   "metadata": {
    "colab": {
     "base_uri": "https://localhost:8080/",
     "height": 206
    },
    "id": "xXwcHO4XgrrM",
    "outputId": "e88ca600-645a-4f05-a782-cdabd1570bbe"
   },
   "outputs": [],
   "source": [
    "# we need just the two columns ('comment_text' and 'toxic')\n",
    "# drop duplicates and it'll include empty comments too\n",
    "# we do not need any of the columns with empty values (3 lines)\n",
    "# start of your code\n",
    "df = df[['comment_text', 'toxic']].drop_duplicates().dropna(axis='index')\n",
    "# end of your code\n",
    "df.head()"
   ]
  },
  {
   "cell_type": "markdown",
   "metadata": {
    "id": "sio5PIMMgrrM"
   },
   "source": [
    "## Split Data\n",
    "Split Data into 3-Fold Training, Validation and tsting dataframes and save to memory for later use."
   ]
  },
  {
   "cell_type": "code",
   "execution_count": null,
   "metadata": {
    "colab": {
     "base_uri": "https://localhost:8080/"
    },
    "id": "V6wcwySGgrrM",
    "outputId": "be3ecb66-b518-4545-f2df-087e07b2faf4"
   },
   "outputs": [],
   "source": [
    "df,test_df = train_test_split(df,test_size=0.25,random_state=SEED,stratify=df['toxic'])\n",
    "# stratify tries to split in a manner that distribution of 'toxic' is same in both train and test\n",
    "\n",
    "train_df,val_df = train_test_split(df,test_size=0.20,random_state=SEED,stratify=df['toxic'])\n",
    "\n",
    "train_df.reset_index(drop=True),val_df.reset_index(drop=True), test_df.reset_index(drop=True)\n",
    "# split the data while preserving the type of the data. It preserves the original Index so you need to reset\n",
    "print(f'train_df is of type {type(train_df,).__name__} and is having a shape {train_df.shape}')\n",
    "\n",
    "# save the dataframes so that we can directly use those from disk by using PyTorch's modules\n",
    "train_df.to_csv('train.csv',index=False)\n",
    "val_df.to_csv('val.csv',index=False)\n",
    "test_df.to_csv('test.csv',index=False)"
   ]
  },
  {
   "cell_type": "markdown",
   "metadata": {
    "id": "8GIBnD8BgrrM"
   },
   "source": [
    "## Changing Structure\n",
    "Change the structure of data according to PyTorch's requirements"
   ]
  },
  {
   "cell_type": "code",
   "execution_count": null,
   "metadata": {
    "id": "wkMlvVW6grrN"
   },
   "outputs": [],
   "source": [
    "text_field = Field(tokenize=word_tokenize)\n",
    "# tokenize text using word_tokenize and convert to numerical form using default parameters\n",
    "\n",
    "label_field = LabelField(dtype=torch.float)\n",
    "# useful for label string to LabelEncoding. Not useful here but doesn't hurt either\n",
    "\n",
    "fields = [('comment_text',text_field),('toxic',label_field)]\n",
    "# (column name,field object to use on that column) pair for the dictonary\n",
    "\n",
    "# use TabularDataset to split train, val and test (1 line)\n",
    "# start of your code\n",
    "train, val, test = TabularDataset('train.csv', 'CSV', fields),\\\n",
    "    TabularDataset('val.csv', 'CSV', fields),\\\n",
    "    TabularDataset('test.csv', 'CSV', fields)\n",
    "# end of your code"
   ]
  },
  {
   "cell_type": "markdown",
   "metadata": {
    "id": "l9IKqlV5grrN"
   },
   "source": [
    "Let us explore that what exactly is in the `train`, `test`"
   ]
  },
  {
   "cell_type": "code",
   "execution_count": null,
   "metadata": {
    "colab": {
     "base_uri": "https://localhost:8080/"
    },
    "id": "WI5VUMomgrrN",
    "outputId": "a2e2026b-844b-49f4-e2c3-ffc4a121db4f"
   },
   "outputs": [],
   "source": [
    "print(f'Type of \"train:\" {type(train)}\\n Length of \"train\": {len(train)}\\n' )\n",
    "i = random.randint(0,len(train)) # generate a random index  within the lenth of train\n",
    "print(f'Keys at index {i} of \"train\": {train[i].__dict__.keys()}\\n')\n",
    "print(\"Contents at random index:\\n\",vars(train.examples[i]))\n",
    "# vars is used to see the whole dictonary when the classes or modules have __dict__() used"
   ]
  },
  {
   "cell_type": "markdown",
   "metadata": {
    "id": "43iV81BrgrrN"
   },
   "source": [
    "## Build Vocab\n",
    "out of 85000000 words, we choose to have just 100000 `UNIQUE` words to build a vocab. Words that are not a part of our vocab will be represented by specialised token, let's assume `<unk>`. There will be 1 extra token apart from `<unk>` and that'll be padding token `<pad>` ."
   ]
  },
  {
   "cell_type": "code",
   "execution_count": null,
   "metadata": {
    "colab": {
     "base_uri": "https://localhost:8080/"
    },
    "id": "Fw6fnL8bgrrN",
    "outputId": "1a3920b5-36a4-4a01-8c8d-d96f45d76a70"
   },
   "outputs": [],
   "source": [
    "import itertools\n",
    "\n",
    "text_field.build_vocab(train,max_size=100000)\n",
    "label_field.build_vocab(train)\n",
    "\n",
    "# words are stored as integers withn the vocab for internal data structure handling.\n",
    "# let us look at the {'word':respective_integer} of first 15\n",
    "# this is just pure python code to get first N elements from a a dictonary, as a dictonary (1 line)\n",
    "N = 15\n",
    "# start of your code\n",
    "print(dict(itertools.islice(text_field.vocab.stoi.items(), N)))\n",
    "# end of your code"
   ]
  },
  {
   "cell_type": "code",
   "execution_count": null,
   "metadata": {
    "colab": {
     "base_uri": "https://localhost:8080/"
    },
    "id": "zgBeE_2sgrrO",
    "outputId": "e7f5ca6a-13ce-4eb6-f49b-d8aa74a62d89"
   },
   "outputs": [],
   "source": [
    "print(f\"Most common 15 words in the vocab are: {text_field.vocab.freqs.most_common(15)}\")\n",
    "# integers i int the second part of each tuples are the frequencies of words in the vocab. They show that how many\n",
    "# number of times this specific word has apprered in the whole training data set"
   ]
  },
  {
   "cell_type": "markdown",
   "metadata": {
    "id": "LxXdmnAIgrrO"
   },
   "source": [
    "## BucketIterator\n",
    "`BucketIterator` is very useful for text processing because it returns the batch of texts which have almost same length. <font color='cornflowerblue'>As we know that while calculating gradients during the BPTT, the gradients are calculated to the whole length of text</font> and because <font color='coral'>we always calculate the gradients on the batches but not on an individual example to speed up the process, we'll have to pad the short length texts</font>. So the `BatchIterator` minimizes the hassle by making a batch which has all of the texts of same length more or less."
   ]
  },
  {
   "cell_type": "code",
   "execution_count": null,
   "metadata": {
    "id": "6NdrgDMRgrrO"
   },
   "outputs": [],
   "source": [
    "train_iter, val_iter, test_iter = BucketIterator.splits((train,val,test), batch_sizes=(32,128,128),\n",
    "                                              sort_key=lambda x: len(x.comment_text),\n",
    "                                              sort_within_batch=False,\n",
    "                                              device=device) # use the cuda device if available"
   ]
  },
  {
   "cell_type": "markdown",
   "metadata": {
    "id": "z8zLz1vFgrrO"
   },
   "source": [
    "# Build Model\n",
    "We'll build a class based model. Bes thing about PyTorch is that first of al it Dynamic in nature and scondly it is very close to the Neural Networks as you have to pass in the in,out and all the parameters. In case you are looking at the `PyTorch` the very first time, I'll highly recommend you to go and [check this notebook](https://www.kaggle.com/deshwalmahesh/pytorch-detailed-tutorial-for-beginners-using-cnn) which is dedicated towards the working of `PyTorch` and provides in depth knowledge.\n",
    "\n",
    "I hope you have been through the tutorials and know about the all the layers and structure. One thing that the notebook does not cover in that tutorial is `Embedding Layer`.\n",
    "\n",
    "**From the `PyTorch's` documentation:**\n",
    "\n",
    "<font color='coral'>A simple lookup table that stores embeddings of a fixed dictionary and size.\n",
    "    \n",
    "This module is often used to store word embeddings and retrieve them using indices. The input to the module is a list of indices, and the output is the corresponding word embeddings.</font></br>\n",
    "\n",
    "Before we want to give you a definition of that, let us look at a scenario:\n",
    "\n",
    "What if I ask you that what is common between `Eminem` and `Kanye`? Those who have something to do with Music will describe the features as the most accurately as `Rappers`. Those who have no knowledge of those but know there are English names, they'll describe that `Male English Names`. Those with just basic names will describe `English Words`. So like this, we have 3 features in our hand for 2 different attributes. What if I ask that what is difference between a `plastic bag` and `6ix9ine`??? You have no idea what that can be. You can't tell that both tend to have `garbage mostly`  until yov've seen the workings of both. This is exactly what we call `Embeddings` or `Latent Features`. Our Model can generate `K` new features from the existing `N` features in the data so that the model can learn from the hidden features insted of those original features. So if we train on the `lyrics of 6ix9ne`, `essays about garbage`, `Eminem biography` etc etc, it'll tend to put the first 2 in the category of `trash` and the last one as `legend` even if the computer has no knowledge about what just happed. I Guess my model is more intelligent and has better music taste than many people out there ;)\n",
    "\n",
    "**<font color='#2ef90'>Word embeddings are a type of word representation that allows words with similar meaning to have a similar representation.</font>**\n",
    "\n",
    "**<font color='red'>NOTE: While looking at the structure, please ignore the `LSTM` for now. Structure is almost same for both `RNN` and `LSTM` in `PyTorch` but working is different. To save the hassle of re-designing the network, I have used `if-else` statement. Later, I'll be talking about the LSTM too.</font>**"
   ]
  },
  {
   "cell_type": "code",
   "execution_count": null,
   "metadata": {
    "id": "HxJHlGdZgrrO"
   },
   "outputs": [],
   "source": [
    "class Network(torch.nn.Module):\n",
    "    \"\"\"\n",
    "    It inherits the functionality of Module class from torch.nn whic includes al the layers, weights, grads setup\n",
    "    and methods to calculate the same. We just need to put in the required layers and describe the flows as\n",
    "    which layers comes after which one\n",
    "    \"\"\"\n",
    "\n",
    "    def __init__(\n",
    "        self,\n",
    "        in_neuron,\n",
    "        embedding_dim=128,\n",
    "        hidden_size=256,\n",
    "        out_neuron=1,\n",
    "        m_type=\"rnn\",\n",
    "        drop=0.53,\n",
    "        **kwargs\n",
    "    ):\n",
    "        \"\"\"\n",
    "        Constructor of the class which will instantiate the layers while initialisation.\n",
    "\n",
    "        NOTE: Order of the layer defined here has nothing to do wit hthe working. Just like we can define Drouout()\n",
    "        layer anywhere in ithe init() but actual working depends on the forward() method  as well as the input\n",
    "        and output shapes. You should be aware of the in,out shapes as the mismatch can produce error.\n",
    "\n",
    "        args:\n",
    "            in_neuron: input dimensions of the first layer {int}\n",
    "            embedding_dim: number of latent features you want to calculate from the input data {int} default=128\n",
    "            hidden_size: neurons you want to have in your hidden RNN layer {int} default=256\n",
    "            out_neuron: number of outputs you want to have at the end.{int} default=1\n",
    "            model: whether to use 'rnn' or 'lstm' {string}\n",
    "            drop: proportion of values to dropout from the previous values randomly {float 0-1} default=0.53\n",
    "            **kwargs: any torch.nn.RNN or torch.nn.LSTM args given m_type='rnn' or'lstm' {dict}\n",
    "        out:\n",
    "            return a tensor of shape {batch,out_neuron} as output\n",
    "        \"\"\"\n",
    "        super(Network, self).__init__()  # call the constructor of Base Class\n",
    "        self.m_type = m_type\n",
    "\n",
    "        # embedding layer is always the first layer (1 line)\n",
    "        # start of your code\n",
    "        self.embedding = nn.Embedding(\n",
    "            num_embeddings=in_neuron, embedding_dim=embedding_dim\n",
    "        )\n",
    "        # end of your code\n",
    "\n",
    "        # whether to use the LSTM type model or the RNN type model. It'll use only 1 in forward()\n",
    "        # Note: Don't forget to pass them kwargs (3 lines)\n",
    "        # start of your code\n",
    "        if self.m_type == \"lstm\":\n",
    "            self.lstm = nn.LSTM(embedding_dim, hidden_size)\n",
    "        elif self.m_type == \"gru\":\n",
    "            self.gru = nn.GRU(embedding_dim, hidden_size)\n",
    "        else:\n",
    "            self.rnn = nn.RNN(embedding_dim, hidden_size)\n",
    "        # end of your code\n",
    "\n",
    "        # drop the values by random which comes from previous layer and last fully connected layer (2 lines)\n",
    "        # start of your code\n",
    "        self.dropout = nn.Dropout(p=drop)\n",
    "\n",
    "        self.dense = nn.Linear(in_features=hidden_size, out_features=out_neuron)\n",
    "        # end of your code\n",
    "\n",
    "    def forward(self, t):\n",
    "        \"\"\"\n",
    "        Activate the forward propagation of a batch at a time to transform the input bath of tensors through\n",
    "        the different layers to get an out which then will be compared to original label for computing loss.\n",
    "        args:\n",
    "            t: tensors in the form of a batch {torch.tensor}\n",
    "        \"\"\"\n",
    "        # Step:1 pass the incoming tensor to the first layer to get embeddings (1 line)\n",
    "        # start of your code\n",
    "        embedding_t = self.embedding(t)\n",
    "        # end of your code\n",
    "\n",
    "        # Step 2: Apply dropout\n",
    "        # start of your code\n",
    "        drop_emb = self.dropout(embedding_t)\n",
    "        # end of your code\n",
    "\n",
    "        # Step 3: Get hidden state and output. It'll use either LSTM or gru or RNN (3 lines)\n",
    "        # Note: shape of rnn_out = (seq_len, batch, num_directions * hidden_size)\n",
    "        # start of your code\n",
    "        if self.m_type == \"lstm\":\n",
    "            out, (hidden_state, _) = self.lstm(drop_emb)\n",
    "        elif self.m_type == \"gru\":\n",
    "            out, hidden_state = self.gru(drop_emb)\n",
    "        else:\n",
    "            out, hidden_state = self.rnn(drop_emb)\n",
    "        # end of your code\n",
    "\n",
    "        # Step 4: Remove the extra axis from Hidden State (1 line)\n",
    "        # Note: shape of hidden_state = (num_layers * num_directions, batch, hidden_size) = (1*1,b,h) so extra 1 layer\n",
    "        # start of your code\n",
    "        hidden_squeezed = torch.squeeze(hidden_state, dim=0)\n",
    "        # end of your code\n",
    "\n",
    "        # Step 5: Assert to check. if failed, AssertionError error will be thrown\n",
    "        assert torch.equal(out[-1, :, :], hidden_squeezed)\n",
    "        # out_rnn is concatenation of hidden states so squeezed hidden and last value of out_rnn should be equal\n",
    "\n",
    "        # Step 6: Pass the \"last\" hidden state only because we only want 1 output based on the last hidden state\n",
    "        return self.dense(\n",
    "            hidden_squeezed\n",
    "        )  # these are not the probabilities. We still need to use an activation"
   ]
  },
  {
   "cell_type": "markdown",
   "metadata": {
    "id": "6dGIx8dAgrrP"
   },
   "source": [
    "# Train Model"
   ]
  },
  {
   "cell_type": "code",
   "execution_count": null,
   "metadata": {
    "id": "bQV2WLUdgrrP"
   },
   "outputs": [],
   "source": [
    "def train_network(network,train_iter,optimizer,loss_fn,epoch_num):\n",
    "    '''\n",
    "    train the network using given parameters\n",
    "    args:\n",
    "        network: any Neural Network object\n",
    "        train_batch: iterator of training data\n",
    "        optimizer: optimizer for gradients calculation and updation\n",
    "        loss_fn: appropriate loss function\n",
    "        epoch_num = Epoch number so that it can show which epoch number in tqdm Bar\n",
    "    out:\n",
    "        a tuple of (average_loss,average_accuracy) of floating values for a single epoch\n",
    "    '''\n",
    "    epoch_loss = 0 # loss per epoch\n",
    "    epoch_acc = 0 # accuracy per epoch\n",
    "    total_num = 0\n",
    "    network.train() # set the model in training mode as it requires gradients calculation and updtion\n",
    "    # turn off while testing using  model.eval() and torch.no_grad() block\n",
    "\n",
    "    for batch in tqdm(train_iter,f\"Epoch: {epoch_num}\"):\n",
    "        # data will be shown to model in batches per epoch to calculate gradients per batch\n",
    "        # step 1: clear all the calculated grdients from previous step\n",
    "        # step 2: squeeze out the extra dimension [batch_size,1]\n",
    "        # step 3: calculate loss on the whole batch\n",
    "        # step 4: sigmoid will convert each output value (which is a single float value for each sentence in batch)\n",
    "        # to probability between {0,1}. round is nothing but setting the threshold at 0.5 that if probability\n",
    "        # is greater than 0.5, it belongs to one class and if it is less than 0.5, it belongs to other\n",
    "        # step 5: get a floating tensors of predicted classes  which match original true class\n",
    "        # step 6: calculate acc\n",
    "        # step 7: Start Back Propagation so that model can calculate gradients based on loss\n",
    "        # step 8: update the weights based on gradient corresponding to each neuron\n",
    "        # step 9: add the loss for this batch to calculate the loss for whole epoch\n",
    "        # step 10: add the acc for this batch to calculate the acc for whole epoch (10 lines)\n",
    "\n",
    "        # start of your code\n",
    "        optimizer.zero_grad()\n",
    "        input, label = batch.comment_text, batch.toxic\n",
    "        output_logit = network(input).squeeze()\n",
    "        loss = loss_fn(output_logit, label)\n",
    "        loss.backward()\n",
    "        output = torch.round(nn.Sigmoid()(output_logit))\n",
    "        acc = torch.eq(output, label).sum().item() / batch.batch_size\n",
    "        optimizer.step()\n",
    "        epoch_loss += loss\n",
    "        epoch_acc += acc\n",
    "        # end of your code\n",
    "\n",
    "        time.sleep(0.001) # for tqdm progess bar\n",
    "    return epoch_loss/len(train_iter), epoch_acc/len(train_iter)"
   ]
  },
  {
   "cell_type": "code",
   "execution_count": null,
   "metadata": {
    "id": "oi5VOBxegrrP"
   },
   "outputs": [],
   "source": [
    "def evaluate_network(network,val_test_iter,optimizer,loss_fn):\n",
    "    '''\n",
    "    evaluate the network using given parameters\n",
    "    args:\n",
    "        network: any Neural Network object\n",
    "        val_test_iter: iterator of validation/test data\n",
    "        optimizer: optimizer for gradients calculation and updation\n",
    "        loss_fn: appropriate loss function\n",
    "    out:\n",
    "        a tuple of (average_loss,average_accuracy) of floating values for the incoming dataset\n",
    "    '''\n",
    "    total_loss = 0  # total loss for the whole incoming data\n",
    "    total_acc = 0 # total accuracy for the whole data\n",
    "\n",
    "    network.eval() # set the model in evaluation mode to not compute gradients and reduce overhead\n",
    "\n",
    "    with torch.no_grad(): # turn of gradients calculation\n",
    "\n",
    "        for batch in val_test_iter:\n",
    "            # step 1: squeeze out the extra dimension [batch_size,1]\n",
    "            # step 2: calculate loss on the whole batch\n",
    "            # step 3: sigmoid will convert each output value (which is a single float value for each sentence in batch)\n",
    "            # to probability between {0,1}. round is nothing but setting the threshold at 0.5 that if probability\n",
    "            # is greater than 0.5, it belongs to one class and if it is less than 0.5, it belongs to other\n",
    "            # step 4: get a floating tensors of predicted classes  which match original true class\n",
    "            # step 5: calculate acc\n",
    "            # step 6: add the loss for this batch to calculate the loss for whole epoch\n",
    "            # step 7: add the acc for this batch to calculate the acc for whole epoch (7 lines)\n",
    "\n",
    "            # start of your code\n",
    "            input, label= batch.comment_text, batch.toxic\n",
    "            output_logits = network(input).squeeze(dim=1)\n",
    "            output = torch.round(nn.Sigmoid()(output_logits))\n",
    "            acc = torch.eq(output, label).sum().item() / batch.batch_size\n",
    "            loss = loss_fn(output_logits, label)\n",
    "            total_acc += acc\n",
    "            total_loss += loss\n",
    "            # end of your code\n",
    "\n",
    "        return total_loss/len(val_test_iter), total_acc/len(val_test_iter)"
   ]
  },
  {
   "cell_type": "markdown",
   "metadata": {
    "id": "JJF8hWiPgrrP"
   },
   "source": [
    "## RNN\n",
    "We'll train our RNN First"
   ]
  },
  {
   "cell_type": "code",
   "execution_count": null,
   "metadata": {
    "colab": {
     "base_uri": "https://localhost:8080/",
     "height": 66,
     "referenced_widgets": [
      "e640d0e65e6948379642068216b340d1",
      "5c2611d7215d41829f503b4824fa908a",
      "62eaa0fcc9ff4137bfab3347526bf8c4",
      "92b2a47d88bb4f9b83d52ed4bc290993",
      "6d02ecb96ce0442abafb95d20ad1afd3",
      "b1b52ac7b98940039d86d023b2c7e04e",
      "61167de4032d4bdd8a8d58d7bd2b1772",
      "8fc43c952dcb46ad9e7cf3305896b8d5",
      "fb9ea24c746d45f992a55e4f9fde4119",
      "4e3c147646a248a3894c4f90ac0c0e84",
      "38693ef222654f53a889f920ec17c46e"
     ]
    },
    "id": "JhilqswNgrrP",
    "outputId": "51a75305-5cb7-4c6b-eb16-83b6468e3026"
   },
   "outputs": [],
   "source": [
    "in_neuron = len(text_field.vocab)\n",
    "lr = 3e-4 # learning rate = 0.0003\n",
    "\n",
    "network = Network(in_neuron) # instantiate the RNN object. other parameters remain default\n",
    "if torch.cuda.is_available():\n",
    "    network.cuda() # activate GPU spport\n",
    "\n",
    "optimizer = torch.optim.Adam(network.parameters(),lr=lr) # use Adam Optimizer\n",
    "loss_fn = torch.nn.BCEWithLogitsLoss() # Sigmoid activation with Binary Cross Entropy loss. This is more\n",
    "# numerically stable than using a plain Sigmoid followed by a BCELoss as, by combining the operations into one\n",
    "# layer,we take advantage of the log-sum-exp trick for numerical stability\n",
    "\n",
    "for epoch in range(EPOCH):\n",
    "    train_loss, train_acc = train_network(network,train_iter,optimizer,loss_fn,epoch+1)\n",
    "    val_loss,val_acc = evaluate_network(network,val_iter,optimizer,loss_fn)\n",
    "    tqdm.write(f'''End of Epoch: {epoch+1}  |  Train Loss: {train_loss:.3f}  |  Val Loss: {val_loss:.3f}  |  Train Acc: {train_acc*100:.2f}%  |  Val Acc: {val_acc*100:.2f}%''')"
   ]
  },
  {
   "cell_type": "markdown",
   "metadata": {
    "id": "t_Dg-f_HbxhX"
   },
   "source": [
    "## GRU"
   ]
  },
  {
   "cell_type": "code",
   "execution_count": null,
   "metadata": {
    "colab": {
     "base_uri": "https://localhost:8080/",
     "height": 66,
     "referenced_widgets": [
      "515b5ef4b4944b70ac7c07a8b76e8d6c",
      "0d0eb5a530c745cea0db545c7c8c3b19",
      "5216a954a5ca4d0cb17e8ca797fe8818",
      "8eca02ed8902476587acd978d612f5ef",
      "0b0044d9f2354383b62d7fe6b781db94",
      "41437c99f4be4e7d930ec343000a8d53",
      "b75400eae4c64d9990dbb9f5d9b0bc82",
      "700b7cb3a40d4b9e9c18830ed192c965",
      "57bf46c0bfb44a3a845a09daa142f219",
      "8abe3f6385c14c72a9ce6178cfb33fe3",
      "9e35e85e2d714b44ae54d181e83dd4fb"
     ]
    },
    "id": "-WIsh5Oyb0wR",
    "outputId": "ce30ab39-8e81-44dd-bcfe-caef325102c5"
   },
   "outputs": [],
   "source": [
    "network = Network(in_neuron,m_type='gru')\n",
    "\n",
    "if torch.cuda.is_available():\n",
    "    network.cuda() # activate GPU spport\n",
    "\n",
    "# optimizer and losses remains the same\n",
    "optimizer = torch.optim.Adam(network.parameters(),lr=lr) # use Adam Optimizer\n",
    "loss_fn = torch.nn.BCEWithLogitsLoss()\n",
    "\n",
    "for epoch in range(EPOCH):\n",
    "    train_loss, train_acc = train_network(network,train_iter,optimizer,loss_fn,epoch+1)\n",
    "    val_loss,val_acc = evaluate_network(network,val_iter,optimizer,loss_fn)\n",
    "    tqdm.write(f'''End of Epoch: {epoch+1}  |  Train Loss: {train_loss:.3f}  |  Val Loss: {val_loss:.3f}  |  Train Acc: {train_acc*100:.2f}%  |  Val Acc: {val_acc*100:.2f}%''')"
   ]
  },
  {
   "cell_type": "markdown",
   "metadata": {
    "id": "Whsh59_0grrQ"
   },
   "source": [
    "## LSTM\n",
    "LSTM is a specialised version of RNN which has 4 Gates. Instead of updating the states by using the the previous values in RNN, these 4 gates together do the following tasks:\n",
    "1. Which Information is valuable\n",
    "2. Which information we have to keep\n",
    "3. Which information we have to forget\n",
    "4. Which information will be used to update the state\n",
    "5. Which information has become obsolete and we have to forget it"
   ]
  },
  {
   "cell_type": "code",
   "execution_count": null,
   "metadata": {
    "colab": {
     "base_uri": "https://localhost:8080/",
     "height": 66,
     "referenced_widgets": [
      "cdd8a5dc34f84477b0b1a9391ee889a7",
      "f3aeeb84fa534b798bb0b58a785eec16",
      "d58450118a90431b857f5fc1e5c17499",
      "2f433600f83348db9543f03396a3b71e",
      "0c8cb4359a0643cfac78069d1891007c",
      "5dfe47cf317a4a77853bacc65ee60e3c",
      "4e8b6c4b360941f9ac07041a9c418e17",
      "50a4a96740f94ba4a89cbd4aee659a02",
      "9192ced25a6e4b01b95ff43b30239832",
      "658e91f553d049efb1be550ba4f62bdf",
      "0632e482c99748ee96ee97c293aae2f5"
     ]
    },
    "id": "mOJr-ZLdgrrQ",
    "outputId": "495b4a72-c44a-4b3a-8294-b62d6054a45f"
   },
   "outputs": [],
   "source": [
    "network = Network(in_neuron,m_type='lstm')\n",
    "\n",
    "if torch.cuda.is_available():\n",
    "    network.cuda() # activate GPU spport\n",
    "\n",
    "# optimizer and losses remains the same\n",
    "optimizer = torch.optim.Adam(network.parameters(),lr=lr) # use Adam Optimizer\n",
    "loss_fn = torch.nn.BCEWithLogitsLoss()\n",
    "\n",
    "for epoch in range(EPOCH):\n",
    "    train_loss, train_acc = train_network(network,train_iter,optimizer,loss_fn,epoch+1)\n",
    "    val_loss,val_acc = evaluate_network(network,val_iter,optimizer,loss_fn)\n",
    "    tqdm.write(f'''End of Epoch: {epoch+1}  |  Train Loss: {train_loss:.3f}  |  Val Loss: {val_loss:.3f}  |  Train Acc: {train_acc*100:.2f}%  |  Val Acc: {val_acc*100:.2f}%''')"
   ]
  },
  {
   "cell_type": "markdown",
   "metadata": {
    "id": "U3JLXR6ggrrQ"
   },
   "source": [
    "# Bidirectional RNN/ LSTM\n",
    "These are specialised version of RNN which not only look at the past but the future too. Means instead of looking at 1 word at time, they look at two words but in opposite direction. Don't worry, let us try to see with an example. Suppose we have sentence `Shady Records not shady plans`. In the birdirectional structure, we'll ave 2 `pipelines` (RNN Cells) working in different direction. First will be like a simple RNN reading words `H0` + `Shady` -> `H1` -> `H1`+ Records -> `H2` and so on .... In the same time, there will be another RNN cells working backwards in the same way.. They'll be Doing `H_0` + `plans` -> `H_1` -> `H_1` + `shady` -> `H_2` and so on..... So in this way, the first output at time step `T0` will be a combination of both **First Hidden State from One Pipeline + Last Hidden State from Second Line**. And for the Last Time stem `Tn`, it'll be **Last Hidden State of one Pipeline + First Hidden State of Second Pipeline**. In this way, it'll calculate First to last and last to first states simultaneously. So the two hidden states will updted by not just past but Future too.\n",
    "\n",
    "**This is helpful in predictions where the Past is dependent on the future**. Such as in cases where we have to predict \"it ___ that's why I had an umbrella with me\""
   ]
  },
  {
   "cell_type": "markdown",
   "metadata": {
    "id": "kzz8S-AVgrrQ"
   },
   "source": [
    "## Multi Layer (Deep) RNN\n",
    "In this type of RNN, we can have `RNN/LSTM/GRU` cells not only giving Hidden States to cells to their right(Uni directional) but to cell that is above to them. We can see that like two boxes stacked over two boxes. So any cell at time T, not only uses the Hidden state from the cells before it but from the cells below it too. SO any output would then be a function of `2 hidden states and the inputs` **For a two layered** architecture.\n",
    "\n",
    "YOu can learn more about Deep RNNs by visiting [this Youtube link](https://www.youtube.com/watch?v=U7wN1x8zsG8&t=0s)\n",
    "\n",
    "**<font color='red'>NOTE: We can use Bidirectional with Stacked to have a very powerfulNetwork. In this setup, each cell will be having 3 different `Hidden States` each from left,right and below cell</font>**"
   ]
  },
  {
   "cell_type": "markdown",
   "metadata": {
    "id": "GC28OyU4grrQ"
   },
   "source": [
    "## Build Deep Bi-Directional RNN"
   ]
  },
  {
   "cell_type": "code",
   "execution_count": null,
   "metadata": {
    "id": "k8jHXGpLgrrQ"
   },
   "outputs": [],
   "source": [
    "class DeepNetwork(torch.nn.Module):\n",
    "    \"\"\"\n",
    "    Deep RNN Network which can have either one both of stacked and bi-directional properties\n",
    "    \"\"\"\n",
    "\n",
    "    def __init__(\n",
    "        self,\n",
    "        in_neuron,\n",
    "        embedding_dim=100,\n",
    "        hidden_size=256,\n",
    "        out_neuron=1,\n",
    "        m_type=\"rnn\",\n",
    "        drop=0.53,\n",
    "        **kwargs\n",
    "    ):\n",
    "        \"\"\"\n",
    "        Constructor of the class which will instantiate the layers while initialisation.\n",
    "\n",
    "        args:\n",
    "            in_neuron: input dimensions of the first layer {int}\n",
    "            embedding_dim: number of latent features you want to calculate from the input data {int} default=100\n",
    "            hidden_size: neurons you want to have in your hidden RNN layer {int} default=256\n",
    "            out_neuron: number of outputs you want to have at the end.{int} default=1\n",
    "            model: whether to use 'rnn','lstm' or 'gru' {string}\n",
    "            drop: proportion of values to dropout from the previous values randomly {float 0-1} default=0.53\n",
    "            **kwargs: any valid torch.nn.RNN, torch.nn.LSTM or torch.nn.GRU args with either 'bidirectional'=True\n",
    "                      or 'num_layers'>1\n",
    "        out:\n",
    "            return a tensor of shape {batch,out_neuron} as output\n",
    "        \"\"\"\n",
    "        super(DeepNetwork, self).__init__()\n",
    "\n",
    "        self.m_type = m_type\n",
    "        # embedding layer is always the first layer (1 line)\n",
    "        # start of your code\n",
    "        self.embedding = nn.Embedding(\n",
    "            num_embeddings=in_neuron,\n",
    "            embedding_dim=embedding_dim,\n",
    "        )\n",
    "        # end of your code\n",
    "\n",
    "        # whether to use the LSTM type model or the RNN type model. It'll use only 1 in forward()\n",
    "        # Note: Don't forget to pass them kwargs (3 lines)\n",
    "        # start of your code\n",
    "        num_layers = kwargs[\"num_layers\"] if \"num_layers\" in kwargs.keys() else 1\n",
    "        self.bidirectional = (\n",
    "            kwargs[\"bidirectional\"] if \"bidirectional\" in kwargs.keys() else False\n",
    "        )\n",
    "        if self.m_type == \"lstm\":\n",
    "            self.lstm = nn.LSTM(\n",
    "                input_size=embedding_dim,\n",
    "                hidden_size=hidden_size,\n",
    "                num_layers=num_layers,\n",
    "                bidirectional=self.bidirectional,\n",
    "            )\n",
    "        elif self.m_type == \"gru\":\n",
    "            self.gru = nn.GRU(\n",
    "                input_size=embedding_dim,\n",
    "                hidden_size=hidden_size,\n",
    "                num_layers=num_layers,\n",
    "                bidirectional=self.bidirectional,\n",
    "            )\n",
    "        else:\n",
    "            self.rnn = nn.RNN(\n",
    "                input_size=embedding_dim,\n",
    "                hidden_size=hidden_size,\n",
    "                num_layers=num_layers,\n",
    "                bidirectional=self.bidirectional,\n",
    "            )\n",
    "        # end of your code\n",
    "\n",
    "        # drop the values by random which comes from previous layer and last fully connected layer (2 lines)\n",
    "        # Note: Last output Linear Layer will have the two Hidden States from both the directions to have the result\n",
    "        # start of your code\n",
    "        self.dropout = nn.Dropout(p=drop)\n",
    "        correlation = 2 if self.bidirectional else 1\n",
    "        self.dense = nn.Linear(in_features=hidden_size* correlation, out_features=out_neuron)\n",
    "        # end of your code\n",
    "\n",
    "    def forward(self, t):\n",
    "        \"\"\"\n",
    "        Activate the forward propagation\n",
    "        args:\n",
    "            t: tensors in the form of a batch {torch.tensor}\n",
    "        \"\"\"\n",
    "        # Step:1 get embeddings and dropout (1 line)\n",
    "        # start of your code\n",
    "        embedding_t = self.dropout(self.embedding(t))\n",
    "        # end of your code\n",
    "\n",
    "        # Step 2: Get hidden state and output. It'll use either LSTM or gru or RNN (3 lines)\n",
    "        # Note: shape of rnn = (seq_len, batch, num_directions * hidden_size)\n",
    "        # start of your code\n",
    "        if self.m_type == \"lstm\":\n",
    "            out, (hidden_state, _) = self.lstm(embedding_t)\n",
    "        elif self.m_type == \"gru\":\n",
    "            out, hidden_state = self.gru(embedding_t)\n",
    "        else:\n",
    "            out, hidden_state = self.rnn(embedding_t)\n",
    "        # end of your code\n",
    "\n",
    "        # Step 3: Concatenate the last and second last hidden. One is from backward and one is from forward (1 line)\n",
    "        # start of your code\n",
    "        t = torch.cat((hidden_state[-2,:,:], hidden_state[-1,:,:]), dim=1) if self.bidirectional else hidden_state[-1,:,:]\n",
    "        # t = out[-1,:,:]\n",
    "        # end of your code\n",
    "\n",
    "        return self.dense(t)"
   ]
  },
  {
   "cell_type": "markdown",
   "metadata": {
    "id": "bvVfPWwRgrrR"
   },
   "source": [
    "## Train and Evaluate"
   ]
  },
  {
   "cell_type": "code",
   "execution_count": null,
   "metadata": {
    "colab": {
     "base_uri": "https://localhost:8080/",
     "height": 66,
     "referenced_widgets": [
      "5443ea6e72f448d3b23a10c3533f4d57",
      "bacfb7091a6644f6b883fcc400e839f8",
      "fafea16e48364fccb35cbdc32adf657c",
      "772430f69dca43f5b90d73886648f132",
      "cce2366f85cb4f0489a3618ffc8052f9",
      "375fe332d8554d359ea90446e31cecec",
      "9ceda1b0f85647be9db4402d3c729ed3",
      "b956f700a2914875a0ffaf01a7f84acc",
      "bb1d4f2c1b6245a8a36a217c26e62e37",
      "b449dbe3d8d046378226bc78c4a62583",
      "68e2ea8d92b1455c84d4358e3b279351"
     ]
    },
    "id": "vpa6t1l0grrV",
    "outputId": "899bf8c7-6d2a-4438-93ea-9d0618b3d1bf"
   },
   "outputs": [],
   "source": [
    "rnn_kwargs = {'num_layers':2,'bidirectional':True}\n",
    "in_neuron = len(text_field.vocab)\n",
    "\n",
    "network = DeepNetwork(in_neuron,m_type='rnn',attention=True,**rnn_kwargs)\n",
    "\n",
    "if torch.cuda.is_available():\n",
    "    network.cuda() # activate GPU spport\n",
    "\n",
    "# optimizer and losses remains the same\n",
    "lr = 3e-4\n",
    "optimizer = torch.optim.Adam(network.parameters(),lr=lr) # use Adam Optimizer\n",
    "loss_fn = torch.nn.BCEWithLogitsLoss()\n",
    "\n",
    "for epoch in range(EPOCH):\n",
    "    train_loss, train_acc = train_network(network,train_iter,optimizer,loss_fn,epoch+1)\n",
    "    val_loss,val_acc = evaluate_network(network,val_iter,optimizer,loss_fn)\n",
    "    tqdm.write(f'''End of Epoch: {epoch+1}  |  Train Loss: {train_loss:.3f}  |  Val Loss: {val_loss:.3f}  |  Train Acc: {train_acc*100:.2f}%  |  Val Acc: {val_acc*100:.2f}%''')"
   ]
  },
  {
   "cell_type": "markdown",
   "metadata": {
    "id": "iQAnT4NDgrrW"
   },
   "source": [
    "You can try to work on different combinations of Deep, Bidirectional and type of RNN (LSTM, GRU, or plain RNN) to select a model. Some of the models will perform good while other will perform very poorly with the default 3 Epoch. You can change the Parameters to have a better model."
   ]
  },
  {
   "cell_type": "markdown",
   "metadata": {
    "id": "Hw7Dh9ewgrrW"
   },
   "source": [
    "# Embeddings\n",
    "## Text as Numbers\n",
    "Before we start on Embeddings let us talk about how you can represent text? Text is, youn know \"text\" and machines only know numbers so in order to tell the machine about the text, we use different approaches most widely as `Boolean Matrix or One Hot Encoding`, `Frquency Based or TfIdf` and `Sementic Based or Embeddings`.\n",
    "\n",
    "For example in the sentence `Messi, Eminem and Lebron, they all have achieved greatness to a certain level that it seems like nobody in the near future is going to be even closeer to the half way mark.`\n",
    "\n",
    "There are few choices and the simplese being is giving each unique word a number and getting a vector of length  equal to the total number of words in the sentence. So let us suppose Messi becomes 1, Eminem becomes 2 and so on to represent all the sentences. But the problem with this method is that the model will think Eminem `2` has more influence than Messi `1` in the sentence but in fact there is no ordering.\n",
    "\n",
    "### <font color='teal'>Boolean Vectors:</font>\n",
    "\n",
    "We can have a work around it. We can take every word in all the sentences and and make a vector of length equal to all the number of all the unique words in all the sentences and replace. For example in the 3 sentences, `My name is Marshall`, `Shady is my alter ego`,` Eminem is my stage name`, We'll have 9 unique words ans every sentence will be represented by a vector of length 9 where every word will be represented by a 1 if present at a certain location. For example if `name` is represented by the 2nd index, then in the **First** and **Third** sentence, the second index will be a 1 instead of zero where in the **Second** sentence, it'll be a zero because in First and thrird, `name` is present and is defined by the index position 2. This is all cool until it's not. There are lots of problems with the scenario. For example, if a sentence comes, `Hi!!`, then it'll be adding one more dto the length of vector and even though it's length is just one, it'll be represented by a vector of length 10 where 9 of the indices are filled by 0. Another problem is that when a sentence like `Shady is not shady by heart` comes, even though the word `shady` has come twice, it'll be a single 1 at the inde defined so model will have no way of knowing whether the word came 1 or 1000 times.\n",
    "\n",
    "### <font color='teal'>Frequency Based:</font>\n",
    "\n",
    "We can modify the above problem by giving the position a number equal to the frequeny of word  ( how many times the word has repeated in the sentence) so at a defined index of `Shady`, it'll be a 2. Now let us think about pronouns, articles and connectors. They repeat a lot and lot (a,an,the,at,from,on ...bla bla bla..) So if a frequency is given, again it'll make the model think that `at` is more **TfIdf: Tern Frequency Inverse Term Frequency**. What it does is that it gives the words more weightage which appear more in a document. For example in an article Title about `Eminem is the Greatest: Why?` there will be lots of times when `Eminem` and `greatest` will be there that can easily define the Title of the Article but lots of time there will be `a,an,the,at` will bethere in article too which can hamper. So `TfIdf` surely gives more weightage to the words repeated in lines but it'll penalize the words which comes too often in the whole article which will surely be the non essential words like `a,an,the` etc. This methos eeems perfect but  what about when we want to find the relation of `Eminem` to the `Greatest`?? There is no way to find that using any of the above techniques. This is where the Next Part Comes into play.\n",
    "\n",
    "## Embeddings\n",
    "\n",
    "Solution to all the problems lies in the Embeddings. Word embedding methods learn a real-valued vector representation for a predefined fixed sized vocabulary from a corpus of text. The learning process is either joint with the neural network model on some task, such as document classification, or is an unsupervised process, using document statistics.\n",
    "\n",
    "Confused?? Don't be. Word Embeddings are the Words converted to a Vector of Length  `N` which consists floating values usually in range 0-1. These vectors are not at random but they are there for a reason. If the distance between 2 vectors are small in that embedding means that those two vectors are somehow (and I mean SOMEHOW) related. In this context, we'll say that the disctance of the vector formed by `Moon` will closer to`Earth`  tha `Apple`. Simlarly, the embeddings can JUSt KNOW that Paris, New Delhi and London are related and will have very short distances. These Embeddings represent N dimensional HIDDEN features between words. For Example there are 3 hidden features explored by Embeddings by words as `[Scary`, `Soft` ,`Intelligent]` in the range 0-1. If we have 3 words as ``Cat``,`Gun` and `Human`, then the vector for `Human = [0.3, 0.3, 0.9], Gun = [0.8, 0.1, 0.01], Cat = [0.4, 0.9, 0,4]`. Which means that Human is somewhat scary, somewhat sft but highly intelligent and a cat is scary but super soft. The only thing to note here is that the **Machine Learning Model does not even know what  it has found. To the model, these are some random dimensions and according to these dimensions, these words (one hot encoded vectors) relate.**\n",
    "\n",
    "Whatever I have just described can be seen viually and mathematically by watching [this Andrew NG video](https://www.coursera.org/lecture/nlp-sequence-models/word-representation-6Oq70)\n",
    "\n",
    "## How to?\n",
    "Embeddings are generally generated by using the statistical means on a **HUGE CORPUS OF CLEANED DATA**. There are predefined embeddings such as Google's Word2Vec and Stanford's GloVe but you can use your own Embeddings too by using an `EmbeddingLayer` as the first layer in any Neural Network. The dimension of this layer will be the number of hidden features you want to get and the updated with each epochs will be in a manner to get the context from your data.\n",
    "\n",
    "A very detailed and intutive explanation about Embeddings and it's types is given in [this post](https://machinelearningmastery.com/what-are-word-embeddings/).\n",
    "\n",
    "## GloVe: Global Vectors for Word Representation\n",
    "\n",
    "We'll be using **GLoVE** which is a hybrid approach to mix both the global statistics of matrix factorization techniques like LSA with the local context-based learning in Word2Vec. Rather than using a window to define local context, GloVe constructs an explicit word-context or word co-occurrence matrix using statistics across the whole text corpus. The result is a learning model that may result in generally better word embeddings.\n",
    "\n",
    "GloVe has used  `word-co-occurnce` and `Nearst Neighbour` to get all these embeddings using a Neural Network. It mans that given a word, it tries to find the similar words used in the same **CONTEXT** and given a context, it tries to find words that can be used in the same context. For example let us assume that as `Lionel` and `Messi` are used most of the times together so given `Lionel`, it'll try to predict `Messi` and vice versa (word-Co-occurance). In the same way `Messi` and `Football` are used together in the same context so when you try to look up for similar words as `Messi`, it'll give you `Football` (context).\n",
    "\n",
    "## Working of GloVe\n",
    "Working of GloVe is quite interesting. It has learned that `man+feminine` = `woman`  so `king+femenine` = `queen`. In other words, it can find the relation that if you subtract the two vectors and add the third vector, it can find a 4th vector which is related to 3rd vector in the same 2nd is related to 1st. For example if you do, `woman-man+king`, it'll return `queen` as `woman-man` will give you the `femenine` dimension and adding femenine to king will be equal to queen.# Thank You\n",
    "In the next part, We'll be covering Embeddings (such as GloVe, Word2Vec), Sequence-to-Sequence Modelling, Attention Modelling with Google's BERT to perform tasks which are not possible with fixed length inputs and outputs."
   ]
  },
  {
   "cell_type": "code",
   "execution_count": null,
   "metadata": {
    "colab": {
     "base_uri": "https://localhost:8080/"
    },
    "id": "fx5roxYVgrrW",
    "outputId": "2d894dec-a9b1-4c90-c4d4-4b98c6948f93"
   },
   "outputs": [],
   "source": [
    "# Load GloVe embeddings\n",
    "glove = GloVe(name='6B', dim=100)  # Adjust dim to match the chosen GloVe embedding dimension\n",
    "\n",
    "print(f'Shape of GloVe vectors is {glove.vectors.shape}')"
   ]
  },
  {
   "cell_type": "markdown",
   "metadata": {
    "id": "N700lVWAgrrX"
   },
   "source": [
    "This means tht there are 400000 words and each one represented by a vector length 100. Every word in this vocab has a unique integer number **for internal storage purpose only**. Words are converted to vectors and and you can use `glove.stoi['some_small_cased_word']` to see the identifier of that word.\n",
    "\n",
    "To access the vector representation of that word, simply use `glove['word']`. When a word is not found in the glove, it is changed by a `<unk>` vector of all zeros of same size."
   ]
  },
  {
   "cell_type": "code",
   "execution_count": null,
   "metadata": {
    "colab": {
     "base_uri": "https://localhost:8080/"
    },
    "id": "UtE54SAggrrX",
    "outputId": "a5f3290c-7058-47c4-cd37-b87a662df823"
   },
   "outputs": [],
   "source": [
    "print(f\"eminem is represented by the index location at: {glove.stoi['eminem']} and has the following vector values: \\n {glove['eminem']}\")"
   ]
  },
  {
   "cell_type": "markdown",
   "metadata": {
    "id": "gj0upbg8grrX"
   },
   "source": [
    "# GloVe Helpers"
   ]
  },
  {
   "cell_type": "code",
   "execution_count": null,
   "metadata": {
    "id": "CTqHu82hgrrX"
   },
   "outputs": [],
   "source": [
    "def get_vector(glove,word):\n",
    "    '''\n",
    "    Get the vector corresponding to a word from Glove\n",
    "    args:\n",
    "        glove: glove embeddings\n",
    "        word:  any word\n",
    "    out: a vector of dimensions according to the embedding size. If a word is not present, it returns zero vector\n",
    "    '''\n",
    "    # Note: first convert all characters to lower case. (1 line)\n",
    "    # start of your code\n",
    "    output = glove[word.lower()]\n",
    "    # end of your code\n",
    "    return output\n",
    "\n",
    "\n",
    "def find_closest(glove: GloVe,input_value,n=6,vector=False):\n",
    "    '''\n",
    "    Find the closest words to a given word from the embedding\n",
    "    args:\n",
    "        glove: glove embeddings\n",
    "        input_value: {string,vector} any english word or vector representation from embedding\n",
    "        n: number of closest words to return\n",
    "        vector: whether input type is a word or a vector\n",
    "    out:\n",
    "        tensor of tuple of words and distances\n",
    "    '''\n",
    "    if not vector:\n",
    "        vector = get_vector(glove,input_value) # get vector of the current word\n",
    "    else:\n",
    "        vector  = input_value\n",
    "\n",
    "    distances = []\n",
    "    # start of your code (4 lines)\n",
    "    distances += [(w, torch.dist(vector, get_vector(glove, w))) for w in glove.itos]\n",
    "    sorted_distances = sorted(distances, key=lambda x: x[1])\n",
    "    # end of your code\n",
    "    return sorted_distances[:n] # return top n\n",
    "\n",
    "\n",
    "def print_neatly(list_of_tuples):\n",
    "    '''\n",
    "    Print a tuple cleanly\n",
    "    args:\n",
    "        list_of_tuples: List of tuple of 2 values\n",
    "    '''\n",
    "    print('Distances \\t Words\\n')\n",
    "    for tup in list_of_tuples:\n",
    "        print('%.3f \\t\\t %s'%(tup[1],tup[0]))\n",
    "    return None\n",
    "\n",
    "\n",
    "def find_analogy(glove,w1,w11,w2,n=7):\n",
    "    '''\n",
    "    Find analogy of the third word given by analogy of two words\n",
    "    args:\n",
    "        w1: first word\n",
    "        w11: analogy of the first word\n",
    "        w2: second word\n",
    "        n: number of analogies to find\n",
    "    out:\n",
    "        words that can relate to w2 in the same way w11 is related to w1\n",
    "    '''\n",
    "    # Note: find extra 3 n (n = n+3)\n",
    "    # Note: w1, w11 and w2 should not be in the output (6 lines)\n",
    "    print(f\"{w1} : {w11} :: {w2} : ?\")\n",
    "    # start of your code (4 lines)\n",
    "    closest_n = find_closest(glove, get_vector(glove, w2) + get_vector(glove, w11)-get_vector(glove, w1), n=n, vector=True)\n",
    "    # end of your code\n",
    "    return closest_n"
   ]
  },
  {
   "cell_type": "markdown",
   "metadata": {
    "id": "v3EdJvaKgrrY"
   },
   "source": [
    "# Try out the cool features"
   ]
  },
  {
   "cell_type": "code",
   "execution_count": null,
   "metadata": {
    "colab": {
     "base_uri": "https://localhost:8080/"
    },
    "id": "Q0l81phFgrrY",
    "outputId": "34b3074b-35ec-4867-a7ed-79c5636c5a3d"
   },
   "outputs": [],
   "source": [
    "print_neatly(find_closest(glove,'eminem'))"
   ]
  },
  {
   "cell_type": "code",
   "execution_count": null,
   "metadata": {
    "colab": {
     "base_uri": "https://localhost:8080/"
    },
    "id": "Q5Ox3Xq_grrY",
    "outputId": "ed84ee0c-f3a7-4eec-a70a-fe550072ba3b"
   },
   "outputs": [],
   "source": [
    "print_neatly(find_analogy(glove,'eminem','rapper','messi'))"
   ]
  },
  {
   "cell_type": "markdown",
   "metadata": {
    "id": "A070vLpNgrrY"
   },
   "source": [
    "# Data Processing For GloVe"
   ]
  },
  {
   "cell_type": "code",
   "execution_count": null,
   "metadata": {
    "id": "BCq9CAnygrrY"
   },
   "outputs": [],
   "source": [
    "# step1: tokenize text using word_tokenize and convert to numerical form using default parameters\n",
    "# step2: useful for label string to LabelEncoding. Not useful here but doesn't hurt either\n",
    "# step3: (column name,field object to use on that column) pair for the dictonary\n",
    "# step4: use TabularDataset to split train, val and test\n",
    "# start of your code (4 lines)\n",
    "text_field = Field(tokenize=word_tokenize)\n",
    "label_field = LabelField(dtype=torch.float)\n",
    "fields = [('comment_text', text_field) , ('toxic', label_field)]\n",
    "train, val, test = TabularDataset(path='train.csv', fields=fields, format='CSV'),\\\n",
    "    TabularDataset(path='val.csv', fields=fields, format='CSV'),\\\n",
    "    TabularDataset(path='test.csv', fields=fields, format='CSV')\n",
    "# end of your code\n",
    "\n",
    "\n",
    "text_field.build_vocab(train,max_size=100000,vectors=glove,unk_init=torch.Tensor.zero_)\n",
    "\n",
    "# unk_init = torch.tensor.normal_ set the initial vectors of vocab as the glove vectors and\n",
    "# initialize unknown words as normal distribution instead of zeros\n",
    "\n",
    "label_field.build_vocab(train)\n",
    "\n",
    "\n",
    "train_iter, val_iter, test_iter = BucketIterator.splits((train,val,test), batch_sizes=(32,128,128),\n",
    "                                              sort_key=lambda x: len(x.comment_text),\n",
    "                                              sort_within_batch=False,\n",
    "                                              device=device)"
   ]
  },
  {
   "cell_type": "markdown",
   "metadata": {
    "id": "yCz5VB6IgrrZ"
   },
   "source": [
    "# Initialize Model & Copy Weights to Embedding Layer"
   ]
  },
  {
   "cell_type": "code",
   "execution_count": null,
   "metadata": {
    "id": "hPYwPfJwgrrZ"
   },
   "outputs": [],
   "source": [
    "in_neuron = len(text_field.vocab)\n",
    "embedding_dim = 100 # dimensions of GloVe which we'll use as the dimension for our embedding layer too\n",
    "drop = 0.0 # how much to drop\n",
    "\n",
    "loss_fn = torch.nn.BCEWithLogitsLoss()\n",
    "lr = 0.0003 #learning rate for optimizer\n",
    "\n",
    "network = Network(in_neuron,embedding_dim,drop=drop)\n",
    "\n",
    "optimizer = torch.optim.Adam(network.parameters(),lr=lr)\n",
    "pretrained_embeddings = text_field.vocab.vectors  # get all the 100000+2 vectors\n",
    "network.embedding.weight.data.copy_(pretrained_embeddings) #copy embeddings as the weights to the layer\n",
    "\n",
    "\n",
    "# now we have 2 extra embeddings so we'll have to get their index and change the values at index to zeros\n",
    "\n",
    "unknown_index = text_field.vocab.stoi[text_field.unk_token] # get index of unknown token\n",
    "padding_index = text_field.vocab.stoi[text_field.pad_token] # get index of padding token\n",
    "\n",
    "network.embedding.weight.data[unknown_index] = torch.zeros(embedding_dim) #change values to zeros\n",
    "network.embedding.weight.data[padding_index] = torch.zeros(embedding_dim)\n",
    "\n",
    "if torch.cuda.is_available():\n",
    "    network.cuda()\n",
    "    # network = network.to(device)\n",
    "\n",
    "\n",
    "# if you do not want to train your Embedding weights, you'll have to make 1 extra change\n",
    "# model.embedding.weight.requires_grad = False\n"
   ]
  },
  {
   "cell_type": "markdown",
   "metadata": {
    "id": "m_I7Yd2IgrrZ"
   },
   "source": [
    "<font color='red'>Note: If you have initialised an optimizer, before freezing the weights, then it is okay but **If you Freeze the weights BEFORE passing the parameters into optimizer, then youl'll have to add `optimizer = torch.optim.Adam([ param for param in model.parameters() if param.requires_grad == True],lr=lr)`**</font>"
   ]
  },
  {
   "cell_type": "markdown",
   "metadata": {
    "id": "M9w0hILdgrrZ"
   },
   "source": [
    "# Train and Evaluate Model"
   ]
  },
  {
   "cell_type": "code",
   "execution_count": null,
   "metadata": {
    "colab": {
     "base_uri": "https://localhost:8080/",
     "height": 66,
     "referenced_widgets": [
      "e52da9da94d6453588a304b635da5726",
      "fb5a4836af8740fa9e9761b691c24592",
      "6d9895de40a846258bf4412e9c3dcde9",
      "f8e286c0478041b2bcb3521b81e068d9",
      "d1bbf87e42474af5ba7881bb6279deed",
      "56ee5db3ffac44a29d21cb3969c6fb12",
      "20d340bc639d466f9d2f8c520638c638",
      "472668bc1b1c4ccea8e2731111979c39",
      "6ebf0b43ef25487c99fa88c45961c4fc",
      "fc1853293cee4e4d98f985dd254e260d",
      "55431ce9ea00452787f77e0cff02607d"
     ]
    },
    "id": "P4SbHOJPgrra",
    "outputId": "fb043fa5-a2fa-480c-e3fe-1f67f8adc1b9"
   },
   "outputs": [],
   "source": [
    "for epoch in range(EPOCH):\n",
    "    train_loss, train_acc = train_network(network,train_iter,optimizer,loss_fn,epoch+1)\n",
    "    val_loss,val_acc = evaluate_network(network,val_iter,optimizer,loss_fn)\n",
    "    tqdm.write(f'''End of Epoch: {epoch+1}  |  Train Loss: {train_loss:.3f}  |  Val Loss: {val_loss:.3f}  |  Train Acc: {train_acc*100:.2f}%  |  Val Acc: {val_acc*100:.2f}%''')"
   ]
  },
  {
   "cell_type": "markdown",
   "metadata": {
    "id": "JHXH7mB3lnby"
   },
   "source": [
    "# Task\n",
    "\n",
    "In recent years, cryptocurrency has gained significant attention, with Bitcoin being one of the most well-known. In this question, we aim to forecast the future price of Bitcoin in the market.\n",
    "\n",
    "**Steps:**\n",
    "\n",
    "1. **Library Installation**: First, install the `yfinance` library.\n",
    "\n",
    "2. **Data Download**: Download Bitcoin prices using the `download` function in `yfinance`. Use the USD-BTC symbol and set the data range from `2019-01-01` to `2024-01-01`. Use data up to `2024-01-01` for training and after that date for testing.\n",
    "\n",
    "3. **Plotting Data**: To verify the above steps, plot this data over time, assigning different colors to training and testing data points.\n",
    "\n",
    "\n",
    "4. **Data Normalization**: For better model training, normalize the values on the y-axis. Use the `MinMaxScaler` function from the `scikit-learn` library, with only the training data as the basis for scaling both the training and testing datasets.\n",
    "\n",
    "5. **Data Preparation**: Prepare the data required for model training and testing. Define a variable representing the number of previous data points to use for predictions (e.g., if set to 60, each prediction considers the past 60 data points). Based on this example, the dataset dimensions would be:\n",
    "   - `X_train.shape`: (1766, 60, 1)\n",
    "   - `y_train.shape`: (1766,)\n",
    "\n",
    "6. **Model Creation**: Construct a pytorch model similar to the one shown in the provided example.\n",
    "\n",
    "![Model Example](https://s32.picofile.com/file/8480457884/model.png)\n",
    "\n",
    "\n",
    "7. **Model Training**:\n",
    "   - **Loss Function**: Mean Squared Error (MSE)\n",
    "   - **Optimizer**: Adam\n",
    "   - **Epochs**: 100\n",
    "   - **Batch Size**: 32\n",
    "\n",
    "8. **Prediction and Plotting**: After training, make predictions on the test data and plot the predictions alongside the actual values. The plot should have time on the x-axis, and different colors for actual and predicted values.\n",
    "\n",
    "**Question**: Explain the advantages or disadvantages of increasing or decreasing the defined variable (the number of previous data points) for model training.\n"
   ]
  },
  {
   "cell_type": "code",
   "execution_count": 3,
   "metadata": {
    "id": "ho8wkkervLa1"
   },
   "outputs": [],
   "source": [
    "import yfinance as yf\n",
    "from datetime import datetime\n",
    "from sklearn.preprocessing import MinMaxScaler\n",
    "from torch.utils.data import DataLoader, Dataset"
   ]
  },
  {
   "cell_type": "code",
   "execution_count": 4,
   "metadata": {
    "id": "dw3XtvVcvLa2"
   },
   "outputs": [],
   "source": [
    "ticker = \"BTC-USD\"\n",
    "start_date = datetime(2019, 1, 1)\n",
    "end_date = datetime.now()"
   ]
  },
  {
   "cell_type": "code",
   "execution_count": 61,
   "metadata": {
    "colab": {
     "base_uri": "https://localhost:8080/"
    },
    "id": "UNowHz-FvLa3",
    "outputId": "90321220-9b85-4c6f-e13c-c66d58c94418"
   },
   "outputs": [
    {
     "name": "stderr",
     "output_type": "stream",
     "text": [
      "[*********************100%***********************]  1 of 1 completed\n"
     ]
    }
   ],
   "source": [
    "dataset = yf.download(tickers=ticker, start=start_date, end=end_date).Close"
   ]
  },
  {
   "cell_type": "code",
   "execution_count": 62,
   "metadata": {},
   "outputs": [],
   "source": [
    "data_2023 = dataset.loc[dataset.index.astype(str).str[:4]!=\"2024\"]"
   ]
  },
  {
   "cell_type": "code",
   "execution_count": 63,
   "metadata": {},
   "outputs": [],
   "source": [
    "data_2024 = dataset.loc[dataset.index.astype(str).str[:4]==\"2024\"]"
   ]
  },
  {
   "cell_type": "code",
   "execution_count": 64,
   "metadata": {},
   "outputs": [],
   "source": [
    "train = data_2023['BTC-USD'].values\n",
    "test = data_2024['BTC-USD'].values"
   ]
  },
  {
   "cell_type": "code",
   "execution_count": 65,
   "metadata": {
    "id": "sjvQTexrvLa4"
   },
   "outputs": [],
   "source": [
    "in_scaler = MinMaxScaler(feature_range=(-1, 1))\n",
    "train = in_scaler.fit_transform(train.reshape(-1, 1))\n",
    "test = in_scaler.transform(test.reshape(-1, 1))"
   ]
  },
  {
   "cell_type": "code",
   "execution_count": 70,
   "metadata": {},
   "outputs": [
    {
     "data": {
      "text/plain": [
       "[<matplotlib.lines.Line2D at 0x131a5dce960>]"
      ]
     },
     "execution_count": 70,
     "metadata": {},
     "output_type": "execute_result"
    },
    {
     "data": {
      "image/png": "[encoded data removed]",
      "text/plain": [
       "<Figure size 640x480 with 1 Axes>"
      ]
     },
     "metadata": {},
     "output_type": "display_data"
    }
   ],
   "source": [
    "plt.plot(test)"
   ]
  },
  {
   "cell_type": "code",
   "execution_count": 71,
   "metadata": {
    "id": "rvjw6ODROzZE"
   },
   "outputs": [],
   "source": [
    "ws = 60\n",
    "\n",
    "\n",
    "def data_loader(train, test):\n",
    "    train_seq = []\n",
    "    train_tar = []\n",
    "    test_seq = []\n",
    "    test_tar = []\n",
    "\n",
    "    for i in range(len(train) - ws):\n",
    "        train_seq.append(train[i : i + ws])\n",
    "        train_tar.append(train[i + ws : i + ws + 1])\n",
    "    for i in range(len(test) - ws):\n",
    "        test_seq.append(test[i : i + ws])\n",
    "        test_tar.append(test[i + ws : i + ws + 1])\n",
    "    return [train_seq, train_tar, test_seq, test_tar]\n",
    "\n",
    "\n",
    "train_seq, train_tar, test_seq, test_tar = data_loader(train, test)"
   ]
  },
  {
   "cell_type": "code",
   "execution_count": 72,
   "metadata": {
    "colab": {
     "base_uri": "https://localhost:8080/"
    },
    "id": "d2qSTcZlOzZE",
    "outputId": "b6ddeb44-e0b1-4a7a-d485-829915eb745f"
   },
   "outputs": [],
   "source": [
    "train_seq = torch.Tensor(np.array(train_seq))\n",
    "train_tar = torch.Tensor(np.array(train_tar))\n",
    "test_seq = torch.Tensor(np.array(test_seq))\n",
    "test_tar = torch.Tensor(np.array(test_tar))"
   ]
  },
  {
   "cell_type": "code",
   "execution_count": 18,
   "metadata": {},
   "outputs": [],
   "source": [
    "class DataSet(Dataset):\n",
    "    def __init__(self, input, label):\n",
    "        self.input = input\n",
    "        self.label = label\n",
    "\n",
    "    def __len__(self):\n",
    "        return self.input.shape[0]\n",
    "\n",
    "    def __getitem__(self, idx):\n",
    "        input = self.input[idx, :, :]\n",
    "        label = self.label[idx, :, :]\n",
    "        return (input, label)"
   ]
  },
  {
   "cell_type": "code",
   "execution_count": 73,
   "metadata": {
    "id": "hfEZiPx-OzZE"
   },
   "outputs": [],
   "source": [
    "class Network(torch.nn.Module):\n",
    "    def __init__(\n",
    "        self,\n",
    "        in_neuron,\n",
    "        hidden_size=50,\n",
    "        num_layers=1,\n",
    "        out_neuron=1,\n",
    "        drop=0.2,\n",
    "    ):\n",
    "        super(Network, self).__init__()\n",
    "        self.hidden_size = hidden_size\n",
    "        self.num_layers = num_layers\n",
    "        self.lstm = nn.LSTM(\n",
    "            input_size=in_neuron,\n",
    "            hidden_size=hidden_size,\n",
    "            num_layers=num_layers,\n",
    "            dropout=drop,\n",
    "            batch_first=True,\n",
    "        )\n",
    "\n",
    "        self.dense = nn.Linear(\n",
    "            in_features=hidden_size,\n",
    "            out_features=out_neuron,\n",
    "        )\n",
    "\n",
    "    def forward(self, input):\n",
    "        h0 = torch.zeros(\n",
    "            self.num_layers, input.size(0), self.hidden_size\n",
    "        ).requires_grad_()\n",
    "        c0 = torch.zeros(\n",
    "            self.num_layers, input.size(0), self.hidden_size\n",
    "        ).requires_grad_()\n",
    "\n",
    "        t, (hn, cn) = self.lstm(input, (h0.detach(), c0.detach()))\n",
    "        return self.dense(t[:, -1, :])"
   ]
  },
  {
   "cell_type": "code",
   "execution_count": 74,
   "metadata": {},
   "outputs": [],
   "source": [
    "EPOCHS = 100\n",
    "lr = 3e-4\n",
    "RANDOM_SEED = 42\n",
    "BATCH_SIZE = 32\n",
    "\n",
    "network = Network(in_neuron=1, hidden_size=32, num_layers=2)\n",
    "loss_fn = nn.MSELoss()\n",
    "optimizer = torch.optim.Adam(params=network.parameters(), lr=lr)"
   ]
  },
  {
   "cell_type": "code",
   "execution_count": 75,
   "metadata": {
    "id": "X-h45GuuOzZF"
   },
   "outputs": [],
   "source": [
    "trainset, valset = DataSet(train_seq, train_tar), DataSet(test_seq, test_tar)\n",
    "trainloader, valloader = DataLoader(\n",
    "    dataset=trainset, batch_size=BATCH_SIZE, shuffle=True\n",
    "), DataLoader(dataset=valset, batch_size=BATCH_SIZE, shuffle=False)"
   ]
  },
  {
   "cell_type": "code",
   "execution_count": 41,
   "metadata": {
    "id": "tYvJ-sbsOzZF"
   },
   "outputs": [],
   "source": [
    "def train_network(network, train_iter, optimizer, loss_fn, epoch_num):\n",
    "    \"\"\"\n",
    "    train the network using given parameters\n",
    "    args:\n",
    "        network: any Neural Network object\n",
    "        train_batch: iterator of training data\n",
    "        optimizer: optimizer for gradients calculation and updation\n",
    "        loss_fn: appropriate loss function\n",
    "        epoch_num = Epoch number so that it can show which epoch number in tqdm Bar\n",
    "    out:\n",
    "        a tuple of (average_loss,average_accuracy) of floating values for a single epoch\n",
    "    \"\"\"\n",
    "    epoch_loss = 0  # loss per epoch\n",
    "    epoch_acc = 0  # accuracy per epoch\n",
    "    network.train()  # set the model in training mode as it requires gradients calculation and updtion\n",
    "    # turn off while testing using  model.eval() and torch.no_grad() block\n",
    "\n",
    "    for input, label in tqdm(train_iter, f\"Epoch: {epoch_num}\"):\n",
    "        optimizer.zero_grad()\n",
    "        output = network(input)\n",
    "        loss = loss_fn(output.squeeze(), label.squeeze())\n",
    "        loss.backward()\n",
    "        label = torch.round(label, decimals=2)\n",
    "        output = torch.round(output, decimals=2)\n",
    "        acc = torch.eq(output, label).sum().item() / label.shape[0]\n",
    "        optimizer.step()\n",
    "        epoch_loss += loss\n",
    "        epoch_acc += acc\n",
    "\n",
    "        time.sleep(0.001)  # for tqdm progess bar\n",
    "\n",
    "    return epoch_loss / len(train_iter), epoch_acc / len(train_iter)"
   ]
  },
  {
   "cell_type": "code",
   "execution_count": 37,
   "metadata": {
    "id": "ce46DWt9OzZF"
   },
   "outputs": [],
   "source": [
    "def evaluate_network(network, val_test_iter, optimizer, loss_fn):\n",
    "    \"\"\"\n",
    "    evaluate the network using given parameters\n",
    "    args:\n",
    "        network: any Neural Network object\n",
    "        val_test_iter: iterator of validation/test data\n",
    "        optimizer: optimizer for gradients calculation and updation\n",
    "        loss_fn: appropriate loss function\n",
    "    out:\n",
    "        a tuple of (average_loss,average_accuracy) of floating values for the incoming dataset\n",
    "    \"\"\"\n",
    "    total_loss = 0  # total loss for the whole incoming data\n",
    "    total_acc = 0  # total accuracy for the whole data\n",
    "\n",
    "    network.eval()  # set the model in evaluation mode to not compute gradients and reduce overhead\n",
    "\n",
    "    with torch.no_grad():  # turn of gradients calculation\n",
    "\n",
    "        for input, label in val_test_iter:\n",
    "            output = network(input)\n",
    "            loss = loss_fn(output.squeeze(), label.squeeze())\n",
    "            output = torch.round(output, decimals=2)\n",
    "            label = torch.round(label, decimals=2)\n",
    "            acc = torch.eq(output, label).sum().item() / label.shape[0]\n",
    "            total_loss += loss\n",
    "            total_acc += acc\n",
    "\n",
    "        return total_loss / len(val_test_iter), total_acc / len(val_test_iter)"
   ]
  },
  {
   "cell_type": "code",
   "execution_count": 78,
   "metadata": {},
   "outputs": [],
   "source": [
    "# trainloader = DataLoader(\n",
    "#     dataset=trainset, batch_size=BATCH_SIZE, shuffle=False\n",
    "# )\n",
    "\n",
    "\n",
    "def PlotPredictions(network, train_iter):\n",
    "    predictions = []\n",
    "\n",
    "    network.eval()\n",
    "\n",
    "    with torch.no_grad():\n",
    "        for input, label in train_iter:\n",
    "            output = network(input)\n",
    "            predictions.extend(output)\n",
    "    return predictions"
   ]
  },
  {
   "cell_type": "code",
   "execution_count": 79,
   "metadata": {},
   "outputs": [
    {
     "data": {
      "text/plain": [
       "<matplotlib.legend.Legend at 0x131a6fd88f0>"
      ]
     },
     "execution_count": 79,
     "metadata": {},
     "output_type": "execute_result"
    },
    {
     "data": {
      "image/png": "[encoded data removed]",
      "text/plain": [
       "<Figure size 1000x600 with 1 Axes>"
      ]
     },
     "metadata": {},
     "output_type": "display_data"
    }
   ],
   "source": [
    "predictions = PlotPredictions(network, valloader)\n",
    "plt.figure(figsize=(10,6))\n",
    "plt.plot(predictions, label=\"Prediction\")\n",
    "plt.plot(test_tar.squeeze(), label = \"Label\")\n",
    "plt.legend()"
   ]
  },
  {
   "cell_type": "code",
   "execution_count": 76,
   "metadata": {
    "id": "TiNBn3gCOzZF"
   },
   "outputs": [
    {
     "data": {
      "application/vnd.jupyter.widget-view+json": {
       "model_id": "c77967ec426b4edda2e9c78213096789",
       "version_major": 2,
       "version_minor": 0
      },
      "text/plain": [
       "Epoch: 1:   0%|          | 0/56 [00:00<?, ?it/s]"
      ]
     },
     "metadata": {},
     "output_type": "display_data"
    },
    {
     "name": "stdout",
     "output_type": "stream",
     "text": [
      "Epoch num : 1, Train Loss : 0.24411919713020325, Train Acc : 20.70,\n",
      "        Val Loss : 1.3028391599655151, Val Acc 0.00\n"
     ]
    },
    {
     "data": {
      "application/vnd.jupyter.widget-view+json": {
       "model_id": "56433a852bcb45a5897723c70096da3d",
       "version_major": 2,
       "version_minor": 0
      },
      "text/plain": [
       "Epoch: 2:   0%|          | 0/56 [00:00<?, ?it/s]"
      ]
     },
     "metadata": {},
     "output_type": "display_data"
    },
    {
     "name": "stdout",
     "output_type": "stream",
     "text": [
      "Epoch num : 2, Train Loss : 0.07496138662099838, Train Acc : 25.95,\n",
      "        Val Loss : 0.5992032289505005, Val Acc 0.00\n"
     ]
    },
    {
     "data": {
      "application/vnd.jupyter.widget-view+json": {
       "model_id": "46e4971438504bfdb6ab189fd6c0b601",
       "version_major": 2,
       "version_minor": 0
      },
      "text/plain": [
       "Epoch: 3:   0%|          | 0/56 [00:00<?, ?it/s]"
      ]
     },
     "metadata": {},
     "output_type": "display_data"
    },
    {
     "name": "stdout",
     "output_type": "stream",
     "text": [
      "Epoch num : 3, Train Loss : 0.014975090511143208, Train Acc : 31.36,\n",
      "        Val Loss : 0.1823575496673584, Val Acc 9.38\n"
     ]
    },
    {
     "data": {
      "application/vnd.jupyter.widget-view+json": {
       "model_id": "136ed18e8a48428295f5f64de82a4771",
       "version_major": 2,
       "version_minor": 0
      },
      "text/plain": [
       "Epoch: 4:   0%|          | 0/56 [00:00<?, ?it/s]"
      ]
     },
     "metadata": {},
     "output_type": "display_data"
    },
    {
     "name": "stdout",
     "output_type": "stream",
     "text": [
      "Epoch num : 4, Train Loss : 0.008811515755951405, Train Acc : 38.02,\n",
      "        Val Loss : 0.13707906007766724, Val Acc 23.96\n"
     ]
    },
    {
     "data": {
      "application/vnd.jupyter.widget-view+json": {
       "model_id": "0bb10aab03cc4679b71591a3fe9ec371",
       "version_major": 2,
       "version_minor": 0
      },
      "text/plain": [
       "Epoch: 5:   0%|          | 0/56 [00:00<?, ?it/s]"
      ]
     },
     "metadata": {},
     "output_type": "display_data"
    },
    {
     "name": "stdout",
     "output_type": "stream",
     "text": [
      "Epoch num : 5, Train Loss : 0.00752077903598547, Train Acc : 34.11,\n",
      "        Val Loss : 0.10202031582593918, Val Acc 50.35\n"
     ]
    },
    {
     "data": {
      "application/vnd.jupyter.widget-view+json": {
       "model_id": "606dacf84da743c8941444edcc3ac06c",
       "version_major": 2,
       "version_minor": 0
      },
      "text/plain": [
       "Epoch: 6:   0%|          | 0/56 [00:00<?, ?it/s]"
      ]
     },
     "metadata": {},
     "output_type": "display_data"
    },
    {
     "name": "stdout",
     "output_type": "stream",
     "text": [
      "Epoch num : 6, Train Loss : 0.006821329239755869, Train Acc : 36.07,\n",
      "        Val Loss : 0.09738913178443909, Val Acc 52.08\n"
     ]
    },
    {
     "data": {
      "application/vnd.jupyter.widget-view+json": {
       "model_id": "4d12462fd12d497b948dac522b7485d9",
       "version_major": 2,
       "version_minor": 0
      },
      "text/plain": [
       "Epoch: 7:   0%|          | 0/56 [00:00<?, ?it/s]"
      ]
     },
     "metadata": {},
     "output_type": "display_data"
    },
    {
     "name": "stdout",
     "output_type": "stream",
     "text": [
      "Epoch num : 7, Train Loss : 0.006623950321227312, Train Acc : 35.01,\n",
      "        Val Loss : 0.09093812853097916, Val Acc 46.53\n"
     ]
    },
    {
     "data": {
      "application/vnd.jupyter.widget-view+json": {
       "model_id": "d5f4f2587d4248159973d93356a90785",
       "version_major": 2,
       "version_minor": 0
      },
      "text/plain": [
       "Epoch: 8:   0%|          | 0/56 [00:00<?, ?it/s]"
      ]
     },
     "metadata": {},
     "output_type": "display_data"
    },
    {
     "name": "stdout",
     "output_type": "stream",
     "text": [
      "Epoch num : 8, Train Loss : 0.006331574637442827, Train Acc : 36.55,\n",
      "        Val Loss : 0.07595899701118469, Val Acc 72.92\n"
     ]
    },
    {
     "data": {
      "application/vnd.jupyter.widget-view+json": {
       "model_id": "b4f079d5d4124bd0948e0cb286ea7cf2",
       "version_major": 2,
       "version_minor": 0
      },
      "text/plain": [
       "Epoch: 9:   0%|          | 0/56 [00:00<?, ?it/s]"
      ]
     },
     "metadata": {},
     "output_type": "display_data"
    },
    {
     "name": "stdout",
     "output_type": "stream",
     "text": [
      "Epoch num : 9, Train Loss : 0.006231446284800768, Train Acc : 34.99,\n",
      "        Val Loss : 0.0646297037601471, Val Acc 72.22\n"
     ]
    },
    {
     "data": {
      "application/vnd.jupyter.widget-view+json": {
       "model_id": "2945ef8760f44444b6a3157a14f017cf",
       "version_major": 2,
       "version_minor": 0
      },
      "text/plain": [
       "Epoch: 10:   0%|          | 0/56 [00:00<?, ?it/s]"
      ]
     },
     "metadata": {},
     "output_type": "display_data"
    },
    {
     "name": "stdout",
     "output_type": "stream",
     "text": [
      "Epoch num : 10, Train Loss : 0.005679595284163952, Train Acc : 36.66,\n",
      "        Val Loss : 0.0829223245382309, Val Acc 46.53\n"
     ]
    },
    {
     "data": {
      "application/vnd.jupyter.widget-view+json": {
       "model_id": "5d6335baf877444b8a80883c5618c47b",
       "version_major": 2,
       "version_minor": 0
      },
      "text/plain": [
       "Epoch: 11:   0%|          | 0/56 [00:00<?, ?it/s]"
      ]
     },
     "metadata": {},
     "output_type": "display_data"
    },
    {
     "name": "stdout",
     "output_type": "stream",
     "text": [
      "Epoch num : 11, Train Loss : 0.005771062336862087, Train Acc : 37.05,\n",
      "        Val Loss : 0.056781452149152756, Val Acc 93.40\n"
     ]
    },
    {
     "data": {
      "application/vnd.jupyter.widget-view+json": {
       "model_id": "1686b592100440bfb6ee7ca10d6b2875",
       "version_major": 2,
       "version_minor": 0
      },
      "text/plain": [
       "Epoch: 12:   0%|          | 0/56 [00:00<?, ?it/s]"
      ]
     },
     "metadata": {},
     "output_type": "display_data"
    },
    {
     "name": "stdout",
     "output_type": "stream",
     "text": [
      "Epoch num : 12, Train Loss : 0.006072118878364563, Train Acc : 35.04,\n",
      "        Val Loss : 0.06140571087598801, Val Acc 61.46\n"
     ]
    },
    {
     "data": {
      "application/vnd.jupyter.widget-view+json": {
       "model_id": "817e3a6d3de7411d9e76f4b23a77d16c",
       "version_major": 2,
       "version_minor": 0
      },
      "text/plain": [
       "Epoch: 13:   0%|          | 0/56 [00:00<?, ?it/s]"
      ]
     },
     "metadata": {},
     "output_type": "display_data"
    },
    {
     "name": "stdout",
     "output_type": "stream",
     "text": [
      "Epoch num : 13, Train Loss : 0.005399052519351244, Train Acc : 34.82,\n",
      "        Val Loss : 0.06015856936573982, Val Acc 58.68\n"
     ]
    },
    {
     "data": {
      "application/vnd.jupyter.widget-view+json": {
       "model_id": "cc4cf292cc7c400bb3279e7ac76e6360",
       "version_major": 2,
       "version_minor": 0
      },
      "text/plain": [
       "Epoch: 14:   0%|          | 0/56 [00:00<?, ?it/s]"
      ]
     },
     "metadata": {},
     "output_type": "display_data"
    },
    {
     "name": "stdout",
     "output_type": "stream",
     "text": [
      "Epoch num : 14, Train Loss : 0.005226739216595888, Train Acc : 34.26,\n",
      "        Val Loss : 0.04392831400036812, Val Acc 82.29\n"
     ]
    },
    {
     "data": {
      "application/vnd.jupyter.widget-view+json": {
       "model_id": "a1ef0398dd4a46e5b51e7a8860d4f3d1",
       "version_major": 2,
       "version_minor": 0
      },
      "text/plain": [
       "Epoch: 15:   0%|          | 0/56 [00:00<?, ?it/s]"
      ]
     },
     "metadata": {},
     "output_type": "display_data"
    },
    {
     "name": "stdout",
     "output_type": "stream",
     "text": [
      "Epoch num : 15, Train Loss : 0.005002662073820829, Train Acc : 35.90,\n",
      "        Val Loss : 0.04892061650753021, Val Acc 80.21\n"
     ]
    },
    {
     "data": {
      "application/vnd.jupyter.widget-view+json": {
       "model_id": "79f6a23fb7c64f09b39bd194ccff47ad",
       "version_major": 2,
       "version_minor": 0
      },
      "text/plain": [
       "Epoch: 16:   0%|          | 0/56 [00:00<?, ?it/s]"
      ]
     },
     "metadata": {},
     "output_type": "display_data"
    },
    {
     "name": "stdout",
     "output_type": "stream",
     "text": [
      "Epoch num : 16, Train Loss : 0.00488210329785943, Train Acc : 36.37,\n",
      "        Val Loss : 0.04345540329813957, Val Acc 111.46\n"
     ]
    },
    {
     "data": {
      "application/vnd.jupyter.widget-view+json": {
       "model_id": "f6616abc253640fbb3810270c0238abc",
       "version_major": 2,
       "version_minor": 0
      },
      "text/plain": [
       "Epoch: 17:   0%|          | 0/56 [00:00<?, ?it/s]"
      ]
     },
     "metadata": {},
     "output_type": "display_data"
    },
    {
     "name": "stdout",
     "output_type": "stream",
     "text": [
      "Epoch num : 17, Train Loss : 0.0047507151030004025, Train Acc : 32.59,\n",
      "        Val Loss : 0.04759017750620842, Val Acc 68.75\n"
     ]
    },
    {
     "data": {
      "application/vnd.jupyter.widget-view+json": {
       "model_id": "3e8c9bb74bbf44ba9575545e619f81a2",
       "version_major": 2,
       "version_minor": 0
      },
      "text/plain": [
       "Epoch: 18:   0%|          | 0/56 [00:00<?, ?it/s]"
      ]
     },
     "metadata": {},
     "output_type": "display_data"
    },
    {
     "name": "stdout",
     "output_type": "stream",
     "text": [
      "Epoch num : 18, Train Loss : 0.004629415459930897, Train Acc : 34.78,\n",
      "        Val Loss : 0.041230395436286926, Val Acc 109.03\n"
     ]
    },
    {
     "data": {
      "application/vnd.jupyter.widget-view+json": {
       "model_id": "e8ac9755f0904cc2804ea53946f287e7",
       "version_major": 2,
       "version_minor": 0
      },
      "text/plain": [
       "Epoch: 19:   0%|          | 0/56 [00:00<?, ?it/s]"
      ]
     },
     "metadata": {},
     "output_type": "display_data"
    },
    {
     "name": "stdout",
     "output_type": "stream",
     "text": [
      "Epoch num : 19, Train Loss : 0.004598767962306738, Train Acc : 34.04,\n",
      "        Val Loss : 0.04439888522028923, Val Acc 67.71\n"
     ]
    },
    {
     "data": {
      "application/vnd.jupyter.widget-view+json": {
       "model_id": "b78426af14cc40878b50ae171a6dbc92",
       "version_major": 2,
       "version_minor": 0
      },
      "text/plain": [
       "Epoch: 20:   0%|          | 0/56 [00:00<?, ?it/s]"
      ]
     },
     "metadata": {},
     "output_type": "display_data"
    },
    {
     "name": "stdout",
     "output_type": "stream",
     "text": [
      "Epoch num : 20, Train Loss : 0.004713068250566721, Train Acc : 35.17,\n",
      "        Val Loss : 0.04394685849547386, Val Acc 65.97\n"
     ]
    },
    {
     "data": {
      "application/vnd.jupyter.widget-view+json": {
       "model_id": "d61240d68de84e92a057b947d5561a2e",
       "version_major": 2,
       "version_minor": 0
      },
      "text/plain": [
       "Epoch: 21:   0%|          | 0/56 [00:00<?, ?it/s]"
      ]
     },
     "metadata": {},
     "output_type": "display_data"
    },
    {
     "name": "stdout",
     "output_type": "stream",
     "text": [
      "Epoch num : 21, Train Loss : 0.004507363773882389, Train Acc : 35.44,\n",
      "        Val Loss : 0.03835131227970123, Val Acc 94.10\n"
     ]
    },
    {
     "data": {
      "application/vnd.jupyter.widget-view+json": {
       "model_id": "60254f40f7b54fb89ac0d5ac43a13120",
       "version_major": 2,
       "version_minor": 0
      },
      "text/plain": [
       "Epoch: 22:   0%|          | 0/56 [00:00<?, ?it/s]"
      ]
     },
     "metadata": {},
     "output_type": "display_data"
    },
    {
     "name": "stdout",
     "output_type": "stream",
     "text": [
      "Epoch num : 22, Train Loss : 0.004511410836130381, Train Acc : 34.60,\n",
      "        Val Loss : 0.03756758198142052, Val Acc 88.89\n"
     ]
    },
    {
     "data": {
      "application/vnd.jupyter.widget-view+json": {
       "model_id": "8d41b3a952c24818a0fac7f1878ba24a",
       "version_major": 2,
       "version_minor": 0
      },
      "text/plain": [
       "Epoch: 23:   0%|          | 0/56 [00:00<?, ?it/s]"
      ]
     },
     "metadata": {},
     "output_type": "display_data"
    },
    {
     "name": "stdout",
     "output_type": "stream",
     "text": [
      "Epoch num : 23, Train Loss : 0.00423457520082593, Train Acc : 35.47,\n",
      "        Val Loss : 0.04349400848150253, Val Acc 61.46\n"
     ]
    },
    {
     "data": {
      "application/vnd.jupyter.widget-view+json": {
       "model_id": "bf29286769a24d48b2aa6d5813cb05cc",
       "version_major": 2,
       "version_minor": 0
      },
      "text/plain": [
       "Epoch: 24:   0%|          | 0/56 [00:00<?, ?it/s]"
      ]
     },
     "metadata": {},
     "output_type": "display_data"
    },
    {
     "name": "stdout",
     "output_type": "stream",
     "text": [
      "Epoch num : 24, Train Loss : 0.004235740285366774, Train Acc : 33.39,\n",
      "        Val Loss : 0.04129655286669731, Val Acc 59.72\n"
     ]
    },
    {
     "data": {
      "application/vnd.jupyter.widget-view+json": {
       "model_id": "d9863a9832e045a488bfcd6ac160b5bb",
       "version_major": 2,
       "version_minor": 0
      },
      "text/plain": [
       "Epoch: 25:   0%|          | 0/56 [00:00<?, ?it/s]"
      ]
     },
     "metadata": {},
     "output_type": "display_data"
    },
    {
     "name": "stdout",
     "output_type": "stream",
     "text": [
      "Epoch num : 25, Train Loss : 0.00409092428162694, Train Acc : 35.27,\n",
      "        Val Loss : 0.02866259217262268, Val Acc 101.39\n"
     ]
    },
    {
     "data": {
      "application/vnd.jupyter.widget-view+json": {
       "model_id": "6099721863d84da8a260511abc45fed8",
       "version_major": 2,
       "version_minor": 0
      },
      "text/plain": [
       "Epoch: 26:   0%|          | 0/56 [00:00<?, ?it/s]"
      ]
     },
     "metadata": {},
     "output_type": "display_data"
    },
    {
     "name": "stdout",
     "output_type": "stream",
     "text": [
      "Epoch num : 26, Train Loss : 0.0038364753127098083, Train Acc : 35.94,\n",
      "        Val Loss : 0.04266490414738655, Val Acc 54.17\n"
     ]
    },
    {
     "data": {
      "application/vnd.jupyter.widget-view+json": {
       "model_id": "0ef65eec515e4c1caa5fcaffa877e4be",
       "version_major": 2,
       "version_minor": 0
      },
      "text/plain": [
       "Epoch: 27:   0%|          | 0/56 [00:00<?, ?it/s]"
      ]
     },
     "metadata": {},
     "output_type": "display_data"
    },
    {
     "name": "stdout",
     "output_type": "stream",
     "text": [
      "Epoch num : 27, Train Loss : 0.0038328361697494984, Train Acc : 36.98,\n",
      "        Val Loss : 0.03338857367634773, Val Acc 80.56\n"
     ]
    },
    {
     "data": {
      "application/vnd.jupyter.widget-view+json": {
       "model_id": "2c97f573aae74d339e3605853ba244bf",
       "version_major": 2,
       "version_minor": 0
      },
      "text/plain": [
       "Epoch: 28:   0%|          | 0/56 [00:00<?, ?it/s]"
      ]
     },
     "metadata": {},
     "output_type": "display_data"
    },
    {
     "name": "stdout",
     "output_type": "stream",
     "text": [
      "Epoch num : 28, Train Loss : 0.003948385361582041, Train Acc : 35.99,\n",
      "        Val Loss : 0.029460536316037178, Val Acc 90.97\n"
     ]
    },
    {
     "data": {
      "application/vnd.jupyter.widget-view+json": {
       "model_id": "1f275c0ab135464e8cbe99dca82074aa",
       "version_major": 2,
       "version_minor": 0
      },
      "text/plain": [
       "Epoch: 29:   0%|          | 0/56 [00:00<?, ?it/s]"
      ]
     },
     "metadata": {},
     "output_type": "display_data"
    },
    {
     "name": "stdout",
     "output_type": "stream",
     "text": [
      "Epoch num : 29, Train Loss : 0.0037468604277819395, Train Acc : 37.95,\n",
      "        Val Loss : 0.02764490619301796, Val Acc 86.11\n"
     ]
    },
    {
     "data": {
      "application/vnd.jupyter.widget-view+json": {
       "model_id": "756b8a0dfaea4ec290556fd75acc3b8c",
       "version_major": 2,
       "version_minor": 0
      },
      "text/plain": [
       "Epoch: 30:   0%|          | 0/56 [00:00<?, ?it/s]"
      ]
     },
     "metadata": {},
     "output_type": "display_data"
    },
    {
     "name": "stdout",
     "output_type": "stream",
     "text": [
      "Epoch num : 30, Train Loss : 0.00375148793682456, Train Acc : 35.60,\n",
      "        Val Loss : 0.027611656114459038, Val Acc 87.85\n"
     ]
    },
    {
     "data": {
      "application/vnd.jupyter.widget-view+json": {
       "model_id": "5e5198f9f11a464b8511fced6fc58e5b",
       "version_major": 2,
       "version_minor": 0
      },
      "text/plain": [
       "Epoch: 31:   0%|          | 0/56 [00:00<?, ?it/s]"
      ]
     },
     "metadata": {},
     "output_type": "display_data"
    },
    {
     "name": "stdout",
     "output_type": "stream",
     "text": [
      "Epoch num : 31, Train Loss : 0.0036444247234612703, Train Acc : 38.50,\n",
      "        Val Loss : 0.032339464873075485, Val Acc 73.96\n"
     ]
    },
    {
     "data": {
      "application/vnd.jupyter.widget-view+json": {
       "model_id": "7f321a414ce440519d6d960ac2281fd3",
       "version_major": 2,
       "version_minor": 0
      },
      "text/plain": [
       "Epoch: 32:   0%|          | 0/56 [00:00<?, ?it/s]"
      ]
     },
     "metadata": {},
     "output_type": "display_data"
    },
    {
     "name": "stdout",
     "output_type": "stream",
     "text": [
      "Epoch num : 32, Train Loss : 0.0034918582532554865, Train Acc : 34.69,\n",
      "        Val Loss : 0.028483662754297256, Val Acc 86.46\n"
     ]
    },
    {
     "data": {
      "application/vnd.jupyter.widget-view+json": {
       "model_id": "dfb322d6316c4f45b43f9fd14f0b8402",
       "version_major": 2,
       "version_minor": 0
      },
      "text/plain": [
       "Epoch: 33:   0%|          | 0/56 [00:00<?, ?it/s]"
      ]
     },
     "metadata": {},
     "output_type": "display_data"
    },
    {
     "name": "stdout",
     "output_type": "stream",
     "text": [
      "Epoch num : 33, Train Loss : 0.0033575508277863264, Train Acc : 39.27,\n",
      "        Val Loss : 0.02402535453438759, Val Acc 89.93\n"
     ]
    },
    {
     "data": {
      "application/vnd.jupyter.widget-view+json": {
       "model_id": "f702602f20e546c38af80e3d6b71fcfd",
       "version_major": 2,
       "version_minor": 0
      },
      "text/plain": [
       "Epoch: 34:   0%|          | 0/56 [00:00<?, ?it/s]"
      ]
     },
     "metadata": {},
     "output_type": "display_data"
    },
    {
     "name": "stdout",
     "output_type": "stream",
     "text": [
      "Epoch num : 34, Train Loss : 0.0033028479665517807, Train Acc : 35.23,\n",
      "        Val Loss : 0.02631307579576969, Val Acc 95.49\n"
     ]
    },
    {
     "data": {
      "application/vnd.jupyter.widget-view+json": {
       "model_id": "bd0a481f9976476e8f0ad0ec5d4dee02",
       "version_major": 2,
       "version_minor": 0
      },
      "text/plain": [
       "Epoch: 35:   0%|          | 0/56 [00:00<?, ?it/s]"
      ]
     },
     "metadata": {},
     "output_type": "display_data"
    },
    {
     "name": "stdout",
     "output_type": "stream",
     "text": [
      "Epoch num : 35, Train Loss : 0.003445775480940938, Train Acc : 37.35,\n",
      "        Val Loss : 0.021895315498113632, Val Acc 94.79\n"
     ]
    },
    {
     "data": {
      "application/vnd.jupyter.widget-view+json": {
       "model_id": "f74136975a994193a51d11ca0a87eb55",
       "version_major": 2,
       "version_minor": 0
      },
      "text/plain": [
       "Epoch: 36:   0%|          | 0/56 [00:00<?, ?it/s]"
      ]
     },
     "metadata": {},
     "output_type": "display_data"
    },
    {
     "name": "stdout",
     "output_type": "stream",
     "text": [
      "Epoch num : 36, Train Loss : 0.0034483575727790594, Train Acc : 36.55,\n",
      "        Val Loss : 0.023684266954660416, Val Acc 90.62\n"
     ]
    },
    {
     "data": {
      "application/vnd.jupyter.widget-view+json": {
       "model_id": "2d3e7675a3b6469699bdb2a299e01a23",
       "version_major": 2,
       "version_minor": 0
      },
      "text/plain": [
       "Epoch: 37:   0%|          | 0/56 [00:00<?, ?it/s]"
      ]
     },
     "metadata": {},
     "output_type": "display_data"
    },
    {
     "name": "stdout",
     "output_type": "stream",
     "text": [
      "Epoch num : 37, Train Loss : 0.0032235083635896444, Train Acc : 35.16,\n",
      "        Val Loss : 0.02234436385333538, Val Acc 87.50\n"
     ]
    },
    {
     "data": {
      "application/vnd.jupyter.widget-view+json": {
       "model_id": "45ddc72a7ff44e09b28164a5a07dc521",
       "version_major": 2,
       "version_minor": 0
      },
      "text/plain": [
       "Epoch: 38:   0%|          | 0/56 [00:00<?, ?it/s]"
      ]
     },
     "metadata": {},
     "output_type": "display_data"
    },
    {
     "name": "stdout",
     "output_type": "stream",
     "text": [
      "Epoch num : 38, Train Loss : 0.0033943145535886288, Train Acc : 35.96,\n",
      "        Val Loss : 0.02211419679224491, Val Acc 88.89\n"
     ]
    },
    {
     "data": {
      "application/vnd.jupyter.widget-view+json": {
       "model_id": "920b915e12ba479688d2cfca3a0a984f",
       "version_major": 2,
       "version_minor": 0
      },
      "text/plain": [
       "Epoch: 39:   0%|          | 0/56 [00:00<?, ?it/s]"
      ]
     },
     "metadata": {},
     "output_type": "display_data"
    },
    {
     "name": "stdout",
     "output_type": "stream",
     "text": [
      "Epoch num : 39, Train Loss : 0.003151987912133336, Train Acc : 38.56,\n",
      "        Val Loss : 0.02557840198278427, Val Acc 85.76\n"
     ]
    },
    {
     "data": {
      "application/vnd.jupyter.widget-view+json": {
       "model_id": "a9e0d350f2de46c4a39d96c7c3f2dd68",
       "version_major": 2,
       "version_minor": 0
      },
      "text/plain": [
       "Epoch: 40:   0%|          | 0/56 [00:00<?, ?it/s]"
      ]
     },
     "metadata": {},
     "output_type": "display_data"
    },
    {
     "name": "stdout",
     "output_type": "stream",
     "text": [
      "Epoch num : 40, Train Loss : 0.003094649640843272, Train Acc : 36.46,\n",
      "        Val Loss : 0.017483431845903397, Val Acc 96.18\n"
     ]
    },
    {
     "data": {
      "application/vnd.jupyter.widget-view+json": {
       "model_id": "01ab910b2884422aa10b6712b319c153",
       "version_major": 2,
       "version_minor": 0
      },
      "text/plain": [
       "Epoch: 41:   0%|          | 0/56 [00:00<?, ?it/s]"
      ]
     },
     "metadata": {},
     "output_type": "display_data"
    },
    {
     "name": "stdout",
     "output_type": "stream",
     "text": [
      "Epoch num : 41, Train Loss : 0.0032668584026396275, Train Acc : 34.82,\n",
      "        Val Loss : 0.018399348482489586, Val Acc 87.15\n"
     ]
    },
    {
     "data": {
      "application/vnd.jupyter.widget-view+json": {
       "model_id": "745f6f15b3654606b5d454fbffe9fea2",
       "version_major": 2,
       "version_minor": 0
      },
      "text/plain": [
       "Epoch: 42:   0%|          | 0/56 [00:00<?, ?it/s]"
      ]
     },
     "metadata": {},
     "output_type": "display_data"
    },
    {
     "name": "stdout",
     "output_type": "stream",
     "text": [
      "Epoch num : 42, Train Loss : 0.003151881042867899, Train Acc : 38.67,\n",
      "        Val Loss : 0.02216361276805401, Val Acc 81.94\n"
     ]
    },
    {
     "data": {
      "application/vnd.jupyter.widget-view+json": {
       "model_id": "19af16c6c7ca41fd97b75a7d2e8ea486",
       "version_major": 2,
       "version_minor": 0
      },
      "text/plain": [
       "Epoch: 43:   0%|          | 0/56 [00:00<?, ?it/s]"
      ]
     },
     "metadata": {},
     "output_type": "display_data"
    },
    {
     "name": "stdout",
     "output_type": "stream",
     "text": [
      "Epoch num : 43, Train Loss : 0.003124874783679843, Train Acc : 35.32,\n",
      "        Val Loss : 0.02082475833594799, Val Acc 92.01\n"
     ]
    },
    {
     "data": {
      "application/vnd.jupyter.widget-view+json": {
       "model_id": "e613eea5e04847d8bc0ad2f75a6a020d",
       "version_major": 2,
       "version_minor": 0
      },
      "text/plain": [
       "Epoch: 44:   0%|          | 0/56 [00:00<?, ?it/s]"
      ]
     },
     "metadata": {},
     "output_type": "display_data"
    },
    {
     "name": "stdout",
     "output_type": "stream",
     "text": [
      "Epoch num : 44, Train Loss : 0.0030642386991530657, Train Acc : 36.68,\n",
      "        Val Loss : 0.0182140301913023, Val Acc 92.01\n"
     ]
    },
    {
     "data": {
      "application/vnd.jupyter.widget-view+json": {
       "model_id": "39b255290cba462fb91b666dfb485b36",
       "version_major": 2,
       "version_minor": 0
      },
      "text/plain": [
       "Epoch: 45:   0%|          | 0/56 [00:00<?, ?it/s]"
      ]
     },
     "metadata": {},
     "output_type": "display_data"
    },
    {
     "name": "stdout",
     "output_type": "stream",
     "text": [
      "Epoch num : 45, Train Loss : 0.002970245899632573, Train Acc : 37.33,\n",
      "        Val Loss : 0.024058252573013306, Val Acc 81.60\n"
     ]
    },
    {
     "data": {
      "application/vnd.jupyter.widget-view+json": {
       "model_id": "f04250a55aa847cfb5e47955c043057f",
       "version_major": 2,
       "version_minor": 0
      },
      "text/plain": [
       "Epoch: 46:   0%|          | 0/56 [00:00<?, ?it/s]"
      ]
     },
     "metadata": {},
     "output_type": "display_data"
    },
    {
     "name": "stdout",
     "output_type": "stream",
     "text": [
      "Epoch num : 46, Train Loss : 0.0029761712066829205, Train Acc : 39.29,\n",
      "        Val Loss : 0.02188173681497574, Val Acc 82.99\n"
     ]
    },
    {
     "data": {
      "application/vnd.jupyter.widget-view+json": {
       "model_id": "e120183c93854c61bbeeb4ebd3bfa9dc",
       "version_major": 2,
       "version_minor": 0
      },
      "text/plain": [
       "Epoch: 47:   0%|          | 0/56 [00:00<?, ?it/s]"
      ]
     },
     "metadata": {},
     "output_type": "display_data"
    },
    {
     "name": "stdout",
     "output_type": "stream",
     "text": [
      "Epoch num : 47, Train Loss : 0.0030661732889711857, Train Acc : 37.56,\n",
      "        Val Loss : 0.018773337826132774, Val Acc 88.19\n"
     ]
    },
    {
     "data": {
      "application/vnd.jupyter.widget-view+json": {
       "model_id": "917a7bf3c713492d942f7481ee2b889a",
       "version_major": 2,
       "version_minor": 0
      },
      "text/plain": [
       "Epoch: 48:   0%|          | 0/56 [00:00<?, ?it/s]"
      ]
     },
     "metadata": {},
     "output_type": "display_data"
    },
    {
     "name": "stdout",
     "output_type": "stream",
     "text": [
      "Epoch num : 48, Train Loss : 0.0028780438005924225, Train Acc : 36.61,\n",
      "        Val Loss : 0.02529034949839115, Val Acc 78.47\n"
     ]
    },
    {
     "data": {
      "application/vnd.jupyter.widget-view+json": {
       "model_id": "5a175c41215c41e39aa01e21a5c889e9",
       "version_major": 2,
       "version_minor": 0
      },
      "text/plain": [
       "Epoch: 49:   0%|          | 0/56 [00:00<?, ?it/s]"
      ]
     },
     "metadata": {},
     "output_type": "display_data"
    },
    {
     "name": "stdout",
     "output_type": "stream",
     "text": [
      "Epoch num : 49, Train Loss : 0.0028637119103223085, Train Acc : 37.72,\n",
      "        Val Loss : 0.026576556265354156, Val Acc 65.28\n"
     ]
    },
    {
     "data": {
      "application/vnd.jupyter.widget-view+json": {
       "model_id": "f94d8b35b54145f39e60aa2f63c6cb3e",
       "version_major": 2,
       "version_minor": 0
      },
      "text/plain": [
       "Epoch: 50:   0%|          | 0/56 [00:00<?, ?it/s]"
      ]
     },
     "metadata": {},
     "output_type": "display_data"
    },
    {
     "name": "stdout",
     "output_type": "stream",
     "text": [
      "Epoch num : 50, Train Loss : 0.002784718293696642, Train Acc : 36.90,\n",
      "        Val Loss : 0.022006964311003685, Val Acc 82.29\n"
     ]
    },
    {
     "data": {
      "application/vnd.jupyter.widget-view+json": {
       "model_id": "fdd30ac9bb7f4dcf9f7c1c9a0068226c",
       "version_major": 2,
       "version_minor": 0
      },
      "text/plain": [
       "Epoch: 51:   0%|          | 0/56 [00:00<?, ?it/s]"
      ]
     },
     "metadata": {},
     "output_type": "display_data"
    },
    {
     "name": "stdout",
     "output_type": "stream",
     "text": [
      "Epoch num : 51, Train Loss : 0.002948284614831209, Train Acc : 37.44,\n",
      "        Val Loss : 0.017456134781241417, Val Acc 86.11\n"
     ]
    },
    {
     "data": {
      "application/vnd.jupyter.widget-view+json": {
       "model_id": "f833f6d9789f4104ad310ee4c54ad763",
       "version_major": 2,
       "version_minor": 0
      },
      "text/plain": [
       "Epoch: 52:   0%|          | 0/56 [00:00<?, ?it/s]"
      ]
     },
     "metadata": {},
     "output_type": "display_data"
    },
    {
     "name": "stdout",
     "output_type": "stream",
     "text": [
      "Epoch num : 52, Train Loss : 0.00286766211502254, Train Acc : 38.60,\n",
      "        Val Loss : 0.019932052120566368, Val Acc 85.42\n"
     ]
    },
    {
     "data": {
      "application/vnd.jupyter.widget-view+json": {
       "model_id": "2ae428ffda9e4ded838131deba3564db",
       "version_major": 2,
       "version_minor": 0
      },
      "text/plain": [
       "Epoch: 53:   0%|          | 0/56 [00:00<?, ?it/s]"
      ]
     },
     "metadata": {},
     "output_type": "display_data"
    },
    {
     "name": "stdout",
     "output_type": "stream",
     "text": [
      "Epoch num : 53, Train Loss : 0.002748076105490327, Train Acc : 38.02,\n",
      "        Val Loss : 0.021640758961439133, Val Acc 79.51\n"
     ]
    },
    {
     "data": {
      "application/vnd.jupyter.widget-view+json": {
       "model_id": "cfbfba34b9f44513822182f299f1ee05",
       "version_major": 2,
       "version_minor": 0
      },
      "text/plain": [
       "Epoch: 54:   0%|          | 0/56 [00:00<?, ?it/s]"
      ]
     },
     "metadata": {},
     "output_type": "display_data"
    },
    {
     "name": "stdout",
     "output_type": "stream",
     "text": [
      "Epoch num : 54, Train Loss : 0.002612188458442688, Train Acc : 36.33,\n",
      "        Val Loss : 0.019997630268335342, Val Acc 80.56\n"
     ]
    },
    {
     "data": {
      "application/vnd.jupyter.widget-view+json": {
       "model_id": "b0d63949b5a2426eaf0f887f3784df1b",
       "version_major": 2,
       "version_minor": 0
      },
      "text/plain": [
       "Epoch: 55:   0%|          | 0/56 [00:00<?, ?it/s]"
      ]
     },
     "metadata": {},
     "output_type": "display_data"
    },
    {
     "name": "stdout",
     "output_type": "stream",
     "text": [
      "Epoch num : 55, Train Loss : 0.0026098720263689756, Train Acc : 38.00,\n",
      "        Val Loss : 0.02071419730782509, Val Acc 82.29\n"
     ]
    },
    {
     "data": {
      "application/vnd.jupyter.widget-view+json": {
       "model_id": "512e0d8179a541f3acb0eb7a2055c1fb",
       "version_major": 2,
       "version_minor": 0
      },
      "text/plain": [
       "Epoch: 56:   0%|          | 0/56 [00:00<?, ?it/s]"
      ]
     },
     "metadata": {},
     "output_type": "display_data"
    },
    {
     "name": "stdout",
     "output_type": "stream",
     "text": [
      "Epoch num : 56, Train Loss : 0.0028245316352695227, Train Acc : 39.56,\n",
      "        Val Loss : 0.019267737865447998, Val Acc 92.01\n"
     ]
    },
    {
     "data": {
      "application/vnd.jupyter.widget-view+json": {
       "model_id": "eb4e0f9323d84b378f2da104963752b3",
       "version_major": 2,
       "version_minor": 0
      },
      "text/plain": [
       "Epoch: 57:   0%|          | 0/56 [00:00<?, ?it/s]"
      ]
     },
     "metadata": {},
     "output_type": "display_data"
    },
    {
     "name": "stdout",
     "output_type": "stream",
     "text": [
      "Epoch num : 57, Train Loss : 0.0025929890107363462, Train Acc : 35.32,\n",
      "        Val Loss : 0.017904475331306458, Val Acc 94.10\n"
     ]
    },
    {
     "data": {
      "application/vnd.jupyter.widget-view+json": {
       "model_id": "1d11df1bd95b4ad18245b6e3b9ab46ac",
       "version_major": 2,
       "version_minor": 0
      },
      "text/plain": [
       "Epoch: 58:   0%|          | 0/56 [00:00<?, ?it/s]"
      ]
     },
     "metadata": {},
     "output_type": "display_data"
    },
    {
     "name": "stdout",
     "output_type": "stream",
     "text": [
      "Epoch num : 58, Train Loss : 0.002648640191182494, Train Acc : 38.36,\n",
      "        Val Loss : 0.020344752818346024, Val Acc 81.60\n"
     ]
    },
    {
     "data": {
      "application/vnd.jupyter.widget-view+json": {
       "model_id": "c34c9a2575114fa5aee01e515ca2ee8d",
       "version_major": 2,
       "version_minor": 0
      },
      "text/plain": [
       "Epoch: 59:   0%|          | 0/56 [00:00<?, ?it/s]"
      ]
     },
     "metadata": {},
     "output_type": "display_data"
    },
    {
     "name": "stdout",
     "output_type": "stream",
     "text": [
      "Epoch num : 59, Train Loss : 0.0026107809972018003, Train Acc : 37.31,\n",
      "        Val Loss : 0.022322986274957657, Val Acc 74.65\n"
     ]
    },
    {
     "data": {
      "application/vnd.jupyter.widget-view+json": {
       "model_id": "41eabf1e90c94430a2e5dbc41de8a542",
       "version_major": 2,
       "version_minor": 0
      },
      "text/plain": [
       "Epoch: 60:   0%|          | 0/56 [00:00<?, ?it/s]"
      ]
     },
     "metadata": {},
     "output_type": "display_data"
    },
    {
     "name": "stdout",
     "output_type": "stream",
     "text": [
      "Epoch num : 60, Train Loss : 0.0026591832283884287, Train Acc : 37.91,\n",
      "        Val Loss : 0.01755666919052601, Val Acc 93.40\n"
     ]
    },
    {
     "data": {
      "application/vnd.jupyter.widget-view+json": {
       "model_id": "9d3470abc53e4bcab7175ee935e4d42e",
       "version_major": 2,
       "version_minor": 0
      },
      "text/plain": [
       "Epoch: 61:   0%|          | 0/56 [00:00<?, ?it/s]"
      ]
     },
     "metadata": {},
     "output_type": "display_data"
    },
    {
     "name": "stdout",
     "output_type": "stream",
     "text": [
      "Epoch num : 61, Train Loss : 0.002705266699194908, Train Acc : 37.95,\n",
      "        Val Loss : 0.02159781940281391, Val Acc 74.31\n"
     ]
    },
    {
     "data": {
      "application/vnd.jupyter.widget-view+json": {
       "model_id": "8c4013e4451f47f2863810638d938a4f",
       "version_major": 2,
       "version_minor": 0
      },
      "text/plain": [
       "Epoch: 62:   0%|          | 0/56 [00:00<?, ?it/s]"
      ]
     },
     "metadata": {},
     "output_type": "display_data"
    },
    {
     "name": "stdout",
     "output_type": "stream",
     "text": [
      "Epoch num : 62, Train Loss : 0.002599661471322179, Train Acc : 34.77,\n",
      "        Val Loss : 0.019404428079724312, Val Acc 90.62\n"
     ]
    },
    {
     "data": {
      "application/vnd.jupyter.widget-view+json": {
       "model_id": "563d13509c7f4ec482b4587526fa4efc",
       "version_major": 2,
       "version_minor": 0
      },
      "text/plain": [
       "Epoch: 63:   0%|          | 0/56 [00:00<?, ?it/s]"
      ]
     },
     "metadata": {},
     "output_type": "display_data"
    },
    {
     "name": "stdout",
     "output_type": "stream",
     "text": [
      "Epoch num : 63, Train Loss : 0.002773211570456624, Train Acc : 39.01,\n",
      "        Val Loss : 0.019139442592859268, Val Acc 92.36\n"
     ]
    },
    {
     "data": {
      "application/vnd.jupyter.widget-view+json": {
       "model_id": "c83e7d9ea5a442439530bdee34afd4e2",
       "version_major": 2,
       "version_minor": 0
      },
      "text/plain": [
       "Epoch: 64:   0%|          | 0/56 [00:00<?, ?it/s]"
      ]
     },
     "metadata": {},
     "output_type": "display_data"
    },
    {
     "name": "stdout",
     "output_type": "stream",
     "text": [
      "Epoch num : 64, Train Loss : 0.002553259953856468, Train Acc : 36.46,\n",
      "        Val Loss : 0.0179208442568779, Val Acc 89.24\n"
     ]
    },
    {
     "data": {
      "application/vnd.jupyter.widget-view+json": {
       "model_id": "f57da6ab28b8493193f17e5a3eaae869",
       "version_major": 2,
       "version_minor": 0
      },
      "text/plain": [
       "Epoch: 65:   0%|          | 0/56 [00:00<?, ?it/s]"
      ]
     },
     "metadata": {},
     "output_type": "display_data"
    },
    {
     "name": "stdout",
     "output_type": "stream",
     "text": [
      "Epoch num : 65, Train Loss : 0.0025878283195197582, Train Acc : 39.03,\n",
      "        Val Loss : 0.02151329070329666, Val Acc 71.88\n"
     ]
    },
    {
     "data": {
      "application/vnd.jupyter.widget-view+json": {
       "model_id": "08b263efd42940398d39ae5d868e8ede",
       "version_major": 2,
       "version_minor": 0
      },
      "text/plain": [
       "Epoch: 66:   0%|          | 0/56 [00:00<?, ?it/s]"
      ]
     },
     "metadata": {},
     "output_type": "display_data"
    },
    {
     "name": "stdout",
     "output_type": "stream",
     "text": [
      "Epoch num : 66, Train Loss : 0.0023887029383331537, Train Acc : 38.06,\n",
      "        Val Loss : 0.0187639519572258, Val Acc 89.93\n"
     ]
    },
    {
     "data": {
      "application/vnd.jupyter.widget-view+json": {
       "model_id": "fa4001335b2b41e8b2cc52c7f541fc9b",
       "version_major": 2,
       "version_minor": 0
      },
      "text/plain": [
       "Epoch: 67:   0%|          | 0/56 [00:00<?, ?it/s]"
      ]
     },
     "metadata": {},
     "output_type": "display_data"
    },
    {
     "name": "stdout",
     "output_type": "stream",
     "text": [
      "Epoch num : 67, Train Loss : 0.0024826175067573786, Train Acc : 37.50,\n",
      "        Val Loss : 0.021639466285705566, Val Acc 73.96\n"
     ]
    },
    {
     "data": {
      "application/vnd.jupyter.widget-view+json": {
       "model_id": "9c83a4af4ed64cf49bb8bf58619218b7",
       "version_major": 2,
       "version_minor": 0
      },
      "text/plain": [
       "Epoch: 68:   0%|          | 0/56 [00:00<?, ?it/s]"
      ]
     },
     "metadata": {},
     "output_type": "display_data"
    },
    {
     "name": "stdout",
     "output_type": "stream",
     "text": [
      "Epoch num : 68, Train Loss : 0.002559459302574396, Train Acc : 39.30,\n",
      "        Val Loss : 0.018812375143170357, Val Acc 88.89\n"
     ]
    },
    {
     "data": {
      "application/vnd.jupyter.widget-view+json": {
       "model_id": "4f632333ee1c4e97bcb54b3be4da7cd8",
       "version_major": 2,
       "version_minor": 0
      },
      "text/plain": [
       "Epoch: 69:   0%|          | 0/56 [00:00<?, ?it/s]"
      ]
     },
     "metadata": {},
     "output_type": "display_data"
    },
    {
     "name": "stdout",
     "output_type": "stream",
     "text": [
      "Epoch num : 69, Train Loss : 0.0024534985423088074, Train Acc : 40.22,\n",
      "        Val Loss : 0.01624622568488121, Val Acc 87.85\n"
     ]
    },
    {
     "data": {
      "application/vnd.jupyter.widget-view+json": {
       "model_id": "d20262cda03d431dab365a2e34af2798",
       "version_major": 2,
       "version_minor": 0
      },
      "text/plain": [
       "Epoch: 70:   0%|          | 0/56 [00:00<?, ?it/s]"
      ]
     },
     "metadata": {},
     "output_type": "display_data"
    },
    {
     "name": "stdout",
     "output_type": "stream",
     "text": [
      "Epoch num : 70, Train Loss : 0.0024818230886012316, Train Acc : 39.40,\n",
      "        Val Loss : 0.022380812093615532, Val Acc 75.00\n"
     ]
    },
    {
     "data": {
      "application/vnd.jupyter.widget-view+json": {
       "model_id": "1083251ca6c14e118e3c7af7551b94f9",
       "version_major": 2,
       "version_minor": 0
      },
      "text/plain": [
       "Epoch: 71:   0%|          | 0/56 [00:00<?, ?it/s]"
      ]
     },
     "metadata": {},
     "output_type": "display_data"
    },
    {
     "name": "stdout",
     "output_type": "stream",
     "text": [
      "Epoch num : 71, Train Loss : 0.002376740565523505, Train Acc : 41.69,\n",
      "        Val Loss : 0.018533669412136078, Val Acc 85.07\n"
     ]
    },
    {
     "data": {
      "application/vnd.jupyter.widget-view+json": {
       "model_id": "1b834bae9d144945bf9061239f958b78",
       "version_major": 2,
       "version_minor": 0
      },
      "text/plain": [
       "Epoch: 72:   0%|          | 0/56 [00:00<?, ?it/s]"
      ]
     },
     "metadata": {},
     "output_type": "display_data"
    },
    {
     "name": "stdout",
     "output_type": "stream",
     "text": [
      "Epoch num : 72, Train Loss : 0.002328572329133749, Train Acc : 42.97,\n",
      "        Val Loss : 0.01879514940083027, Val Acc 83.68\n"
     ]
    },
    {
     "data": {
      "application/vnd.jupyter.widget-view+json": {
       "model_id": "075d4dffd1c34a20a68c4655b587ea21",
       "version_major": 2,
       "version_minor": 0
      },
      "text/plain": [
       "Epoch: 73:   0%|          | 0/56 [00:00<?, ?it/s]"
      ]
     },
     "metadata": {},
     "output_type": "display_data"
    },
    {
     "name": "stdout",
     "output_type": "stream",
     "text": [
      "Epoch num : 73, Train Loss : 0.002375619485974312, Train Acc : 39.03,\n",
      "        Val Loss : 0.018045062199234962, Val Acc 85.76\n"
     ]
    },
    {
     "data": {
      "application/vnd.jupyter.widget-view+json": {
       "model_id": "0521dab469c54e63a779b7c9b97ae834",
       "version_major": 2,
       "version_minor": 0
      },
      "text/plain": [
       "Epoch: 74:   0%|          | 0/56 [00:00<?, ?it/s]"
      ]
     },
     "metadata": {},
     "output_type": "display_data"
    },
    {
     "name": "stdout",
     "output_type": "stream",
     "text": [
      "Epoch num : 74, Train Loss : 0.002369013149291277, Train Acc : 37.89,\n",
      "        Val Loss : 0.01661175675690174, Val Acc 92.36\n"
     ]
    },
    {
     "data": {
      "application/vnd.jupyter.widget-view+json": {
       "model_id": "0b98ed2cad2c4bde89cce2112700dbd8",
       "version_major": 2,
       "version_minor": 0
      },
      "text/plain": [
       "Epoch: 75:   0%|          | 0/56 [00:00<?, ?it/s]"
      ]
     },
     "metadata": {},
     "output_type": "display_data"
    },
    {
     "name": "stdout",
     "output_type": "stream",
     "text": [
      "Epoch num : 75, Train Loss : 0.002286833245307207, Train Acc : 38.19,\n",
      "        Val Loss : 0.02011546865105629, Val Acc 81.25\n"
     ]
    },
    {
     "data": {
      "application/vnd.jupyter.widget-view+json": {
       "model_id": "a1cb107bd73f471d8ab1334f21cc8ae4",
       "version_major": 2,
       "version_minor": 0
      },
      "text/plain": [
       "Epoch: 76:   0%|          | 0/56 [00:00<?, ?it/s]"
      ]
     },
     "metadata": {},
     "output_type": "display_data"
    },
    {
     "name": "stdout",
     "output_type": "stream",
     "text": [
      "Epoch num : 76, Train Loss : 0.0022248730529099703, Train Acc : 36.87,\n",
      "        Val Loss : 0.01981879584491253, Val Acc 81.94\n"
     ]
    },
    {
     "data": {
      "application/vnd.jupyter.widget-view+json": {
       "model_id": "6e7a096a85d6476883580d209ced5190",
       "version_major": 2,
       "version_minor": 0
      },
      "text/plain": [
       "Epoch: 77:   0%|          | 0/56 [00:00<?, ?it/s]"
      ]
     },
     "metadata": {},
     "output_type": "display_data"
    },
    {
     "name": "stdout",
     "output_type": "stream",
     "text": [
      "Epoch num : 77, Train Loss : 0.0022209377493709326, Train Acc : 39.68,\n",
      "        Val Loss : 0.016025934368371964, Val Acc 89.93\n"
     ]
    },
    {
     "data": {
      "application/vnd.jupyter.widget-view+json": {
       "model_id": "2ebccb6427d24b618a6deb7c6a03b3b7",
       "version_major": 2,
       "version_minor": 0
      },
      "text/plain": [
       "Epoch: 78:   0%|          | 0/56 [00:00<?, ?it/s]"
      ]
     },
     "metadata": {},
     "output_type": "display_data"
    },
    {
     "name": "stdout",
     "output_type": "stream",
     "text": [
      "Epoch num : 78, Train Loss : 0.002170528518036008, Train Acc : 38.39,\n",
      "        Val Loss : 0.020799623802304268, Val Acc 81.25\n"
     ]
    },
    {
     "data": {
      "application/vnd.jupyter.widget-view+json": {
       "model_id": "318537234f774871b7a4ab120a674c5c",
       "version_major": 2,
       "version_minor": 0
      },
      "text/plain": [
       "Epoch: 79:   0%|          | 0/56 [00:00<?, ?it/s]"
      ]
     },
     "metadata": {},
     "output_type": "display_data"
    },
    {
     "name": "stdout",
     "output_type": "stream",
     "text": [
      "Epoch num : 79, Train Loss : 0.002396484138444066, Train Acc : 39.97,\n",
      "        Val Loss : 0.01919947750866413, Val Acc 81.94\n"
     ]
    },
    {
     "data": {
      "application/vnd.jupyter.widget-view+json": {
       "model_id": "083a9d59b6b841ada5722747b3d1a1cc",
       "version_major": 2,
       "version_minor": 0
      },
      "text/plain": [
       "Epoch: 80:   0%|          | 0/56 [00:00<?, ?it/s]"
      ]
     },
     "metadata": {},
     "output_type": "display_data"
    },
    {
     "name": "stdout",
     "output_type": "stream",
     "text": [
      "Epoch num : 80, Train Loss : 0.0023139596451073885, Train Acc : 41.37,\n",
      "        Val Loss : 0.019472312182188034, Val Acc 80.90\n"
     ]
    },
    {
     "data": {
      "application/vnd.jupyter.widget-view+json": {
       "model_id": "1bc9a0eacf164c95b67eb020f03eae92",
       "version_major": 2,
       "version_minor": 0
      },
      "text/plain": [
       "Epoch: 81:   0%|          | 0/56 [00:00<?, ?it/s]"
      ]
     },
     "metadata": {},
     "output_type": "display_data"
    },
    {
     "name": "stdout",
     "output_type": "stream",
     "text": [
      "Epoch num : 81, Train Loss : 0.002201117342337966, Train Acc : 37.33,\n",
      "        Val Loss : 0.018387092277407646, Val Acc 78.12\n"
     ]
    },
    {
     "data": {
      "application/vnd.jupyter.widget-view+json": {
       "model_id": "c3d1887f30274aa9abcfde76e70138aa",
       "version_major": 2,
       "version_minor": 0
      },
      "text/plain": [
       "Epoch: 82:   0%|          | 0/56 [00:00<?, ?it/s]"
      ]
     },
     "metadata": {},
     "output_type": "display_data"
    },
    {
     "name": "stdout",
     "output_type": "stream",
     "text": [
      "Epoch num : 82, Train Loss : 0.0023831906728446484, Train Acc : 36.89,\n",
      "        Val Loss : 0.015509999357163906, Val Acc 97.57\n"
     ]
    },
    {
     "data": {
      "application/vnd.jupyter.widget-view+json": {
       "model_id": "3b3bb1c92fda4812a7c679d8b517da99",
       "version_major": 2,
       "version_minor": 0
      },
      "text/plain": [
       "Epoch: 83:   0%|          | 0/56 [00:00<?, ?it/s]"
      ]
     },
     "metadata": {},
     "output_type": "display_data"
    },
    {
     "name": "stdout",
     "output_type": "stream",
     "text": [
      "Epoch num : 83, Train Loss : 0.00213835621252656, Train Acc : 42.47,\n",
      "        Val Loss : 0.018651586025953293, Val Acc 80.56\n"
     ]
    },
    {
     "data": {
      "application/vnd.jupyter.widget-view+json": {
       "model_id": "d19c52aeea9146999f417c3570d23f1d",
       "version_major": 2,
       "version_minor": 0
      },
      "text/plain": [
       "Epoch: 84:   0%|          | 0/56 [00:00<?, ?it/s]"
      ]
     },
     "metadata": {},
     "output_type": "display_data"
    },
    {
     "name": "stdout",
     "output_type": "stream",
     "text": [
      "Epoch num : 84, Train Loss : 0.0020839867647737265, Train Acc : 40.27,\n",
      "        Val Loss : 0.02117704041302204, Val Acc 78.47\n"
     ]
    },
    {
     "data": {
      "application/vnd.jupyter.widget-view+json": {
       "model_id": "fd0ee6b2185d4a04b4407af9e37f80ee",
       "version_major": 2,
       "version_minor": 0
      },
      "text/plain": [
       "Epoch: 85:   0%|          | 0/56 [00:00<?, ?it/s]"
      ]
     },
     "metadata": {},
     "output_type": "display_data"
    },
    {
     "name": "stdout",
     "output_type": "stream",
     "text": [
      "Epoch num : 85, Train Loss : 0.002206782577559352, Train Acc : 38.91,\n",
      "        Val Loss : 0.01942814700305462, Val Acc 79.86\n"
     ]
    },
    {
     "data": {
      "application/vnd.jupyter.widget-view+json": {
       "model_id": "a0397452bb5641d5892db7d14b17f0aa",
       "version_major": 2,
       "version_minor": 0
      },
      "text/plain": [
       "Epoch: 86:   0%|          | 0/56 [00:00<?, ?it/s]"
      ]
     },
     "metadata": {},
     "output_type": "display_data"
    },
    {
     "name": "stdout",
     "output_type": "stream",
     "text": [
      "Epoch num : 86, Train Loss : 0.0023135754745453596, Train Acc : 36.07,\n",
      "        Val Loss : 0.018392331898212433, Val Acc 79.51\n"
     ]
    },
    {
     "data": {
      "application/vnd.jupyter.widget-view+json": {
       "model_id": "bb48dd2e30794c448946d3a147a9fc5a",
       "version_major": 2,
       "version_minor": 0
      },
      "text/plain": [
       "Epoch: 87:   0%|          | 0/56 [00:00<?, ?it/s]"
      ]
     },
     "metadata": {},
     "output_type": "display_data"
    },
    {
     "name": "stdout",
     "output_type": "stream",
     "text": [
      "Epoch num : 87, Train Loss : 0.002203733893111348, Train Acc : 39.58,\n",
      "        Val Loss : 0.020426437258720398, Val Acc 79.51\n"
     ]
    },
    {
     "data": {
      "application/vnd.jupyter.widget-view+json": {
       "model_id": "84dd6273d3b346708305a0b8fbb46377",
       "version_major": 2,
       "version_minor": 0
      },
      "text/plain": [
       "Epoch: 88:   0%|          | 0/56 [00:00<?, ?it/s]"
      ]
     },
     "metadata": {},
     "output_type": "display_data"
    },
    {
     "name": "stdout",
     "output_type": "stream",
     "text": [
      "Epoch num : 88, Train Loss : 0.002132737310603261, Train Acc : 42.54,\n",
      "        Val Loss : 0.018844163045287132, Val Acc 79.86\n"
     ]
    },
    {
     "data": {
      "application/vnd.jupyter.widget-view+json": {
       "model_id": "de47d94faf474f9fb6f3ab1e079123a3",
       "version_major": 2,
       "version_minor": 0
      },
      "text/plain": [
       "Epoch: 89:   0%|          | 0/56 [00:00<?, ?it/s]"
      ]
     },
     "metadata": {},
     "output_type": "display_data"
    },
    {
     "name": "stdout",
     "output_type": "stream",
     "text": [
      "Epoch num : 89, Train Loss : 0.0021401767153292894, Train Acc : 39.14,\n",
      "        Val Loss : 0.0173189714550972, Val Acc 87.50\n"
     ]
    },
    {
     "data": {
      "application/vnd.jupyter.widget-view+json": {
       "model_id": "a4213dfccc734c158f2cf1cca43821d0",
       "version_major": 2,
       "version_minor": 0
      },
      "text/plain": [
       "Epoch: 90:   0%|          | 0/56 [00:00<?, ?it/s]"
      ]
     },
     "metadata": {},
     "output_type": "display_data"
    },
    {
     "name": "stdout",
     "output_type": "stream",
     "text": [
      "Epoch num : 90, Train Loss : 0.002121336990967393, Train Acc : 41.48,\n",
      "        Val Loss : 0.01962585188448429, Val Acc 74.65\n"
     ]
    },
    {
     "data": {
      "application/vnd.jupyter.widget-view+json": {
       "model_id": "cac40a0ceb124c97b18acbf7369bc4eb",
       "version_major": 2,
       "version_minor": 0
      },
      "text/plain": [
       "Epoch: 91:   0%|          | 0/56 [00:00<?, ?it/s]"
      ]
     },
     "metadata": {},
     "output_type": "display_data"
    },
    {
     "name": "stdout",
     "output_type": "stream",
     "text": [
      "Epoch num : 91, Train Loss : 0.002156180562451482, Train Acc : 41.13,\n",
      "        Val Loss : 0.02131475694477558, Val Acc 81.60\n"
     ]
    },
    {
     "data": {
      "application/vnd.jupyter.widget-view+json": {
       "model_id": "7560ade86cec42d0b6434907698b1614",
       "version_major": 2,
       "version_minor": 0
      },
      "text/plain": [
       "Epoch: 92:   0%|          | 0/56 [00:00<?, ?it/s]"
      ]
     },
     "metadata": {},
     "output_type": "display_data"
    },
    {
     "name": "stdout",
     "output_type": "stream",
     "text": [
      "Epoch num : 92, Train Loss : 0.002205337630584836, Train Acc : 41.72,\n",
      "        Val Loss : 0.02198738045990467, Val Acc 75.35\n"
     ]
    },
    {
     "data": {
      "application/vnd.jupyter.widget-view+json": {
       "model_id": "07ab77624fae4e7485be892bc10c53bf",
       "version_major": 2,
       "version_minor": 0
      },
      "text/plain": [
       "Epoch: 93:   0%|          | 0/56 [00:00<?, ?it/s]"
      ]
     },
     "metadata": {},
     "output_type": "display_data"
    },
    {
     "name": "stdout",
     "output_type": "stream",
     "text": [
      "Epoch num : 93, Train Loss : 0.0021523619070649147, Train Acc : 41.59,\n",
      "        Val Loss : 0.015962466597557068, Val Acc 97.92\n"
     ]
    },
    {
     "data": {
      "application/vnd.jupyter.widget-view+json": {
       "model_id": "2d43e79fff694c7fa3f142213e05d69c",
       "version_major": 2,
       "version_minor": 0
      },
      "text/plain": [
       "Epoch: 94:   0%|          | 0/56 [00:00<?, ?it/s]"
      ]
     },
     "metadata": {},
     "output_type": "display_data"
    },
    {
     "name": "stdout",
     "output_type": "stream",
     "text": [
      "Epoch num : 94, Train Loss : 0.0020507252775132656, Train Acc : 40.48,\n",
      "        Val Loss : 0.02107442356646061, Val Acc 79.86\n"
     ]
    },
    {
     "data": {
      "application/vnd.jupyter.widget-view+json": {
       "model_id": "46e46ca8131044b5ad604e506c09a42e",
       "version_major": 2,
       "version_minor": 0
      },
      "text/plain": [
       "Epoch: 95:   0%|          | 0/56 [00:00<?, ?it/s]"
      ]
     },
     "metadata": {},
     "output_type": "display_data"
    },
    {
     "name": "stdout",
     "output_type": "stream",
     "text": [
      "Epoch num : 95, Train Loss : 0.002246736316010356, Train Acc : 39.71,\n",
      "        Val Loss : 0.017316259443759918, Val Acc 83.33\n"
     ]
    },
    {
     "data": {
      "application/vnd.jupyter.widget-view+json": {
       "model_id": "dd265558db814e3c985a37431e76800a",
       "version_major": 2,
       "version_minor": 0
      },
      "text/plain": [
       "Epoch: 96:   0%|          | 0/56 [00:00<?, ?it/s]"
      ]
     },
     "metadata": {},
     "output_type": "display_data"
    },
    {
     "name": "stdout",
     "output_type": "stream",
     "text": [
      "Epoch num : 96, Train Loss : 0.0022279354743659496, Train Acc : 41.67,\n",
      "        Val Loss : 0.01633591018617153, Val Acc 87.15\n"
     ]
    },
    {
     "data": {
      "application/vnd.jupyter.widget-view+json": {
       "model_id": "214fcf8c5a794a9c8f688d710a02f91b",
       "version_major": 2,
       "version_minor": 0
      },
      "text/plain": [
       "Epoch: 97:   0%|          | 0/56 [00:00<?, ?it/s]"
      ]
     },
     "metadata": {},
     "output_type": "display_data"
    },
    {
     "name": "stdout",
     "output_type": "stream",
     "text": [
      "Epoch num : 97, Train Loss : 0.00219947868026793, Train Acc : 39.19,\n",
      "        Val Loss : 0.018489452078938484, Val Acc 85.07\n"
     ]
    },
    {
     "data": {
      "application/vnd.jupyter.widget-view+json": {
       "model_id": "d36f2f3528534e0b9b089522be52627f",
       "version_major": 2,
       "version_minor": 0
      },
      "text/plain": [
       "Epoch: 98:   0%|          | 0/56 [00:00<?, ?it/s]"
      ]
     },
     "metadata": {},
     "output_type": "display_data"
    },
    {
     "name": "stdout",
     "output_type": "stream",
     "text": [
      "Epoch num : 98, Train Loss : 0.002050680574029684, Train Acc : 41.31,\n",
      "        Val Loss : 0.015926016494631767, Val Acc 94.79\n"
     ]
    },
    {
     "data": {
      "application/vnd.jupyter.widget-view+json": {
       "model_id": "ca4bd4a4e2064a90baa468840ce03a1e",
       "version_major": 2,
       "version_minor": 0
      },
      "text/plain": [
       "Epoch: 99:   0%|          | 0/56 [00:00<?, ?it/s]"
      ]
     },
     "metadata": {},
     "output_type": "display_data"
    },
    {
     "name": "stdout",
     "output_type": "stream",
     "text": [
      "Epoch num : 99, Train Loss : 0.0021160345058888197, Train Acc : 39.36,\n",
      "        Val Loss : 0.017085302621126175, Val Acc 89.24\n"
     ]
    },
    {
     "data": {
      "application/vnd.jupyter.widget-view+json": {
       "model_id": "a27fc9e691db41ed814899f0c3bff792",
       "version_major": 2,
       "version_minor": 0
      },
      "text/plain": [
       "Epoch: 100:   0%|          | 0/56 [00:00<?, ?it/s]"
      ]
     },
     "metadata": {},
     "output_type": "display_data"
    },
    {
     "name": "stdout",
     "output_type": "stream",
     "text": [
      "Epoch num : 100, Train Loss : 0.002001673448830843, Train Acc : 41.02,\n",
      "        Val Loss : 0.015348032116889954, Val Acc 88.54\n"
     ]
    }
   ],
   "source": [
    "train_acc_total = []\n",
    "val_acc_total = []\n",
    "train_loss_total = []\n",
    "val_loss_total = []\n",
    "\n",
    "for epoch in range(EPOCHS):\n",
    "\n",
    "    train_loss, train_acc = train_network(\n",
    "        network, trainloader, optimizer, loss_fn, epoch + 1\n",
    "    )\n",
    "\n",
    "    test_loss, test_acc = evaluate_network(network, valloader, optimizer, loss_fn)\n",
    "    train_acc_total.append(train_acc)\n",
    "    train_loss_total.append(train_loss.detach())\n",
    "    val_acc_total.append(test_acc)\n",
    "    val_loss_total.append(test_loss.detach())\n",
    "\n",
    "    print(\n",
    "        f\"\"\"Epoch num : {epoch + 1}, Train Loss : {train_loss}, Train Acc : {train_acc*100:.2f},\n",
    "        Val Loss : {test_loss}, Val Acc {test_acc*100:.2f}\"\"\"\n",
    "    )"
   ]
  },
  {
   "cell_type": "code",
   "execution_count": 77,
   "metadata": {
    "colab": {
     "base_uri": "https://localhost:8080/",
     "height": 522
    },
    "id": "zxGih9pmOzZF",
    "outputId": "e1f44cfe-9967-4be6-8407-86ce759a64dd"
   },
   "outputs": [
    {
     "data": {
      "image/png": "[encoded data removed]",
      "text/plain": [
       "<Figure size 1000x600 with 2 Axes>"
      ]
     },
     "metadata": {},
     "output_type": "display_data"
    }
   ],
   "source": [
    "plt.figure(figsize=(10,6))\n",
    "\n",
    "plt.subplot(2,1,1)\n",
    "plt.plot(train_acc_total, label = \"Train Acc\")\n",
    "plt.plot(val_acc_total, label = \"Val Acc\")\n",
    "plt.legend()\n",
    "\n",
    "plt.subplot(2,1,2)\n",
    "plt.plot(train_loss_total, label=\"Train Loss\")\n",
    "plt.plot(val_loss_total, label=\"Val Loss\")\n",
    "plt.legend()\n",
    "\n",
    "plt.show()"
   ]
  }
 ],
 "metadata": {
  "accelerator": "GPU",
  "colab": {
   "gpuType": "T4",
   "provenance": [],
   "toc_visible": true
  },
  "kernelspec": {
   "display_name": "Python 3",
   "name": "python3"
  },
  "language_info": {
   "codemirror_mode": {
    "name": "ipython",
    "version": 3
   },
   "file_extension": ".py",
   "mimetype": "text/x-python",
   "name": "python",
   "nbconvert_exporter": "python",
   "pygments_lexer": "ipython3",
   "version": "3.12.3"
  },
  "metadata": {
   "interpreter": {
    "hash": "63fd5069d213b44bf678585dea6b12cceca9941eaf7f819626cde1f2670de90d"
   }
  },
  "widgets": {
   "application/vnd.jupyter.widget-state+json": {
    "0632e482c99748ee96ee97c293aae2f5": {
     "model_module": "@jupyter-widgets/controls",
     "model_module_version": "1.5.0",
     "model_name": "DescriptionStyleModel",
     "state": {
      "_model_module": "@jupyter-widgets/controls",
      "_model_module_version": "1.5.0",
      "_model_name": "DescriptionStyleModel",
      "_view_count": null,
      "_view_module": "@jupyter-widgets/base",
      "_view_module_version": "1.2.0",
      "_view_name": "StyleView",
      "description_width": ""
     }
    },
    "0b0044d9f2354383b62d7fe6b781db94": {
     "model_module": "@jupyter-widgets/base",
     "model_module_version": "1.2.0",
     "model_name": "LayoutModel",
     "state": {
      "_model_module": "@jupyter-widgets/base",
      "_model_module_version": "1.2.0",
      "_model_name": "LayoutModel",
      "_view_count": null,
      "_view_module": "@jupyter-widgets/base",
      "_view_module_version": "1.2.0",
      "_view_name": "LayoutView",
      "align_content": null,
      "align_items": null,
      "align_self": null,
      "border": null,
      "bottom": null,
      "display": null,
      "flex": null,
      "flex_flow": null,
      "grid_area": null,
      "grid_auto_columns": null,
      "grid_auto_flow": null,
      "grid_auto_rows": null,
      "grid_column": null,
      "grid_gap": null,
      "grid_row": null,
      "grid_template_areas": null,
      "grid_template_columns": null,
      "grid_template_rows": null,
      "height": null,
      "justify_content": null,
      "justify_items": null,
      "left": null,
      "margin": null,
      "max_height": null,
      "max_width": null,
      "min_height": null,
      "min_width": null,
      "object_fit": null,
      "object_position": null,
      "order": null,
      "overflow": null,
      "overflow_x": null,
      "overflow_y": null,
      "padding": null,
      "right": null,
      "top": null,
      "visibility": null,
      "width": null
     }
    },
    "0c8cb4359a0643cfac78069d1891007c": {
     "model_module": "@jupyter-widgets/base",
     "model_module_version": "1.2.0",
     "model_name": "LayoutModel",
     "state": {
      "_model_module": "@jupyter-widgets/base",
      "_model_module_version": "1.2.0",
      "_model_name": "LayoutModel",
      "_view_count": null,
      "_view_module": "@jupyter-widgets/base",
      "_view_module_version": "1.2.0",
      "_view_name": "LayoutView",
      "align_content": null,
      "align_items": null,
      "align_self": null,
      "border": null,
      "bottom": null,
      "display": null,
      "flex": null,
      "flex_flow": null,
      "grid_area": null,
      "grid_auto_columns": null,
      "grid_auto_flow": null,
      "grid_auto_rows": null,
      "grid_column": null,
      "grid_gap": null,
      "grid_row": null,
      "grid_template_areas": null,
      "grid_template_columns": null,
      "grid_template_rows": null,
      "height": null,
      "justify_content": null,
      "justify_items": null,
      "left": null,
      "margin": null,
      "max_height": null,
      "max_width": null,
      "min_height": null,
      "min_width": null,
      "object_fit": null,
      "object_position": null,
      "order": null,
      "overflow": null,
      "overflow_x": null,
      "overflow_y": null,
      "padding": null,
      "right": null,
      "top": null,
      "visibility": null,
      "width": null
     }
    },
    "0d0eb5a530c745cea0db545c7c8c3b19": {
     "model_module": "@jupyter-widgets/controls",
     "model_module_version": "1.5.0",
     "model_name": "HTMLModel",
     "state": {
      "_dom_classes": [],
      "_model_module": "@jupyter-widgets/controls",
      "_model_module_version": "1.5.0",
      "_model_name": "HTMLModel",
      "_view_count": null,
      "_view_module": "@jupyter-widgets/controls",
      "_view_module_version": "1.5.0",
      "_view_name": "HTMLView",
      "description": "",
      "description_tooltip": null,
      "layout": "IPY_MODEL_41437c99f4be4e7d930ec343000a8d53",
      "placeholder": "​",
      "style": "IPY_MODEL_b75400eae4c64d9990dbb9f5d9b0bc82",
      "value": "Epoch: 1: 100%"
     }
    },
    "20d340bc639d466f9d2f8c520638c638": {
     "model_module": "@jupyter-widgets/controls",
     "model_module_version": "1.5.0",
     "model_name": "DescriptionStyleModel",
     "state": {
      "_model_module": "@jupyter-widgets/controls",
      "_model_module_version": "1.5.0",
      "_model_name": "DescriptionStyleModel",
      "_view_count": null,
      "_view_module": "@jupyter-widgets/base",
      "_view_module_version": "1.2.0",
      "_view_name": "StyleView",
      "description_width": ""
     }
    },
    "2f433600f83348db9543f03396a3b71e": {
     "model_module": "@jupyter-widgets/controls",
     "model_module_version": "1.5.0",
     "model_name": "HTMLModel",
     "state": {
      "_dom_classes": [],
      "_model_module": "@jupyter-widgets/controls",
      "_model_module_version": "1.5.0",
      "_model_name": "HTMLModel",
      "_view_count": null,
      "_view_module": "@jupyter-widgets/controls",
      "_view_module_version": "1.5.0",
      "_view_name": "HTMLView",
      "description": "",
      "description_tooltip": null,
      "layout": "IPY_MODEL_658e91f553d049efb1be550ba4f62bdf",
      "placeholder": "​",
      "style": "IPY_MODEL_0632e482c99748ee96ee97c293aae2f5",
      "value": " 2992/2992 [01:30&lt;00:00, 31.41it/s]"
     }
    },
    "375fe332d8554d359ea90446e31cecec": {
     "model_module": "@jupyter-widgets/base",
     "model_module_version": "1.2.0",
     "model_name": "LayoutModel",
     "state": {
      "_model_module": "@jupyter-widgets/base",
      "_model_module_version": "1.2.0",
      "_model_name": "LayoutModel",
      "_view_count": null,
      "_view_module": "@jupyter-widgets/base",
      "_view_module_version": "1.2.0",
      "_view_name": "LayoutView",
      "align_content": null,
      "align_items": null,
      "align_self": null,
      "border": null,
      "bottom": null,
      "display": null,
      "flex": null,
      "flex_flow": null,
      "grid_area": null,
      "grid_auto_columns": null,
      "grid_auto_flow": null,
      "grid_auto_rows": null,
      "grid_column": null,
      "grid_gap": null,
      "grid_row": null,
      "grid_template_areas": null,
      "grid_template_columns": null,
      "grid_template_rows": null,
      "height": null,
      "justify_content": null,
      "justify_items": null,
      "left": null,
      "margin": null,
      "max_height": null,
      "max_width": null,
      "min_height": null,
      "min_width": null,
      "object_fit": null,
      "object_position": null,
      "order": null,
      "overflow": null,
      "overflow_x": null,
      "overflow_y": null,
      "padding": null,
      "right": null,
      "top": null,
      "visibility": null,
      "width": null
     }
    },
    "38693ef222654f53a889f920ec17c46e": {
     "model_module": "@jupyter-widgets/controls",
     "model_module_version": "1.5.0",
     "model_name": "DescriptionStyleModel",
     "state": {
      "_model_module": "@jupyter-widgets/controls",
      "_model_module_version": "1.5.0",
      "_model_name": "DescriptionStyleModel",
      "_view_count": null,
      "_view_module": "@jupyter-widgets/base",
      "_view_module_version": "1.2.0",
      "_view_name": "StyleView",
      "description_width": ""
     }
    },
    "41437c99f4be4e7d930ec343000a8d53": {
     "model_module": "@jupyter-widgets/base",
     "model_module_version": "1.2.0",
     "model_name": "LayoutModel",
     "state": {
      "_model_module": "@jupyter-widgets/base",
      "_model_module_version": "1.2.0",
      "_model_name": "LayoutModel",
      "_view_count": null,
      "_view_module": "@jupyter-widgets/base",
      "_view_module_version": "1.2.0",
      "_view_name": "LayoutView",
      "align_content": null,
      "align_items": null,
      "align_self": null,
      "border": null,
      "bottom": null,
      "display": null,
      "flex": null,
      "flex_flow": null,
      "grid_area": null,
      "grid_auto_columns": null,
      "grid_auto_flow": null,
      "grid_auto_rows": null,
      "grid_column": null,
      "grid_gap": null,
      "grid_row": null,
      "grid_template_areas": null,
      "grid_template_columns": null,
      "grid_template_rows": null,
      "height": null,
      "justify_content": null,
      "justify_items": null,
      "left": null,
      "margin": null,
      "max_height": null,
      "max_width": null,
      "min_height": null,
      "min_width": null,
      "object_fit": null,
      "object_position": null,
      "order": null,
      "overflow": null,
      "overflow_x": null,
      "overflow_y": null,
      "padding": null,
      "right": null,
      "top": null,
      "visibility": null,
      "width": null
     }
    },
    "472668bc1b1c4ccea8e2731111979c39": {
     "model_module": "@jupyter-widgets/base",
     "model_module_version": "1.2.0",
     "model_name": "LayoutModel",
     "state": {
      "_model_module": "@jupyter-widgets/base",
      "_model_module_version": "1.2.0",
      "_model_name": "LayoutModel",
      "_view_count": null,
      "_view_module": "@jupyter-widgets/base",
      "_view_module_version": "1.2.0",
      "_view_name": "LayoutView",
      "align_content": null,
      "align_items": null,
      "align_self": null,
      "border": null,
      "bottom": null,
      "display": null,
      "flex": null,
      "flex_flow": null,
      "grid_area": null,
      "grid_auto_columns": null,
      "grid_auto_flow": null,
      "grid_auto_rows": null,
      "grid_column": null,
      "grid_gap": null,
      "grid_row": null,
      "grid_template_areas": null,
      "grid_template_columns": null,
      "grid_template_rows": null,
      "height": null,
      "justify_content": null,
      "justify_items": null,
      "left": null,
      "margin": null,
      "max_height": null,
      "max_width": null,
      "min_height": null,
      "min_width": null,
      "object_fit": null,
      "object_position": null,
      "order": null,
      "overflow": null,
      "overflow_x": null,
      "overflow_y": null,
      "padding": null,
      "right": null,
      "top": null,
      "visibility": null,
      "width": null
     }
    },
    "4e3c147646a248a3894c4f90ac0c0e84": {
     "model_module": "@jupyter-widgets/base",
     "model_module_version": "1.2.0",
     "model_name": "LayoutModel",
     "state": {
      "_model_module": "@jupyter-widgets/base",
      "_model_module_version": "1.2.0",
      "_model_name": "LayoutModel",
      "_view_count": null,
      "_view_module": "@jupyter-widgets/base",
      "_view_module_version": "1.2.0",
      "_view_name": "LayoutView",
      "align_content": null,
      "align_items": null,
      "align_self": null,
      "border": null,
      "bottom": null,
      "display": null,
      "flex": null,
      "flex_flow": null,
      "grid_area": null,
      "grid_auto_columns": null,
      "grid_auto_flow": null,
      "grid_auto_rows": null,
      "grid_column": null,
      "grid_gap": null,
      "grid_row": null,
      "grid_template_areas": null,
      "grid_template_columns": null,
      "grid_template_rows": null,
      "height": null,
      "justify_content": null,
      "justify_items": null,
      "left": null,
      "margin": null,
      "max_height": null,
      "max_width": null,
      "min_height": null,
      "min_width": null,
      "object_fit": null,
      "object_position": null,
      "order": null,
      "overflow": null,
      "overflow_x": null,
      "overflow_y": null,
      "padding": null,
      "right": null,
      "top": null,
      "visibility": null,
      "width": null
     }
    },
    "4e8b6c4b360941f9ac07041a9c418e17": {
     "model_module": "@jupyter-widgets/controls",
     "model_module_version": "1.5.0",
     "model_name": "DescriptionStyleModel",
     "state": {
      "_model_module": "@jupyter-widgets/controls",
      "_model_module_version": "1.5.0",
      "_model_name": "DescriptionStyleModel",
      "_view_count": null,
      "_view_module": "@jupyter-widgets/base",
      "_view_module_version": "1.2.0",
      "_view_name": "StyleView",
      "description_width": ""
     }
    },
    "50a4a96740f94ba4a89cbd4aee659a02": {
     "model_module": "@jupyter-widgets/base",
     "model_module_version": "1.2.0",
     "model_name": "LayoutModel",
     "state": {
      "_model_module": "@jupyter-widgets/base",
      "_model_module_version": "1.2.0",
      "_model_name": "LayoutModel",
      "_view_count": null,
      "_view_module": "@jupyter-widgets/base",
      "_view_module_version": "1.2.0",
      "_view_name": "LayoutView",
      "align_content": null,
      "align_items": null,
      "align_self": null,
      "border": null,
      "bottom": null,
      "display": null,
      "flex": null,
      "flex_flow": null,
      "grid_area": null,
      "grid_auto_columns": null,
      "grid_auto_flow": null,
      "grid_auto_rows": null,
      "grid_column": null,
      "grid_gap": null,
      "grid_row": null,
      "grid_template_areas": null,
      "grid_template_columns": null,
      "grid_template_rows": null,
      "height": null,
      "justify_content": null,
      "justify_items": null,
      "left": null,
      "margin": null,
      "max_height": null,
      "max_width": null,
      "min_height": null,
      "min_width": null,
      "object_fit": null,
      "object_position": null,
      "order": null,
      "overflow": null,
      "overflow_x": null,
      "overflow_y": null,
      "padding": null,
      "right": null,
      "top": null,
      "visibility": null,
      "width": null
     }
    },
    "515b5ef4b4944b70ac7c07a8b76e8d6c": {
     "model_module": "@jupyter-widgets/controls",
     "model_module_version": "1.5.0",
     "model_name": "HBoxModel",
     "state": {
      "_dom_classes": [],
      "_model_module": "@jupyter-widgets/controls",
      "_model_module_version": "1.5.0",
      "_model_name": "HBoxModel",
      "_view_count": null,
      "_view_module": "@jupyter-widgets/controls",
      "_view_module_version": "1.5.0",
      "_view_name": "HBoxView",
      "box_style": "",
      "children": [
       "IPY_MODEL_0d0eb5a530c745cea0db545c7c8c3b19",
       "IPY_MODEL_5216a954a5ca4d0cb17e8ca797fe8818",
       "IPY_MODEL_8eca02ed8902476587acd978d612f5ef"
      ],
      "layout": "IPY_MODEL_0b0044d9f2354383b62d7fe6b781db94"
     }
    },
    "5216a954a5ca4d0cb17e8ca797fe8818": {
     "model_module": "@jupyter-widgets/controls",
     "model_module_version": "1.5.0",
     "model_name": "FloatProgressModel",
     "state": {
      "_dom_classes": [],
      "_model_module": "@jupyter-widgets/controls",
      "_model_module_version": "1.5.0",
      "_model_name": "FloatProgressModel",
      "_view_count": null,
      "_view_module": "@jupyter-widgets/controls",
      "_view_module_version": "1.5.0",
      "_view_name": "ProgressView",
      "bar_style": "success",
      "description": "",
      "description_tooltip": null,
      "layout": "IPY_MODEL_700b7cb3a40d4b9e9c18830ed192c965",
      "max": 2992,
      "min": 0,
      "orientation": "horizontal",
      "style": "IPY_MODEL_57bf46c0bfb44a3a845a09daa142f219",
      "value": 2992
     }
    },
    "5443ea6e72f448d3b23a10c3533f4d57": {
     "model_module": "@jupyter-widgets/controls",
     "model_module_version": "1.5.0",
     "model_name": "HBoxModel",
     "state": {
      "_dom_classes": [],
      "_model_module": "@jupyter-widgets/controls",
      "_model_module_version": "1.5.0",
      "_model_name": "HBoxModel",
      "_view_count": null,
      "_view_module": "@jupyter-widgets/controls",
      "_view_module_version": "1.5.0",
      "_view_name": "HBoxView",
      "box_style": "",
      "children": [
       "IPY_MODEL_bacfb7091a6644f6b883fcc400e839f8",
       "IPY_MODEL_fafea16e48364fccb35cbdc32adf657c",
       "IPY_MODEL_772430f69dca43f5b90d73886648f132"
      ],
      "layout": "IPY_MODEL_cce2366f85cb4f0489a3618ffc8052f9"
     }
    },
    "55431ce9ea00452787f77e0cff02607d": {
     "model_module": "@jupyter-widgets/controls",
     "model_module_version": "1.5.0",
     "model_name": "DescriptionStyleModel",
     "state": {
      "_model_module": "@jupyter-widgets/controls",
      "_model_module_version": "1.5.0",
      "_model_name": "DescriptionStyleModel",
      "_view_count": null,
      "_view_module": "@jupyter-widgets/base",
      "_view_module_version": "1.2.0",
      "_view_name": "StyleView",
      "description_width": ""
     }
    },
    "56ee5db3ffac44a29d21cb3969c6fb12": {
     "model_module": "@jupyter-widgets/base",
     "model_module_version": "1.2.0",
     "model_name": "LayoutModel",
     "state": {
      "_model_module": "@jupyter-widgets/base",
      "_model_module_version": "1.2.0",
      "_model_name": "LayoutModel",
      "_view_count": null,
      "_view_module": "@jupyter-widgets/base",
      "_view_module_version": "1.2.0",
      "_view_name": "LayoutView",
      "align_content": null,
      "align_items": null,
      "align_self": null,
      "border": null,
      "bottom": null,
      "display": null,
      "flex": null,
      "flex_flow": null,
      "grid_area": null,
      "grid_auto_columns": null,
      "grid_auto_flow": null,
      "grid_auto_rows": null,
      "grid_column": null,
      "grid_gap": null,
      "grid_row": null,
      "grid_template_areas": null,
      "grid_template_columns": null,
      "grid_template_rows": null,
      "height": null,
      "justify_content": null,
      "justify_items": null,
      "left": null,
      "margin": null,
      "max_height": null,
      "max_width": null,
      "min_height": null,
      "min_width": null,
      "object_fit": null,
      "object_position": null,
      "order": null,
      "overflow": null,
      "overflow_x": null,
      "overflow_y": null,
      "padding": null,
      "right": null,
      "top": null,
      "visibility": null,
      "width": null
     }
    },
    "57bf46c0bfb44a3a845a09daa142f219": {
     "model_module": "@jupyter-widgets/controls",
     "model_module_version": "1.5.0",
     "model_name": "ProgressStyleModel",
     "state": {
      "_model_module": "@jupyter-widgets/controls",
      "_model_module_version": "1.5.0",
      "_model_name": "ProgressStyleModel",
      "_view_count": null,
      "_view_module": "@jupyter-widgets/base",
      "_view_module_version": "1.2.0",
      "_view_name": "StyleView",
      "bar_color": null,
      "description_width": ""
     }
    },
    "5c2611d7215d41829f503b4824fa908a": {
     "model_module": "@jupyter-widgets/controls",
     "model_module_version": "1.5.0",
     "model_name": "HTMLModel",
     "state": {
      "_dom_classes": [],
      "_model_module": "@jupyter-widgets/controls",
      "_model_module_version": "1.5.0",
      "_model_name": "HTMLModel",
      "_view_count": null,
      "_view_module": "@jupyter-widgets/controls",
      "_view_module_version": "1.5.0",
      "_view_name": "HTMLView",
      "description": "",
      "description_tooltip": null,
      "layout": "IPY_MODEL_b1b52ac7b98940039d86d023b2c7e04e",
      "placeholder": "​",
      "style": "IPY_MODEL_61167de4032d4bdd8a8d58d7bd2b1772",
      "value": "Epoch: 1: 100%"
     }
    },
    "5dfe47cf317a4a77853bacc65ee60e3c": {
     "model_module": "@jupyter-widgets/base",
     "model_module_version": "1.2.0",
     "model_name": "LayoutModel",
     "state": {
      "_model_module": "@jupyter-widgets/base",
      "_model_module_version": "1.2.0",
      "_model_name": "LayoutModel",
      "_view_count": null,
      "_view_module": "@jupyter-widgets/base",
      "_view_module_version": "1.2.0",
      "_view_name": "LayoutView",
      "align_content": null,
      "align_items": null,
      "align_self": null,
      "border": null,
      "bottom": null,
      "display": null,
      "flex": null,
      "flex_flow": null,
      "grid_area": null,
      "grid_auto_columns": null,
      "grid_auto_flow": null,
      "grid_auto_rows": null,
      "grid_column": null,
      "grid_gap": null,
      "grid_row": null,
      "grid_template_areas": null,
      "grid_template_columns": null,
      "grid_template_rows": null,
      "height": null,
      "justify_content": null,
      "justify_items": null,
      "left": null,
      "margin": null,
      "max_height": null,
      "max_width": null,
      "min_height": null,
      "min_width": null,
      "object_fit": null,
      "object_position": null,
      "order": null,
      "overflow": null,
      "overflow_x": null,
      "overflow_y": null,
      "padding": null,
      "right": null,
      "top": null,
      "visibility": null,
      "width": null
     }
    },
    "61167de4032d4bdd8a8d58d7bd2b1772": {
     "model_module": "@jupyter-widgets/controls",
     "model_module_version": "1.5.0",
     "model_name": "DescriptionStyleModel",
     "state": {
      "_model_module": "@jupyter-widgets/controls",
      "_model_module_version": "1.5.0",
      "_model_name": "DescriptionStyleModel",
      "_view_count": null,
      "_view_module": "@jupyter-widgets/base",
      "_view_module_version": "1.2.0",
      "_view_name": "StyleView",
      "description_width": ""
     }
    },
    "62eaa0fcc9ff4137bfab3347526bf8c4": {
     "model_module": "@jupyter-widgets/controls",
     "model_module_version": "1.5.0",
     "model_name": "FloatProgressModel",
     "state": {
      "_dom_classes": [],
      "_model_module": "@jupyter-widgets/controls",
      "_model_module_version": "1.5.0",
      "_model_name": "FloatProgressModel",
      "_view_count": null,
      "_view_module": "@jupyter-widgets/controls",
      "_view_module_version": "1.5.0",
      "_view_name": "ProgressView",
      "bar_style": "success",
      "description": "",
      "description_tooltip": null,
      "layout": "IPY_MODEL_8fc43c952dcb46ad9e7cf3305896b8d5",
      "max": 2992,
      "min": 0,
      "orientation": "horizontal",
      "style": "IPY_MODEL_fb9ea24c746d45f992a55e4f9fde4119",
      "value": 2992
     }
    },
    "658e91f553d049efb1be550ba4f62bdf": {
     "model_module": "@jupyter-widgets/base",
     "model_module_version": "1.2.0",
     "model_name": "LayoutModel",
     "state": {
      "_model_module": "@jupyter-widgets/base",
      "_model_module_version": "1.2.0",
      "_model_name": "LayoutModel",
      "_view_count": null,
      "_view_module": "@jupyter-widgets/base",
      "_view_module_version": "1.2.0",
      "_view_name": "LayoutView",
      "align_content": null,
      "align_items": null,
      "align_self": null,
      "border": null,
      "bottom": null,
      "display": null,
      "flex": null,
      "flex_flow": null,
      "grid_area": null,
      "grid_auto_columns": null,
      "grid_auto_flow": null,
      "grid_auto_rows": null,
      "grid_column": null,
      "grid_gap": null,
      "grid_row": null,
      "grid_template_areas": null,
      "grid_template_columns": null,
      "grid_template_rows": null,
      "height": null,
      "justify_content": null,
      "justify_items": null,
      "left": null,
      "margin": null,
      "max_height": null,
      "max_width": null,
      "min_height": null,
      "min_width": null,
      "object_fit": null,
      "object_position": null,
      "order": null,
      "overflow": null,
      "overflow_x": null,
      "overflow_y": null,
      "padding": null,
      "right": null,
      "top": null,
      "visibility": null,
      "width": null
     }
    },
    "68e2ea8d92b1455c84d4358e3b279351": {
     "model_module": "@jupyter-widgets/controls",
     "model_module_version": "1.5.0",
     "model_name": "DescriptionStyleModel",
     "state": {
      "_model_module": "@jupyter-widgets/controls",
      "_model_module_version": "1.5.0",
      "_model_name": "DescriptionStyleModel",
      "_view_count": null,
      "_view_module": "@jupyter-widgets/base",
      "_view_module_version": "1.2.0",
      "_view_name": "StyleView",
      "description_width": ""
     }
    },
    "6d02ecb96ce0442abafb95d20ad1afd3": {
     "model_module": "@jupyter-widgets/base",
     "model_module_version": "1.2.0",
     "model_name": "LayoutModel",
     "state": {
      "_model_module": "@jupyter-widgets/base",
      "_model_module_version": "1.2.0",
      "_model_name": "LayoutModel",
      "_view_count": null,
      "_view_module": "@jupyter-widgets/base",
      "_view_module_version": "1.2.0",
      "_view_name": "LayoutView",
      "align_content": null,
      "align_items": null,
      "align_self": null,
      "border": null,
      "bottom": null,
      "display": null,
      "flex": null,
      "flex_flow": null,
      "grid_area": null,
      "grid_auto_columns": null,
      "grid_auto_flow": null,
      "grid_auto_rows": null,
      "grid_column": null,
      "grid_gap": null,
      "grid_row": null,
      "grid_template_areas": null,
      "grid_template_columns": null,
      "grid_template_rows": null,
      "height": null,
      "justify_content": null,
      "justify_items": null,
      "left": null,
      "margin": null,
      "max_height": null,
      "max_width": null,
      "min_height": null,
      "min_width": null,
      "object_fit": null,
      "object_position": null,
      "order": null,
      "overflow": null,
      "overflow_x": null,
      "overflow_y": null,
      "padding": null,
      "right": null,
      "top": null,
      "visibility": null,
      "width": null
     }
    },
    "6d9895de40a846258bf4412e9c3dcde9": {
     "model_module": "@jupyter-widgets/controls",
     "model_module_version": "1.5.0",
     "model_name": "FloatProgressModel",
     "state": {
      "_dom_classes": [],
      "_model_module": "@jupyter-widgets/controls",
      "_model_module_version": "1.5.0",
      "_model_name": "FloatProgressModel",
      "_view_count": null,
      "_view_module": "@jupyter-widgets/controls",
      "_view_module_version": "1.5.0",
      "_view_name": "ProgressView",
      "bar_style": "success",
      "description": "",
      "description_tooltip": null,
      "layout": "IPY_MODEL_472668bc1b1c4ccea8e2731111979c39",
      "max": 2992,
      "min": 0,
      "orientation": "horizontal",
      "style": "IPY_MODEL_6ebf0b43ef25487c99fa88c45961c4fc",
      "value": 2992
     }
    },
    "6ebf0b43ef25487c99fa88c45961c4fc": {
     "model_module": "@jupyter-widgets/controls",
     "model_module_version": "1.5.0",
     "model_name": "ProgressStyleModel",
     "state": {
      "_model_module": "@jupyter-widgets/controls",
      "_model_module_version": "1.5.0",
      "_model_name": "ProgressStyleModel",
      "_view_count": null,
      "_view_module": "@jupyter-widgets/base",
      "_view_module_version": "1.2.0",
      "_view_name": "StyleView",
      "bar_color": null,
      "description_width": ""
     }
    },
    "700b7cb3a40d4b9e9c18830ed192c965": {
     "model_module": "@jupyter-widgets/base",
     "model_module_version": "1.2.0",
     "model_name": "LayoutModel",
     "state": {
      "_model_module": "@jupyter-widgets/base",
      "_model_module_version": "1.2.0",
      "_model_name": "LayoutModel",
      "_view_count": null,
      "_view_module": "@jupyter-widgets/base",
      "_view_module_version": "1.2.0",
      "_view_name": "LayoutView",
      "align_content": null,
      "align_items": null,
      "align_self": null,
      "border": null,
      "bottom": null,
      "display": null,
      "flex": null,
      "flex_flow": null,
      "grid_area": null,
      "grid_auto_columns": null,
      "grid_auto_flow": null,
      "grid_auto_rows": null,
      "grid_column": null,
      "grid_gap": null,
      "grid_row": null,
      "grid_template_areas": null,
      "grid_template_columns": null,
      "grid_template_rows": null,
      "height": null,
      "justify_content": null,
      "justify_items": null,
      "left": null,
      "margin": null,
      "max_height": null,
      "max_width": null,
      "min_height": null,
      "min_width": null,
      "object_fit": null,
      "object_position": null,
      "order": null,
      "overflow": null,
      "overflow_x": null,
      "overflow_y": null,
      "padding": null,
      "right": null,
      "top": null,
      "visibility": null,
      "width": null
     }
    },
    "772430f69dca43f5b90d73886648f132": {
     "model_module": "@jupyter-widgets/controls",
     "model_module_version": "1.5.0",
     "model_name": "HTMLModel",
     "state": {
      "_dom_classes": [],
      "_model_module": "@jupyter-widgets/controls",
      "_model_module_version": "1.5.0",
      "_model_name": "HTMLModel",
      "_view_count": null,
      "_view_module": "@jupyter-widgets/controls",
      "_view_module_version": "1.5.0",
      "_view_name": "HTMLView",
      "description": "",
      "description_tooltip": null,
      "layout": "IPY_MODEL_b449dbe3d8d046378226bc78c4a62583",
      "placeholder": "​",
      "style": "IPY_MODEL_68e2ea8d92b1455c84d4358e3b279351",
      "value": " 2992/2992 [01:31&lt;00:00, 32.08it/s]"
     }
    },
    "8abe3f6385c14c72a9ce6178cfb33fe3": {
     "model_module": "@jupyter-widgets/base",
     "model_module_version": "1.2.0",
     "model_name": "LayoutModel",
     "state": {
      "_model_module": "@jupyter-widgets/base",
      "_model_module_version": "1.2.0",
      "_model_name": "LayoutModel",
      "_view_count": null,
      "_view_module": "@jupyter-widgets/base",
      "_view_module_version": "1.2.0",
      "_view_name": "LayoutView",
      "align_content": null,
      "align_items": null,
      "align_self": null,
      "border": null,
      "bottom": null,
      "display": null,
      "flex": null,
      "flex_flow": null,
      "grid_area": null,
      "grid_auto_columns": null,
      "grid_auto_flow": null,
      "grid_auto_rows": null,
      "grid_column": null,
      "grid_gap": null,
      "grid_row": null,
      "grid_template_areas": null,
      "grid_template_columns": null,
      "grid_template_rows": null,
      "height": null,
      "justify_content": null,
      "justify_items": null,
      "left": null,
      "margin": null,
      "max_height": null,
      "max_width": null,
      "min_height": null,
      "min_width": null,
      "object_fit": null,
      "object_position": null,
      "order": null,
      "overflow": null,
      "overflow_x": null,
      "overflow_y": null,
      "padding": null,
      "right": null,
      "top": null,
      "visibility": null,
      "width": null
     }
    },
    "8eca02ed8902476587acd978d612f5ef": {
     "model_module": "@jupyter-widgets/controls",
     "model_module_version": "1.5.0",
     "model_name": "HTMLModel",
     "state": {
      "_dom_classes": [],
      "_model_module": "@jupyter-widgets/controls",
      "_model_module_version": "1.5.0",
      "_model_name": "HTMLModel",
      "_view_count": null,
      "_view_module": "@jupyter-widgets/controls",
      "_view_module_version": "1.5.0",
      "_view_name": "HTMLView",
      "description": "",
      "description_tooltip": null,
      "layout": "IPY_MODEL_8abe3f6385c14c72a9ce6178cfb33fe3",
      "placeholder": "​",
      "style": "IPY_MODEL_9e35e85e2d714b44ae54d181e83dd4fb",
      "value": " 2992/2992 [01:24&lt;00:00, 35.65it/s]"
     }
    },
    "8fc43c952dcb46ad9e7cf3305896b8d5": {
     "model_module": "@jupyter-widgets/base",
     "model_module_version": "1.2.0",
     "model_name": "LayoutModel",
     "state": {
      "_model_module": "@jupyter-widgets/base",
      "_model_module_version": "1.2.0",
      "_model_name": "LayoutModel",
      "_view_count": null,
      "_view_module": "@jupyter-widgets/base",
      "_view_module_version": "1.2.0",
      "_view_name": "LayoutView",
      "align_content": null,
      "align_items": null,
      "align_self": null,
      "border": null,
      "bottom": null,
      "display": null,
      "flex": null,
      "flex_flow": null,
      "grid_area": null,
      "grid_auto_columns": null,
      "grid_auto_flow": null,
      "grid_auto_rows": null,
      "grid_column": null,
      "grid_gap": null,
      "grid_row": null,
      "grid_template_areas": null,
      "grid_template_columns": null,
      "grid_template_rows": null,
      "height": null,
      "justify_content": null,
      "justify_items": null,
      "left": null,
      "margin": null,
      "max_height": null,
      "max_width": null,
      "min_height": null,
      "min_width": null,
      "object_fit": null,
      "object_position": null,
      "order": null,
      "overflow": null,
      "overflow_x": null,
      "overflow_y": null,
      "padding": null,
      "right": null,
      "top": null,
      "visibility": null,
      "width": null
     }
    },
    "9192ced25a6e4b01b95ff43b30239832": {
     "model_module": "@jupyter-widgets/controls",
     "model_module_version": "1.5.0",
     "model_name": "ProgressStyleModel",
     "state": {
      "_model_module": "@jupyter-widgets/controls",
      "_model_module_version": "1.5.0",
      "_model_name": "ProgressStyleModel",
      "_view_count": null,
      "_view_module": "@jupyter-widgets/base",
      "_view_module_version": "1.2.0",
      "_view_name": "StyleView",
      "bar_color": null,
      "description_width": ""
     }
    },
    "92b2a47d88bb4f9b83d52ed4bc290993": {
     "model_module": "@jupyter-widgets/controls",
     "model_module_version": "1.5.0",
     "model_name": "HTMLModel",
     "state": {
      "_dom_classes": [],
      "_model_module": "@jupyter-widgets/controls",
      "_model_module_version": "1.5.0",
      "_model_name": "HTMLModel",
      "_view_count": null,
      "_view_module": "@jupyter-widgets/controls",
      "_view_module_version": "1.5.0",
      "_view_name": "HTMLView",
      "description": "",
      "description_tooltip": null,
      "layout": "IPY_MODEL_4e3c147646a248a3894c4f90ac0c0e84",
      "placeholder": "​",
      "style": "IPY_MODEL_38693ef222654f53a889f920ec17c46e",
      "value": " 2992/2992 [00:38&lt;00:00, 71.27it/s]"
     }
    },
    "9ceda1b0f85647be9db4402d3c729ed3": {
     "model_module": "@jupyter-widgets/controls",
     "model_module_version": "1.5.0",
     "model_name": "DescriptionStyleModel",
     "state": {
      "_model_module": "@jupyter-widgets/controls",
      "_model_module_version": "1.5.0",
      "_model_name": "DescriptionStyleModel",
      "_view_count": null,
      "_view_module": "@jupyter-widgets/base",
      "_view_module_version": "1.2.0",
      "_view_name": "StyleView",
      "description_width": ""
     }
    },
    "9e35e85e2d714b44ae54d181e83dd4fb": {
     "model_module": "@jupyter-widgets/controls",
     "model_module_version": "1.5.0",
     "model_name": "DescriptionStyleModel",
     "state": {
      "_model_module": "@jupyter-widgets/controls",
      "_model_module_version": "1.5.0",
      "_model_name": "DescriptionStyleModel",
      "_view_count": null,
      "_view_module": "@jupyter-widgets/base",
      "_view_module_version": "1.2.0",
      "_view_name": "StyleView",
      "description_width": ""
     }
    },
    "b1b52ac7b98940039d86d023b2c7e04e": {
     "model_module": "@jupyter-widgets/base",
     "model_module_version": "1.2.0",
     "model_name": "LayoutModel",
     "state": {
      "_model_module": "@jupyter-widgets/base",
      "_model_module_version": "1.2.0",
      "_model_name": "LayoutModel",
      "_view_count": null,
      "_view_module": "@jupyter-widgets/base",
      "_view_module_version": "1.2.0",
      "_view_name": "LayoutView",
      "align_content": null,
      "align_items": null,
      "align_self": null,
      "border": null,
      "bottom": null,
      "display": null,
      "flex": null,
      "flex_flow": null,
      "grid_area": null,
      "grid_auto_columns": null,
      "grid_auto_flow": null,
      "grid_auto_rows": null,
      "grid_column": null,
      "grid_gap": null,
      "grid_row": null,
      "grid_template_areas": null,
      "grid_template_columns": null,
      "grid_template_rows": null,
      "height": null,
      "justify_content": null,
      "justify_items": null,
      "left": null,
      "margin": null,
      "max_height": null,
      "max_width": null,
      "min_height": null,
      "min_width": null,
      "object_fit": null,
      "object_position": null,
      "order": null,
      "overflow": null,
      "overflow_x": null,
      "overflow_y": null,
      "padding": null,
      "right": null,
      "top": null,
      "visibility": null,
      "width": null
     }
    },
    "b449dbe3d8d046378226bc78c4a62583": {
     "model_module": "@jupyter-widgets/base",
     "model_module_version": "1.2.0",
     "model_name": "LayoutModel",
     "state": {
      "_model_module": "@jupyter-widgets/base",
      "_model_module_version": "1.2.0",
      "_model_name": "LayoutModel",
      "_view_count": null,
      "_view_module": "@jupyter-widgets/base",
      "_view_module_version": "1.2.0",
      "_view_name": "LayoutView",
      "align_content": null,
      "align_items": null,
      "align_self": null,
      "border": null,
      "bottom": null,
      "display": null,
      "flex": null,
      "flex_flow": null,
      "grid_area": null,
      "grid_auto_columns": null,
      "grid_auto_flow": null,
      "grid_auto_rows": null,
      "grid_column": null,
      "grid_gap": null,
      "grid_row": null,
      "grid_template_areas": null,
      "grid_template_columns": null,
      "grid_template_rows": null,
      "height": null,
      "justify_content": null,
      "justify_items": null,
      "left": null,
      "margin": null,
      "max_height": null,
      "max_width": null,
      "min_height": null,
      "min_width": null,
      "object_fit": null,
      "object_position": null,
      "order": null,
      "overflow": null,
      "overflow_x": null,
      "overflow_y": null,
      "padding": null,
      "right": null,
      "top": null,
      "visibility": null,
      "width": null
     }
    },
    "b75400eae4c64d9990dbb9f5d9b0bc82": {
     "model_module": "@jupyter-widgets/controls",
     "model_module_version": "1.5.0",
     "model_name": "DescriptionStyleModel",
     "state": {
      "_model_module": "@jupyter-widgets/controls",
      "_model_module_version": "1.5.0",
      "_model_name": "DescriptionStyleModel",
      "_view_count": null,
      "_view_module": "@jupyter-widgets/base",
      "_view_module_version": "1.2.0",
      "_view_name": "StyleView",
      "description_width": ""
     }
    },
    "b956f700a2914875a0ffaf01a7f84acc": {
     "model_module": "@jupyter-widgets/base",
     "model_module_version": "1.2.0",
     "model_name": "LayoutModel",
     "state": {
      "_model_module": "@jupyter-widgets/base",
      "_model_module_version": "1.2.0",
      "_model_name": "LayoutModel",
      "_view_count": null,
      "_view_module": "@jupyter-widgets/base",
      "_view_module_version": "1.2.0",
      "_view_name": "LayoutView",
      "align_content": null,
      "align_items": null,
      "align_self": null,
      "border": null,
      "bottom": null,
      "display": null,
      "flex": null,
      "flex_flow": null,
      "grid_area": null,
      "grid_auto_columns": null,
      "grid_auto_flow": null,
      "grid_auto_rows": null,
      "grid_column": null,
      "grid_gap": null,
      "grid_row": null,
      "grid_template_areas": null,
      "grid_template_columns": null,
      "grid_template_rows": null,
      "height": null,
      "justify_content": null,
      "justify_items": null,
      "left": null,
      "margin": null,
      "max_height": null,
      "max_width": null,
      "min_height": null,
      "min_width": null,
      "object_fit": null,
      "object_position": null,
      "order": null,
      "overflow": null,
      "overflow_x": null,
      "overflow_y": null,
      "padding": null,
      "right": null,
      "top": null,
      "visibility": null,
      "width": null
     }
    },
    "bacfb7091a6644f6b883fcc400e839f8": {
     "model_module": "@jupyter-widgets/controls",
     "model_module_version": "1.5.0",
     "model_name": "HTMLModel",
     "state": {
      "_dom_classes": [],
      "_model_module": "@jupyter-widgets/controls",
      "_model_module_version": "1.5.0",
      "_model_name": "HTMLModel",
      "_view_count": null,
      "_view_module": "@jupyter-widgets/controls",
      "_view_module_version": "1.5.0",
      "_view_name": "HTMLView",
      "description": "",
      "description_tooltip": null,
      "layout": "IPY_MODEL_375fe332d8554d359ea90446e31cecec",
      "placeholder": "​",
      "style": "IPY_MODEL_9ceda1b0f85647be9db4402d3c729ed3",
      "value": "Epoch: 1: 100%"
     }
    },
    "bb1d4f2c1b6245a8a36a217c26e62e37": {
     "model_module": "@jupyter-widgets/controls",
     "model_module_version": "1.5.0",
     "model_name": "ProgressStyleModel",
     "state": {
      "_model_module": "@jupyter-widgets/controls",
      "_model_module_version": "1.5.0",
      "_model_name": "ProgressStyleModel",
      "_view_count": null,
      "_view_module": "@jupyter-widgets/base",
      "_view_module_version": "1.2.0",
      "_view_name": "StyleView",
      "bar_color": null,
      "description_width": ""
     }
    },
    "cce2366f85cb4f0489a3618ffc8052f9": {
     "model_module": "@jupyter-widgets/base",
     "model_module_version": "1.2.0",
     "model_name": "LayoutModel",
     "state": {
      "_model_module": "@jupyter-widgets/base",
      "_model_module_version": "1.2.0",
      "_model_name": "LayoutModel",
      "_view_count": null,
      "_view_module": "@jupyter-widgets/base",
      "_view_module_version": "1.2.0",
      "_view_name": "LayoutView",
      "align_content": null,
      "align_items": null,
      "align_self": null,
      "border": null,
      "bottom": null,
      "display": null,
      "flex": null,
      "flex_flow": null,
      "grid_area": null,
      "grid_auto_columns": null,
      "grid_auto_flow": null,
      "grid_auto_rows": null,
      "grid_column": null,
      "grid_gap": null,
      "grid_row": null,
      "grid_template_areas": null,
      "grid_template_columns": null,
      "grid_template_rows": null,
      "height": null,
      "justify_content": null,
      "justify_items": null,
      "left": null,
      "margin": null,
      "max_height": null,
      "max_width": null,
      "min_height": null,
      "min_width": null,
      "object_fit": null,
      "object_position": null,
      "order": null,
      "overflow": null,
      "overflow_x": null,
      "overflow_y": null,
      "padding": null,
      "right": null,
      "top": null,
      "visibility": null,
      "width": null
     }
    },
    "cdd8a5dc34f84477b0b1a9391ee889a7": {
     "model_module": "@jupyter-widgets/controls",
     "model_module_version": "1.5.0",
     "model_name": "HBoxModel",
     "state": {
      "_dom_classes": [],
      "_model_module": "@jupyter-widgets/controls",
      "_model_module_version": "1.5.0",
      "_model_name": "HBoxModel",
      "_view_count": null,
      "_view_module": "@jupyter-widgets/controls",
      "_view_module_version": "1.5.0",
      "_view_name": "HBoxView",
      "box_style": "",
      "children": [
       "IPY_MODEL_f3aeeb84fa534b798bb0b58a785eec16",
       "IPY_MODEL_d58450118a90431b857f5fc1e5c17499",
       "IPY_MODEL_2f433600f83348db9543f03396a3b71e"
      ],
      "layout": "IPY_MODEL_0c8cb4359a0643cfac78069d1891007c"
     }
    },
    "d1bbf87e42474af5ba7881bb6279deed": {
     "model_module": "@jupyter-widgets/base",
     "model_module_version": "1.2.0",
     "model_name": "LayoutModel",
     "state": {
      "_model_module": "@jupyter-widgets/base",
      "_model_module_version": "1.2.0",
      "_model_name": "LayoutModel",
      "_view_count": null,
      "_view_module": "@jupyter-widgets/base",
      "_view_module_version": "1.2.0",
      "_view_name": "LayoutView",
      "align_content": null,
      "align_items": null,
      "align_self": null,
      "border": null,
      "bottom": null,
      "display": null,
      "flex": null,
      "flex_flow": null,
      "grid_area": null,
      "grid_auto_columns": null,
      "grid_auto_flow": null,
      "grid_auto_rows": null,
      "grid_column": null,
      "grid_gap": null,
      "grid_row": null,
      "grid_template_areas": null,
      "grid_template_columns": null,
      "grid_template_rows": null,
      "height": null,
      "justify_content": null,
      "justify_items": null,
      "left": null,
      "margin": null,
      "max_height": null,
      "max_width": null,
      "min_height": null,
      "min_width": null,
      "object_fit": null,
      "object_position": null,
      "order": null,
      "overflow": null,
      "overflow_x": null,
      "overflow_y": null,
      "padding": null,
      "right": null,
      "top": null,
      "visibility": null,
      "width": null
     }
    },
    "d58450118a90431b857f5fc1e5c17499": {
     "model_module": "@jupyter-widgets/controls",
     "model_module_version": "1.5.0",
     "model_name": "FloatProgressModel",
     "state": {
      "_dom_classes": [],
      "_model_module": "@jupyter-widgets/controls",
      "_model_module_version": "1.5.0",
      "_model_name": "FloatProgressModel",
      "_view_count": null,
      "_view_module": "@jupyter-widgets/controls",
      "_view_module_version": "1.5.0",
      "_view_name": "ProgressView",
      "bar_style": "success",
      "description": "",
      "description_tooltip": null,
      "layout": "IPY_MODEL_50a4a96740f94ba4a89cbd4aee659a02",
      "max": 2992,
      "min": 0,
      "orientation": "horizontal",
      "style": "IPY_MODEL_9192ced25a6e4b01b95ff43b30239832",
      "value": 2992
     }
    },
    "e52da9da94d6453588a304b635da5726": {
     "model_module": "@jupyter-widgets/controls",
     "model_module_version": "1.5.0",
     "model_name": "HBoxModel",
     "state": {
      "_dom_classes": [],
      "_model_module": "@jupyter-widgets/controls",
      "_model_module_version": "1.5.0",
      "_model_name": "HBoxModel",
      "_view_count": null,
      "_view_module": "@jupyter-widgets/controls",
      "_view_module_version": "1.5.0",
      "_view_name": "HBoxView",
      "box_style": "",
      "children": [
       "IPY_MODEL_fb5a4836af8740fa9e9761b691c24592",
       "IPY_MODEL_6d9895de40a846258bf4412e9c3dcde9",
       "IPY_MODEL_f8e286c0478041b2bcb3521b81e068d9"
      ],
      "layout": "IPY_MODEL_d1bbf87e42474af5ba7881bb6279deed"
     }
    },
    "e640d0e65e6948379642068216b340d1": {
     "model_module": "@jupyter-widgets/controls",
     "model_module_version": "1.5.0",
     "model_name": "HBoxModel",
     "state": {
      "_dom_classes": [],
      "_model_module": "@jupyter-widgets/controls",
      "_model_module_version": "1.5.0",
      "_model_name": "HBoxModel",
      "_view_count": null,
      "_view_module": "@jupyter-widgets/controls",
      "_view_module_version": "1.5.0",
      "_view_name": "HBoxView",
      "box_style": "",
      "children": [
       "IPY_MODEL_5c2611d7215d41829f503b4824fa908a",
       "IPY_MODEL_62eaa0fcc9ff4137bfab3347526bf8c4",
       "IPY_MODEL_92b2a47d88bb4f9b83d52ed4bc290993"
      ],
      "layout": "IPY_MODEL_6d02ecb96ce0442abafb95d20ad1afd3"
     }
    },
    "f3aeeb84fa534b798bb0b58a785eec16": {
     "model_module": "@jupyter-widgets/controls",
     "model_module_version": "1.5.0",
     "model_name": "HTMLModel",
     "state": {
      "_dom_classes": [],
      "_model_module": "@jupyter-widgets/controls",
      "_model_module_version": "1.5.0",
      "_model_name": "HTMLModel",
      "_view_count": null,
      "_view_module": "@jupyter-widgets/controls",
      "_view_module_version": "1.5.0",
      "_view_name": "HTMLView",
      "description": "",
      "description_tooltip": null,
      "layout": "IPY_MODEL_5dfe47cf317a4a77853bacc65ee60e3c",
      "placeholder": "​",
      "style": "IPY_MODEL_4e8b6c4b360941f9ac07041a9c418e17",
      "value": "Epoch: 1: 100%"
     }
    },
    "f8e286c0478041b2bcb3521b81e068d9": {
     "model_module": "@jupyter-widgets/controls",
     "model_module_version": "1.5.0",
     "model_name": "HTMLModel",
     "state": {
      "_dom_classes": [],
      "_model_module": "@jupyter-widgets/controls",
      "_model_module_version": "1.5.0",
      "_model_name": "HTMLModel",
      "_view_count": null,
      "_view_module": "@jupyter-widgets/controls",
      "_view_module_version": "1.5.0",
      "_view_name": "HTMLView",
      "description": "",
      "description_tooltip": null,
      "layout": "IPY_MODEL_fc1853293cee4e4d98f985dd254e260d",
      "placeholder": "​",
      "style": "IPY_MODEL_55431ce9ea00452787f77e0cff02607d",
      "value": " 2992/2992 [00:35&lt;00:00, 96.09it/s]"
     }
    },
    "fafea16e48364fccb35cbdc32adf657c": {
     "model_module": "@jupyter-widgets/controls",
     "model_module_version": "1.5.0",
     "model_name": "FloatProgressModel",
     "state": {
      "_dom_classes": [],
      "_model_module": "@jupyter-widgets/controls",
      "_model_module_version": "1.5.0",
      "_model_name": "FloatProgressModel",
      "_view_count": null,
      "_view_module": "@jupyter-widgets/controls",
      "_view_module_version": "1.5.0",
      "_view_name": "ProgressView",
      "bar_style": "success",
      "description": "",
      "description_tooltip": null,
      "layout": "IPY_MODEL_b956f700a2914875a0ffaf01a7f84acc",
      "max": 2992,
      "min": 0,
      "orientation": "horizontal",
      "style": "IPY_MODEL_bb1d4f2c1b6245a8a36a217c26e62e37",
      "value": 2992
     }
    },
    "fb5a4836af8740fa9e9761b691c24592": {
     "model_module": "@jupyter-widgets/controls",
     "model_module_version": "1.5.0",
     "model_name": "HTMLModel",
     "state": {
      "_dom_classes": [],
      "_model_module": "@jupyter-widgets/controls",
      "_model_module_version": "1.5.0",
      "_model_name": "HTMLModel",
      "_view_count": null,
      "_view_module": "@jupyter-widgets/controls",
      "_view_module_version": "1.5.0",
      "_view_name": "HTMLView",
      "description": "",
      "description_tooltip": null,
      "layout": "IPY_MODEL_56ee5db3ffac44a29d21cb3969c6fb12",
      "placeholder": "​",
      "style": "IPY_MODEL_20d340bc639d466f9d2f8c520638c638",
      "value": "Epoch: 1: 100%"
     }
    },
    "fb9ea24c746d45f992a55e4f9fde4119": {
     "model_module": "@jupyter-widgets/controls",
     "model_module_version": "1.5.0",
     "model_name": "ProgressStyleModel",
     "state": {
      "_model_module": "@jupyter-widgets/controls",
      "_model_module_version": "1.5.0",
      "_model_name": "ProgressStyleModel",
      "_view_count": null,
      "_view_module": "@jupyter-widgets/base",
      "_view_module_version": "1.2.0",
      "_view_name": "StyleView",
      "bar_color": null,
      "description_width": ""
     }
    },
    "fc1853293cee4e4d98f985dd254e260d": {
     "model_module": "@jupyter-widgets/base",
     "model_module_version": "1.2.0",
     "model_name": "LayoutModel",
     "state": {
      "_model_module": "@jupyter-widgets/base",
      "_model_module_version": "1.2.0",
      "_model_name": "LayoutModel",
      "_view_count": null,
      "_view_module": "@jupyter-widgets/base",
      "_view_module_version": "1.2.0",
      "_view_name": "LayoutView",
      "align_content": null,
      "align_items": null,
      "align_self": null,
      "border": null,
      "bottom": null,
      "display": null,
      "flex": null,
      "flex_flow": null,
      "grid_area": null,
      "grid_auto_columns": null,
      "grid_auto_flow": null,
      "grid_auto_rows": null,
      "grid_column": null,
      "grid_gap": null,
      "grid_row": null,
      "grid_template_areas": null,
      "grid_template_columns": null,
      "grid_template_rows": null,
      "height": null,
      "justify_content": null,
      "justify_items": null,
      "left": null,
      "margin": null,
      "max_height": null,
      "max_width": null,
      "min_height": null,
      "min_width": null,
      "object_fit": null,
      "object_position": null,
      "order": null,
      "overflow": null,
      "overflow_x": null,
      "overflow_y": null,
      "padding": null,
      "right": null,
      "top": null,
      "visibility": null,
      "width": null
     }
    }
   }
  }
 },
 "nbformat": 4,
 "nbformat_minor": 0
}
