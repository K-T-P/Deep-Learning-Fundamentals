{
 "cells": [
  {
   "cell_type": "markdown",
   "metadata": {
    "id": "1H4m2VIPgrrH"
   },
   "source": [
    "# NLP?\n",
    "NLP or NAtural Language Processing is a part of AI which deals with the textual aspect of the data. We can perform different task using NLP some of the simplest being:\n",
    "\n",
    "1. Classify the kind of text data. (Science,Sports etc)\n",
    "2. Extract the summary from the text (useful in the key points for legal documents)\n",
    "3. Make a Fill in the Blanks Model\n",
    "4. ChatBots\n",
    "5. Image Captioning\n",
    "\n",
    "NLP has reached a point of complexity where the models are generating scripts for a play or generate a random story based on a random word."
   ]
  },
  {
   "cell_type": "markdown",
   "metadata": {
    "id": "1vz-HMf0grrH"
   },
   "source": [
    "# Problem?\n",
    "We have to classify the given comments in 2 parts whether these are toxis or not by using the comments. 1 shows Toxic, 0 shows Not Toxic"
   ]
  },
  {
   "cell_type": "markdown",
   "metadata": {
    "id": "fXymW27BgrrH"
   },
   "source": [
    "# Solution?\n",
    "## RNN (Recurrent Neural Networks):\n",
    "I can not draw the figure for weights,biases and all the other things that are very essential to have a deep understanding of RNN so Please check out [this insightful video](https://www.youtube.com/watch?v=2E65LDnM2cA&list=PL1F3ABbhcqa3BBWo170U4Ev2wfsF7FN8l) on RNN by Andrew NG and a very [intutive video by MIT](https://www.youtube.com/watch?v=SEnXr6v2ifU&t=1398s) before you start.\n",
    "\n",
    "**<font color='teal'>RNN helps wherever we need context from the previous input such as:**</font>\n",
    "\n",
    "1. Language to Language Translation (Many to Many Articture: Many inputs Many Outputs)\n",
    "2. Sentimeny Analysis (Many to One Articture: Many inputs One Output)\n",
    "3. Music, Story Generation (One to Many Articture: One input Many Outputs)\n",
    "\n",
    "**<font color='red'>We're talking about the `Many to Many Architecture Below`</font>**\n",
    "\n",
    "RNN are specialised version of Neural Networks which deals with the time aspect as well. For instance, given a sentence like `Because Eminem is the only Rapper to win an Oscar, best selling rapper of all time, most top Billboards and has got 15 Grammy award wins so it makes him the ____` can have a complex structure because filling the right word as `GOD/GOAT/Best` is linked to the first word itself and has a relation with the entire sequence of the words. Simple Dense networds can not address the problem so to get the results in the sentence, we have to get the relation from the past where the output is based on  `only,rapper,win,Oscar,most,selling,all,time,most,top,billboards,15,Grammy`. So in order to teach the model, RNN are used where an output is based only not only on the inputs but the previous outputs too.\n",
    "\n",
    "RNN have <font color='green'>**BPTT**: **Back Propagation Through Time**</font> which is a specialised version of Back Propagation Algorithm to train RNN.\n",
    "\n",
    "Conceptually, BPTT works by unrolling all input timesteps. Each timestep has one input timestep, one copy of the network, and one output. Errors are then calculated and accumulated for each timestep. The network is rolled back up and the weights are updated.\n",
    "\n",
    "Gradients will have to be called for the past cells too so if layers are in thousands so BPTT can be computationally expensive as the number of timesteps increases and it also leads to Vanishing gradients (no change in Gradients) or exploding (gradients changing too fast).\n",
    "\n",
    "## Working and feeding data into RNN for NLP?\n",
    "Unlike the data that we feed in simple DNN, we feed the data at time intervals. Let us see by an example.\n",
    "Suppose we have the Sentence `Eminem is the GOAT` and the vector representation of it suppose `[1,2,3,4]` and we want to train a super slow but intelligent model model of just 1 cell or layer in RNN `(t-1 only)`. So insted of feeding the whole instance at 12:00 PM, it'll feed starting hidden state as `h_start` (which is generally random or 0) and `1`  which is notation for  `Eminem` at 12:00 PM and generate an output say `99` and a hidden state `h0` at 12:01. At 12:02, We'll feed the model with past state `h0` and the current input `2` to get a result `42` and a modified hidden state from `h0 -> h1` at 12:03 and it goes on until the end of the vector. By the time our model finish training, it would have produced a vector of results and a final state `h_end`(which is of no use now except we are using Encoder-Decoder) which interprets to  `He is indeed GOD. Period`.\n",
    "\n",
    "**<font color='red'>NOTE: RNN uses SAME function (mostly`tanh`) as activation function and SAME weight matrix `W` to calculate the variables at EACH TIME STEP. Depending on the requirements, there can be multiple Weight Matrices for example one weight matrix  (`Wh`) that gets multiplied by the previous hidden state (`h_old`), another one as (`Wx`) that gets multiplied by input (`x_in`).`h_now = tanh(Wh*h_old + Wx*x_in)`. To calculate the current output as (`y_now`), we use another weight matrix (`Wy`)  so that `y_now = softmax(Wy * h_now)`</font>**\n",
    "\n",
    "**<font color='teal'>Note: Hidden State is not a scaler but has dimension `d`.Hidden state represent how many different features you want to remember for either short term or long term (in LSTM's context). Hidden States tend to do something like this:</font>**\n",
    "\n",
    "1. Remember the context\n",
    "2. Remeber the Grammar\n",
    "3. Preserve the style words have been used\n",
    "4. etc... etc...\n",
    "\n",
    "**<font color='maroon'>Data should be of same length for all of the Training instances for most of the basic Deep Learning models (except sequence-to-seqence, attention etc)**</font>. You can not pass in Vectors of different length to the model such as `Eminem is the best rapper` and `Eminem is the best rapper born EOD`. You need to either truncate the second one or to pad the first one. People mostly use the padding where the sentence with the maximum length is considered as base and a unique vector is appended to the each sentence in the end to mae the vectors of same size. By doing that, our second sentence will become `Eminem is the best rapper -PAD- PAD-` and it'll become `[1,2,3,4,777,777]`.\n",
    "\n",
    "There might be times when your model will encounter some words that it is unaware of. For example we have the sentence `But Kanye has more Grammys. Now What?`. Our model will literally throw an error like `Kanye?? WHO???? I don't know that name. Never Heard of this word`. So to overcome the problem, another unidentified token is attached as -UN- to make the sentence as `But -UN- has more Grammys` and the result for that would be `For Producing Music mostly not Rapping, got it?`."
   ]
  },
  {
   "cell_type": "markdown",
   "metadata": {
    "id": "zHKNLpbYgrrI"
   },
   "source": [
    "# Imports\n",
    "Import the required libraries."
   ]
  },
  {
   "cell_type": "code",
   "execution_count": null,
   "metadata": {
    "colab": {
     "base_uri": "https://localhost:8080/"
    },
    "id": "bH--XwKjxdio",
    "outputId": "4b1baf92-8bdb-4933-bade-1dc0cd7af5ab"
   },
   "outputs": [],
   "source": [
    "!pip install -U torchtext==0.6.0"
   ]
  },
  {
   "cell_type": "code",
   "execution_count": 1,
   "metadata": {
    "_cell_guid": "79c7e3d0-c299-4dcb-8224-4455121ee9b0",
    "_uuid": "d629ff2d2480ee46fbb7e2d37f6b5fab8052498a",
    "id": "LDi57OgigrrI"
   },
   "outputs": [],
   "source": [
    "import pandas as pd # data handling\n",
    "import numpy as np # base of all\n",
    "import matplotlib.pyplot as plt # plotting\n",
    "import seaborn as sns  # advance plotting\n",
    "from wordcloud import WordCloud # to see the words as image\n",
    "import torch # PyTorch for building Networks\n",
    "import torch.nn as nn\n",
    "import torch.nn.functional as F\n",
    "from torchtext.data import Field,LabelField,BucketIterator,TabularDataset # TorchText has Text processing Function\n",
    "from torchtext import vocab\n",
    "from torchtext.vocab import GloVe\n",
    "from sklearn.model_selection import train_test_split # split the data into training and testing\n",
    "from sklearn.metrics import accuracy_score # accuracy metric\n",
    "from nltk import word_tokenize # very popular Text processing Library\n",
    "import random # to perform randomisation of tasks\n",
    "from tqdm.notebook import tqdm # for a continuous progress bar style\n",
    "import time # time module\n",
    "import os # import operating system"
   ]
  },
  {
   "cell_type": "code",
   "execution_count": 2,
   "metadata": {
    "id": "PkrJPNX7BuAC"
   },
   "outputs": [],
   "source": [
    "import nltk\n",
    "# nltk.download('punkt_tab')"
   ]
  },
  {
   "cell_type": "markdown",
   "metadata": {
    "id": "bFOAOhaZgrrK"
   },
   "source": [
    "# Set Defaults & Globals\n",
    "Set default conditions for some libraries and Global Variables"
   ]
  },
  {
   "cell_type": "code",
   "execution_count": null,
   "metadata": {
    "id": "aRmGvmFtgrrK"
   },
   "outputs": [],
   "source": [
    "SEED = 13 # reproducible results: Same results in every run\n",
    "EPOCH = 1 # number of epochs to run for model\n",
    "device = torch.device('cuda' if torch.cuda.is_available() else 'cpu') # use 'cuda' if available else 'cpu'"
   ]
  },
  {
   "cell_type": "markdown",
   "metadata": {
    "id": "qCXVrPt4grrK"
   },
   "source": [
    "# Input & EDA\n",
    "Check out the data"
   ]
  },
  {
   "cell_type": "code",
   "execution_count": null,
   "metadata": {
    "colab": {
     "base_uri": "https://localhost:8080/"
    },
    "id": "28esBAkblnbk",
    "outputId": "e73d1591-330a-4403-960e-1bbc9b537777"
   },
   "outputs": [],
   "source": [
    "!gdown 1-sFJBsHlRvFIVCEFhCf7s7eCz-AjEzOD"
   ]
  },
  {
   "cell_type": "code",
   "execution_count": null,
   "metadata": {
    "colab": {
     "base_uri": "https://localhost:8080/",
     "height": 206
    },
    "id": "gbHsqnHhgrrK",
    "outputId": "a2085232-b539-4fea-9eee-af0e02275b27"
   },
   "outputs": [],
   "source": [
    "# read data.csv file with pandas (1 line)\n",
    "# start of your code\n",
    "df = pd.read_csv('data.csv')\n",
    "# end of your code\n",
    "df.head()"
   ]
  },
  {
   "cell_type": "code",
   "execution_count": null,
   "metadata": {
    "colab": {
     "base_uri": "https://localhost:8080/",
     "height": 406
    },
    "id": "xg7xK-ncgrrL",
    "outputId": "66f754d5-a35e-4218-d826-7ba409dabb07"
   },
   "outputs": [],
   "source": [
    "df['toxic'].value_counts().plot(kind='pie',autopct='%.2f%%',labels=['Not Toxic','Toxic'],cmap='Set2')\n",
    "# distribution of Toxic or Non Toxic. 1 detemines Toxic\n",
    "plt.show()"
   ]
  },
  {
   "cell_type": "code",
   "execution_count": null,
   "metadata": {
    "colab": {
     "base_uri": "https://localhost:8080/"
    },
    "id": "1FkMfQrggrrL",
    "outputId": "607d9c7d-c46b-44a6-cc4c-3aabf798b659"
   },
   "outputs": [],
   "source": [
    "# join all the comments to make a new one big comment (1 line)\n",
    "# start of your code\n",
    "text = ' '.join(df['comment_text'])\n",
    "# end of your code\n",
    "print(f'There are {len(text)} unique words in the whole dataset')"
   ]
  },
  {
   "cell_type": "markdown",
   "metadata": {
    "id": "Zdfqb1mEgrrM"
   },
   "source": [
    "# Pre- Processing\n",
    "Remove Null Values, Duplicates etc . Split the data, and change the structure according to the requiements of PyTorch\n",
    "\n",
    "## Remove un-necessary values\n",
    "Remove unwanted columns, Null rows and duplicated rows"
   ]
  },
  {
   "cell_type": "code",
   "execution_count": null,
   "metadata": {
    "colab": {
     "base_uri": "https://localhost:8080/",
     "height": 206
    },
    "id": "xXwcHO4XgrrM",
    "outputId": "e88ca600-645a-4f05-a782-cdabd1570bbe"
   },
   "outputs": [],
   "source": [
    "# we need just the two columns ('comment_text' and 'toxic')\n",
    "# drop duplicates and it'll include empty comments too\n",
    "# we do not need any of the columns with empty values (3 lines)\n",
    "# start of your code\n",
    "df = df[['comment_text', 'toxic']].drop_duplicates().dropna(axis='index')\n",
    "# end of your code\n",
    "df.head()"
   ]
  },
  {
   "cell_type": "markdown",
   "metadata": {
    "id": "sio5PIMMgrrM"
   },
   "source": [
    "## Split Data\n",
    "Split Data into 3-Fold Training, Validation and tsting dataframes and save to memory for later use."
   ]
  },
  {
   "cell_type": "code",
   "execution_count": null,
   "metadata": {
    "colab": {
     "base_uri": "https://localhost:8080/"
    },
    "id": "V6wcwySGgrrM",
    "outputId": "be3ecb66-b518-4545-f2df-087e07b2faf4"
   },
   "outputs": [],
   "source": [
    "df,test_df = train_test_split(df,test_size=0.25,random_state=SEED,stratify=df['toxic'])\n",
    "# stratify tries to split in a manner that distribution of 'toxic' is same in both train and test\n",
    "\n",
    "train_df,val_df = train_test_split(df,test_size=0.20,random_state=SEED,stratify=df['toxic'])\n",
    "\n",
    "train_df.reset_index(drop=True),val_df.reset_index(drop=True), test_df.reset_index(drop=True)\n",
    "# split the data while preserving the type of the data. It preserves the original Index so you need to reset\n",
    "print(f'train_df is of type {type(train_df,).__name__} and is having a shape {train_df.shape}')\n",
    "\n",
    "# save the dataframes so that we can directly use those from disk by using PyTorch's modules\n",
    "train_df.to_csv('train.csv',index=False)\n",
    "val_df.to_csv('val.csv',index=False)\n",
    "test_df.to_csv('test.csv',index=False)"
   ]
  },
  {
   "cell_type": "markdown",
   "metadata": {
    "id": "8GIBnD8BgrrM"
   },
   "source": [
    "## Changing Structure\n",
    "Change the structure of data according to PyTorch's requirements"
   ]
  },
  {
   "cell_type": "code",
   "execution_count": null,
   "metadata": {
    "id": "wkMlvVW6grrN"
   },
   "outputs": [],
   "source": [
    "text_field = Field(tokenize=word_tokenize)\n",
    "# tokenize text using word_tokenize and convert to numerical form using default parameters\n",
    "\n",
    "label_field = LabelField(dtype=torch.float)\n",
    "# useful for label string to LabelEncoding. Not useful here but doesn't hurt either\n",
    "\n",
    "fields = [('comment_text',text_field),('toxic',label_field)]\n",
    "# (column name,field object to use on that column) pair for the dictonary\n",
    "\n",
    "# use TabularDataset to split train, val and test (1 line)\n",
    "# start of your code\n",
    "train, val, test = TabularDataset('train.csv', 'CSV', fields),\\\n",
    "    TabularDataset('val.csv', 'CSV', fields),\\\n",
    "    TabularDataset('test.csv', 'CSV', fields)\n",
    "# end of your code"
   ]
  },
  {
   "cell_type": "markdown",
   "metadata": {
    "id": "l9IKqlV5grrN"
   },
   "source": [
    "Let us explore that what exactly is in the `train`, `test`"
   ]
  },
  {
   "cell_type": "code",
   "execution_count": null,
   "metadata": {
    "colab": {
     "base_uri": "https://localhost:8080/"
    },
    "id": "WI5VUMomgrrN",
    "outputId": "a2e2026b-844b-49f4-e2c3-ffc4a121db4f"
   },
   "outputs": [],
   "source": [
    "print(f'Type of \"train:\" {type(train)}\\n Length of \"train\": {len(train)}\\n' )\n",
    "i = random.randint(0,len(train)) # generate a random index  within the lenth of train\n",
    "print(f'Keys at index {i} of \"train\": {train[i].__dict__.keys()}\\n')\n",
    "print(\"Contents at random index:\\n\",vars(train.examples[i]))\n",
    "# vars is used to see the whole dictonary when the classes or modules have __dict__() used"
   ]
  },
  {
   "cell_type": "markdown",
   "metadata": {
    "id": "43iV81BrgrrN"
   },
   "source": [
    "## Build Vocab\n",
    "out of 85000000 words, we choose to have just 100000 `UNIQUE` words to build a vocab. Words that are not a part of our vocab will be represented by specialised token, let's assume `<unk>`. There will be 1 extra token apart from `<unk>` and that'll be padding token `<pad>` ."
   ]
  },
  {
   "cell_type": "code",
   "execution_count": null,
   "metadata": {
    "colab": {
     "base_uri": "https://localhost:8080/"
    },
    "id": "Fw6fnL8bgrrN",
    "outputId": "1a3920b5-36a4-4a01-8c8d-d96f45d76a70"
   },
   "outputs": [],
   "source": [
    "import itertools\n",
    "\n",
    "text_field.build_vocab(train,max_size=100000)\n",
    "label_field.build_vocab(train)\n",
    "\n",
    "# words are stored as integers withn the vocab for internal data structure handling.\n",
    "# let us look at the {'word':respective_integer} of first 15\n",
    "# this is just pure python code to get first N elements from a a dictonary, as a dictonary (1 line)\n",
    "N = 15\n",
    "# start of your code\n",
    "print(dict(itertools.islice(text_field.vocab.stoi.items(), N)))\n",
    "# end of your code"
   ]
  },
  {
   "cell_type": "code",
   "execution_count": null,
   "metadata": {
    "colab": {
     "base_uri": "https://localhost:8080/"
    },
    "id": "zgBeE_2sgrrO",
    "outputId": "e7f5ca6a-13ce-4eb6-f49b-d8aa74a62d89"
   },
   "outputs": [],
   "source": [
    "print(f\"Most common 15 words in the vocab are: {text_field.vocab.freqs.most_common(15)}\")\n",
    "# integers i int the second part of each tuples are the frequencies of words in the vocab. They show that how many\n",
    "# number of times this specific word has apprered in the whole training data set"
   ]
  },
  {
   "cell_type": "markdown",
   "metadata": {
    "id": "LxXdmnAIgrrO"
   },
   "source": [
    "## BucketIterator\n",
    "`BucketIterator` is very useful for text processing because it returns the batch of texts which have almost same length. <font color='cornflowerblue'>As we know that while calculating gradients during the BPTT, the gradients are calculated to the whole length of text</font> and because <font color='coral'>we always calculate the gradients on the batches but not on an individual example to speed up the process, we'll have to pad the short length texts</font>. So the `BatchIterator` minimizes the hassle by making a batch which has all of the texts of same length more or less."
   ]
  },
  {
   "cell_type": "code",
   "execution_count": null,
   "metadata": {
    "id": "6NdrgDMRgrrO"
   },
   "outputs": [],
   "source": [
    "train_iter, val_iter, test_iter = BucketIterator.splits((train,val,test), batch_sizes=(32,128,128),\n",
    "                                              sort_key=lambda x: len(x.comment_text),\n",
    "                                              sort_within_batch=False,\n",
    "                                              device=device) # use the cuda device if available"
   ]
  },
  {
   "cell_type": "markdown",
   "metadata": {
    "id": "z8zLz1vFgrrO"
   },
   "source": [
    "# Build Model\n",
    "We'll build a class based model. Bes thing about PyTorch is that first of al it Dynamic in nature and scondly it is very close to the Neural Networks as you have to pass in the in,out and all the parameters. In case you are looking at the `PyTorch` the very first time, I'll highly recommend you to go and [check this notebook](https://www.kaggle.com/deshwalmahesh/pytorch-detailed-tutorial-for-beginners-using-cnn) which is dedicated towards the working of `PyTorch` and provides in depth knowledge.\n",
    "\n",
    "I hope you have been through the tutorials and know about the all the layers and structure. One thing that the notebook does not cover in that tutorial is `Embedding Layer`.\n",
    "\n",
    "**From the `PyTorch's` documentation:**\n",
    "\n",
    "<font color='coral'>A simple lookup table that stores embeddings of a fixed dictionary and size.\n",
    "    \n",
    "This module is often used to store word embeddings and retrieve them using indices. The input to the module is a list of indices, and the output is the corresponding word embeddings.</font></br>\n",
    "\n",
    "Before we want to give you a definition of that, let us look at a scenario:\n",
    "\n",
    "What if I ask you that what is common between `Eminem` and `Kanye`? Those who have something to do with Music will describe the features as the most accurately as `Rappers`. Those who have no knowledge of those but know there are English names, they'll describe that `Male English Names`. Those with just basic names will describe `English Words`. So like this, we have 3 features in our hand for 2 different attributes. What if I ask that what is difference between a `plastic bag` and `6ix9ine`??? You have no idea what that can be. You can't tell that both tend to have `garbage mostly`  until yov've seen the workings of both. This is exactly what we call `Embeddings` or `Latent Features`. Our Model can generate `K` new features from the existing `N` features in the data so that the model can learn from the hidden features insted of those original features. So if we train on the `lyrics of 6ix9ne`, `essays about garbage`, `Eminem biography` etc etc, it'll tend to put the first 2 in the category of `trash` and the last one as `legend` even if the computer has no knowledge about what just happed. I Guess my model is more intelligent and has better music taste than many people out there ;)\n",
    "\n",
    "**<font color='#2ef90'>Word embeddings are a type of word representation that allows words with similar meaning to have a similar representation.</font>**\n",
    "\n",
    "**<font color='red'>NOTE: While looking at the structure, please ignore the `LSTM` for now. Structure is almost same for both `RNN` and `LSTM` in `PyTorch` but working is different. To save the hassle of re-designing the network, I have used `if-else` statement. Later, I'll be talking about the LSTM too.</font>**"
   ]
  },
  {
   "cell_type": "code",
   "execution_count": null,
   "metadata": {
    "id": "HxJHlGdZgrrO"
   },
   "outputs": [],
   "source": [
    "class Network(torch.nn.Module):\n",
    "    \"\"\"\n",
    "    It inherits the functionality of Module class from torch.nn whic includes al the layers, weights, grads setup\n",
    "    and methods to calculate the same. We just need to put in the required layers and describe the flows as\n",
    "    which layers comes after which one\n",
    "    \"\"\"\n",
    "\n",
    "    def __init__(\n",
    "        self,\n",
    "        in_neuron,\n",
    "        embedding_dim=128,\n",
    "        hidden_size=256,\n",
    "        out_neuron=1,\n",
    "        m_type=\"rnn\",\n",
    "        drop=0.53,\n",
    "        **kwargs\n",
    "    ):\n",
    "        \"\"\"\n",
    "        Constructor of the class which will instantiate the layers while initialisation.\n",
    "\n",
    "        NOTE: Order of the layer defined here has nothing to do wit hthe working. Just like we can define Drouout()\n",
    "        layer anywhere in ithe init() but actual working depends on the forward() method  as well as the input\n",
    "        and output shapes. You should be aware of the in,out shapes as the mismatch can produce error.\n",
    "\n",
    "        args:\n",
    "            in_neuron: input dimensions of the first layer {int}\n",
    "            embedding_dim: number of latent features you want to calculate from the input data {int} default=128\n",
    "            hidden_size: neurons you want to have in your hidden RNN layer {int} default=256\n",
    "            out_neuron: number of outputs you want to have at the end.{int} default=1\n",
    "            model: whether to use 'rnn' or 'lstm' {string}\n",
    "            drop: proportion of values to dropout from the previous values randomly {float 0-1} default=0.53\n",
    "            **kwargs: any torch.nn.RNN or torch.nn.LSTM args given m_type='rnn' or'lstm' {dict}\n",
    "        out:\n",
    "            return a tensor of shape {batch,out_neuron} as output\n",
    "        \"\"\"\n",
    "        super(Network, self).__init__()  # call the constructor of Base Class\n",
    "        self.m_type = m_type\n",
    "\n",
    "        # embedding layer is always the first layer (1 line)\n",
    "        # start of your code\n",
    "        self.embedding = nn.Embedding(\n",
    "            num_embeddings=in_neuron, embedding_dim=embedding_dim\n",
    "        )\n",
    "        # end of your code\n",
    "\n",
    "        # whether to use the LSTM type model or the RNN type model. It'll use only 1 in forward()\n",
    "        # Note: Don't forget to pass them kwargs (3 lines)\n",
    "        # start of your code\n",
    "        if self.m_type == \"lstm\":\n",
    "            self.lstm = nn.LSTM(embedding_dim, hidden_size)\n",
    "        elif self.m_type == \"gru\":\n",
    "            self.gru = nn.GRU(embedding_dim, hidden_size)\n",
    "        else:\n",
    "            self.rnn = nn.RNN(embedding_dim, hidden_size)\n",
    "        # end of your code\n",
    "\n",
    "        # drop the values by random which comes from previous layer and last fully connected layer (2 lines)\n",
    "        # start of your code\n",
    "        self.dropout = nn.Dropout(p=drop)\n",
    "\n",
    "        self.dense = nn.Linear(in_features=hidden_size, out_features=out_neuron)\n",
    "        # end of your code\n",
    "\n",
    "    def forward(self, t):\n",
    "        \"\"\"\n",
    "        Activate the forward propagation of a batch at a time to transform the input bath of tensors through\n",
    "        the different layers to get an out which then will be compared to original label for computing loss.\n",
    "        args:\n",
    "            t: tensors in the form of a batch {torch.tensor}\n",
    "        \"\"\"\n",
    "        # Step:1 pass the incoming tensor to the first layer to get embeddings (1 line)\n",
    "        # start of your code\n",
    "        embedding_t = self.embedding(t)\n",
    "        # end of your code\n",
    "\n",
    "        # Step 2: Apply dropout\n",
    "        # start of your code\n",
    "        drop_emb = self.dropout(embedding_t)\n",
    "        # end of your code\n",
    "\n",
    "        # Step 3: Get hidden state and output. It'll use either LSTM or gru or RNN (3 lines)\n",
    "        # Note: shape of rnn_out = (seq_len, batch, num_directions * hidden_size)\n",
    "        # start of your code\n",
    "        if self.m_type == \"lstm\":\n",
    "            out, (hidden_state, _) = self.lstm(drop_emb)\n",
    "        elif self.m_type == \"gru\":\n",
    "            out, hidden_state = self.gru(drop_emb)\n",
    "        else:\n",
    "            out, hidden_state = self.rnn(drop_emb)\n",
    "        # end of your code\n",
    "\n",
    "        # Step 4: Remove the extra axis from Hidden State (1 line)\n",
    "        # Note: shape of hidden_state = (num_layers * num_directions, batch, hidden_size) = (1*1,b,h) so extra 1 layer\n",
    "        # start of your code\n",
    "        hidden_squeezed = torch.squeeze(hidden_state, dim=0)\n",
    "        # end of your code\n",
    "\n",
    "        # Step 5: Assert to check. if failed, AssertionError error will be thrown\n",
    "        assert torch.equal(out[-1, :, :], hidden_squeezed)\n",
    "        # out_rnn is concatenation of hidden states so squeezed hidden and last value of out_rnn should be equal\n",
    "\n",
    "        # Step 6: Pass the \"last\" hidden state only because we only want 1 output based on the last hidden state\n",
    "        return self.dense(\n",
    "            hidden_squeezed\n",
    "        )  # these are not the probabilities. We still need to use an activation"
   ]
  },
  {
   "cell_type": "markdown",
   "metadata": {
    "id": "6dGIx8dAgrrP"
   },
   "source": [
    "# Train Model"
   ]
  },
  {
   "cell_type": "code",
   "execution_count": null,
   "metadata": {
    "id": "bQV2WLUdgrrP"
   },
   "outputs": [],
   "source": [
    "def train_network(network,train_iter,optimizer,loss_fn,epoch_num):\n",
    "    '''\n",
    "    train the network using given parameters\n",
    "    args:\n",
    "        network: any Neural Network object\n",
    "        train_batch: iterator of training data\n",
    "        optimizer: optimizer for gradients calculation and updation\n",
    "        loss_fn: appropriate loss function\n",
    "        epoch_num = Epoch number so that it can show which epoch number in tqdm Bar\n",
    "    out:\n",
    "        a tuple of (average_loss,average_accuracy) of floating values for a single epoch\n",
    "    '''\n",
    "    epoch_loss = 0 # loss per epoch\n",
    "    epoch_acc = 0 # accuracy per epoch\n",
    "    total_num = 0\n",
    "    network.train() # set the model in training mode as it requires gradients calculation and updtion\n",
    "    # turn off while testing using  model.eval() and torch.no_grad() block\n",
    "\n",
    "    for batch in tqdm(train_iter,f\"Epoch: {epoch_num}\"):\n",
    "        # data will be shown to model in batches per epoch to calculate gradients per batch\n",
    "        # step 1: clear all the calculated grdients from previous step\n",
    "        # step 2: squeeze out the extra dimension [batch_size,1]\n",
    "        # step 3: calculate loss on the whole batch\n",
    "        # step 4: sigmoid will convert each output value (which is a single float value for each sentence in batch)\n",
    "        # to probability between {0,1}. round is nothing but setting the threshold at 0.5 that if probability\n",
    "        # is greater than 0.5, it belongs to one class and if it is less than 0.5, it belongs to other\n",
    "        # step 5: get a floating tensors of predicted classes  which match original true class\n",
    "        # step 6: calculate acc\n",
    "        # step 7: Start Back Propagation so that model can calculate gradients based on loss\n",
    "        # step 8: update the weights based on gradient corresponding to each neuron\n",
    "        # step 9: add the loss for this batch to calculate the loss for whole epoch\n",
    "        # step 10: add the acc for this batch to calculate the acc for whole epoch (10 lines)\n",
    "\n",
    "        # start of your code\n",
    "        optimizer.zero_grad()\n",
    "        input, label = batch.comment_text, batch.toxic\n",
    "        output_logit = network(input).squeeze()\n",
    "        loss = loss_fn(output_logit, label)\n",
    "        loss.backward()\n",
    "        output = torch.round(nn.Sigmoid()(output_logit))\n",
    "        acc = torch.eq(output, label).sum().item() / batch.batch_size\n",
    "        optimizer.step()\n",
    "        epoch_loss += loss\n",
    "        epoch_acc += acc\n",
    "        # end of your code\n",
    "\n",
    "        time.sleep(0.001) # for tqdm progess bar\n",
    "    return epoch_loss/len(train_iter), epoch_acc/len(train_iter)"
   ]
  },
  {
   "cell_type": "code",
   "execution_count": null,
   "metadata": {
    "id": "oi5VOBxegrrP"
   },
   "outputs": [],
   "source": [
    "def evaluate_network(network,val_test_iter,optimizer,loss_fn):\n",
    "    '''\n",
    "    evaluate the network using given parameters\n",
    "    args:\n",
    "        network: any Neural Network object\n",
    "        val_test_iter: iterator of validation/test data\n",
    "        optimizer: optimizer for gradients calculation and updation\n",
    "        loss_fn: appropriate loss function\n",
    "    out:\n",
    "        a tuple of (average_loss,average_accuracy) of floating values for the incoming dataset\n",
    "    '''\n",
    "    total_loss = 0  # total loss for the whole incoming data\n",
    "    total_acc = 0 # total accuracy for the whole data\n",
    "\n",
    "    network.eval() # set the model in evaluation mode to not compute gradients and reduce overhead\n",
    "\n",
    "    with torch.no_grad(): # turn of gradients calculation\n",
    "\n",
    "        for batch in val_test_iter:\n",
    "            # step 1: squeeze out the extra dimension [batch_size,1]\n",
    "            # step 2: calculate loss on the whole batch\n",
    "            # step 3: sigmoid will convert each output value (which is a single float value for each sentence in batch)\n",
    "            # to probability between {0,1}. round is nothing but setting the threshold at 0.5 that if probability\n",
    "            # is greater than 0.5, it belongs to one class and if it is less than 0.5, it belongs to other\n",
    "            # step 4: get a floating tensors of predicted classes  which match original true class\n",
    "            # step 5: calculate acc\n",
    "            # step 6: add the loss for this batch to calculate the loss for whole epoch\n",
    "            # step 7: add the acc for this batch to calculate the acc for whole epoch (7 lines)\n",
    "\n",
    "            # start of your code\n",
    "            input, label= batch.comment_text, batch.toxic\n",
    "            output_logits = network(input).squeeze(dim=1)\n",
    "            output = torch.round(nn.Sigmoid()(output_logits))\n",
    "            acc = torch.eq(output, label).sum().item() / batch.batch_size\n",
    "            loss = loss_fn(output_logits, label)\n",
    "            total_acc += acc\n",
    "            total_loss += loss\n",
    "            # end of your code\n",
    "\n",
    "        return total_loss/len(val_test_iter), total_acc/len(val_test_iter)"
   ]
  },
  {
   "cell_type": "markdown",
   "metadata": {
    "id": "JJF8hWiPgrrP"
   },
   "source": [
    "## RNN\n",
    "We'll train our RNN First"
   ]
  },
  {
   "cell_type": "code",
   "execution_count": null,
   "metadata": {
    "colab": {
     "base_uri": "https://localhost:8080/",
     "height": 66,
     "referenced_widgets": [
      "e640d0e65e6948379642068216b340d1",
      "5c2611d7215d41829f503b4824fa908a",
      "62eaa0fcc9ff4137bfab3347526bf8c4",
      "92b2a47d88bb4f9b83d52ed4bc290993",
      "6d02ecb96ce0442abafb95d20ad1afd3",
      "b1b52ac7b98940039d86d023b2c7e04e",
      "61167de4032d4bdd8a8d58d7bd2b1772",
      "8fc43c952dcb46ad9e7cf3305896b8d5",
      "fb9ea24c746d45f992a55e4f9fde4119",
      "4e3c147646a248a3894c4f90ac0c0e84",
      "38693ef222654f53a889f920ec17c46e"
     ]
    },
    "id": "JhilqswNgrrP",
    "outputId": "51a75305-5cb7-4c6b-eb16-83b6468e3026"
   },
   "outputs": [],
   "source": [
    "in_neuron = len(text_field.vocab)\n",
    "lr = 3e-4 # learning rate = 0.0003\n",
    "\n",
    "network = Network(in_neuron) # instantiate the RNN object. other parameters remain default\n",
    "if torch.cuda.is_available():\n",
    "    network.cuda() # activate GPU spport\n",
    "\n",
    "optimizer = torch.optim.Adam(network.parameters(),lr=lr) # use Adam Optimizer\n",
    "loss_fn = torch.nn.BCEWithLogitsLoss() # Sigmoid activation with Binary Cross Entropy loss. This is more\n",
    "# numerically stable than using a plain Sigmoid followed by a BCELoss as, by combining the operations into one\n",
    "# layer,we take advantage of the log-sum-exp trick for numerical stability\n",
    "\n",
    "for epoch in range(EPOCH):\n",
    "    train_loss, train_acc = train_network(network,train_iter,optimizer,loss_fn,epoch+1)\n",
    "    val_loss,val_acc = evaluate_network(network,val_iter,optimizer,loss_fn)\n",
    "    tqdm.write(f'''End of Epoch: {epoch+1}  |  Train Loss: {train_loss:.3f}  |  Val Loss: {val_loss:.3f}  |  Train Acc: {train_acc*100:.2f}%  |  Val Acc: {val_acc*100:.2f}%''')"
   ]
  },
  {
   "cell_type": "markdown",
   "metadata": {
    "id": "t_Dg-f_HbxhX"
   },
   "source": [
    "## GRU"
   ]
  },
  {
   "cell_type": "code",
   "execution_count": null,
   "metadata": {
    "colab": {
     "base_uri": "https://localhost:8080/",
     "height": 66,
     "referenced_widgets": [
      "515b5ef4b4944b70ac7c07a8b76e8d6c",
      "0d0eb5a530c745cea0db545c7c8c3b19",
      "5216a954a5ca4d0cb17e8ca797fe8818",
      "8eca02ed8902476587acd978d612f5ef",
      "0b0044d9f2354383b62d7fe6b781db94",
      "41437c99f4be4e7d930ec343000a8d53",
      "b75400eae4c64d9990dbb9f5d9b0bc82",
      "700b7cb3a40d4b9e9c18830ed192c965",
      "57bf46c0bfb44a3a845a09daa142f219",
      "8abe3f6385c14c72a9ce6178cfb33fe3",
      "9e35e85e2d714b44ae54d181e83dd4fb"
     ]
    },
    "id": "-WIsh5Oyb0wR",
    "outputId": "ce30ab39-8e81-44dd-bcfe-caef325102c5"
   },
   "outputs": [],
   "source": [
    "network = Network(in_neuron,m_type='gru')\n",
    "\n",
    "if torch.cuda.is_available():\n",
    "    network.cuda() # activate GPU spport\n",
    "\n",
    "# optimizer and losses remains the same\n",
    "optimizer = torch.optim.Adam(network.parameters(),lr=lr) # use Adam Optimizer\n",
    "loss_fn = torch.nn.BCEWithLogitsLoss()\n",
    "\n",
    "for epoch in range(EPOCH):\n",
    "    train_loss, train_acc = train_network(network,train_iter,optimizer,loss_fn,epoch+1)\n",
    "    val_loss,val_acc = evaluate_network(network,val_iter,optimizer,loss_fn)\n",
    "    tqdm.write(f'''End of Epoch: {epoch+1}  |  Train Loss: {train_loss:.3f}  |  Val Loss: {val_loss:.3f}  |  Train Acc: {train_acc*100:.2f}%  |  Val Acc: {val_acc*100:.2f}%''')"
   ]
  },
  {
   "cell_type": "markdown",
   "metadata": {
    "id": "Whsh59_0grrQ"
   },
   "source": [
    "## LSTM\n",
    "LSTM is a specialised version of RNN which has 4 Gates. Instead of updating the states by using the the previous values in RNN, these 4 gates together do the following tasks:\n",
    "1. Which Information is valuable\n",
    "2. Which information we have to keep\n",
    "3. Which information we have to forget\n",
    "4. Which information will be used to update the state\n",
    "5. Which information has become obsolete and we have to forget it"
   ]
  },
  {
   "cell_type": "code",
   "execution_count": null,
   "metadata": {
    "colab": {
     "base_uri": "https://localhost:8080/",
     "height": 66,
     "referenced_widgets": [
      "cdd8a5dc34f84477b0b1a9391ee889a7",
      "f3aeeb84fa534b798bb0b58a785eec16",
      "d58450118a90431b857f5fc1e5c17499",
      "2f433600f83348db9543f03396a3b71e",
      "0c8cb4359a0643cfac78069d1891007c",
      "5dfe47cf317a4a77853bacc65ee60e3c",
      "4e8b6c4b360941f9ac07041a9c418e17",
      "50a4a96740f94ba4a89cbd4aee659a02",
      "9192ced25a6e4b01b95ff43b30239832",
      "658e91f553d049efb1be550ba4f62bdf",
      "0632e482c99748ee96ee97c293aae2f5"
     ]
    },
    "id": "mOJr-ZLdgrrQ",
    "outputId": "495b4a72-c44a-4b3a-8294-b62d6054a45f"
   },
   "outputs": [],
   "source": [
    "network = Network(in_neuron,m_type='lstm')\n",
    "\n",
    "if torch.cuda.is_available():\n",
    "    network.cuda() # activate GPU spport\n",
    "\n",
    "# optimizer and losses remains the same\n",
    "optimizer = torch.optim.Adam(network.parameters(),lr=lr) # use Adam Optimizer\n",
    "loss_fn = torch.nn.BCEWithLogitsLoss()\n",
    "\n",
    "for epoch in range(EPOCH):\n",
    "    train_loss, train_acc = train_network(network,train_iter,optimizer,loss_fn,epoch+1)\n",
    "    val_loss,val_acc = evaluate_network(network,val_iter,optimizer,loss_fn)\n",
    "    tqdm.write(f'''End of Epoch: {epoch+1}  |  Train Loss: {train_loss:.3f}  |  Val Loss: {val_loss:.3f}  |  Train Acc: {train_acc*100:.2f}%  |  Val Acc: {val_acc*100:.2f}%''')"
   ]
  },
  {
   "cell_type": "markdown",
   "metadata": {
    "id": "U3JLXR6ggrrQ"
   },
   "source": [
    "# Bidirectional RNN/ LSTM\n",
    "These are specialised version of RNN which not only look at the past but the future too. Means instead of looking at 1 word at time, they look at two words but in opposite direction. Don't worry, let us try to see with an example. Suppose we have sentence `Shady Records not shady plans`. In the birdirectional structure, we'll ave 2 `pipelines` (RNN Cells) working in different direction. First will be like a simple RNN reading words `H0` + `Shady` -> `H1` -> `H1`+ Records -> `H2` and so on .... In the same time, there will be another RNN cells working backwards in the same way.. They'll be Doing `H_0` + `plans` -> `H_1` -> `H_1` + `shady` -> `H_2` and so on..... So in this way, the first output at time step `T0` will be a combination of both **First Hidden State from One Pipeline + Last Hidden State from Second Line**. And for the Last Time stem `Tn`, it'll be **Last Hidden State of one Pipeline + First Hidden State of Second Pipeline**. In this way, it'll calculate First to last and last to first states simultaneously. So the two hidden states will updted by not just past but Future too.\n",
    "\n",
    "**This is helpful in predictions where the Past is dependent on the future**. Such as in cases where we have to predict \"it ___ that's why I had an umbrella with me\""
   ]
  },
  {
   "cell_type": "markdown",
   "metadata": {
    "id": "kzz8S-AVgrrQ"
   },
   "source": [
    "## Multi Layer (Deep) RNN\n",
    "In this type of RNN, we can have `RNN/LSTM/GRU` cells not only giving Hidden States to cells to their right(Uni directional) but to cell that is above to them. We can see that like two boxes stacked over two boxes. So any cell at time T, not only uses the Hidden state from the cells before it but from the cells below it too. SO any output would then be a function of `2 hidden states and the inputs` **For a two layered** architecture.\n",
    "\n",
    "YOu can learn more about Deep RNNs by visiting [this Youtube link](https://www.youtube.com/watch?v=U7wN1x8zsG8&t=0s)\n",
    "\n",
    "**<font color='red'>NOTE: We can use Bidirectional with Stacked to have a very powerfulNetwork. In this setup, each cell will be having 3 different `Hidden States` each from left,right and below cell</font>**"
   ]
  },
  {
   "cell_type": "markdown",
   "metadata": {
    "id": "GC28OyU4grrQ"
   },
   "source": [
    "## Build Deep Bi-Directional RNN"
   ]
  },
  {
   "cell_type": "code",
   "execution_count": null,
   "metadata": {
    "id": "k8jHXGpLgrrQ"
   },
   "outputs": [],
   "source": [
    "class DeepNetwork(torch.nn.Module):\n",
    "    \"\"\"\n",
    "    Deep RNN Network which can have either one both of stacked and bi-directional properties\n",
    "    \"\"\"\n",
    "\n",
    "    def __init__(\n",
    "        self,\n",
    "        in_neuron,\n",
    "        embedding_dim=100,\n",
    "        hidden_size=256,\n",
    "        out_neuron=1,\n",
    "        m_type=\"rnn\",\n",
    "        drop=0.53,\n",
    "        **kwargs\n",
    "    ):\n",
    "        \"\"\"\n",
    "        Constructor of the class which will instantiate the layers while initialisation.\n",
    "\n",
    "        args:\n",
    "            in_neuron: input dimensions of the first layer {int}\n",
    "            embedding_dim: number of latent features you want to calculate from the input data {int} default=100\n",
    "            hidden_size: neurons you want to have in your hidden RNN layer {int} default=256\n",
    "            out_neuron: number of outputs you want to have at the end.{int} default=1\n",
    "            model: whether to use 'rnn','lstm' or 'gru' {string}\n",
    "            drop: proportion of values to dropout from the previous values randomly {float 0-1} default=0.53\n",
    "            **kwargs: any valid torch.nn.RNN, torch.nn.LSTM or torch.nn.GRU args with either 'bidirectional'=True\n",
    "                      or 'num_layers'>1\n",
    "        out:\n",
    "            return a tensor of shape {batch,out_neuron} as output\n",
    "        \"\"\"\n",
    "        super(DeepNetwork, self).__init__()\n",
    "\n",
    "        self.m_type = m_type\n",
    "        # embedding layer is always the first layer (1 line)\n",
    "        # start of your code\n",
    "        self.embedding = nn.Embedding(\n",
    "            num_embeddings=in_neuron,\n",
    "            embedding_dim=embedding_dim,\n",
    "        )\n",
    "        # end of your code\n",
    "\n",
    "        # whether to use the LSTM type model or the RNN type model. It'll use only 1 in forward()\n",
    "        # Note: Don't forget to pass them kwargs (3 lines)\n",
    "        # start of your code\n",
    "        num_layers = kwargs[\"num_layers\"] if \"num_layers\" in kwargs.keys() else 1\n",
    "        self.bidirectional = (\n",
    "            kwargs[\"bidirectional\"] if \"bidirectional\" in kwargs.keys() else False\n",
    "        )\n",
    "        if self.m_type == \"lstm\":\n",
    "            self.lstm = nn.LSTM(\n",
    "                input_size=embedding_dim,\n",
    "                hidden_size=hidden_size,\n",
    "                num_layers=num_layers,\n",
    "                bidirectional=self.bidirectional,\n",
    "            )\n",
    "        elif self.m_type == \"gru\":\n",
    "            self.gru = nn.GRU(\n",
    "                input_size=embedding_dim,\n",
    "                hidden_size=hidden_size,\n",
    "                num_layers=num_layers,\n",
    "                bidirectional=self.bidirectional,\n",
    "            )\n",
    "        else:\n",
    "            self.rnn = nn.RNN(\n",
    "                input_size=embedding_dim,\n",
    "                hidden_size=hidden_size,\n",
    "                num_layers=num_layers,\n",
    "                bidirectional=self.bidirectional,\n",
    "            )\n",
    "        # end of your code\n",
    "\n",
    "        # drop the values by random which comes from previous layer and last fully connected layer (2 lines)\n",
    "        # Note: Last output Linear Layer will have the two Hidden States from both the directions to have the result\n",
    "        # start of your code\n",
    "        self.dropout = nn.Dropout(p=drop)\n",
    "        correlation = 2 if self.bidirectional else 1\n",
    "        self.dense = nn.Linear(in_features=hidden_size* correlation, out_features=out_neuron)\n",
    "        # end of your code\n",
    "\n",
    "    def forward(self, t):\n",
    "        \"\"\"\n",
    "        Activate the forward propagation\n",
    "        args:\n",
    "            t: tensors in the form of a batch {torch.tensor}\n",
    "        \"\"\"\n",
    "        # Step:1 get embeddings and dropout (1 line)\n",
    "        # start of your code\n",
    "        embedding_t = self.dropout(self.embedding(t))\n",
    "        # end of your code\n",
    "\n",
    "        # Step 2: Get hidden state and output. It'll use either LSTM or gru or RNN (3 lines)\n",
    "        # Note: shape of rnn = (seq_len, batch, num_directions * hidden_size)\n",
    "        # start of your code\n",
    "        if self.m_type == \"lstm\":\n",
    "            out, (hidden_state, _) = self.lstm(embedding_t)\n",
    "        elif self.m_type == \"gru\":\n",
    "            out, hidden_state = self.gru(embedding_t)\n",
    "        else:\n",
    "            out, hidden_state = self.rnn(embedding_t)\n",
    "        # end of your code\n",
    "\n",
    "        # Step 3: Concatenate the last and second last hidden. One is from backward and one is from forward (1 line)\n",
    "        # start of your code\n",
    "        t = torch.cat((hidden_state[-2,:,:], hidden_state[-1,:,:]), dim=1) if self.bidirectional else hidden_state[-1,:,:]\n",
    "        # t = out[-1,:,:]\n",
    "        # end of your code\n",
    "\n",
    "        return self.dense(t)"
   ]
  },
  {
   "cell_type": "markdown",
   "metadata": {
    "id": "bvVfPWwRgrrR"
   },
   "source": [
    "## Train and Evaluate"
   ]
  },
  {
   "cell_type": "code",
   "execution_count": null,
   "metadata": {
    "colab": {
     "base_uri": "https://localhost:8080/",
     "height": 66,
     "referenced_widgets": [
      "5443ea6e72f448d3b23a10c3533f4d57",
      "bacfb7091a6644f6b883fcc400e839f8",
      "fafea16e48364fccb35cbdc32adf657c",
      "772430f69dca43f5b90d73886648f132",
      "cce2366f85cb4f0489a3618ffc8052f9",
      "375fe332d8554d359ea90446e31cecec",
      "9ceda1b0f85647be9db4402d3c729ed3",
      "b956f700a2914875a0ffaf01a7f84acc",
      "bb1d4f2c1b6245a8a36a217c26e62e37",
      "b449dbe3d8d046378226bc78c4a62583",
      "68e2ea8d92b1455c84d4358e3b279351"
     ]
    },
    "id": "vpa6t1l0grrV",
    "outputId": "899bf8c7-6d2a-4438-93ea-9d0618b3d1bf"
   },
   "outputs": [],
   "source": [
    "rnn_kwargs = {'num_layers':2,'bidirectional':True}\n",
    "in_neuron = len(text_field.vocab)\n",
    "\n",
    "network = DeepNetwork(in_neuron,m_type='rnn',attention=True,**rnn_kwargs)\n",
    "\n",
    "if torch.cuda.is_available():\n",
    "    network.cuda() # activate GPU spport\n",
    "\n",
    "# optimizer and losses remains the same\n",
    "lr = 3e-4\n",
    "optimizer = torch.optim.Adam(network.parameters(),lr=lr) # use Adam Optimizer\n",
    "loss_fn = torch.nn.BCEWithLogitsLoss()\n",
    "\n",
    "for epoch in range(EPOCH):\n",
    "    train_loss, train_acc = train_network(network,train_iter,optimizer,loss_fn,epoch+1)\n",
    "    val_loss,val_acc = evaluate_network(network,val_iter,optimizer,loss_fn)\n",
    "    tqdm.write(f'''End of Epoch: {epoch+1}  |  Train Loss: {train_loss:.3f}  |  Val Loss: {val_loss:.3f}  |  Train Acc: {train_acc*100:.2f}%  |  Val Acc: {val_acc*100:.2f}%''')"
   ]
  },
  {
   "cell_type": "markdown",
   "metadata": {
    "id": "iQAnT4NDgrrW"
   },
   "source": [
    "You can try to work on different combinations of Deep, Bidirectional and type of RNN (LSTM, GRU, or plain RNN) to select a model. Some of the models will perform good while other will perform very poorly with the default 3 Epoch. You can change the Parameters to have a better model."
   ]
  },
  {
   "cell_type": "markdown",
   "metadata": {
    "id": "Hw7Dh9ewgrrW"
   },
   "source": [
    "# Embeddings\n",
    "## Text as Numbers\n",
    "Before we start on Embeddings let us talk about how you can represent text? Text is, youn know \"text\" and machines only know numbers so in order to tell the machine about the text, we use different approaches most widely as `Boolean Matrix or One Hot Encoding`, `Frquency Based or TfIdf` and `Sementic Based or Embeddings`.\n",
    "\n",
    "For example in the sentence `Messi, Eminem and Lebron, they all have achieved greatness to a certain level that it seems like nobody in the near future is going to be even closeer to the half way mark.`\n",
    "\n",
    "There are few choices and the simplese being is giving each unique word a number and getting a vector of length  equal to the total number of words in the sentence. So let us suppose Messi becomes 1, Eminem becomes 2 and so on to represent all the sentences. But the problem with this method is that the model will think Eminem `2` has more influence than Messi `1` in the sentence but in fact there is no ordering.\n",
    "\n",
    "### <font color='teal'>Boolean Vectors:</font>\n",
    "\n",
    "We can have a work around it. We can take every word in all the sentences and and make a vector of length equal to all the number of all the unique words in all the sentences and replace. For example in the 3 sentences, `My name is Marshall`, `Shady is my alter ego`,` Eminem is my stage name`, We'll have 9 unique words ans every sentence will be represented by a vector of length 9 where every word will be represented by a 1 if present at a certain location. For example if `name` is represented by the 2nd index, then in the **First** and **Third** sentence, the second index will be a 1 instead of zero where in the **Second** sentence, it'll be a zero because in First and thrird, `name` is present and is defined by the index position 2. This is all cool until it's not. There are lots of problems with the scenario. For example, if a sentence comes, `Hi!!`, then it'll be adding one more dto the length of vector and even though it's length is just one, it'll be represented by a vector of length 10 where 9 of the indices are filled by 0. Another problem is that when a sentence like `Shady is not shady by heart` comes, even though the word `shady` has come twice, it'll be a single 1 at the inde defined so model will have no way of knowing whether the word came 1 or 1000 times.\n",
    "\n",
    "### <font color='teal'>Frequency Based:</font>\n",
    "\n",
    "We can modify the above problem by giving the position a number equal to the frequeny of word  ( how many times the word has repeated in the sentence) so at a defined index of `Shady`, it'll be a 2. Now let us think about pronouns, articles and connectors. They repeat a lot and lot (a,an,the,at,from,on ...bla bla bla..) So if a frequency is given, again it'll make the model think that `at` is more **TfIdf: Tern Frequency Inverse Term Frequency**. What it does is that it gives the words more weightage which appear more in a document. For example in an article Title about `Eminem is the Greatest: Why?` there will be lots of times when `Eminem` and `greatest` will be there that can easily define the Title of the Article but lots of time there will be `a,an,the,at` will bethere in article too which can hamper. So `TfIdf` surely gives more weightage to the words repeated in lines but it'll penalize the words which comes too often in the whole article which will surely be the non essential words like `a,an,the` etc. This methos eeems perfect but  what about when we want to find the relation of `Eminem` to the `Greatest`?? There is no way to find that using any of the above techniques. This is where the Next Part Comes into play.\n",
    "\n",
    "## Embeddings\n",
    "\n",
    "Solution to all the problems lies in the Embeddings. Word embedding methods learn a real-valued vector representation for a predefined fixed sized vocabulary from a corpus of text. The learning process is either joint with the neural network model on some task, such as document classification, or is an unsupervised process, using document statistics.\n",
    "\n",
    "Confused?? Don't be. Word Embeddings are the Words converted to a Vector of Length  `N` which consists floating values usually in range 0-1. These vectors are not at random but they are there for a reason. If the distance between 2 vectors are small in that embedding means that those two vectors are somehow (and I mean SOMEHOW) related. In this context, we'll say that the disctance of the vector formed by `Moon` will closer to`Earth`  tha `Apple`. Simlarly, the embeddings can JUSt KNOW that Paris, New Delhi and London are related and will have very short distances. These Embeddings represent N dimensional HIDDEN features between words. For Example there are 3 hidden features explored by Embeddings by words as `[Scary`, `Soft` ,`Intelligent]` in the range 0-1. If we have 3 words as ``Cat``,`Gun` and `Human`, then the vector for `Human = [0.3, 0.3, 0.9], Gun = [0.8, 0.1, 0.01], Cat = [0.4, 0.9, 0,4]`. Which means that Human is somewhat scary, somewhat sft but highly intelligent and a cat is scary but super soft. The only thing to note here is that the **Machine Learning Model does not even know what  it has found. To the model, these are some random dimensions and according to these dimensions, these words (one hot encoded vectors) relate.**\n",
    "\n",
    "Whatever I have just described can be seen viually and mathematically by watching [this Andrew NG video](https://www.coursera.org/lecture/nlp-sequence-models/word-representation-6Oq70)\n",
    "\n",
    "## How to?\n",
    "Embeddings are generally generated by using the statistical means on a **HUGE CORPUS OF CLEANED DATA**. There are predefined embeddings such as Google's Word2Vec and Stanford's GloVe but you can use your own Embeddings too by using an `EmbeddingLayer` as the first layer in any Neural Network. The dimension of this layer will be the number of hidden features you want to get and the updated with each epochs will be in a manner to get the context from your data.\n",
    "\n",
    "A very detailed and intutive explanation about Embeddings and it's types is given in [this post](https://machinelearningmastery.com/what-are-word-embeddings/).\n",
    "\n",
    "## GloVe: Global Vectors for Word Representation\n",
    "\n",
    "We'll be using **GLoVE** which is a hybrid approach to mix both the global statistics of matrix factorization techniques like LSA with the local context-based learning in Word2Vec. Rather than using a window to define local context, GloVe constructs an explicit word-context or word co-occurrence matrix using statistics across the whole text corpus. The result is a learning model that may result in generally better word embeddings.\n",
    "\n",
    "GloVe has used  `word-co-occurnce` and `Nearst Neighbour` to get all these embeddings using a Neural Network. It mans that given a word, it tries to find the similar words used in the same **CONTEXT** and given a context, it tries to find words that can be used in the same context. For example let us assume that as `Lionel` and `Messi` are used most of the times together so given `Lionel`, it'll try to predict `Messi` and vice versa (word-Co-occurance). In the same way `Messi` and `Football` are used together in the same context so when you try to look up for similar words as `Messi`, it'll give you `Football` (context).\n",
    "\n",
    "## Working of GloVe\n",
    "Working of GloVe is quite interesting. It has learned that `man+feminine` = `woman`  so `king+femenine` = `queen`. In other words, it can find the relation that if you subtract the two vectors and add the third vector, it can find a 4th vector which is related to 3rd vector in the same 2nd is related to 1st. For example if you do, `woman-man+king`, it'll return `queen` as `woman-man` will give you the `femenine` dimension and adding femenine to king will be equal to queen.# Thank You\n",
    "In the next part, We'll be covering Embeddings (such as GloVe, Word2Vec), Sequence-to-Sequence Modelling, Attention Modelling with Google's BERT to perform tasks which are not possible with fixed length inputs and outputs."
   ]
  },
  {
   "cell_type": "code",
   "execution_count": null,
   "metadata": {
    "colab": {
     "base_uri": "https://localhost:8080/"
    },
    "id": "fx5roxYVgrrW",
    "outputId": "2d894dec-a9b1-4c90-c4d4-4b98c6948f93"
   },
   "outputs": [],
   "source": [
    "# Load GloVe embeddings\n",
    "glove = GloVe(name='6B', dim=100)  # Adjust dim to match the chosen GloVe embedding dimension\n",
    "\n",
    "print(f'Shape of GloVe vectors is {glove.vectors.shape}')"
   ]
  },
  {
   "cell_type": "markdown",
   "metadata": {
    "id": "N700lVWAgrrX"
   },
   "source": [
    "This means tht there are 400000 words and each one represented by a vector length 100. Every word in this vocab has a unique integer number **for internal storage purpose only**. Words are converted to vectors and and you can use `glove.stoi['some_small_cased_word']` to see the identifier of that word.\n",
    "\n",
    "To access the vector representation of that word, simply use `glove['word']`. When a word is not found in the glove, it is changed by a `<unk>` vector of all zeros of same size."
   ]
  },
  {
   "cell_type": "code",
   "execution_count": null,
   "metadata": {
    "colab": {
     "base_uri": "https://localhost:8080/"
    },
    "id": "UtE54SAggrrX",
    "outputId": "a5f3290c-7058-47c4-cd37-b87a662df823"
   },
   "outputs": [],
   "source": [
    "print(f\"eminem is represented by the index location at: {glove.stoi['eminem']} and has the following vector values: \\n {glove['eminem']}\")"
   ]
  },
  {
   "cell_type": "markdown",
   "metadata": {
    "id": "gj0upbg8grrX"
   },
   "source": [
    "# GloVe Helpers"
   ]
  },
  {
   "cell_type": "code",
   "execution_count": null,
   "metadata": {
    "id": "CTqHu82hgrrX"
   },
   "outputs": [],
   "source": [
    "def get_vector(glove,word):\n",
    "    '''\n",
    "    Get the vector corresponding to a word from Glove\n",
    "    args:\n",
    "        glove: glove embeddings\n",
    "        word:  any word\n",
    "    out: a vector of dimensions according to the embedding size. If a word is not present, it returns zero vector\n",
    "    '''\n",
    "    # Note: first convert all characters to lower case. (1 line)\n",
    "    # start of your code\n",
    "    output = glove[word.lower()]\n",
    "    # end of your code\n",
    "    return output\n",
    "\n",
    "\n",
    "def find_closest(glove: GloVe,input_value,n=6,vector=False):\n",
    "    '''\n",
    "    Find the closest words to a given word from the embedding\n",
    "    args:\n",
    "        glove: glove embeddings\n",
    "        input_value: {string,vector} any english word or vector representation from embedding\n",
    "        n: number of closest words to return\n",
    "        vector: whether input type is a word or a vector\n",
    "    out:\n",
    "        tensor of tuple of words and distances\n",
    "    '''\n",
    "    if not vector:\n",
    "        vector = get_vector(glove,input_value) # get vector of the current word\n",
    "    else:\n",
    "        vector  = input_value\n",
    "\n",
    "    distances = []\n",
    "    # start of your code (4 lines)\n",
    "    distances += [(w, torch.dist(vector, get_vector(glove, w))) for w in glove.itos]\n",
    "    sorted_distances = sorted(distances, key=lambda x: x[1])\n",
    "    # end of your code\n",
    "    return sorted_distances[:n] # return top n\n",
    "\n",
    "\n",
    "def print_neatly(list_of_tuples):\n",
    "    '''\n",
    "    Print a tuple cleanly\n",
    "    args:\n",
    "        list_of_tuples: List of tuple of 2 values\n",
    "    '''\n",
    "    print('Distances \\t Words\\n')\n",
    "    for tup in list_of_tuples:\n",
    "        print('%.3f \\t\\t %s'%(tup[1],tup[0]))\n",
    "    return None\n",
    "\n",
    "\n",
    "def find_analogy(glove,w1,w11,w2,n=7):\n",
    "    '''\n",
    "    Find analogy of the third word given by analogy of two words\n",
    "    args:\n",
    "        w1: first word\n",
    "        w11: analogy of the first word\n",
    "        w2: second word\n",
    "        n: number of analogies to find\n",
    "    out:\n",
    "        words that can relate to w2 in the same way w11 is related to w1\n",
    "    '''\n",
    "    # Note: find extra 3 n (n = n+3)\n",
    "    # Note: w1, w11 and w2 should not be in the output (6 lines)\n",
    "    print(f\"{w1} : {w11} :: {w2} : ?\")\n",
    "    # start of your code (4 lines)\n",
    "    closest_n = find_closest(glove, get_vector(glove, w2) + get_vector(glove, w11)-get_vector(glove, w1), n=n, vector=True)\n",
    "    # end of your code\n",
    "    return closest_n"
   ]
  },
  {
   "cell_type": "markdown",
   "metadata": {
    "id": "v3EdJvaKgrrY"
   },
   "source": [
    "# Try out the cool features"
   ]
  },
  {
   "cell_type": "code",
   "execution_count": null,
   "metadata": {
    "colab": {
     "base_uri": "https://localhost:8080/"
    },
    "id": "Q0l81phFgrrY",
    "outputId": "34b3074b-35ec-4867-a7ed-79c5636c5a3d"
   },
   "outputs": [],
   "source": [
    "print_neatly(find_closest(glove,'eminem'))"
   ]
  },
  {
   "cell_type": "code",
   "execution_count": null,
   "metadata": {
    "colab": {
     "base_uri": "https://localhost:8080/"
    },
    "id": "Q5Ox3Xq_grrY",
    "outputId": "ed84ee0c-f3a7-4eec-a70a-fe550072ba3b"
   },
   "outputs": [],
   "source": [
    "print_neatly(find_analogy(glove,'eminem','rapper','messi'))"
   ]
  },
  {
   "cell_type": "markdown",
   "metadata": {
    "id": "A070vLpNgrrY"
   },
   "source": [
    "# Data Processing For GloVe"
   ]
  },
  {
   "cell_type": "code",
   "execution_count": null,
   "metadata": {
    "id": "BCq9CAnygrrY"
   },
   "outputs": [],
   "source": [
    "# step1: tokenize text using word_tokenize and convert to numerical form using default parameters\n",
    "# step2: useful for label string to LabelEncoding. Not useful here but doesn't hurt either\n",
    "# step3: (column name,field object to use on that column) pair for the dictonary\n",
    "# step4: use TabularDataset to split train, val and test\n",
    "# start of your code (4 lines)\n",
    "text_field = Field(tokenize=word_tokenize)\n",
    "label_field = LabelField(dtype=torch.float)\n",
    "fields = [('comment_text', text_field) , ('toxic', label_field)]\n",
    "train, val, test = TabularDataset(path='train.csv', fields=fields, format='CSV'),\\\n",
    "    TabularDataset(path='val.csv', fields=fields, format='CSV'),\\\n",
    "    TabularDataset(path='test.csv', fields=fields, format='CSV')\n",
    "# end of your code\n",
    "\n",
    "\n",
    "text_field.build_vocab(train,max_size=100000,vectors=glove,unk_init=torch.Tensor.zero_)\n",
    "\n",
    "# unk_init = torch.tensor.normal_ set the initial vectors of vocab as the glove vectors and\n",
    "# initialize unknown words as normal distribution instead of zeros\n",
    "\n",
    "label_field.build_vocab(train)\n",
    "\n",
    "\n",
    "train_iter, val_iter, test_iter = BucketIterator.splits((train,val,test), batch_sizes=(32,128,128),\n",
    "                                              sort_key=lambda x: len(x.comment_text),\n",
    "                                              sort_within_batch=False,\n",
    "                                              device=device)"
   ]
  },
  {
   "cell_type": "markdown",
   "metadata": {
    "id": "yCz5VB6IgrrZ"
   },
   "source": [
    "# Initialize Model & Copy Weights to Embedding Layer"
   ]
  },
  {
   "cell_type": "code",
   "execution_count": null,
   "metadata": {
    "id": "hPYwPfJwgrrZ"
   },
   "outputs": [],
   "source": [
    "in_neuron = len(text_field.vocab)\n",
    "embedding_dim = 100 # dimensions of GloVe which we'll use as the dimension for our embedding layer too\n",
    "drop = 0.0 # how much to drop\n",
    "\n",
    "loss_fn = torch.nn.BCEWithLogitsLoss()\n",
    "lr = 0.0003 #learning rate for optimizer\n",
    "\n",
    "network = Network(in_neuron,embedding_dim,drop=drop)\n",
    "\n",
    "optimizer = torch.optim.Adam(network.parameters(),lr=lr)\n",
    "pretrained_embeddings = text_field.vocab.vectors  # get all the 100000+2 vectors\n",
    "network.embedding.weight.data.copy_(pretrained_embeddings) #copy embeddings as the weights to the layer\n",
    "\n",
    "\n",
    "# now we have 2 extra embeddings so we'll have to get their index and change the values at index to zeros\n",
    "\n",
    "unknown_index = text_field.vocab.stoi[text_field.unk_token] # get index of unknown token\n",
    "padding_index = text_field.vocab.stoi[text_field.pad_token] # get index of padding token\n",
    "\n",
    "network.embedding.weight.data[unknown_index] = torch.zeros(embedding_dim) #change values to zeros\n",
    "network.embedding.weight.data[padding_index] = torch.zeros(embedding_dim)\n",
    "\n",
    "if torch.cuda.is_available():\n",
    "    network.cuda()\n",
    "    # network = network.to(device)\n",
    "\n",
    "\n",
    "# if you do not want to train your Embedding weights, you'll have to make 1 extra change\n",
    "# model.embedding.weight.requires_grad = False\n"
   ]
  },
  {
   "cell_type": "markdown",
   "metadata": {
    "id": "m_I7Yd2IgrrZ"
   },
   "source": [
    "<font color='red'>Note: If you have initialised an optimizer, before freezing the weights, then it is okay but **If you Freeze the weights BEFORE passing the parameters into optimizer, then youl'll have to add `optimizer = torch.optim.Adam([ param for param in model.parameters() if param.requires_grad == True],lr=lr)`**</font>"
   ]
  },
  {
   "cell_type": "markdown",
   "metadata": {
    "id": "M9w0hILdgrrZ"
   },
   "source": [
    "# Train and Evaluate Model"
   ]
  },
  {
   "cell_type": "code",
   "execution_count": null,
   "metadata": {
    "colab": {
     "base_uri": "https://localhost:8080/",
     "height": 66,
     "referenced_widgets": [
      "e52da9da94d6453588a304b635da5726",
      "fb5a4836af8740fa9e9761b691c24592",
      "6d9895de40a846258bf4412e9c3dcde9",
      "f8e286c0478041b2bcb3521b81e068d9",
      "d1bbf87e42474af5ba7881bb6279deed",
      "56ee5db3ffac44a29d21cb3969c6fb12",
      "20d340bc639d466f9d2f8c520638c638",
      "472668bc1b1c4ccea8e2731111979c39",
      "6ebf0b43ef25487c99fa88c45961c4fc",
      "fc1853293cee4e4d98f985dd254e260d",
      "55431ce9ea00452787f77e0cff02607d"
     ]
    },
    "id": "P4SbHOJPgrra",
    "outputId": "fb043fa5-a2fa-480c-e3fe-1f67f8adc1b9"
   },
   "outputs": [],
   "source": [
    "for epoch in range(EPOCH):\n",
    "    train_loss, train_acc = train_network(network,train_iter,optimizer,loss_fn,epoch+1)\n",
    "    val_loss,val_acc = evaluate_network(network,val_iter,optimizer,loss_fn)\n",
    "    tqdm.write(f'''End of Epoch: {epoch+1}  |  Train Loss: {train_loss:.3f}  |  Val Loss: {val_loss:.3f}  |  Train Acc: {train_acc*100:.2f}%  |  Val Acc: {val_acc*100:.2f}%''')"
   ]
  },
  {
   "cell_type": "markdown",
   "metadata": {
    "id": "JHXH7mB3lnby"
   },
   "source": [
    "# Task\n",
    "\n",
    "In recent years, cryptocurrency has gained significant attention, with Bitcoin being one of the most well-known. In this question, we aim to forecast the future price of Bitcoin in the market.\n",
    "\n",
    "**Steps:**\n",
    "\n",
    "1. **Library Installation**: First, install the `yfinance` library.\n",
    "\n",
    "2. **Data Download**: Download Bitcoin prices using the `download` function in `yfinance`. Use the USD-BTC symbol and set the data range from `2019-01-01` to `2024-01-01`. Use data up to `2024-01-01` for training and after that date for testing.\n",
    "\n",
    "3. **Plotting Data**: To verify the above steps, plot this data over time, assigning different colors to training and testing data points.\n",
    "\n",
    "\n",
    "4. **Data Normalization**: For better model training, normalize the values on the y-axis. Use the `MinMaxScaler` function from the `scikit-learn` library, with only the training data as the basis for scaling both the training and testing datasets.\n",
    "\n",
    "5. **Data Preparation**: Prepare the data required for model training and testing. Define a variable representing the number of previous data points to use for predictions (e.g., if set to 60, each prediction considers the past 60 data points). Based on this example, the dataset dimensions would be:\n",
    "   - `X_train.shape`: (1766, 60, 1)\n",
    "   - `y_train.shape`: (1766,)\n",
    "\n",
    "6. **Model Creation**: Construct a pytorch model similar to the one shown in the provided example.\n",
    "\n",
    "![Model Example](https://s32.picofile.com/file/8480457884/model.png)\n",
    "\n",
    "\n",
    "7. **Model Training**:\n",
    "   - **Loss Function**: Mean Squared Error (MSE)\n",
    "   - **Optimizer**: Adam\n",
    "   - **Epochs**: 100\n",
    "   - **Batch Size**: 32\n",
    "\n",
    "8. **Prediction and Plotting**: After training, make predictions on the test data and plot the predictions alongside the actual values. The plot should have time on the x-axis, and different colors for actual and predicted values.\n",
    "\n",
    "**Question**: Explain the advantages or disadvantages of increasing or decreasing the defined variable (the number of previous data points) for model training.\n"
   ]
  },
  {
   "cell_type": "code",
   "execution_count": 3,
   "metadata": {
    "id": "ho8wkkervLa1"
   },
   "outputs": [],
   "source": [
    "from yfinance import download\n",
    "from datetime import datetime\n",
    "from sklearn.preprocessing import MinMaxScaler\n",
    "from torch.utils.data import DataLoader, Dataset"
   ]
  },
  {
   "cell_type": "code",
   "execution_count": 4,
   "metadata": {
    "id": "dw3XtvVcvLa2"
   },
   "outputs": [],
   "source": [
    "ticker = \"BTC-USD\"\n",
    "train_start_date = datetime(2019, 1, 1)\n",
    "train_end_date = datetime(2024, 1, 1)\n",
    "test_start_date = datetime(2024, 1, 1)\n",
    "test_end_date = datetime.now()"
   ]
  },
  {
   "cell_type": "code",
   "execution_count": 5,
   "metadata": {
    "colab": {
     "base_uri": "https://localhost:8080/"
    },
    "id": "UNowHz-FvLa3",
    "outputId": "90321220-9b85-4c6f-e13c-c66d58c94418"
   },
   "outputs": [
    {
     "name": "stderr",
     "output_type": "stream",
     "text": [
      "[*********************100%***********************]  1 of 1 completed\n",
      "[*********************100%***********************]  1 of 1 completed\n"
     ]
    }
   ],
   "source": [
    "train_dataset = download(tickers=[ticker], start=train_start_date, end=train_end_date).Close\n",
    "testset = download(tickers=[ticker], start=test_start_date, end=test_end_date).Close"
   ]
  },
  {
   "cell_type": "code",
   "execution_count": 6,
   "metadata": {
    "colab": {
     "base_uri": "https://localhost:8080/",
     "height": 522
    },
    "id": "vt2-gkNUvLa4",
    "outputId": "468eb17d-a4fc-4981-a870-31f3d444f5d0"
   },
   "outputs": [
    {
     "data": {
      "image/png": "[encoded data removed]",
      "text/plain": [
       "<Figure size 1000x600 with 1 Axes>"
      ]
     },
     "metadata": {},
     "output_type": "display_data"
    }
   ],
   "source": [
    "plt.figure(figsize=(10, 6))\n",
    "plt.plot(train_dataset, label=\"Train Set\")\n",
    "plt.plot(testset, label=\"Test Set\")\n",
    "plt.legend()\n",
    "plt.show()"
   ]
  },
  {
   "cell_type": "code",
   "execution_count": 7,
   "metadata": {
    "id": "sjvQTexrvLa4"
   },
   "outputs": [],
   "source": [
    "scaler = MinMaxScaler()\n",
    "scaler.fit(train_dataset)\n",
    "trainset_scaled = scaler.transform(train_dataset).astype(np.float32)\n",
    "testset_scaled = scaler.transform(testset).astype(np.float32)"
   ]
  },
  {
   "cell_type": "code",
   "execution_count": 8,
   "metadata": {
    "id": "rvjw6ODROzZE"
   },
   "outputs": [
    {
     "data": {
      "text/plain": [
       "tensor([[[0.0069],\n",
       "         [0.0085],\n",
       "         [0.0068],\n",
       "         ...,\n",
       "         [0.0070],\n",
       "         [0.0071],\n",
       "         [0.0072]],\n",
       "\n",
       "        [[0.0085],\n",
       "         [0.0068],\n",
       "         [0.0071],\n",
       "         ...,\n",
       "         [0.0071],\n",
       "         [0.0072],\n",
       "         [0.0072]],\n",
       "\n",
       "        [[0.0068],\n",
       "         [0.0071],\n",
       "         [0.0069],\n",
       "         ...,\n",
       "         [0.0072],\n",
       "         [0.0072],\n",
       "         [0.0070]],\n",
       "\n",
       "        ...,\n",
       "\n",
       "        [[0.4847],\n",
       "         [0.4873],\n",
       "         [0.4993],\n",
       "         ...,\n",
       "         [0.6097],\n",
       "         [0.6240],\n",
       "         [0.6113]],\n",
       "\n",
       "        [[0.4873],\n",
       "         [0.4993],\n",
       "         [0.4915],\n",
       "         ...,\n",
       "         [0.6240],\n",
       "         [0.6113],\n",
       "         [0.6031]],\n",
       "\n",
       "        [[0.4993],\n",
       "         [0.4915],\n",
       "         [0.4883],\n",
       "         ...,\n",
       "         [0.6113],\n",
       "         [0.6031],\n",
       "         [0.6040]]])"
      ]
     },
     "execution_count": 8,
     "metadata": {},
     "output_type": "execute_result"
    }
   ],
   "source": [
    "# Providing past60 days information for trainset\n",
    "day_count = trainset_scaled.shape[0] - 60\n",
    "time_span = 60\n",
    "x_train = torch.zeros(size=(day_count, time_span, 1))\n",
    "for day in range(day_count):\n",
    "    end_day = day + 60\n",
    "    x_train[day, :, :] = torch.Tensor(trainset_scaled[day:end_day, :])\n",
    "x_train.to(torch.float32)"
   ]
  },
  {
   "cell_type": "code",
   "execution_count": 9,
   "metadata": {},
   "outputs": [
    {
     "data": {
      "text/plain": [
       "tensor([0.0072, 0.0070, 0.0056,  ..., 0.6031, 0.6040, 0.6057])"
      ]
     },
     "execution_count": 9,
     "metadata": {},
     "output_type": "execute_result"
    }
   ],
   "source": [
    "# Providing past60 days information for testset\n",
    "day_count = trainset_scaled.shape[0] - 60\n",
    "time_span = 60\n",
    "y_train = torch.zeros(size=(day_count, ))\n",
    "for day in range(day_count):\n",
    "    end_day = day + 60\n",
    "    y_train[day] = torch.Tensor(trainset_scaled[end_day, :])\n",
    "y_train.to(torch.float32)"
   ]
  },
  {
   "cell_type": "code",
   "execution_count": 10,
   "metadata": {},
   "outputs": [
    {
     "data": {
      "text/plain": [
       "(torch.Size([1766, 60, 1]), torch.Size([1766]))"
      ]
     },
     "execution_count": 10,
     "metadata": {},
     "output_type": "execute_result"
    }
   ],
   "source": [
    "# Check trainset shape\n",
    "x_train.shape, y_train.shape"
   ]
  },
  {
   "cell_type": "code",
   "execution_count": 11,
   "metadata": {},
   "outputs": [
    {
     "data": {
      "text/plain": [
       "tensor([[[0.6353],\n",
       "         [0.6477],\n",
       "         [0.6148],\n",
       "         ...,\n",
       "         [0.8367],\n",
       "         [0.9211],\n",
       "         [0.9008]],\n",
       "\n",
       "        [[0.6477],\n",
       "         [0.6148],\n",
       "         [0.6355],\n",
       "         ...,\n",
       "         [0.9211],\n",
       "         [0.9008],\n",
       "         [0.9201]],\n",
       "\n",
       "        [[0.6148],\n",
       "         [0.6355],\n",
       "         [0.6353],\n",
       "         ...,\n",
       "         [0.9008],\n",
       "         [0.9201],\n",
       "         [0.9137]],\n",
       "\n",
       "        ...,\n",
       "\n",
       "        [[0.9738],\n",
       "         [0.9699],\n",
       "         [0.9340],\n",
       "         ...,\n",
       "         [1.4745],\n",
       "         [1.3980],\n",
       "         [1.3805]],\n",
       "\n",
       "        [[0.9699],\n",
       "         [0.9340],\n",
       "         [0.8951],\n",
       "         ...,\n",
       "         [1.3980],\n",
       "         [1.3805],\n",
       "         [1.4425]],\n",
       "\n",
       "        [[0.9340],\n",
       "         [0.8951],\n",
       "         [0.8919],\n",
       "         ...,\n",
       "         [1.3805],\n",
       "         [1.4425],\n",
       "         [1.4377]]])"
      ]
     },
     "execution_count": 11,
     "metadata": {},
     "output_type": "execute_result"
    }
   ],
   "source": [
    "# Providing past60 days information for trainset\n",
    "day_count = testset_scaled.shape[0] - 60\n",
    "time_span = 60\n",
    "x_test = torch.zeros(size=(day_count, time_span, 1))\n",
    "for day in range(day_count):\n",
    "    end_day = day + 60\n",
    "    x_test[day, :, :] = torch.Tensor(testset_scaled[day:end_day, :])\n",
    "x_test.to(torch.float32)"
   ]
  },
  {
   "cell_type": "code",
   "execution_count": 12,
   "metadata": {
    "colab": {
     "base_uri": "https://localhost:8080/"
    },
    "id": "d2qSTcZlOzZE",
    "outputId": "b6ddeb44-e0b1-4a7a-d485-829915eb745f"
   },
   "outputs": [],
   "source": [
    "y_test = torch.tensor(testset_scaled, dtype=torch.float32)"
   ]
  },
  {
   "cell_type": "code",
   "execution_count": 13,
   "metadata": {},
   "outputs": [
    {
     "data": {
      "text/plain": [
       "(torch.Size([334, 1]), torch.float32)"
      ]
     },
     "execution_count": 13,
     "metadata": {},
     "output_type": "execute_result"
    }
   ],
   "source": [
    "y_test.shape, y_test.dtype"
   ]
  },
  {
   "cell_type": "code",
   "execution_count": 14,
   "metadata": {},
   "outputs": [
    {
     "data": {
      "text/plain": [
       "[<matplotlib.lines.Line2D at 0x15bc3f2d1f0>]"
      ]
     },
     "execution_count": 14,
     "metadata": {},
     "output_type": "execute_result"
    },
    {
     "data": {
      "image/png": "[encoded data removed]",
      "text/plain": [
       "<Figure size 640x480 with 1 Axes>"
      ]
     },
     "metadata": {},
     "output_type": "display_data"
    }
   ],
   "source": [
    "plt.plot(y_test)"
   ]
  },
  {
   "cell_type": "code",
   "execution_count": 25,
   "metadata": {
    "id": "hfEZiPx-OzZE"
   },
   "outputs": [],
   "source": [
    "class Network(torch.nn.Module):\n",
    "    def __init__(\n",
    "        self,\n",
    "        in_neuron,\n",
    "        hidden_size=50,\n",
    "        num_layers=1,\n",
    "        out_neuron=1,\n",
    "        drop=0.2,\n",
    "    ):\n",
    "        super(Network, self).__init__()\n",
    "        self.lstm = nn.LSTM(\n",
    "            input_size=in_neuron,\n",
    "            hidden_size=hidden_size,\n",
    "            num_layers=num_layers,\n",
    "            dropout=drop,\n",
    "            batch_first=True,\n",
    "        )\n",
    "\n",
    "        self.dense = nn.Linear(\n",
    "            in_features=hidden_size,\n",
    "            out_features=out_neuron,\n",
    "        )\n",
    "\n",
    "\n",
    "    def forward(self, input):\n",
    "        t, (hn, cn) = self.lstm(input)\n",
    "        return self.dense(t[:, -1, :])"
   ]
  },
  {
   "cell_type": "code",
   "execution_count": 16,
   "metadata": {
    "id": "BMxZN4AMOzZF"
   },
   "outputs": [],
   "source": [
    "class DataSet(Dataset):\n",
    "    def __init__(self, x, y):\n",
    "        self.x = x\n",
    "        self.y = y\n",
    "        self.length = x.shape[0]\n",
    "\n",
    "    def __len__(self):\n",
    "        return self.length\n",
    "\n",
    "    def __getitem__(self, idx):\n",
    "        x = self.x[idx]\n",
    "        y = self.y[idx]\n",
    "        return (x, y)"
   ]
  },
  {
   "cell_type": "code",
   "execution_count": 35,
   "metadata": {
    "id": "X-h45GuuOzZF"
   },
   "outputs": [],
   "source": [
    "EPOCHS = 100\n",
    "lr = 3e-4\n",
    "RANDOM_SEED = 42\n",
    "BATCH_SIZE = 32\n",
    "\n",
    "network = Network(in_neuron=1, hidden_size=32, num_layers=2)\n",
    "loss_fn = nn.MSELoss()\n",
    "optimizer = torch.optim.Adam(params=network.parameters(), lr=lr)\n",
    "\n",
    "train_p = int(0.8 * x_train.shape[0])\n",
    "x_train, x_val, y_train, y_val = train_test_split(\n",
    "    x_train,\n",
    "    y_train,\n",
    "    test_size=0.2,\n",
    "    random_state=RANDOM_SEED,\n",
    ")\n",
    "train_dataset, val_dataset, test_dataset = (\n",
    "    DataSet(x_train, y_train),\n",
    "    DataSet(x_val, y_val),\n",
    "    DataSet(x_test, y_test),\n",
    ")\n",
    "train_loader, val_loader, test_loader = (\n",
    "    DataLoader(dataset=train_dataset, batch_size=BATCH_SIZE, shuffle=True),\n",
    "    DataLoader(dataset=val_dataset, batch_size=BATCH_SIZE, shuffle=False),\n",
    "    DataLoader(dataset=test_dataset, batch_size=BATCH_SIZE, shuffle=False),\n",
    ")"
   ]
  },
  {
   "cell_type": "code",
   "execution_count": 31,
   "metadata": {
    "id": "tYvJ-sbsOzZF"
   },
   "outputs": [],
   "source": [
    "def train_network(network, train_iter, optimizer, loss_fn, epoch_num):\n",
    "    \"\"\"\n",
    "    train the network using given parameters\n",
    "    args:\n",
    "        network: any Neural Network object\n",
    "        train_batch: iterator of training data\n",
    "        optimizer: optimizer for gradients calculation and updation\n",
    "        loss_fn: appropriate loss function\n",
    "        epoch_num = Epoch number so that it can show which epoch number in tqdm Bar\n",
    "    out:\n",
    "        a tuple of (average_loss,average_accuracy) of floating values for a single epoch\n",
    "    \"\"\"\n",
    "    epoch_loss = 0  # loss per epoch\n",
    "    \n",
    "    network.train()  # set the model in training mode as it requires gradients calculation and updtion\n",
    "    # turn off while testing using  model.eval() and torch.no_grad() block\n",
    "\n",
    "    for batch in tqdm(train_iter, f\"Epoch: {epoch_num}\"):\n",
    "        optimizer.zero_grad()\n",
    "        input, label = batch\n",
    "        output = network(input).squeeze()\n",
    "        loss = loss_fn(output, label)\n",
    "        loss.backward()\n",
    "        label = torch.round(label, decimals=2)\n",
    "        output = torch.round(output, decimals=2)\n",
    "        optimizer.step()\n",
    "        epoch_loss += loss\n",
    "\n",
    "        time.sleep(0.001)  # for tqdm progess bar\n",
    "\n",
    "    return epoch_loss / len(train_iter)"
   ]
  },
  {
   "cell_type": "code",
   "execution_count": 32,
   "metadata": {
    "id": "ce46DWt9OzZF"
   },
   "outputs": [],
   "source": [
    "def evaluate_network(network, val_test_iter, optimizer, loss_fn):\n",
    "    \"\"\"\n",
    "    evaluate the network using given parameters\n",
    "    args:\n",
    "        network: any Neural Network object\n",
    "        val_test_iter: iterator of validation/test data\n",
    "        optimizer: optimizer for gradients calculation and updation\n",
    "        loss_fn: appropriate loss function\n",
    "    out:\n",
    "        a tuple of (average_loss,average_accuracy) of floating values for the incoming dataset\n",
    "    \"\"\"\n",
    "    total_loss = 0  # total loss for the whole incoming data\n",
    "\n",
    "    network.eval()  # set the model in evaluation mode to not compute gradients and reduce overhead\n",
    "\n",
    "    with torch.no_grad():  # turn of gradients calculation\n",
    "\n",
    "        for batch in val_test_iter:\n",
    "            input, label = batch\n",
    "            output = network(input).squeeze()\n",
    "            loss = loss_fn(output, label)\n",
    "            output = torch.round(output, decimals=2)\n",
    "            label = torch.round(label, decimals=2)\n",
    "            total_loss += loss\n",
    "\n",
    "        return total_loss / len(val_test_iter)"
   ]
  },
  {
   "cell_type": "code",
   "execution_count": 36,
   "metadata": {
    "id": "TiNBn3gCOzZF"
   },
   "outputs": [
    {
     "data": {
      "application/vnd.jupyter.widget-view+json": {
       "model_id": "fe0868d5f34b49788fb999248a3fc251",
       "version_major": 2,
       "version_minor": 0
      },
      "text/plain": [
       "Epoch: 1:   0%|          | 0/23 [00:00<?, ?it/s]"
      ]
     },
     "metadata": {},
     "output_type": "display_data"
    },
    {
     "name": "stdout",
     "output_type": "stream",
     "text": [
      "Epoch num : 1, Train Loss : 0.0710210204, Val Loss : 0.0673313513\n"
     ]
    },
    {
     "data": {
      "application/vnd.jupyter.widget-view+json": {
       "model_id": "8204202cb6ea4501800682c02638368d",
       "version_major": 2,
       "version_minor": 0
      },
      "text/plain": [
       "Epoch: 2:   0%|          | 0/23 [00:00<?, ?it/s]"
      ]
     },
     "metadata": {},
     "output_type": "display_data"
    },
    {
     "name": "stdout",
     "output_type": "stream",
     "text": [
      "Epoch num : 2, Train Loss : 0.0588248819, Val Loss : 0.0600508861\n"
     ]
    },
    {
     "data": {
      "application/vnd.jupyter.widget-view+json": {
       "model_id": "daa648ae75f149b4a9da0df5f211116c",
       "version_major": 2,
       "version_minor": 0
      },
      "text/plain": [
       "Epoch: 3:   0%|          | 0/23 [00:00<?, ?it/s]"
      ]
     },
     "metadata": {},
     "output_type": "display_data"
    },
    {
     "name": "stdout",
     "output_type": "stream",
     "text": [
      "Epoch num : 3, Train Loss : 0.0543706268, Val Loss : 0.0555409975\n"
     ]
    },
    {
     "data": {
      "application/vnd.jupyter.widget-view+json": {
       "model_id": "61eb404a4ced49ca970a26a28274639c",
       "version_major": 2,
       "version_minor": 0
      },
      "text/plain": [
       "Epoch: 4:   0%|          | 0/23 [00:00<?, ?it/s]"
      ]
     },
     "metadata": {},
     "output_type": "display_data"
    },
    {
     "name": "stdout",
     "output_type": "stream",
     "text": [
      "Epoch num : 4, Train Loss : 0.0485864989, Val Loss : 0.0451299734\n"
     ]
    },
    {
     "data": {
      "application/vnd.jupyter.widget-view+json": {
       "model_id": "3355d7d08272495e80863e3f5bba7659",
       "version_major": 2,
       "version_minor": 0
      },
      "text/plain": [
       "Epoch: 5:   0%|          | 0/23 [00:00<?, ?it/s]"
      ]
     },
     "metadata": {},
     "output_type": "display_data"
    },
    {
     "name": "stdout",
     "output_type": "stream",
     "text": [
      "Epoch num : 5, Train Loss : 0.0331223644, Val Loss : 0.0192523394\n"
     ]
    },
    {
     "data": {
      "application/vnd.jupyter.widget-view+json": {
       "model_id": "93773d66f4754dd199b143efb4c068c3",
       "version_major": 2,
       "version_minor": 0
      },
      "text/plain": [
       "Epoch: 6:   0%|          | 0/23 [00:00<?, ?it/s]"
      ]
     },
     "metadata": {},
     "output_type": "display_data"
    },
    {
     "name": "stdout",
     "output_type": "stream",
     "text": [
      "Epoch num : 6, Train Loss : 0.0101802135, Val Loss : 0.0072300606\n"
     ]
    },
    {
     "data": {
      "application/vnd.jupyter.widget-view+json": {
       "model_id": "7dd80e8a09c945f18abb75258c13f9e2",
       "version_major": 2,
       "version_minor": 0
      },
      "text/plain": [
       "Epoch: 7:   0%|          | 0/23 [00:00<?, ?it/s]"
      ]
     },
     "metadata": {},
     "output_type": "display_data"
    },
    {
     "name": "stdout",
     "output_type": "stream",
     "text": [
      "Epoch num : 7, Train Loss : 0.0047501116, Val Loss : 0.0040090308\n"
     ]
    },
    {
     "data": {
      "application/vnd.jupyter.widget-view+json": {
       "model_id": "406750a922c245729472d78051782a84",
       "version_major": 2,
       "version_minor": 0
      },
      "text/plain": [
       "Epoch: 8:   0%|          | 0/23 [00:00<?, ?it/s]"
      ]
     },
     "metadata": {},
     "output_type": "display_data"
    },
    {
     "name": "stdout",
     "output_type": "stream",
     "text": [
      "Epoch num : 8, Train Loss : 0.0033241243, Val Loss : 0.0029755316\n"
     ]
    },
    {
     "data": {
      "application/vnd.jupyter.widget-view+json": {
       "model_id": "b9bacfa3c36a42008b9251280ff0183e",
       "version_major": 2,
       "version_minor": 0
      },
      "text/plain": [
       "Epoch: 9:   0%|          | 0/23 [00:00<?, ?it/s]"
      ]
     },
     "metadata": {},
     "output_type": "display_data"
    },
    {
     "name": "stdout",
     "output_type": "stream",
     "text": [
      "Epoch num : 9, Train Loss : 0.0026390785, Val Loss : 0.0024898075\n"
     ]
    },
    {
     "data": {
      "application/vnd.jupyter.widget-view+json": {
       "model_id": "e74a30d21b78404f949fc6afa1968534",
       "version_major": 2,
       "version_minor": 0
      },
      "text/plain": [
       "Epoch: 10:   0%|          | 0/23 [00:00<?, ?it/s]"
      ]
     },
     "metadata": {},
     "output_type": "display_data"
    },
    {
     "name": "stdout",
     "output_type": "stream",
     "text": [
      "Epoch num : 10, Train Loss : 0.0023986641, Val Loss : 0.0023288068\n"
     ]
    },
    {
     "data": {
      "application/vnd.jupyter.widget-view+json": {
       "model_id": "7643049e89084395af02d95df84fb120",
       "version_major": 2,
       "version_minor": 0
      },
      "text/plain": [
       "Epoch: 11:   0%|          | 0/23 [00:00<?, ?it/s]"
      ]
     },
     "metadata": {},
     "output_type": "display_data"
    },
    {
     "name": "stdout",
     "output_type": "stream",
     "text": [
      "Epoch num : 11, Train Loss : 0.0023477196, Val Loss : 0.0021782739\n"
     ]
    },
    {
     "data": {
      "application/vnd.jupyter.widget-view+json": {
       "model_id": "68d0c8e784014caaa23f217f2c50ec31",
       "version_major": 2,
       "version_minor": 0
      },
      "text/plain": [
       "Epoch: 12:   0%|          | 0/23 [00:00<?, ?it/s]"
      ]
     },
     "metadata": {},
     "output_type": "display_data"
    },
    {
     "name": "stdout",
     "output_type": "stream",
     "text": [
      "Epoch num : 12, Train Loss : 0.0024260688, Val Loss : 0.0021593536\n"
     ]
    },
    {
     "data": {
      "application/vnd.jupyter.widget-view+json": {
       "model_id": "984fb6fb07804d218cd89ab431cd0126",
       "version_major": 2,
       "version_minor": 0
      },
      "text/plain": [
       "Epoch: 13:   0%|          | 0/23 [00:00<?, ?it/s]"
      ]
     },
     "metadata": {},
     "output_type": "display_data"
    },
    {
     "name": "stdout",
     "output_type": "stream",
     "text": [
      "Epoch num : 13, Train Loss : 0.0022253934, Val Loss : 0.0020495472\n"
     ]
    },
    {
     "data": {
      "application/vnd.jupyter.widget-view+json": {
       "model_id": "d4c3c58b99534a92bf1f729d1439f966",
       "version_major": 2,
       "version_minor": 0
      },
      "text/plain": [
       "Epoch: 14:   0%|          | 0/23 [00:00<?, ?it/s]"
      ]
     },
     "metadata": {},
     "output_type": "display_data"
    },
    {
     "name": "stdout",
     "output_type": "stream",
     "text": [
      "Epoch num : 14, Train Loss : 0.0021993925, Val Loss : 0.0020122512\n"
     ]
    },
    {
     "data": {
      "application/vnd.jupyter.widget-view+json": {
       "model_id": "cb86bc6cfcc743498d0e33113587eeee",
       "version_major": 2,
       "version_minor": 0
      },
      "text/plain": [
       "Epoch: 15:   0%|          | 0/23 [00:00<?, ?it/s]"
      ]
     },
     "metadata": {},
     "output_type": "display_data"
    },
    {
     "name": "stdout",
     "output_type": "stream",
     "text": [
      "Epoch num : 15, Train Loss : 0.0021223647, Val Loss : 0.0019709328\n"
     ]
    },
    {
     "data": {
      "application/vnd.jupyter.widget-view+json": {
       "model_id": "bc4854944ee34861bf510fb0d90d2f68",
       "version_major": 2,
       "version_minor": 0
      },
      "text/plain": [
       "Epoch: 16:   0%|          | 0/23 [00:00<?, ?it/s]"
      ]
     },
     "metadata": {},
     "output_type": "display_data"
    },
    {
     "name": "stdout",
     "output_type": "stream",
     "text": [
      "Epoch num : 16, Train Loss : 0.0020478801, Val Loss : 0.0019740842\n"
     ]
    },
    {
     "data": {
      "application/vnd.jupyter.widget-view+json": {
       "model_id": "4f96f7afd6b4402b8c48f02e8c6cecf6",
       "version_major": 2,
       "version_minor": 0
      },
      "text/plain": [
       "Epoch: 17:   0%|          | 0/23 [00:00<?, ?it/s]"
      ]
     },
     "metadata": {},
     "output_type": "display_data"
    },
    {
     "name": "stdout",
     "output_type": "stream",
     "text": [
      "Epoch num : 17, Train Loss : 0.0021494906, Val Loss : 0.0019325161\n"
     ]
    },
    {
     "data": {
      "application/vnd.jupyter.widget-view+json": {
       "model_id": "7330e2f4b0bd4e878c8dd67e648ce8c3",
       "version_major": 2,
       "version_minor": 0
      },
      "text/plain": [
       "Epoch: 18:   0%|          | 0/23 [00:00<?, ?it/s]"
      ]
     },
     "metadata": {},
     "output_type": "display_data"
    },
    {
     "name": "stdout",
     "output_type": "stream",
     "text": [
      "Epoch num : 18, Train Loss : 0.0021477111, Val Loss : 0.0019705277\n"
     ]
    },
    {
     "data": {
      "application/vnd.jupyter.widget-view+json": {
       "model_id": "40c0183d88f7436da1714b7785a5d9e9",
       "version_major": 2,
       "version_minor": 0
      },
      "text/plain": [
       "Epoch: 19:   0%|          | 0/23 [00:00<?, ?it/s]"
      ]
     },
     "metadata": {},
     "output_type": "display_data"
    },
    {
     "name": "stdout",
     "output_type": "stream",
     "text": [
      "Epoch num : 19, Train Loss : 0.0020414682, Val Loss : 0.0018450314\n"
     ]
    },
    {
     "data": {
      "application/vnd.jupyter.widget-view+json": {
       "model_id": "35f6f72adcf54467834da7801ecc050d",
       "version_major": 2,
       "version_minor": 0
      },
      "text/plain": [
       "Epoch: 20:   0%|          | 0/23 [00:00<?, ?it/s]"
      ]
     },
     "metadata": {},
     "output_type": "display_data"
    },
    {
     "name": "stdout",
     "output_type": "stream",
     "text": [
      "Epoch num : 20, Train Loss : 0.0019259210, Val Loss : 0.0018583328\n"
     ]
    },
    {
     "data": {
      "application/vnd.jupyter.widget-view+json": {
       "model_id": "8bb15a10906f4cf695d5f3f5a3233c0e",
       "version_major": 2,
       "version_minor": 0
      },
      "text/plain": [
       "Epoch: 21:   0%|          | 0/23 [00:00<?, ?it/s]"
      ]
     },
     "metadata": {},
     "output_type": "display_data"
    },
    {
     "name": "stdout",
     "output_type": "stream",
     "text": [
      "Epoch num : 21, Train Loss : 0.0020360602, Val Loss : 0.0017986608\n"
     ]
    },
    {
     "data": {
      "application/vnd.jupyter.widget-view+json": {
       "model_id": "67b26bf05e334628b5395d5b19f75fe4",
       "version_major": 2,
       "version_minor": 0
      },
      "text/plain": [
       "Epoch: 22:   0%|          | 0/23 [00:00<?, ?it/s]"
      ]
     },
     "metadata": {},
     "output_type": "display_data"
    },
    {
     "name": "stdout",
     "output_type": "stream",
     "text": [
      "Epoch num : 22, Train Loss : 0.0020209095, Val Loss : 0.0019418476\n"
     ]
    },
    {
     "data": {
      "application/vnd.jupyter.widget-view+json": {
       "model_id": "b179316b922c4430ba519b580d7e2f37",
       "version_major": 2,
       "version_minor": 0
      },
      "text/plain": [
       "Epoch: 23:   0%|          | 0/23 [00:00<?, ?it/s]"
      ]
     },
     "metadata": {},
     "output_type": "display_data"
    },
    {
     "name": "stdout",
     "output_type": "stream",
     "text": [
      "Epoch num : 23, Train Loss : 0.0018027488, Val Loss : 0.0017623575\n"
     ]
    },
    {
     "data": {
      "application/vnd.jupyter.widget-view+json": {
       "model_id": "e579cdd3a89a415eb01088d2366c40ff",
       "version_major": 2,
       "version_minor": 0
      },
      "text/plain": [
       "Epoch: 24:   0%|          | 0/23 [00:00<?, ?it/s]"
      ]
     },
     "metadata": {},
     "output_type": "display_data"
    },
    {
     "name": "stdout",
     "output_type": "stream",
     "text": [
      "Epoch num : 24, Train Loss : 0.0019947879, Val Loss : 0.0017182877\n"
     ]
    },
    {
     "data": {
      "application/vnd.jupyter.widget-view+json": {
       "model_id": "e39730d5e9274c5a8a25ef7a58b77e28",
       "version_major": 2,
       "version_minor": 0
      },
      "text/plain": [
       "Epoch: 25:   0%|          | 0/23 [00:00<?, ?it/s]"
      ]
     },
     "metadata": {},
     "output_type": "display_data"
    },
    {
     "name": "stdout",
     "output_type": "stream",
     "text": [
      "Epoch num : 25, Train Loss : 0.0020051659, Val Loss : 0.0017126157\n"
     ]
    },
    {
     "data": {
      "application/vnd.jupyter.widget-view+json": {
       "model_id": "6e489008e18b41909f30b721357ecef0",
       "version_major": 2,
       "version_minor": 0
      },
      "text/plain": [
       "Epoch: 26:   0%|          | 0/23 [00:00<?, ?it/s]"
      ]
     },
     "metadata": {},
     "output_type": "display_data"
    },
    {
     "name": "stdout",
     "output_type": "stream",
     "text": [
      "Epoch num : 26, Train Loss : 0.0019737482, Val Loss : 0.0017536114\n"
     ]
    },
    {
     "data": {
      "application/vnd.jupyter.widget-view+json": {
       "model_id": "a4dc5e195cab465d866e61ee1d5ceace",
       "version_major": 2,
       "version_minor": 0
      },
      "text/plain": [
       "Epoch: 27:   0%|          | 0/23 [00:00<?, ?it/s]"
      ]
     },
     "metadata": {},
     "output_type": "display_data"
    },
    {
     "name": "stdout",
     "output_type": "stream",
     "text": [
      "Epoch num : 27, Train Loss : 0.0018170025, Val Loss : 0.0016561499\n"
     ]
    },
    {
     "data": {
      "application/vnd.jupyter.widget-view+json": {
       "model_id": "bc1a1f2af30f4c0e91e75aade0726a3d",
       "version_major": 2,
       "version_minor": 0
      },
      "text/plain": [
       "Epoch: 28:   0%|          | 0/23 [00:00<?, ?it/s]"
      ]
     },
     "metadata": {},
     "output_type": "display_data"
    },
    {
     "name": "stdout",
     "output_type": "stream",
     "text": [
      "Epoch num : 28, Train Loss : 0.0020232268, Val Loss : 0.0017431626\n"
     ]
    },
    {
     "data": {
      "application/vnd.jupyter.widget-view+json": {
       "model_id": "3cd4e874691a4696827e0bbaf20ba4ec",
       "version_major": 2,
       "version_minor": 0
      },
      "text/plain": [
       "Epoch: 29:   0%|          | 0/23 [00:00<?, ?it/s]"
      ]
     },
     "metadata": {},
     "output_type": "display_data"
    },
    {
     "name": "stdout",
     "output_type": "stream",
     "text": [
      "Epoch num : 29, Train Loss : 0.0018267711, Val Loss : 0.0016339872\n"
     ]
    },
    {
     "data": {
      "application/vnd.jupyter.widget-view+json": {
       "model_id": "ea72aa68acb8451c95bc0f477dbef4b0",
       "version_major": 2,
       "version_minor": 0
      },
      "text/plain": [
       "Epoch: 30:   0%|          | 0/23 [00:00<?, ?it/s]"
      ]
     },
     "metadata": {},
     "output_type": "display_data"
    },
    {
     "name": "stdout",
     "output_type": "stream",
     "text": [
      "Epoch num : 30, Train Loss : 0.0019004319, Val Loss : 0.0016249564\n"
     ]
    },
    {
     "data": {
      "application/vnd.jupyter.widget-view+json": {
       "model_id": "7193034a4f5544a289bd830f6651d937",
       "version_major": 2,
       "version_minor": 0
      },
      "text/plain": [
       "Epoch: 31:   0%|          | 0/23 [00:00<?, ?it/s]"
      ]
     },
     "metadata": {},
     "output_type": "display_data"
    },
    {
     "name": "stdout",
     "output_type": "stream",
     "text": [
      "Epoch num : 31, Train Loss : 0.0018116765, Val Loss : 0.0015918007\n"
     ]
    },
    {
     "data": {
      "application/vnd.jupyter.widget-view+json": {
       "model_id": "f73d44123a4642f18594ede10e3238e3",
       "version_major": 2,
       "version_minor": 0
      },
      "text/plain": [
       "Epoch: 32:   0%|          | 0/23 [00:00<?, ?it/s]"
      ]
     },
     "metadata": {},
     "output_type": "display_data"
    },
    {
     "name": "stdout",
     "output_type": "stream",
     "text": [
      "Epoch num : 32, Train Loss : 0.0018688967, Val Loss : 0.0015887041\n"
     ]
    },
    {
     "data": {
      "application/vnd.jupyter.widget-view+json": {
       "model_id": "2c227a5a54214a339c464589f3ecf2c3",
       "version_major": 2,
       "version_minor": 0
      },
      "text/plain": [
       "Epoch: 33:   0%|          | 0/23 [00:00<?, ?it/s]"
      ]
     },
     "metadata": {},
     "output_type": "display_data"
    },
    {
     "name": "stdout",
     "output_type": "stream",
     "text": [
      "Epoch num : 33, Train Loss : 0.0016913479, Val Loss : 0.0015637915\n"
     ]
    },
    {
     "data": {
      "application/vnd.jupyter.widget-view+json": {
       "model_id": "ccfd5ed7bf00486aa5b8ef7572052111",
       "version_major": 2,
       "version_minor": 0
      },
      "text/plain": [
       "Epoch: 34:   0%|          | 0/23 [00:00<?, ?it/s]"
      ]
     },
     "metadata": {},
     "output_type": "display_data"
    },
    {
     "name": "stdout",
     "output_type": "stream",
     "text": [
      "Epoch num : 34, Train Loss : 0.0018232304, Val Loss : 0.0015202700\n"
     ]
    },
    {
     "data": {
      "application/vnd.jupyter.widget-view+json": {
       "model_id": "5a2091f10dce4612917e3e572fee7283",
       "version_major": 2,
       "version_minor": 0
      },
      "text/plain": [
       "Epoch: 35:   0%|          | 0/23 [00:00<?, ?it/s]"
      ]
     },
     "metadata": {},
     "output_type": "display_data"
    },
    {
     "name": "stdout",
     "output_type": "stream",
     "text": [
      "Epoch num : 35, Train Loss : 0.0018010426, Val Loss : 0.0015062814\n"
     ]
    },
    {
     "data": {
      "application/vnd.jupyter.widget-view+json": {
       "model_id": "93916a9fa8ce468193bd38c2970a01e6",
       "version_major": 2,
       "version_minor": 0
      },
      "text/plain": [
       "Epoch: 36:   0%|          | 0/23 [00:00<?, ?it/s]"
      ]
     },
     "metadata": {},
     "output_type": "display_data"
    },
    {
     "name": "stdout",
     "output_type": "stream",
     "text": [
      "Epoch num : 36, Train Loss : 0.0017373227, Val Loss : 0.0015567861\n"
     ]
    },
    {
     "data": {
      "application/vnd.jupyter.widget-view+json": {
       "model_id": "7c1fd00b5adc423ca46c74c08681924d",
       "version_major": 2,
       "version_minor": 0
      },
      "text/plain": [
       "Epoch: 37:   0%|          | 0/23 [00:00<?, ?it/s]"
      ]
     },
     "metadata": {},
     "output_type": "display_data"
    },
    {
     "name": "stdout",
     "output_type": "stream",
     "text": [
      "Epoch num : 37, Train Loss : 0.0017857662, Val Loss : 0.0015249489\n"
     ]
    },
    {
     "data": {
      "application/vnd.jupyter.widget-view+json": {
       "model_id": "2aa35143510448ebbfb7199eef04ab14",
       "version_major": 2,
       "version_minor": 0
      },
      "text/plain": [
       "Epoch: 38:   0%|          | 0/23 [00:00<?, ?it/s]"
      ]
     },
     "metadata": {},
     "output_type": "display_data"
    },
    {
     "name": "stdout",
     "output_type": "stream",
     "text": [
      "Epoch num : 38, Train Loss : 0.0016573609, Val Loss : 0.0014481155\n"
     ]
    },
    {
     "data": {
      "application/vnd.jupyter.widget-view+json": {
       "model_id": "83d75430daf14a299e6110542b47b7f1",
       "version_major": 2,
       "version_minor": 0
      },
      "text/plain": [
       "Epoch: 39:   0%|          | 0/23 [00:00<?, ?it/s]"
      ]
     },
     "metadata": {},
     "output_type": "display_data"
    },
    {
     "name": "stdout",
     "output_type": "stream",
     "text": [
      "Epoch num : 39, Train Loss : 0.0016120999, Val Loss : 0.0014240388\n"
     ]
    },
    {
     "data": {
      "application/vnd.jupyter.widget-view+json": {
       "model_id": "892e36b3778e409ca688983378c24d80",
       "version_major": 2,
       "version_minor": 0
      },
      "text/plain": [
       "Epoch: 40:   0%|          | 0/23 [00:00<?, ?it/s]"
      ]
     },
     "metadata": {},
     "output_type": "display_data"
    },
    {
     "name": "stdout",
     "output_type": "stream",
     "text": [
      "Epoch num : 40, Train Loss : 0.0015738421, Val Loss : 0.0014165201\n"
     ]
    },
    {
     "data": {
      "application/vnd.jupyter.widget-view+json": {
       "model_id": "0ad63b7facab4d19b16aaab0584f6b43",
       "version_major": 2,
       "version_minor": 0
      },
      "text/plain": [
       "Epoch: 41:   0%|          | 0/23 [00:00<?, ?it/s]"
      ]
     },
     "metadata": {},
     "output_type": "display_data"
    },
    {
     "name": "stdout",
     "output_type": "stream",
     "text": [
      "Epoch num : 41, Train Loss : 0.0016006466, Val Loss : 0.0015461227\n"
     ]
    },
    {
     "data": {
      "application/vnd.jupyter.widget-view+json": {
       "model_id": "120554e507a04c6ebf7b6f6e52ad5dc1",
       "version_major": 2,
       "version_minor": 0
      },
      "text/plain": [
       "Epoch: 42:   0%|          | 0/23 [00:00<?, ?it/s]"
      ]
     },
     "metadata": {},
     "output_type": "display_data"
    },
    {
     "name": "stdout",
     "output_type": "stream",
     "text": [
      "Epoch num : 42, Train Loss : 0.0016040715, Val Loss : 0.0013904176\n"
     ]
    },
    {
     "data": {
      "application/vnd.jupyter.widget-view+json": {
       "model_id": "ac6d3a62e40442d0ab5347ddf9c14b27",
       "version_major": 2,
       "version_minor": 0
      },
      "text/plain": [
       "Epoch: 43:   0%|          | 0/23 [00:00<?, ?it/s]"
      ]
     },
     "metadata": {},
     "output_type": "display_data"
    },
    {
     "name": "stdout",
     "output_type": "stream",
     "text": [
      "Epoch num : 43, Train Loss : 0.0015360779, Val Loss : 0.0013851308\n"
     ]
    },
    {
     "data": {
      "application/vnd.jupyter.widget-view+json": {
       "model_id": "bd23021377fb47c5b3e7f7a08d70cc1a",
       "version_major": 2,
       "version_minor": 0
      },
      "text/plain": [
       "Epoch: 44:   0%|          | 0/23 [00:00<?, ?it/s]"
      ]
     },
     "metadata": {},
     "output_type": "display_data"
    },
    {
     "name": "stdout",
     "output_type": "stream",
     "text": [
      "Epoch num : 44, Train Loss : 0.0017297426, Val Loss : 0.0015098234\n"
     ]
    },
    {
     "data": {
      "application/vnd.jupyter.widget-view+json": {
       "model_id": "0185600260ba44af97675b3196d55878",
       "version_major": 2,
       "version_minor": 0
      },
      "text/plain": [
       "Epoch: 45:   0%|          | 0/23 [00:00<?, ?it/s]"
      ]
     },
     "metadata": {},
     "output_type": "display_data"
    },
    {
     "name": "stdout",
     "output_type": "stream",
     "text": [
      "Epoch num : 45, Train Loss : 0.0015811308, Val Loss : 0.0013709596\n"
     ]
    },
    {
     "data": {
      "application/vnd.jupyter.widget-view+json": {
       "model_id": "56afd1762c4247febf4b7955df11e8c4",
       "version_major": 2,
       "version_minor": 0
      },
      "text/plain": [
       "Epoch: 46:   0%|          | 0/23 [00:00<?, ?it/s]"
      ]
     },
     "metadata": {},
     "output_type": "display_data"
    },
    {
     "name": "stdout",
     "output_type": "stream",
     "text": [
      "Epoch num : 46, Train Loss : 0.0014679654, Val Loss : 0.0013492854\n"
     ]
    },
    {
     "data": {
      "application/vnd.jupyter.widget-view+json": {
       "model_id": "d552728d592b4990a76539a02dbc1aa8",
       "version_major": 2,
       "version_minor": 0
      },
      "text/plain": [
       "Epoch: 47:   0%|          | 0/23 [00:00<?, ?it/s]"
      ]
     },
     "metadata": {},
     "output_type": "display_data"
    },
    {
     "name": "stdout",
     "output_type": "stream",
     "text": [
      "Epoch num : 47, Train Loss : 0.0015468058, Val Loss : 0.0013250884\n"
     ]
    },
    {
     "data": {
      "application/vnd.jupyter.widget-view+json": {
       "model_id": "46a90fcbea994967a35d26d0e499bfdc",
       "version_major": 2,
       "version_minor": 0
      },
      "text/plain": [
       "Epoch: 48:   0%|          | 0/23 [00:00<?, ?it/s]"
      ]
     },
     "metadata": {},
     "output_type": "display_data"
    },
    {
     "name": "stdout",
     "output_type": "stream",
     "text": [
      "Epoch num : 48, Train Loss : 0.0016461436, Val Loss : 0.0012825747\n"
     ]
    },
    {
     "data": {
      "application/vnd.jupyter.widget-view+json": {
       "model_id": "8a004ff838ee4e2d9753285fd146e749",
       "version_major": 2,
       "version_minor": 0
      },
      "text/plain": [
       "Epoch: 49:   0%|          | 0/23 [00:00<?, ?it/s]"
      ]
     },
     "metadata": {},
     "output_type": "display_data"
    },
    {
     "name": "stdout",
     "output_type": "stream",
     "text": [
      "Epoch num : 49, Train Loss : 0.0014672652, Val Loss : 0.0012763572\n"
     ]
    },
    {
     "data": {
      "application/vnd.jupyter.widget-view+json": {
       "model_id": "3e9000f14203450e99b8d68fd2af0190",
       "version_major": 2,
       "version_minor": 0
      },
      "text/plain": [
       "Epoch: 50:   0%|          | 0/23 [00:00<?, ?it/s]"
      ]
     },
     "metadata": {},
     "output_type": "display_data"
    },
    {
     "name": "stdout",
     "output_type": "stream",
     "text": [
      "Epoch num : 50, Train Loss : 0.0014643731, Val Loss : 0.0013709785\n"
     ]
    },
    {
     "data": {
      "application/vnd.jupyter.widget-view+json": {
       "model_id": "987bdb0a6e74479788f1286f3e9c04f9",
       "version_major": 2,
       "version_minor": 0
      },
      "text/plain": [
       "Epoch: 51:   0%|          | 0/23 [00:00<?, ?it/s]"
      ]
     },
     "metadata": {},
     "output_type": "display_data"
    },
    {
     "name": "stdout",
     "output_type": "stream",
     "text": [
      "Epoch num : 51, Train Loss : 0.0014215262, Val Loss : 0.0014258459\n"
     ]
    },
    {
     "data": {
      "application/vnd.jupyter.widget-view+json": {
       "model_id": "cd2d2d5cebdd48cbbefe516fec683b10",
       "version_major": 2,
       "version_minor": 0
      },
      "text/plain": [
       "Epoch: 52:   0%|          | 0/23 [00:00<?, ?it/s]"
      ]
     },
     "metadata": {},
     "output_type": "display_data"
    },
    {
     "name": "stdout",
     "output_type": "stream",
     "text": [
      "Epoch num : 52, Train Loss : 0.0014686972, Val Loss : 0.0014118614\n"
     ]
    },
    {
     "data": {
      "application/vnd.jupyter.widget-view+json": {
       "model_id": "1796235328c0407eb39945ba30039988",
       "version_major": 2,
       "version_minor": 0
      },
      "text/plain": [
       "Epoch: 53:   0%|          | 0/23 [00:00<?, ?it/s]"
      ]
     },
     "metadata": {},
     "output_type": "display_data"
    },
    {
     "name": "stdout",
     "output_type": "stream",
     "text": [
      "Epoch num : 53, Train Loss : 0.0015504963, Val Loss : 0.0012523005\n"
     ]
    },
    {
     "data": {
      "application/vnd.jupyter.widget-view+json": {
       "model_id": "43e16f3a8ecb4266b353c4473687b56f",
       "version_major": 2,
       "version_minor": 0
      },
      "text/plain": [
       "Epoch: 54:   0%|          | 0/23 [00:00<?, ?it/s]"
      ]
     },
     "metadata": {},
     "output_type": "display_data"
    },
    {
     "name": "stdout",
     "output_type": "stream",
     "text": [
      "Epoch num : 54, Train Loss : 0.0015587489, Val Loss : 0.0012463927\n"
     ]
    },
    {
     "data": {
      "application/vnd.jupyter.widget-view+json": {
       "model_id": "d405a460d2984342bafb6fda1e3cfe0c",
       "version_major": 2,
       "version_minor": 0
      },
      "text/plain": [
       "Epoch: 55:   0%|          | 0/23 [00:00<?, ?it/s]"
      ]
     },
     "metadata": {},
     "output_type": "display_data"
    },
    {
     "name": "stdout",
     "output_type": "stream",
     "text": [
      "Epoch num : 55, Train Loss : 0.0015161121, Val Loss : 0.0012381886\n"
     ]
    },
    {
     "data": {
      "application/vnd.jupyter.widget-view+json": {
       "model_id": "7367f9a86262423b91957397d05a700d",
       "version_major": 2,
       "version_minor": 0
      },
      "text/plain": [
       "Epoch: 56:   0%|          | 0/23 [00:00<?, ?it/s]"
      ]
     },
     "metadata": {},
     "output_type": "display_data"
    },
    {
     "name": "stdout",
     "output_type": "stream",
     "text": [
      "Epoch num : 56, Train Loss : 0.0013921475, Val Loss : 0.0011708342\n"
     ]
    },
    {
     "data": {
      "application/vnd.jupyter.widget-view+json": {
       "model_id": "e041e96a349d4887aedb816845ad6455",
       "version_major": 2,
       "version_minor": 0
      },
      "text/plain": [
       "Epoch: 57:   0%|          | 0/23 [00:00<?, ?it/s]"
      ]
     },
     "metadata": {},
     "output_type": "display_data"
    },
    {
     "name": "stdout",
     "output_type": "stream",
     "text": [
      "Epoch num : 57, Train Loss : 0.0014235891, Val Loss : 0.0012183535\n"
     ]
    },
    {
     "data": {
      "application/vnd.jupyter.widget-view+json": {
       "model_id": "9446c46f27ef4880a99d9104c90c2e44",
       "version_major": 2,
       "version_minor": 0
      },
      "text/plain": [
       "Epoch: 58:   0%|          | 0/23 [00:00<?, ?it/s]"
      ]
     },
     "metadata": {},
     "output_type": "display_data"
    },
    {
     "name": "stdout",
     "output_type": "stream",
     "text": [
      "Epoch num : 58, Train Loss : 0.0014103673, Val Loss : 0.0012194911\n"
     ]
    },
    {
     "data": {
      "application/vnd.jupyter.widget-view+json": {
       "model_id": "230876830be44778be3126f95404256f",
       "version_major": 2,
       "version_minor": 0
      },
      "text/plain": [
       "Epoch: 59:   0%|          | 0/23 [00:00<?, ?it/s]"
      ]
     },
     "metadata": {},
     "output_type": "display_data"
    },
    {
     "name": "stdout",
     "output_type": "stream",
     "text": [
      "Epoch num : 59, Train Loss : 0.0013962131, Val Loss : 0.0011250342\n"
     ]
    },
    {
     "data": {
      "application/vnd.jupyter.widget-view+json": {
       "model_id": "8bd15ebf6d804645a07ff623bf218247",
       "version_major": 2,
       "version_minor": 0
      },
      "text/plain": [
       "Epoch: 60:   0%|          | 0/23 [00:00<?, ?it/s]"
      ]
     },
     "metadata": {},
     "output_type": "display_data"
    },
    {
     "name": "stdout",
     "output_type": "stream",
     "text": [
      "Epoch num : 60, Train Loss : 0.0015085208, Val Loss : 0.0011773881\n"
     ]
    },
    {
     "data": {
      "application/vnd.jupyter.widget-view+json": {
       "model_id": "61eead37ac394dfd8a3e5b9a9b87b8c9",
       "version_major": 2,
       "version_minor": 0
      },
      "text/plain": [
       "Epoch: 61:   0%|          | 0/23 [00:00<?, ?it/s]"
      ]
     },
     "metadata": {},
     "output_type": "display_data"
    },
    {
     "name": "stdout",
     "output_type": "stream",
     "text": [
      "Epoch num : 61, Train Loss : 0.0013914902, Val Loss : 0.0011103100\n"
     ]
    },
    {
     "data": {
      "application/vnd.jupyter.widget-view+json": {
       "model_id": "f6d94d2f077d45bca63282ccb10b6c4d",
       "version_major": 2,
       "version_minor": 0
      },
      "text/plain": [
       "Epoch: 62:   0%|          | 0/23 [00:00<?, ?it/s]"
      ]
     },
     "metadata": {},
     "output_type": "display_data"
    },
    {
     "name": "stdout",
     "output_type": "stream",
     "text": [
      "Epoch num : 62, Train Loss : 0.0013718080, Val Loss : 0.0011079870\n"
     ]
    },
    {
     "data": {
      "application/vnd.jupyter.widget-view+json": {
       "model_id": "57d63d457a514b61a46147adea1b2a53",
       "version_major": 2,
       "version_minor": 0
      },
      "text/plain": [
       "Epoch: 63:   0%|          | 0/23 [00:00<?, ?it/s]"
      ]
     },
     "metadata": {},
     "output_type": "display_data"
    },
    {
     "name": "stdout",
     "output_type": "stream",
     "text": [
      "Epoch num : 63, Train Loss : 0.0014065632, Val Loss : 0.0010780595\n"
     ]
    },
    {
     "data": {
      "application/vnd.jupyter.widget-view+json": {
       "model_id": "34df50ec7943491e86e8eeb7ae45e186",
       "version_major": 2,
       "version_minor": 0
      },
      "text/plain": [
       "Epoch: 64:   0%|          | 0/23 [00:00<?, ?it/s]"
      ]
     },
     "metadata": {},
     "output_type": "display_data"
    },
    {
     "name": "stdout",
     "output_type": "stream",
     "text": [
      "Epoch num : 64, Train Loss : 0.0013232324, Val Loss : 0.0011733527\n"
     ]
    },
    {
     "data": {
      "application/vnd.jupyter.widget-view+json": {
       "model_id": "6dc34a11ea2040cfaf9597ea75a09462",
       "version_major": 2,
       "version_minor": 0
      },
      "text/plain": [
       "Epoch: 65:   0%|          | 0/23 [00:00<?, ?it/s]"
      ]
     },
     "metadata": {},
     "output_type": "display_data"
    },
    {
     "name": "stdout",
     "output_type": "stream",
     "text": [
      "Epoch num : 65, Train Loss : 0.0013926340, Val Loss : 0.0010948285\n"
     ]
    },
    {
     "data": {
      "application/vnd.jupyter.widget-view+json": {
       "model_id": "5f319edbfedb46b6b02e07a02d29db04",
       "version_major": 2,
       "version_minor": 0
      },
      "text/plain": [
       "Epoch: 66:   0%|          | 0/23 [00:00<?, ?it/s]"
      ]
     },
     "metadata": {},
     "output_type": "display_data"
    },
    {
     "name": "stdout",
     "output_type": "stream",
     "text": [
      "Epoch num : 66, Train Loss : 0.0013421880, Val Loss : 0.0011079313\n"
     ]
    },
    {
     "data": {
      "application/vnd.jupyter.widget-view+json": {
       "model_id": "36a4b46d511d4f3fb4d3a08f917c036b",
       "version_major": 2,
       "version_minor": 0
      },
      "text/plain": [
       "Epoch: 67:   0%|          | 0/23 [00:00<?, ?it/s]"
      ]
     },
     "metadata": {},
     "output_type": "display_data"
    },
    {
     "name": "stdout",
     "output_type": "stream",
     "text": [
      "Epoch num : 67, Train Loss : 0.0011492379, Val Loss : 0.0011241954\n"
     ]
    },
    {
     "data": {
      "application/vnd.jupyter.widget-view+json": {
       "model_id": "01e56be67f9241dfbecbfc448514bc33",
       "version_major": 2,
       "version_minor": 0
      },
      "text/plain": [
       "Epoch: 68:   0%|          | 0/23 [00:00<?, ?it/s]"
      ]
     },
     "metadata": {},
     "output_type": "display_data"
    },
    {
     "name": "stdout",
     "output_type": "stream",
     "text": [
      "Epoch num : 68, Train Loss : 0.0013779650, Val Loss : 0.0010270323\n"
     ]
    },
    {
     "data": {
      "application/vnd.jupyter.widget-view+json": {
       "model_id": "6a823d5b579146c3a4c939e4ec264e17",
       "version_major": 2,
       "version_minor": 0
      },
      "text/plain": [
       "Epoch: 69:   0%|          | 0/23 [00:00<?, ?it/s]"
      ]
     },
     "metadata": {},
     "output_type": "display_data"
    },
    {
     "name": "stdout",
     "output_type": "stream",
     "text": [
      "Epoch num : 69, Train Loss : 0.0012657088, Val Loss : 0.0012021023\n"
     ]
    },
    {
     "data": {
      "application/vnd.jupyter.widget-view+json": {
       "model_id": "f896c91116914df9aac449138a7c6529",
       "version_major": 2,
       "version_minor": 0
      },
      "text/plain": [
       "Epoch: 70:   0%|          | 0/23 [00:00<?, ?it/s]"
      ]
     },
     "metadata": {},
     "output_type": "display_data"
    },
    {
     "name": "stdout",
     "output_type": "stream",
     "text": [
      "Epoch num : 70, Train Loss : 0.0011780420, Val Loss : 0.0010211557\n"
     ]
    },
    {
     "data": {
      "application/vnd.jupyter.widget-view+json": {
       "model_id": "cfe6d5ed70624932ae42a6c96da83ac0",
       "version_major": 2,
       "version_minor": 0
      },
      "text/plain": [
       "Epoch: 71:   0%|          | 0/23 [00:00<?, ?it/s]"
      ]
     },
     "metadata": {},
     "output_type": "display_data"
    },
    {
     "name": "stdout",
     "output_type": "stream",
     "text": [
      "Epoch num : 71, Train Loss : 0.0012210120, Val Loss : 0.0010353582\n"
     ]
    },
    {
     "data": {
      "application/vnd.jupyter.widget-view+json": {
       "model_id": "3fc9ac4ab11342b891f85a3fd715146b",
       "version_major": 2,
       "version_minor": 0
      },
      "text/plain": [
       "Epoch: 72:   0%|          | 0/23 [00:00<?, ?it/s]"
      ]
     },
     "metadata": {},
     "output_type": "display_data"
    },
    {
     "name": "stdout",
     "output_type": "stream",
     "text": [
      "Epoch num : 72, Train Loss : 0.0011998428, Val Loss : 0.0010082105\n"
     ]
    },
    {
     "data": {
      "application/vnd.jupyter.widget-view+json": {
       "model_id": "d98d2b84109c4e0c854354396a9d91d9",
       "version_major": 2,
       "version_minor": 0
      },
      "text/plain": [
       "Epoch: 73:   0%|          | 0/23 [00:00<?, ?it/s]"
      ]
     },
     "metadata": {},
     "output_type": "display_data"
    },
    {
     "name": "stdout",
     "output_type": "stream",
     "text": [
      "Epoch num : 73, Train Loss : 0.0011485321, Val Loss : 0.0009923645\n"
     ]
    },
    {
     "data": {
      "application/vnd.jupyter.widget-view+json": {
       "model_id": "3deae8d4b2454b52915e0b9cec27f823",
       "version_major": 2,
       "version_minor": 0
      },
      "text/plain": [
       "Epoch: 74:   0%|          | 0/23 [00:00<?, ?it/s]"
      ]
     },
     "metadata": {},
     "output_type": "display_data"
    },
    {
     "name": "stdout",
     "output_type": "stream",
     "text": [
      "Epoch num : 74, Train Loss : 0.0011503347, Val Loss : 0.0011003036\n"
     ]
    },
    {
     "data": {
      "application/vnd.jupyter.widget-view+json": {
       "model_id": "b8608ab14d674db297f5afacebeac9d4",
       "version_major": 2,
       "version_minor": 0
      },
      "text/plain": [
       "Epoch: 75:   0%|          | 0/23 [00:00<?, ?it/s]"
      ]
     },
     "metadata": {},
     "output_type": "display_data"
    },
    {
     "name": "stdout",
     "output_type": "stream",
     "text": [
      "Epoch num : 75, Train Loss : 0.0011083412, Val Loss : 0.0010550601\n"
     ]
    },
    {
     "data": {
      "application/vnd.jupyter.widget-view+json": {
       "model_id": "c0506888946b4a628edbf2762e31a948",
       "version_major": 2,
       "version_minor": 0
      },
      "text/plain": [
       "Epoch: 76:   0%|          | 0/23 [00:00<?, ?it/s]"
      ]
     },
     "metadata": {},
     "output_type": "display_data"
    },
    {
     "name": "stdout",
     "output_type": "stream",
     "text": [
      "Epoch num : 76, Train Loss : 0.0012045114, Val Loss : 0.0012736158\n"
     ]
    },
    {
     "data": {
      "application/vnd.jupyter.widget-view+json": {
       "model_id": "9909dc16b0264b63b6077d4638ff22be",
       "version_major": 2,
       "version_minor": 0
      },
      "text/plain": [
       "Epoch: 77:   0%|          | 0/23 [00:00<?, ?it/s]"
      ]
     },
     "metadata": {},
     "output_type": "display_data"
    },
    {
     "name": "stdout",
     "output_type": "stream",
     "text": [
      "Epoch num : 77, Train Loss : 0.0011534358, Val Loss : 0.0012652053\n"
     ]
    },
    {
     "data": {
      "application/vnd.jupyter.widget-view+json": {
       "model_id": "ef281165d0ef40e2b5e9319c89ec5115",
       "version_major": 2,
       "version_minor": 0
      },
      "text/plain": [
       "Epoch: 78:   0%|          | 0/23 [00:00<?, ?it/s]"
      ]
     },
     "metadata": {},
     "output_type": "display_data"
    },
    {
     "name": "stdout",
     "output_type": "stream",
     "text": [
      "Epoch num : 78, Train Loss : 0.0011280606, Val Loss : 0.0010260291\n"
     ]
    },
    {
     "data": {
      "application/vnd.jupyter.widget-view+json": {
       "model_id": "ed6f0859063249fbb4d78e98b2e9f166",
       "version_major": 2,
       "version_minor": 0
      },
      "text/plain": [
       "Epoch: 79:   0%|          | 0/23 [00:00<?, ?it/s]"
      ]
     },
     "metadata": {},
     "output_type": "display_data"
    },
    {
     "name": "stdout",
     "output_type": "stream",
     "text": [
      "Epoch num : 79, Train Loss : 0.0012159112, Val Loss : 0.0010818465\n"
     ]
    },
    {
     "data": {
      "application/vnd.jupyter.widget-view+json": {
       "model_id": "2e49b4efd11344aeb207ae7b47a18e93",
       "version_major": 2,
       "version_minor": 0
      },
      "text/plain": [
       "Epoch: 80:   0%|          | 0/23 [00:00<?, ?it/s]"
      ]
     },
     "metadata": {},
     "output_type": "display_data"
    },
    {
     "name": "stdout",
     "output_type": "stream",
     "text": [
      "Epoch num : 80, Train Loss : 0.0011070617, Val Loss : 0.0009474047\n"
     ]
    },
    {
     "data": {
      "application/vnd.jupyter.widget-view+json": {
       "model_id": "41c2b1a0b3674bd2abef4ad5bd3e4cec",
       "version_major": 2,
       "version_minor": 0
      },
      "text/plain": [
       "Epoch: 81:   0%|          | 0/23 [00:00<?, ?it/s]"
      ]
     },
     "metadata": {},
     "output_type": "display_data"
    },
    {
     "name": "stdout",
     "output_type": "stream",
     "text": [
      "Epoch num : 81, Train Loss : 0.0012096908, Val Loss : 0.0009702285\n"
     ]
    },
    {
     "data": {
      "application/vnd.jupyter.widget-view+json": {
       "model_id": "4e6ffef5ebac482dbc100212d6528aae",
       "version_major": 2,
       "version_minor": 0
      },
      "text/plain": [
       "Epoch: 82:   0%|          | 0/23 [00:00<?, ?it/s]"
      ]
     },
     "metadata": {},
     "output_type": "display_data"
    },
    {
     "name": "stdout",
     "output_type": "stream",
     "text": [
      "Epoch num : 82, Train Loss : 0.0011243060, Val Loss : 0.0009447936\n"
     ]
    },
    {
     "data": {
      "application/vnd.jupyter.widget-view+json": {
       "model_id": "0bc49e9d5b7a4888a9b28e30e225d729",
       "version_major": 2,
       "version_minor": 0
      },
      "text/plain": [
       "Epoch: 83:   0%|          | 0/23 [00:00<?, ?it/s]"
      ]
     },
     "metadata": {},
     "output_type": "display_data"
    },
    {
     "name": "stdout",
     "output_type": "stream",
     "text": [
      "Epoch num : 83, Train Loss : 0.0011477713, Val Loss : 0.0009723843\n"
     ]
    },
    {
     "data": {
      "application/vnd.jupyter.widget-view+json": {
       "model_id": "aef8b551e66943dbbb73c04b0ffce6f6",
       "version_major": 2,
       "version_minor": 0
      },
      "text/plain": [
       "Epoch: 84:   0%|          | 0/23 [00:00<?, ?it/s]"
      ]
     },
     "metadata": {},
     "output_type": "display_data"
    },
    {
     "name": "stdout",
     "output_type": "stream",
     "text": [
      "Epoch num : 84, Train Loss : 0.0011555435, Val Loss : 0.0010431311\n"
     ]
    },
    {
     "data": {
      "application/vnd.jupyter.widget-view+json": {
       "model_id": "ca8d65afebc04969b02d370224d344a7",
       "version_major": 2,
       "version_minor": 0
      },
      "text/plain": [
       "Epoch: 85:   0%|          | 0/23 [00:00<?, ?it/s]"
      ]
     },
     "metadata": {},
     "output_type": "display_data"
    },
    {
     "name": "stdout",
     "output_type": "stream",
     "text": [
      "Epoch num : 85, Train Loss : 0.0011344258, Val Loss : 0.0011989633\n"
     ]
    },
    {
     "data": {
      "application/vnd.jupyter.widget-view+json": {
       "model_id": "52ca8adad6da41308720d3e5453b4534",
       "version_major": 2,
       "version_minor": 0
      },
      "text/plain": [
       "Epoch: 86:   0%|          | 0/23 [00:00<?, ?it/s]"
      ]
     },
     "metadata": {},
     "output_type": "display_data"
    },
    {
     "name": "stdout",
     "output_type": "stream",
     "text": [
      "Epoch num : 86, Train Loss : 0.0011753627, Val Loss : 0.0010054490\n"
     ]
    },
    {
     "data": {
      "application/vnd.jupyter.widget-view+json": {
       "model_id": "adcd9b4e72e74c8ba1c5516398f9508d",
       "version_major": 2,
       "version_minor": 0
      },
      "text/plain": [
       "Epoch: 87:   0%|          | 0/23 [00:00<?, ?it/s]"
      ]
     },
     "metadata": {},
     "output_type": "display_data"
    },
    {
     "name": "stdout",
     "output_type": "stream",
     "text": [
      "Epoch num : 87, Train Loss : 0.0010889735, Val Loss : 0.0009563387\n"
     ]
    },
    {
     "data": {
      "application/vnd.jupyter.widget-view+json": {
       "model_id": "cd4d126bd63742ffbc1a050151a28270",
       "version_major": 2,
       "version_minor": 0
      },
      "text/plain": [
       "Epoch: 88:   0%|          | 0/23 [00:00<?, ?it/s]"
      ]
     },
     "metadata": {},
     "output_type": "display_data"
    },
    {
     "name": "stdout",
     "output_type": "stream",
     "text": [
      "Epoch num : 88, Train Loss : 0.0010118191, Val Loss : 0.0013109626\n"
     ]
    },
    {
     "data": {
      "application/vnd.jupyter.widget-view+json": {
       "model_id": "ecedf39832e34cbb8edd604c12a26295",
       "version_major": 2,
       "version_minor": 0
      },
      "text/plain": [
       "Epoch: 89:   0%|          | 0/23 [00:00<?, ?it/s]"
      ]
     },
     "metadata": {},
     "output_type": "display_data"
    },
    {
     "name": "stdout",
     "output_type": "stream",
     "text": [
      "Epoch num : 89, Train Loss : 0.0011325469, Val Loss : 0.0009183738\n"
     ]
    },
    {
     "data": {
      "application/vnd.jupyter.widget-view+json": {
       "model_id": "81e00fd847a349bda1583421677af0cf",
       "version_major": 2,
       "version_minor": 0
      },
      "text/plain": [
       "Epoch: 90:   0%|          | 0/23 [00:00<?, ?it/s]"
      ]
     },
     "metadata": {},
     "output_type": "display_data"
    },
    {
     "name": "stdout",
     "output_type": "stream",
     "text": [
      "Epoch num : 90, Train Loss : 0.0011632976, Val Loss : 0.0009268999\n"
     ]
    },
    {
     "data": {
      "application/vnd.jupyter.widget-view+json": {
       "model_id": "26ab53517e454e7fb8666524c9a01a02",
       "version_major": 2,
       "version_minor": 0
      },
      "text/plain": [
       "Epoch: 91:   0%|          | 0/23 [00:00<?, ?it/s]"
      ]
     },
     "metadata": {},
     "output_type": "display_data"
    },
    {
     "name": "stdout",
     "output_type": "stream",
     "text": [
      "Epoch num : 91, Train Loss : 0.0010204879, Val Loss : 0.0010459492\n"
     ]
    },
    {
     "data": {
      "application/vnd.jupyter.widget-view+json": {
       "model_id": "1c4fb673da0e45e9a4da975c3c874bd2",
       "version_major": 2,
       "version_minor": 0
      },
      "text/plain": [
       "Epoch: 92:   0%|          | 0/23 [00:00<?, ?it/s]"
      ]
     },
     "metadata": {},
     "output_type": "display_data"
    },
    {
     "name": "stdout",
     "output_type": "stream",
     "text": [
      "Epoch num : 92, Train Loss : 0.0010018115, Val Loss : 0.0009169357\n"
     ]
    },
    {
     "data": {
      "application/vnd.jupyter.widget-view+json": {
       "model_id": "09763245cb584480b84bb0c1a114d9fb",
       "version_major": 2,
       "version_minor": 0
      },
      "text/plain": [
       "Epoch: 93:   0%|          | 0/23 [00:00<?, ?it/s]"
      ]
     },
     "metadata": {},
     "output_type": "display_data"
    },
    {
     "name": "stdout",
     "output_type": "stream",
     "text": [
      "Epoch num : 93, Train Loss : 0.0010094169, Val Loss : 0.0009147049\n"
     ]
    },
    {
     "data": {
      "application/vnd.jupyter.widget-view+json": {
       "model_id": "e72c16d56c21430ba0fefddd79da0e2b",
       "version_major": 2,
       "version_minor": 0
      },
      "text/plain": [
       "Epoch: 94:   0%|          | 0/23 [00:00<?, ?it/s]"
      ]
     },
     "metadata": {},
     "output_type": "display_data"
    },
    {
     "name": "stdout",
     "output_type": "stream",
     "text": [
      "Epoch num : 94, Train Loss : 0.0011409621, Val Loss : 0.0010068300\n"
     ]
    },
    {
     "data": {
      "application/vnd.jupyter.widget-view+json": {
       "model_id": "24ea66f1bfcd459598cd1673a3cc5d6a",
       "version_major": 2,
       "version_minor": 0
      },
      "text/plain": [
       "Epoch: 95:   0%|          | 0/23 [00:00<?, ?it/s]"
      ]
     },
     "metadata": {},
     "output_type": "display_data"
    },
    {
     "name": "stdout",
     "output_type": "stream",
     "text": [
      "Epoch num : 95, Train Loss : 0.0011450945, Val Loss : 0.0008914054\n"
     ]
    },
    {
     "data": {
      "application/vnd.jupyter.widget-view+json": {
       "model_id": "35029a34890d46698a40d4b7fb8b7374",
       "version_major": 2,
       "version_minor": 0
      },
      "text/plain": [
       "Epoch: 96:   0%|          | 0/23 [00:00<?, ?it/s]"
      ]
     },
     "metadata": {},
     "output_type": "display_data"
    },
    {
     "name": "stdout",
     "output_type": "stream",
     "text": [
      "Epoch num : 96, Train Loss : 0.0011361635, Val Loss : 0.0008873469\n"
     ]
    },
    {
     "data": {
      "application/vnd.jupyter.widget-view+json": {
       "model_id": "8cef91348b0e4ce39a78d3a1ffb41404",
       "version_major": 2,
       "version_minor": 0
      },
      "text/plain": [
       "Epoch: 97:   0%|          | 0/23 [00:00<?, ?it/s]"
      ]
     },
     "metadata": {},
     "output_type": "display_data"
    },
    {
     "name": "stdout",
     "output_type": "stream",
     "text": [
      "Epoch num : 97, Train Loss : 0.0010282679, Val Loss : 0.0008978590\n"
     ]
    },
    {
     "data": {
      "application/vnd.jupyter.widget-view+json": {
       "model_id": "3855d7cd83374871ac91898fb6c1f61d",
       "version_major": 2,
       "version_minor": 0
      },
      "text/plain": [
       "Epoch: 98:   0%|          | 0/23 [00:00<?, ?it/s]"
      ]
     },
     "metadata": {},
     "output_type": "display_data"
    },
    {
     "name": "stdout",
     "output_type": "stream",
     "text": [
      "Epoch num : 98, Train Loss : 0.0010196903, Val Loss : 0.0008963558\n"
     ]
    },
    {
     "data": {
      "application/vnd.jupyter.widget-view+json": {
       "model_id": "8cc151ed0cbb406c93f90b4b63e97e6e",
       "version_major": 2,
       "version_minor": 0
      },
      "text/plain": [
       "Epoch: 99:   0%|          | 0/23 [00:00<?, ?it/s]"
      ]
     },
     "metadata": {},
     "output_type": "display_data"
    },
    {
     "name": "stdout",
     "output_type": "stream",
     "text": [
      "Epoch num : 99, Train Loss : 0.0010228631, Val Loss : 0.0009099087\n"
     ]
    },
    {
     "data": {
      "application/vnd.jupyter.widget-view+json": {
       "model_id": "35586c8bd6eb4d6bb10c690eb3a5cf0e",
       "version_major": 2,
       "version_minor": 0
      },
      "text/plain": [
       "Epoch: 100:   0%|          | 0/23 [00:00<?, ?it/s]"
      ]
     },
     "metadata": {},
     "output_type": "display_data"
    },
    {
     "name": "stdout",
     "output_type": "stream",
     "text": [
      "Epoch num : 100, Train Loss : 0.0009967705, Val Loss : 0.0009538368\n"
     ]
    }
   ],
   "source": [
    "train_loss_total = []\n",
    "val_loss_total = []\n",
    "\n",
    "for epoch in range(EPOCHS):\n",
    "\n",
    "    train_loss = train_network(\n",
    "        network, train_loader, optimizer, loss_fn, epoch + 1\n",
    "    )\n",
    "\n",
    "    test_loss = evaluate_network(network, val_loader, optimizer, loss_fn)\n",
    "    train_loss_total.append(train_loss.detach())\n",
    "    val_loss_total.append(test_loss.detach())\n",
    "\n",
    "    print(\n",
    "        f\"\"\"Epoch num : {epoch + 1}, Train Loss : {train_loss:.10f}, Val Loss : {test_loss:.10f}\"\"\"\n",
    "    )"
   ]
  },
  {
   "cell_type": "code",
   "execution_count": 65,
   "metadata": {},
   "outputs": [],
   "source": [
    "def Prediction(network, test_loader):\n",
    "    predictions = []\n",
    "    labels = []\n",
    "    \n",
    "    network.eval()\n",
    "\n",
    "    with torch.no_grad():\n",
    "        for input, label in test_loader:\n",
    "            output = network(input)\n",
    "            predictions.extend(output.squeeze().tolist())\n",
    "            labels.extend(label.squeeze().tolist())\n",
    "\n",
    "    return pd.DataFrame({\n",
    "        'Pred' : predictions,\n",
    "        'Label' : labels\n",
    "    }, index=testset.index[:-60])"
   ]
  },
  {
   "cell_type": "code",
   "execution_count": 66,
   "metadata": {},
   "outputs": [],
   "source": [
    "plot = Prediction(network, test_loader)"
   ]
  },
  {
   "cell_type": "code",
   "execution_count": 67,
   "metadata": {},
   "outputs": [
    {
     "data": {
      "text/plain": [
       "<Axes: xlabel='Date'>"
      ]
     },
     "execution_count": 67,
     "metadata": {},
     "output_type": "execute_result"
    },
    {
     "data": {
      "image/png": "[encoded data removed]",
      "text/plain": [
       "<Figure size 640x480 with 1 Axes>"
      ]
     },
     "metadata": {},
     "output_type": "display_data"
    }
   ],
   "source": [
    "plot.plot()"
   ]
  }
 ],
 "metadata": {
  "accelerator": "GPU",
  "colab": {
   "gpuType": "T4",
   "provenance": [],
   "toc_visible": true
  },
  "kernelspec": {
   "display_name": "Python 3",
   "name": "python3"
  },
  "language_info": {
   "codemirror_mode": {
    "name": "ipython",
    "version": 3
   },
   "file_extension": ".py",
   "mimetype": "text/x-python",
   "name": "python",
   "nbconvert_exporter": "python",
   "pygments_lexer": "ipython3",
   "version": "3.12.3"
  },
  "metadata": {
   "interpreter": {
    "hash": "63fd5069d213b44bf678585dea6b12cceca9941eaf7f819626cde1f2670de90d"
   }
  },
  "widgets": {
   "application/vnd.jupyter.widget-state+json": {
    "0632e482c99748ee96ee97c293aae2f5": {
     "model_module": "@jupyter-widgets/controls",
     "model_module_version": "1.5.0",
     "model_name": "DescriptionStyleModel",
     "state": {
      "_model_module": "@jupyter-widgets/controls",
      "_model_module_version": "1.5.0",
      "_model_name": "DescriptionStyleModel",
      "_view_count": null,
      "_view_module": "@jupyter-widgets/base",
      "_view_module_version": "1.2.0",
      "_view_name": "StyleView",
      "description_width": ""
     }
    },
    "0b0044d9f2354383b62d7fe6b781db94": {
     "model_module": "@jupyter-widgets/base",
     "model_module_version": "1.2.0",
     "model_name": "LayoutModel",
     "state": {
      "_model_module": "@jupyter-widgets/base",
      "_model_module_version": "1.2.0",
      "_model_name": "LayoutModel",
      "_view_count": null,
      "_view_module": "@jupyter-widgets/base",
      "_view_module_version": "1.2.0",
      "_view_name": "LayoutView",
      "align_content": null,
      "align_items": null,
      "align_self": null,
      "border": null,
      "bottom": null,
      "display": null,
      "flex": null,
      "flex_flow": null,
      "grid_area": null,
      "grid_auto_columns": null,
      "grid_auto_flow": null,
      "grid_auto_rows": null,
      "grid_column": null,
      "grid_gap": null,
      "grid_row": null,
      "grid_template_areas": null,
      "grid_template_columns": null,
      "grid_template_rows": null,
      "height": null,
      "justify_content": null,
      "justify_items": null,
      "left": null,
      "margin": null,
      "max_height": null,
      "max_width": null,
      "min_height": null,
      "min_width": null,
      "object_fit": null,
      "object_position": null,
      "order": null,
      "overflow": null,
      "overflow_x": null,
      "overflow_y": null,
      "padding": null,
      "right": null,
      "top": null,
      "visibility": null,
      "width": null
     }
    },
    "0c8cb4359a0643cfac78069d1891007c": {
     "model_module": "@jupyter-widgets/base",
     "model_module_version": "1.2.0",
     "model_name": "LayoutModel",
     "state": {
      "_model_module": "@jupyter-widgets/base",
      "_model_module_version": "1.2.0",
      "_model_name": "LayoutModel",
      "_view_count": null,
      "_view_module": "@jupyter-widgets/base",
      "_view_module_version": "1.2.0",
      "_view_name": "LayoutView",
      "align_content": null,
      "align_items": null,
      "align_self": null,
      "border": null,
      "bottom": null,
      "display": null,
      "flex": null,
      "flex_flow": null,
      "grid_area": null,
      "grid_auto_columns": null,
      "grid_auto_flow": null,
      "grid_auto_rows": null,
      "grid_column": null,
      "grid_gap": null,
      "grid_row": null,
      "grid_template_areas": null,
      "grid_template_columns": null,
      "grid_template_rows": null,
      "height": null,
      "justify_content": null,
      "justify_items": null,
      "left": null,
      "margin": null,
      "max_height": null,
      "max_width": null,
      "min_height": null,
      "min_width": null,
      "object_fit": null,
      "object_position": null,
      "order": null,
      "overflow": null,
      "overflow_x": null,
      "overflow_y": null,
      "padding": null,
      "right": null,
      "top": null,
      "visibility": null,
      "width": null
     }
    },
    "0d0eb5a530c745cea0db545c7c8c3b19": {
     "model_module": "@jupyter-widgets/controls",
     "model_module_version": "1.5.0",
     "model_name": "HTMLModel",
     "state": {
      "_dom_classes": [],
      "_model_module": "@jupyter-widgets/controls",
      "_model_module_version": "1.5.0",
      "_model_name": "HTMLModel",
      "_view_count": null,
      "_view_module": "@jupyter-widgets/controls",
      "_view_module_version": "1.5.0",
      "_view_name": "HTMLView",
      "description": "",
      "description_tooltip": null,
      "layout": "IPY_MODEL_41437c99f4be4e7d930ec343000a8d53",
      "placeholder": "​",
      "style": "IPY_MODEL_b75400eae4c64d9990dbb9f5d9b0bc82",
      "value": "Epoch: 1: 100%"
     }
    },
    "20d340bc639d466f9d2f8c520638c638": {
     "model_module": "@jupyter-widgets/controls",
     "model_module_version": "1.5.0",
     "model_name": "DescriptionStyleModel",
     "state": {
      "_model_module": "@jupyter-widgets/controls",
      "_model_module_version": "1.5.0",
      "_model_name": "DescriptionStyleModel",
      "_view_count": null,
      "_view_module": "@jupyter-widgets/base",
      "_view_module_version": "1.2.0",
      "_view_name": "StyleView",
      "description_width": ""
     }
    },
    "2f433600f83348db9543f03396a3b71e": {
     "model_module": "@jupyter-widgets/controls",
     "model_module_version": "1.5.0",
     "model_name": "HTMLModel",
     "state": {
      "_dom_classes": [],
      "_model_module": "@jupyter-widgets/controls",
      "_model_module_version": "1.5.0",
      "_model_name": "HTMLModel",
      "_view_count": null,
      "_view_module": "@jupyter-widgets/controls",
      "_view_module_version": "1.5.0",
      "_view_name": "HTMLView",
      "description": "",
      "description_tooltip": null,
      "layout": "IPY_MODEL_658e91f553d049efb1be550ba4f62bdf",
      "placeholder": "​",
      "style": "IPY_MODEL_0632e482c99748ee96ee97c293aae2f5",
      "value": " 2992/2992 [01:30&lt;00:00, 31.41it/s]"
     }
    },
    "375fe332d8554d359ea90446e31cecec": {
     "model_module": "@jupyter-widgets/base",
     "model_module_version": "1.2.0",
     "model_name": "LayoutModel",
     "state": {
      "_model_module": "@jupyter-widgets/base",
      "_model_module_version": "1.2.0",
      "_model_name": "LayoutModel",
      "_view_count": null,
      "_view_module": "@jupyter-widgets/base",
      "_view_module_version": "1.2.0",
      "_view_name": "LayoutView",
      "align_content": null,
      "align_items": null,
      "align_self": null,
      "border": null,
      "bottom": null,
      "display": null,
      "flex": null,
      "flex_flow": null,
      "grid_area": null,
      "grid_auto_columns": null,
      "grid_auto_flow": null,
      "grid_auto_rows": null,
      "grid_column": null,
      "grid_gap": null,
      "grid_row": null,
      "grid_template_areas": null,
      "grid_template_columns": null,
      "grid_template_rows": null,
      "height": null,
      "justify_content": null,
      "justify_items": null,
      "left": null,
      "margin": null,
      "max_height": null,
      "max_width": null,
      "min_height": null,
      "min_width": null,
      "object_fit": null,
      "object_position": null,
      "order": null,
      "overflow": null,
      "overflow_x": null,
      "overflow_y": null,
      "padding": null,
      "right": null,
      "top": null,
      "visibility": null,
      "width": null
     }
    },
    "38693ef222654f53a889f920ec17c46e": {
     "model_module": "@jupyter-widgets/controls",
     "model_module_version": "1.5.0",
     "model_name": "DescriptionStyleModel",
     "state": {
      "_model_module": "@jupyter-widgets/controls",
      "_model_module_version": "1.5.0",
      "_model_name": "DescriptionStyleModel",
      "_view_count": null,
      "_view_module": "@jupyter-widgets/base",
      "_view_module_version": "1.2.0",
      "_view_name": "StyleView",
      "description_width": ""
     }
    },
    "41437c99f4be4e7d930ec343000a8d53": {
     "model_module": "@jupyter-widgets/base",
     "model_module_version": "1.2.0",
     "model_name": "LayoutModel",
     "state": {
      "_model_module": "@jupyter-widgets/base",
      "_model_module_version": "1.2.0",
      "_model_name": "LayoutModel",
      "_view_count": null,
      "_view_module": "@jupyter-widgets/base",
      "_view_module_version": "1.2.0",
      "_view_name": "LayoutView",
      "align_content": null,
      "align_items": null,
      "align_self": null,
      "border": null,
      "bottom": null,
      "display": null,
      "flex": null,
      "flex_flow": null,
      "grid_area": null,
      "grid_auto_columns": null,
      "grid_auto_flow": null,
      "grid_auto_rows": null,
      "grid_column": null,
      "grid_gap": null,
      "grid_row": null,
      "grid_template_areas": null,
      "grid_template_columns": null,
      "grid_template_rows": null,
      "height": null,
      "justify_content": null,
      "justify_items": null,
      "left": null,
      "margin": null,
      "max_height": null,
      "max_width": null,
      "min_height": null,
      "min_width": null,
      "object_fit": null,
      "object_position": null,
      "order": null,
      "overflow": null,
      "overflow_x": null,
      "overflow_y": null,
      "padding": null,
      "right": null,
      "top": null,
      "visibility": null,
      "width": null
     }
    },
    "472668bc1b1c4ccea8e2731111979c39": {
     "model_module": "@jupyter-widgets/base",
     "model_module_version": "1.2.0",
     "model_name": "LayoutModel",
     "state": {
      "_model_module": "@jupyter-widgets/base",
      "_model_module_version": "1.2.0",
      "_model_name": "LayoutModel",
      "_view_count": null,
      "_view_module": "@jupyter-widgets/base",
      "_view_module_version": "1.2.0",
      "_view_name": "LayoutView",
      "align_content": null,
      "align_items": null,
      "align_self": null,
      "border": null,
      "bottom": null,
      "display": null,
      "flex": null,
      "flex_flow": null,
      "grid_area": null,
      "grid_auto_columns": null,
      "grid_auto_flow": null,
      "grid_auto_rows": null,
      "grid_column": null,
      "grid_gap": null,
      "grid_row": null,
      "grid_template_areas": null,
      "grid_template_columns": null,
      "grid_template_rows": null,
      "height": null,
      "justify_content": null,
      "justify_items": null,
      "left": null,
      "margin": null,
      "max_height": null,
      "max_width": null,
      "min_height": null,
      "min_width": null,
      "object_fit": null,
      "object_position": null,
      "order": null,
      "overflow": null,
      "overflow_x": null,
      "overflow_y": null,
      "padding": null,
      "right": null,
      "top": null,
      "visibility": null,
      "width": null
     }
    },
    "4e3c147646a248a3894c4f90ac0c0e84": {
     "model_module": "@jupyter-widgets/base",
     "model_module_version": "1.2.0",
     "model_name": "LayoutModel",
     "state": {
      "_model_module": "@jupyter-widgets/base",
      "_model_module_version": "1.2.0",
      "_model_name": "LayoutModel",
      "_view_count": null,
      "_view_module": "@jupyter-widgets/base",
      "_view_module_version": "1.2.0",
      "_view_name": "LayoutView",
      "align_content": null,
      "align_items": null,
      "align_self": null,
      "border": null,
      "bottom": null,
      "display": null,
      "flex": null,
      "flex_flow": null,
      "grid_area": null,
      "grid_auto_columns": null,
      "grid_auto_flow": null,
      "grid_auto_rows": null,
      "grid_column": null,
      "grid_gap": null,
      "grid_row": null,
      "grid_template_areas": null,
      "grid_template_columns": null,
      "grid_template_rows": null,
      "height": null,
      "justify_content": null,
      "justify_items": null,
      "left": null,
      "margin": null,
      "max_height": null,
      "max_width": null,
      "min_height": null,
      "min_width": null,
      "object_fit": null,
      "object_position": null,
      "order": null,
      "overflow": null,
      "overflow_x": null,
      "overflow_y": null,
      "padding": null,
      "right": null,
      "top": null,
      "visibility": null,
      "width": null
     }
    },
    "4e8b6c4b360941f9ac07041a9c418e17": {
     "model_module": "@jupyter-widgets/controls",
     "model_module_version": "1.5.0",
     "model_name": "DescriptionStyleModel",
     "state": {
      "_model_module": "@jupyter-widgets/controls",
      "_model_module_version": "1.5.0",
      "_model_name": "DescriptionStyleModel",
      "_view_count": null,
      "_view_module": "@jupyter-widgets/base",
      "_view_module_version": "1.2.0",
      "_view_name": "StyleView",
      "description_width": ""
     }
    },
    "50a4a96740f94ba4a89cbd4aee659a02": {
     "model_module": "@jupyter-widgets/base",
     "model_module_version": "1.2.0",
     "model_name": "LayoutModel",
     "state": {
      "_model_module": "@jupyter-widgets/base",
      "_model_module_version": "1.2.0",
      "_model_name": "LayoutModel",
      "_view_count": null,
      "_view_module": "@jupyter-widgets/base",
      "_view_module_version": "1.2.0",
      "_view_name": "LayoutView",
      "align_content": null,
      "align_items": null,
      "align_self": null,
      "border": null,
      "bottom": null,
      "display": null,
      "flex": null,
      "flex_flow": null,
      "grid_area": null,
      "grid_auto_columns": null,
      "grid_auto_flow": null,
      "grid_auto_rows": null,
      "grid_column": null,
      "grid_gap": null,
      "grid_row": null,
      "grid_template_areas": null,
      "grid_template_columns": null,
      "grid_template_rows": null,
      "height": null,
      "justify_content": null,
      "justify_items": null,
      "left": null,
      "margin": null,
      "max_height": null,
      "max_width": null,
      "min_height": null,
      "min_width": null,
      "object_fit": null,
      "object_position": null,
      "order": null,
      "overflow": null,
      "overflow_x": null,
      "overflow_y": null,
      "padding": null,
      "right": null,
      "top": null,
      "visibility": null,
      "width": null
     }
    },
    "515b5ef4b4944b70ac7c07a8b76e8d6c": {
     "model_module": "@jupyter-widgets/controls",
     "model_module_version": "1.5.0",
     "model_name": "HBoxModel",
     "state": {
      "_dom_classes": [],
      "_model_module": "@jupyter-widgets/controls",
      "_model_module_version": "1.5.0",
      "_model_name": "HBoxModel",
      "_view_count": null,
      "_view_module": "@jupyter-widgets/controls",
      "_view_module_version": "1.5.0",
      "_view_name": "HBoxView",
      "box_style": "",
      "children": [
       "IPY_MODEL_0d0eb5a530c745cea0db545c7c8c3b19",
       "IPY_MODEL_5216a954a5ca4d0cb17e8ca797fe8818",
       "IPY_MODEL_8eca02ed8902476587acd978d612f5ef"
      ],
      "layout": "IPY_MODEL_0b0044d9f2354383b62d7fe6b781db94"
     }
    },
    "5216a954a5ca4d0cb17e8ca797fe8818": {
     "model_module": "@jupyter-widgets/controls",
     "model_module_version": "1.5.0",
     "model_name": "FloatProgressModel",
     "state": {
      "_dom_classes": [],
      "_model_module": "@jupyter-widgets/controls",
      "_model_module_version": "1.5.0",
      "_model_name": "FloatProgressModel",
      "_view_count": null,
      "_view_module": "@jupyter-widgets/controls",
      "_view_module_version": "1.5.0",
      "_view_name": "ProgressView",
      "bar_style": "success",
      "description": "",
      "description_tooltip": null,
      "layout": "IPY_MODEL_700b7cb3a40d4b9e9c18830ed192c965",
      "max": 2992,
      "min": 0,
      "orientation": "horizontal",
      "style": "IPY_MODEL_57bf46c0bfb44a3a845a09daa142f219",
      "value": 2992
     }
    },
    "5443ea6e72f448d3b23a10c3533f4d57": {
     "model_module": "@jupyter-widgets/controls",
     "model_module_version": "1.5.0",
     "model_name": "HBoxModel",
     "state": {
      "_dom_classes": [],
      "_model_module": "@jupyter-widgets/controls",
      "_model_module_version": "1.5.0",
      "_model_name": "HBoxModel",
      "_view_count": null,
      "_view_module": "@jupyter-widgets/controls",
      "_view_module_version": "1.5.0",
      "_view_name": "HBoxView",
      "box_style": "",
      "children": [
       "IPY_MODEL_bacfb7091a6644f6b883fcc400e839f8",
       "IPY_MODEL_fafea16e48364fccb35cbdc32adf657c",
       "IPY_MODEL_772430f69dca43f5b90d73886648f132"
      ],
      "layout": "IPY_MODEL_cce2366f85cb4f0489a3618ffc8052f9"
     }
    },
    "55431ce9ea00452787f77e0cff02607d": {
     "model_module": "@jupyter-widgets/controls",
     "model_module_version": "1.5.0",
     "model_name": "DescriptionStyleModel",
     "state": {
      "_model_module": "@jupyter-widgets/controls",
      "_model_module_version": "1.5.0",
      "_model_name": "DescriptionStyleModel",
      "_view_count": null,
      "_view_module": "@jupyter-widgets/base",
      "_view_module_version": "1.2.0",
      "_view_name": "StyleView",
      "description_width": ""
     }
    },
    "56ee5db3ffac44a29d21cb3969c6fb12": {
     "model_module": "@jupyter-widgets/base",
     "model_module_version": "1.2.0",
     "model_name": "LayoutModel",
     "state": {
      "_model_module": "@jupyter-widgets/base",
      "_model_module_version": "1.2.0",
      "_model_name": "LayoutModel",
      "_view_count": null,
      "_view_module": "@jupyter-widgets/base",
      "_view_module_version": "1.2.0",
      "_view_name": "LayoutView",
      "align_content": null,
      "align_items": null,
      "align_self": null,
      "border": null,
      "bottom": null,
      "display": null,
      "flex": null,
      "flex_flow": null,
      "grid_area": null,
      "grid_auto_columns": null,
      "grid_auto_flow": null,
      "grid_auto_rows": null,
      "grid_column": null,
      "grid_gap": null,
      "grid_row": null,
      "grid_template_areas": null,
      "grid_template_columns": null,
      "grid_template_rows": null,
      "height": null,
      "justify_content": null,
      "justify_items": null,
      "left": null,
      "margin": null,
      "max_height": null,
      "max_width": null,
      "min_height": null,
      "min_width": null,
      "object_fit": null,
      "object_position": null,
      "order": null,
      "overflow": null,
      "overflow_x": null,
      "overflow_y": null,
      "padding": null,
      "right": null,
      "top": null,
      "visibility": null,
      "width": null
     }
    },
    "57bf46c0bfb44a3a845a09daa142f219": {
     "model_module": "@jupyter-widgets/controls",
     "model_module_version": "1.5.0",
     "model_name": "ProgressStyleModel",
     "state": {
      "_model_module": "@jupyter-widgets/controls",
      "_model_module_version": "1.5.0",
      "_model_name": "ProgressStyleModel",
      "_view_count": null,
      "_view_module": "@jupyter-widgets/base",
      "_view_module_version": "1.2.0",
      "_view_name": "StyleView",
      "bar_color": null,
      "description_width": ""
     }
    },
    "5c2611d7215d41829f503b4824fa908a": {
     "model_module": "@jupyter-widgets/controls",
     "model_module_version": "1.5.0",
     "model_name": "HTMLModel",
     "state": {
      "_dom_classes": [],
      "_model_module": "@jupyter-widgets/controls",
      "_model_module_version": "1.5.0",
      "_model_name": "HTMLModel",
      "_view_count": null,
      "_view_module": "@jupyter-widgets/controls",
      "_view_module_version": "1.5.0",
      "_view_name": "HTMLView",
      "description": "",
      "description_tooltip": null,
      "layout": "IPY_MODEL_b1b52ac7b98940039d86d023b2c7e04e",
      "placeholder": "​",
      "style": "IPY_MODEL_61167de4032d4bdd8a8d58d7bd2b1772",
      "value": "Epoch: 1: 100%"
     }
    },
    "5dfe47cf317a4a77853bacc65ee60e3c": {
     "model_module": "@jupyter-widgets/base",
     "model_module_version": "1.2.0",
     "model_name": "LayoutModel",
     "state": {
      "_model_module": "@jupyter-widgets/base",
      "_model_module_version": "1.2.0",
      "_model_name": "LayoutModel",
      "_view_count": null,
      "_view_module": "@jupyter-widgets/base",
      "_view_module_version": "1.2.0",
      "_view_name": "LayoutView",
      "align_content": null,
      "align_items": null,
      "align_self": null,
      "border": null,
      "bottom": null,
      "display": null,
      "flex": null,
      "flex_flow": null,
      "grid_area": null,
      "grid_auto_columns": null,
      "grid_auto_flow": null,
      "grid_auto_rows": null,
      "grid_column": null,
      "grid_gap": null,
      "grid_row": null,
      "grid_template_areas": null,
      "grid_template_columns": null,
      "grid_template_rows": null,
      "height": null,
      "justify_content": null,
      "justify_items": null,
      "left": null,
      "margin": null,
      "max_height": null,
      "max_width": null,
      "min_height": null,
      "min_width": null,
      "object_fit": null,
      "object_position": null,
      "order": null,
      "overflow": null,
      "overflow_x": null,
      "overflow_y": null,
      "padding": null,
      "right": null,
      "top": null,
      "visibility": null,
      "width": null
     }
    },
    "61167de4032d4bdd8a8d58d7bd2b1772": {
     "model_module": "@jupyter-widgets/controls",
     "model_module_version": "1.5.0",
     "model_name": "DescriptionStyleModel",
     "state": {
      "_model_module": "@jupyter-widgets/controls",
      "_model_module_version": "1.5.0",
      "_model_name": "DescriptionStyleModel",
      "_view_count": null,
      "_view_module": "@jupyter-widgets/base",
      "_view_module_version": "1.2.0",
      "_view_name": "StyleView",
      "description_width": ""
     }
    },
    "62eaa0fcc9ff4137bfab3347526bf8c4": {
     "model_module": "@jupyter-widgets/controls",
     "model_module_version": "1.5.0",
     "model_name": "FloatProgressModel",
     "state": {
      "_dom_classes": [],
      "_model_module": "@jupyter-widgets/controls",
      "_model_module_version": "1.5.0",
      "_model_name": "FloatProgressModel",
      "_view_count": null,
      "_view_module": "@jupyter-widgets/controls",
      "_view_module_version": "1.5.0",
      "_view_name": "ProgressView",
      "bar_style": "success",
      "description": "",
      "description_tooltip": null,
      "layout": "IPY_MODEL_8fc43c952dcb46ad9e7cf3305896b8d5",
      "max": 2992,
      "min": 0,
      "orientation": "horizontal",
      "style": "IPY_MODEL_fb9ea24c746d45f992a55e4f9fde4119",
      "value": 2992
     }
    },
    "658e91f553d049efb1be550ba4f62bdf": {
     "model_module": "@jupyter-widgets/base",
     "model_module_version": "1.2.0",
     "model_name": "LayoutModel",
     "state": {
      "_model_module": "@jupyter-widgets/base",
      "_model_module_version": "1.2.0",
      "_model_name": "LayoutModel",
      "_view_count": null,
      "_view_module": "@jupyter-widgets/base",
      "_view_module_version": "1.2.0",
      "_view_name": "LayoutView",
      "align_content": null,
      "align_items": null,
      "align_self": null,
      "border": null,
      "bottom": null,
      "display": null,
      "flex": null,
      "flex_flow": null,
      "grid_area": null,
      "grid_auto_columns": null,
      "grid_auto_flow": null,
      "grid_auto_rows": null,
      "grid_column": null,
      "grid_gap": null,
      "grid_row": null,
      "grid_template_areas": null,
      "grid_template_columns": null,
      "grid_template_rows": null,
      "height": null,
      "justify_content": null,
      "justify_items": null,
      "left": null,
      "margin": null,
      "max_height": null,
      "max_width": null,
      "min_height": null,
      "min_width": null,
      "object_fit": null,
      "object_position": null,
      "order": null,
      "overflow": null,
      "overflow_x": null,
      "overflow_y": null,
      "padding": null,
      "right": null,
      "top": null,
      "visibility": null,
      "width": null
     }
    },
    "68e2ea8d92b1455c84d4358e3b279351": {
     "model_module": "@jupyter-widgets/controls",
     "model_module_version": "1.5.0",
     "model_name": "DescriptionStyleModel",
     "state": {
      "_model_module": "@jupyter-widgets/controls",
      "_model_module_version": "1.5.0",
      "_model_name": "DescriptionStyleModel",
      "_view_count": null,
      "_view_module": "@jupyter-widgets/base",
      "_view_module_version": "1.2.0",
      "_view_name": "StyleView",
      "description_width": ""
     }
    },
    "6d02ecb96ce0442abafb95d20ad1afd3": {
     "model_module": "@jupyter-widgets/base",
     "model_module_version": "1.2.0",
     "model_name": "LayoutModel",
     "state": {
      "_model_module": "@jupyter-widgets/base",
      "_model_module_version": "1.2.0",
      "_model_name": "LayoutModel",
      "_view_count": null,
      "_view_module": "@jupyter-widgets/base",
      "_view_module_version": "1.2.0",
      "_view_name": "LayoutView",
      "align_content": null,
      "align_items": null,
      "align_self": null,
      "border": null,
      "bottom": null,
      "display": null,
      "flex": null,
      "flex_flow": null,
      "grid_area": null,
      "grid_auto_columns": null,
      "grid_auto_flow": null,
      "grid_auto_rows": null,
      "grid_column": null,
      "grid_gap": null,
      "grid_row": null,
      "grid_template_areas": null,
      "grid_template_columns": null,
      "grid_template_rows": null,
      "height": null,
      "justify_content": null,
      "justify_items": null,
      "left": null,
      "margin": null,
      "max_height": null,
      "max_width": null,
      "min_height": null,
      "min_width": null,
      "object_fit": null,
      "object_position": null,
      "order": null,
      "overflow": null,
      "overflow_x": null,
      "overflow_y": null,
      "padding": null,
      "right": null,
      "top": null,
      "visibility": null,
      "width": null
     }
    },
    "6d9895de40a846258bf4412e9c3dcde9": {
     "model_module": "@jupyter-widgets/controls",
     "model_module_version": "1.5.0",
     "model_name": "FloatProgressModel",
     "state": {
      "_dom_classes": [],
      "_model_module": "@jupyter-widgets/controls",
      "_model_module_version": "1.5.0",
      "_model_name": "FloatProgressModel",
      "_view_count": null,
      "_view_module": "@jupyter-widgets/controls",
      "_view_module_version": "1.5.0",
      "_view_name": "ProgressView",
      "bar_style": "success",
      "description": "",
      "description_tooltip": null,
      "layout": "IPY_MODEL_472668bc1b1c4ccea8e2731111979c39",
      "max": 2992,
      "min": 0,
      "orientation": "horizontal",
      "style": "IPY_MODEL_6ebf0b43ef25487c99fa88c45961c4fc",
      "value": 2992
     }
    },
    "6ebf0b43ef25487c99fa88c45961c4fc": {
     "model_module": "@jupyter-widgets/controls",
     "model_module_version": "1.5.0",
     "model_name": "ProgressStyleModel",
     "state": {
      "_model_module": "@jupyter-widgets/controls",
      "_model_module_version": "1.5.0",
      "_model_name": "ProgressStyleModel",
      "_view_count": null,
      "_view_module": "@jupyter-widgets/base",
      "_view_module_version": "1.2.0",
      "_view_name": "StyleView",
      "bar_color": null,
      "description_width": ""
     }
    },
    "700b7cb3a40d4b9e9c18830ed192c965": {
     "model_module": "@jupyter-widgets/base",
     "model_module_version": "1.2.0",
     "model_name": "LayoutModel",
     "state": {
      "_model_module": "@jupyter-widgets/base",
      "_model_module_version": "1.2.0",
      "_model_name": "LayoutModel",
      "_view_count": null,
      "_view_module": "@jupyter-widgets/base",
      "_view_module_version": "1.2.0",
      "_view_name": "LayoutView",
      "align_content": null,
      "align_items": null,
      "align_self": null,
      "border": null,
      "bottom": null,
      "display": null,
      "flex": null,
      "flex_flow": null,
      "grid_area": null,
      "grid_auto_columns": null,
      "grid_auto_flow": null,
      "grid_auto_rows": null,
      "grid_column": null,
      "grid_gap": null,
      "grid_row": null,
      "grid_template_areas": null,
      "grid_template_columns": null,
      "grid_template_rows": null,
      "height": null,
      "justify_content": null,
      "justify_items": null,
      "left": null,
      "margin": null,
      "max_height": null,
      "max_width": null,
      "min_height": null,
      "min_width": null,
      "object_fit": null,
      "object_position": null,
      "order": null,
      "overflow": null,
      "overflow_x": null,
      "overflow_y": null,
      "padding": null,
      "right": null,
      "top": null,
      "visibility": null,
      "width": null
     }
    },
    "772430f69dca43f5b90d73886648f132": {
     "model_module": "@jupyter-widgets/controls",
     "model_module_version": "1.5.0",
     "model_name": "HTMLModel",
     "state": {
      "_dom_classes": [],
      "_model_module": "@jupyter-widgets/controls",
      "_model_module_version": "1.5.0",
      "_model_name": "HTMLModel",
      "_view_count": null,
      "_view_module": "@jupyter-widgets/controls",
      "_view_module_version": "1.5.0",
      "_view_name": "HTMLView",
      "description": "",
      "description_tooltip": null,
      "layout": "IPY_MODEL_b449dbe3d8d046378226bc78c4a62583",
      "placeholder": "​",
      "style": "IPY_MODEL_68e2ea8d92b1455c84d4358e3b279351",
      "value": " 2992/2992 [01:31&lt;00:00, 32.08it/s]"
     }
    },
    "8abe3f6385c14c72a9ce6178cfb33fe3": {
     "model_module": "@jupyter-widgets/base",
     "model_module_version": "1.2.0",
     "model_name": "LayoutModel",
     "state": {
      "_model_module": "@jupyter-widgets/base",
      "_model_module_version": "1.2.0",
      "_model_name": "LayoutModel",
      "_view_count": null,
      "_view_module": "@jupyter-widgets/base",
      "_view_module_version": "1.2.0",
      "_view_name": "LayoutView",
      "align_content": null,
      "align_items": null,
      "align_self": null,
      "border": null,
      "bottom": null,
      "display": null,
      "flex": null,
      "flex_flow": null,
      "grid_area": null,
      "grid_auto_columns": null,
      "grid_auto_flow": null,
      "grid_auto_rows": null,
      "grid_column": null,
      "grid_gap": null,
      "grid_row": null,
      "grid_template_areas": null,
      "grid_template_columns": null,
      "grid_template_rows": null,
      "height": null,
      "justify_content": null,
      "justify_items": null,
      "left": null,
      "margin": null,
      "max_height": null,
      "max_width": null,
      "min_height": null,
      "min_width": null,
      "object_fit": null,
      "object_position": null,
      "order": null,
      "overflow": null,
      "overflow_x": null,
      "overflow_y": null,
      "padding": null,
      "right": null,
      "top": null,
      "visibility": null,
      "width": null
     }
    },
    "8eca02ed8902476587acd978d612f5ef": {
     "model_module": "@jupyter-widgets/controls",
     "model_module_version": "1.5.0",
     "model_name": "HTMLModel",
     "state": {
      "_dom_classes": [],
      "_model_module": "@jupyter-widgets/controls",
      "_model_module_version": "1.5.0",
      "_model_name": "HTMLModel",
      "_view_count": null,
      "_view_module": "@jupyter-widgets/controls",
      "_view_module_version": "1.5.0",
      "_view_name": "HTMLView",
      "description": "",
      "description_tooltip": null,
      "layout": "IPY_MODEL_8abe3f6385c14c72a9ce6178cfb33fe3",
      "placeholder": "​",
      "style": "IPY_MODEL_9e35e85e2d714b44ae54d181e83dd4fb",
      "value": " 2992/2992 [01:24&lt;00:00, 35.65it/s]"
     }
    },
    "8fc43c952dcb46ad9e7cf3305896b8d5": {
     "model_module": "@jupyter-widgets/base",
     "model_module_version": "1.2.0",
     "model_name": "LayoutModel",
     "state": {
      "_model_module": "@jupyter-widgets/base",
      "_model_module_version": "1.2.0",
      "_model_name": "LayoutModel",
      "_view_count": null,
      "_view_module": "@jupyter-widgets/base",
      "_view_module_version": "1.2.0",
      "_view_name": "LayoutView",
      "align_content": null,
      "align_items": null,
      "align_self": null,
      "border": null,
      "bottom": null,
      "display": null,
      "flex": null,
      "flex_flow": null,
      "grid_area": null,
      "grid_auto_columns": null,
      "grid_auto_flow": null,
      "grid_auto_rows": null,
      "grid_column": null,
      "grid_gap": null,
      "grid_row": null,
      "grid_template_areas": null,
      "grid_template_columns": null,
      "grid_template_rows": null,
      "height": null,
      "justify_content": null,
      "justify_items": null,
      "left": null,
      "margin": null,
      "max_height": null,
      "max_width": null,
      "min_height": null,
      "min_width": null,
      "object_fit": null,
      "object_position": null,
      "order": null,
      "overflow": null,
      "overflow_x": null,
      "overflow_y": null,
      "padding": null,
      "right": null,
      "top": null,
      "visibility": null,
      "width": null
     }
    },
    "9192ced25a6e4b01b95ff43b30239832": {
     "model_module": "@jupyter-widgets/controls",
     "model_module_version": "1.5.0",
     "model_name": "ProgressStyleModel",
     "state": {
      "_model_module": "@jupyter-widgets/controls",
      "_model_module_version": "1.5.0",
      "_model_name": "ProgressStyleModel",
      "_view_count": null,
      "_view_module": "@jupyter-widgets/base",
      "_view_module_version": "1.2.0",
      "_view_name": "StyleView",
      "bar_color": null,
      "description_width": ""
     }
    },
    "92b2a47d88bb4f9b83d52ed4bc290993": {
     "model_module": "@jupyter-widgets/controls",
     "model_module_version": "1.5.0",
     "model_name": "HTMLModel",
     "state": {
      "_dom_classes": [],
      "_model_module": "@jupyter-widgets/controls",
      "_model_module_version": "1.5.0",
      "_model_name": "HTMLModel",
      "_view_count": null,
      "_view_module": "@jupyter-widgets/controls",
      "_view_module_version": "1.5.0",
      "_view_name": "HTMLView",
      "description": "",
      "description_tooltip": null,
      "layout": "IPY_MODEL_4e3c147646a248a3894c4f90ac0c0e84",
      "placeholder": "​",
      "style": "IPY_MODEL_38693ef222654f53a889f920ec17c46e",
      "value": " 2992/2992 [00:38&lt;00:00, 71.27it/s]"
     }
    },
    "9ceda1b0f85647be9db4402d3c729ed3": {
     "model_module": "@jupyter-widgets/controls",
     "model_module_version": "1.5.0",
     "model_name": "DescriptionStyleModel",
     "state": {
      "_model_module": "@jupyter-widgets/controls",
      "_model_module_version": "1.5.0",
      "_model_name": "DescriptionStyleModel",
      "_view_count": null,
      "_view_module": "@jupyter-widgets/base",
      "_view_module_version": "1.2.0",
      "_view_name": "StyleView",
      "description_width": ""
     }
    },
    "9e35e85e2d714b44ae54d181e83dd4fb": {
     "model_module": "@jupyter-widgets/controls",
     "model_module_version": "1.5.0",
     "model_name": "DescriptionStyleModel",
     "state": {
      "_model_module": "@jupyter-widgets/controls",
      "_model_module_version": "1.5.0",
      "_model_name": "DescriptionStyleModel",
      "_view_count": null,
      "_view_module": "@jupyter-widgets/base",
      "_view_module_version": "1.2.0",
      "_view_name": "StyleView",
      "description_width": ""
     }
    },
    "b1b52ac7b98940039d86d023b2c7e04e": {
     "model_module": "@jupyter-widgets/base",
     "model_module_version": "1.2.0",
     "model_name": "LayoutModel",
     "state": {
      "_model_module": "@jupyter-widgets/base",
      "_model_module_version": "1.2.0",
      "_model_name": "LayoutModel",
      "_view_count": null,
      "_view_module": "@jupyter-widgets/base",
      "_view_module_version": "1.2.0",
      "_view_name": "LayoutView",
      "align_content": null,
      "align_items": null,
      "align_self": null,
      "border": null,
      "bottom": null,
      "display": null,
      "flex": null,
      "flex_flow": null,
      "grid_area": null,
      "grid_auto_columns": null,
      "grid_auto_flow": null,
      "grid_auto_rows": null,
      "grid_column": null,
      "grid_gap": null,
      "grid_row": null,
      "grid_template_areas": null,
      "grid_template_columns": null,
      "grid_template_rows": null,
      "height": null,
      "justify_content": null,
      "justify_items": null,
      "left": null,
      "margin": null,
      "max_height": null,
      "max_width": null,
      "min_height": null,
      "min_width": null,
      "object_fit": null,
      "object_position": null,
      "order": null,
      "overflow": null,
      "overflow_x": null,
      "overflow_y": null,
      "padding": null,
      "right": null,
      "top": null,
      "visibility": null,
      "width": null
     }
    },
    "b449dbe3d8d046378226bc78c4a62583": {
     "model_module": "@jupyter-widgets/base",
     "model_module_version": "1.2.0",
     "model_name": "LayoutModel",
     "state": {
      "_model_module": "@jupyter-widgets/base",
      "_model_module_version": "1.2.0",
      "_model_name": "LayoutModel",
      "_view_count": null,
      "_view_module": "@jupyter-widgets/base",
      "_view_module_version": "1.2.0",
      "_view_name": "LayoutView",
      "align_content": null,
      "align_items": null,
      "align_self": null,
      "border": null,
      "bottom": null,
      "display": null,
      "flex": null,
      "flex_flow": null,
      "grid_area": null,
      "grid_auto_columns": null,
      "grid_auto_flow": null,
      "grid_auto_rows": null,
      "grid_column": null,
      "grid_gap": null,
      "grid_row": null,
      "grid_template_areas": null,
      "grid_template_columns": null,
      "grid_template_rows": null,
      "height": null,
      "justify_content": null,
      "justify_items": null,
      "left": null,
      "margin": null,
      "max_height": null,
      "max_width": null,
      "min_height": null,
      "min_width": null,
      "object_fit": null,
      "object_position": null,
      "order": null,
      "overflow": null,
      "overflow_x": null,
      "overflow_y": null,
      "padding": null,
      "right": null,
      "top": null,
      "visibility": null,
      "width": null
     }
    },
    "b75400eae4c64d9990dbb9f5d9b0bc82": {
     "model_module": "@jupyter-widgets/controls",
     "model_module_version": "1.5.0",
     "model_name": "DescriptionStyleModel",
     "state": {
      "_model_module": "@jupyter-widgets/controls",
      "_model_module_version": "1.5.0",
      "_model_name": "DescriptionStyleModel",
      "_view_count": null,
      "_view_module": "@jupyter-widgets/base",
      "_view_module_version": "1.2.0",
      "_view_name": "StyleView",
      "description_width": ""
     }
    },
    "b956f700a2914875a0ffaf01a7f84acc": {
     "model_module": "@jupyter-widgets/base",
     "model_module_version": "1.2.0",
     "model_name": "LayoutModel",
     "state": {
      "_model_module": "@jupyter-widgets/base",
      "_model_module_version": "1.2.0",
      "_model_name": "LayoutModel",
      "_view_count": null,
      "_view_module": "@jupyter-widgets/base",
      "_view_module_version": "1.2.0",
      "_view_name": "LayoutView",
      "align_content": null,
      "align_items": null,
      "align_self": null,
      "border": null,
      "bottom": null,
      "display": null,
      "flex": null,
      "flex_flow": null,
      "grid_area": null,
      "grid_auto_columns": null,
      "grid_auto_flow": null,
      "grid_auto_rows": null,
      "grid_column": null,
      "grid_gap": null,
      "grid_row": null,
      "grid_template_areas": null,
      "grid_template_columns": null,
      "grid_template_rows": null,
      "height": null,
      "justify_content": null,
      "justify_items": null,
      "left": null,
      "margin": null,
      "max_height": null,
      "max_width": null,
      "min_height": null,
      "min_width": null,
      "object_fit": null,
      "object_position": null,
      "order": null,
      "overflow": null,
      "overflow_x": null,
      "overflow_y": null,
      "padding": null,
      "right": null,
      "top": null,
      "visibility": null,
      "width": null
     }
    },
    "bacfb7091a6644f6b883fcc400e839f8": {
     "model_module": "@jupyter-widgets/controls",
     "model_module_version": "1.5.0",
     "model_name": "HTMLModel",
     "state": {
      "_dom_classes": [],
      "_model_module": "@jupyter-widgets/controls",
      "_model_module_version": "1.5.0",
      "_model_name": "HTMLModel",
      "_view_count": null,
      "_view_module": "@jupyter-widgets/controls",
      "_view_module_version": "1.5.0",
      "_view_name": "HTMLView",
      "description": "",
      "description_tooltip": null,
      "layout": "IPY_MODEL_375fe332d8554d359ea90446e31cecec",
      "placeholder": "​",
      "style": "IPY_MODEL_9ceda1b0f85647be9db4402d3c729ed3",
      "value": "Epoch: 1: 100%"
     }
    },
    "bb1d4f2c1b6245a8a36a217c26e62e37": {
     "model_module": "@jupyter-widgets/controls",
     "model_module_version": "1.5.0",
     "model_name": "ProgressStyleModel",
     "state": {
      "_model_module": "@jupyter-widgets/controls",
      "_model_module_version": "1.5.0",
      "_model_name": "ProgressStyleModel",
      "_view_count": null,
      "_view_module": "@jupyter-widgets/base",
      "_view_module_version": "1.2.0",
      "_view_name": "StyleView",
      "bar_color": null,
      "description_width": ""
     }
    },
    "cce2366f85cb4f0489a3618ffc8052f9": {
     "model_module": "@jupyter-widgets/base",
     "model_module_version": "1.2.0",
     "model_name": "LayoutModel",
     "state": {
      "_model_module": "@jupyter-widgets/base",
      "_model_module_version": "1.2.0",
      "_model_name": "LayoutModel",
      "_view_count": null,
      "_view_module": "@jupyter-widgets/base",
      "_view_module_version": "1.2.0",
      "_view_name": "LayoutView",
      "align_content": null,
      "align_items": null,
      "align_self": null,
      "border": null,
      "bottom": null,
      "display": null,
      "flex": null,
      "flex_flow": null,
      "grid_area": null,
      "grid_auto_columns": null,
      "grid_auto_flow": null,
      "grid_auto_rows": null,
      "grid_column": null,
      "grid_gap": null,
      "grid_row": null,
      "grid_template_areas": null,
      "grid_template_columns": null,
      "grid_template_rows": null,
      "height": null,
      "justify_content": null,
      "justify_items": null,
      "left": null,
      "margin": null,
      "max_height": null,
      "max_width": null,
      "min_height": null,
      "min_width": null,
      "object_fit": null,
      "object_position": null,
      "order": null,
      "overflow": null,
      "overflow_x": null,
      "overflow_y": null,
      "padding": null,
      "right": null,
      "top": null,
      "visibility": null,
      "width": null
     }
    },
    "cdd8a5dc34f84477b0b1a9391ee889a7": {
     "model_module": "@jupyter-widgets/controls",
     "model_module_version": "1.5.0",
     "model_name": "HBoxModel",
     "state": {
      "_dom_classes": [],
      "_model_module": "@jupyter-widgets/controls",
      "_model_module_version": "1.5.0",
      "_model_name": "HBoxModel",
      "_view_count": null,
      "_view_module": "@jupyter-widgets/controls",
      "_view_module_version": "1.5.0",
      "_view_name": "HBoxView",
      "box_style": "",
      "children": [
       "IPY_MODEL_f3aeeb84fa534b798bb0b58a785eec16",
       "IPY_MODEL_d58450118a90431b857f5fc1e5c17499",
       "IPY_MODEL_2f433600f83348db9543f03396a3b71e"
      ],
      "layout": "IPY_MODEL_0c8cb4359a0643cfac78069d1891007c"
     }
    },
    "d1bbf87e42474af5ba7881bb6279deed": {
     "model_module": "@jupyter-widgets/base",
     "model_module_version": "1.2.0",
     "model_name": "LayoutModel",
     "state": {
      "_model_module": "@jupyter-widgets/base",
      "_model_module_version": "1.2.0",
      "_model_name": "LayoutModel",
      "_view_count": null,
      "_view_module": "@jupyter-widgets/base",
      "_view_module_version": "1.2.0",
      "_view_name": "LayoutView",
      "align_content": null,
      "align_items": null,
      "align_self": null,
      "border": null,
      "bottom": null,
      "display": null,
      "flex": null,
      "flex_flow": null,
      "grid_area": null,
      "grid_auto_columns": null,
      "grid_auto_flow": null,
      "grid_auto_rows": null,
      "grid_column": null,
      "grid_gap": null,
      "grid_row": null,
      "grid_template_areas": null,
      "grid_template_columns": null,
      "grid_template_rows": null,
      "height": null,
      "justify_content": null,
      "justify_items": null,
      "left": null,
      "margin": null,
      "max_height": null,
      "max_width": null,
      "min_height": null,
      "min_width": null,
      "object_fit": null,
      "object_position": null,
      "order": null,
      "overflow": null,
      "overflow_x": null,
      "overflow_y": null,
      "padding": null,
      "right": null,
      "top": null,
      "visibility": null,
      "width": null
     }
    },
    "d58450118a90431b857f5fc1e5c17499": {
     "model_module": "@jupyter-widgets/controls",
     "model_module_version": "1.5.0",
     "model_name": "FloatProgressModel",
     "state": {
      "_dom_classes": [],
      "_model_module": "@jupyter-widgets/controls",
      "_model_module_version": "1.5.0",
      "_model_name": "FloatProgressModel",
      "_view_count": null,
      "_view_module": "@jupyter-widgets/controls",
      "_view_module_version": "1.5.0",
      "_view_name": "ProgressView",
      "bar_style": "success",
      "description": "",
      "description_tooltip": null,
      "layout": "IPY_MODEL_50a4a96740f94ba4a89cbd4aee659a02",
      "max": 2992,
      "min": 0,
      "orientation": "horizontal",
      "style": "IPY_MODEL_9192ced25a6e4b01b95ff43b30239832",
      "value": 2992
     }
    },
    "e52da9da94d6453588a304b635da5726": {
     "model_module": "@jupyter-widgets/controls",
     "model_module_version": "1.5.0",
     "model_name": "HBoxModel",
     "state": {
      "_dom_classes": [],
      "_model_module": "@jupyter-widgets/controls",
      "_model_module_version": "1.5.0",
      "_model_name": "HBoxModel",
      "_view_count": null,
      "_view_module": "@jupyter-widgets/controls",
      "_view_module_version": "1.5.0",
      "_view_name": "HBoxView",
      "box_style": "",
      "children": [
       "IPY_MODEL_fb5a4836af8740fa9e9761b691c24592",
       "IPY_MODEL_6d9895de40a846258bf4412e9c3dcde9",
       "IPY_MODEL_f8e286c0478041b2bcb3521b81e068d9"
      ],
      "layout": "IPY_MODEL_d1bbf87e42474af5ba7881bb6279deed"
     }
    },
    "e640d0e65e6948379642068216b340d1": {
     "model_module": "@jupyter-widgets/controls",
     "model_module_version": "1.5.0",
     "model_name": "HBoxModel",
     "state": {
      "_dom_classes": [],
      "_model_module": "@jupyter-widgets/controls",
      "_model_module_version": "1.5.0",
      "_model_name": "HBoxModel",
      "_view_count": null,
      "_view_module": "@jupyter-widgets/controls",
      "_view_module_version": "1.5.0",
      "_view_name": "HBoxView",
      "box_style": "",
      "children": [
       "IPY_MODEL_5c2611d7215d41829f503b4824fa908a",
       "IPY_MODEL_62eaa0fcc9ff4137bfab3347526bf8c4",
       "IPY_MODEL_92b2a47d88bb4f9b83d52ed4bc290993"
      ],
      "layout": "IPY_MODEL_6d02ecb96ce0442abafb95d20ad1afd3"
     }
    },
    "f3aeeb84fa534b798bb0b58a785eec16": {
     "model_module": "@jupyter-widgets/controls",
     "model_module_version": "1.5.0",
     "model_name": "HTMLModel",
     "state": {
      "_dom_classes": [],
      "_model_module": "@jupyter-widgets/controls",
      "_model_module_version": "1.5.0",
      "_model_name": "HTMLModel",
      "_view_count": null,
      "_view_module": "@jupyter-widgets/controls",
      "_view_module_version": "1.5.0",
      "_view_name": "HTMLView",
      "description": "",
      "description_tooltip": null,
      "layout": "IPY_MODEL_5dfe47cf317a4a77853bacc65ee60e3c",
      "placeholder": "​",
      "style": "IPY_MODEL_4e8b6c4b360941f9ac07041a9c418e17",
      "value": "Epoch: 1: 100%"
     }
    },
    "f8e286c0478041b2bcb3521b81e068d9": {
     "model_module": "@jupyter-widgets/controls",
     "model_module_version": "1.5.0",
     "model_name": "HTMLModel",
     "state": {
      "_dom_classes": [],
      "_model_module": "@jupyter-widgets/controls",
      "_model_module_version": "1.5.0",
      "_model_name": "HTMLModel",
      "_view_count": null,
      "_view_module": "@jupyter-widgets/controls",
      "_view_module_version": "1.5.0",
      "_view_name": "HTMLView",
      "description": "",
      "description_tooltip": null,
      "layout": "IPY_MODEL_fc1853293cee4e4d98f985dd254e260d",
      "placeholder": "​",
      "style": "IPY_MODEL_55431ce9ea00452787f77e0cff02607d",
      "value": " 2992/2992 [00:35&lt;00:00, 96.09it/s]"
     }
    },
    "fafea16e48364fccb35cbdc32adf657c": {
     "model_module": "@jupyter-widgets/controls",
     "model_module_version": "1.5.0",
     "model_name": "FloatProgressModel",
     "state": {
      "_dom_classes": [],
      "_model_module": "@jupyter-widgets/controls",
      "_model_module_version": "1.5.0",
      "_model_name": "FloatProgressModel",
      "_view_count": null,
      "_view_module": "@jupyter-widgets/controls",
      "_view_module_version": "1.5.0",
      "_view_name": "ProgressView",
      "bar_style": "success",
      "description": "",
      "description_tooltip": null,
      "layout": "IPY_MODEL_b956f700a2914875a0ffaf01a7f84acc",
      "max": 2992,
      "min": 0,
      "orientation": "horizontal",
      "style": "IPY_MODEL_bb1d4f2c1b6245a8a36a217c26e62e37",
      "value": 2992
     }
    },
    "fb5a4836af8740fa9e9761b691c24592": {
     "model_module": "@jupyter-widgets/controls",
     "model_module_version": "1.5.0",
     "model_name": "HTMLModel",
     "state": {
      "_dom_classes": [],
      "_model_module": "@jupyter-widgets/controls",
      "_model_module_version": "1.5.0",
      "_model_name": "HTMLModel",
      "_view_count": null,
      "_view_module": "@jupyter-widgets/controls",
      "_view_module_version": "1.5.0",
      "_view_name": "HTMLView",
      "description": "",
      "description_tooltip": null,
      "layout": "IPY_MODEL_56ee5db3ffac44a29d21cb3969c6fb12",
      "placeholder": "​",
      "style": "IPY_MODEL_20d340bc639d466f9d2f8c520638c638",
      "value": "Epoch: 1: 100%"
     }
    },
    "fb9ea24c746d45f992a55e4f9fde4119": {
     "model_module": "@jupyter-widgets/controls",
     "model_module_version": "1.5.0",
     "model_name": "ProgressStyleModel",
     "state": {
      "_model_module": "@jupyter-widgets/controls",
      "_model_module_version": "1.5.0",
      "_model_name": "ProgressStyleModel",
      "_view_count": null,
      "_view_module": "@jupyter-widgets/base",
      "_view_module_version": "1.2.0",
      "_view_name": "StyleView",
      "bar_color": null,
      "description_width": ""
     }
    },
    "fc1853293cee4e4d98f985dd254e260d": {
     "model_module": "@jupyter-widgets/base",
     "model_module_version": "1.2.0",
     "model_name": "LayoutModel",
     "state": {
      "_model_module": "@jupyter-widgets/base",
      "_model_module_version": "1.2.0",
      "_model_name": "LayoutModel",
      "_view_count": null,
      "_view_module": "@jupyter-widgets/base",
      "_view_module_version": "1.2.0",
      "_view_name": "LayoutView",
      "align_content": null,
      "align_items": null,
      "align_self": null,
      "border": null,
      "bottom": null,
      "display": null,
      "flex": null,
      "flex_flow": null,
      "grid_area": null,
      "grid_auto_columns": null,
      "grid_auto_flow": null,
      "grid_auto_rows": null,
      "grid_column": null,
      "grid_gap": null,
      "grid_row": null,
      "grid_template_areas": null,
      "grid_template_columns": null,
      "grid_template_rows": null,
      "height": null,
      "justify_content": null,
      "justify_items": null,
      "left": null,
      "margin": null,
      "max_height": null,
      "max_width": null,
      "min_height": null,
      "min_width": null,
      "object_fit": null,
      "object_position": null,
      "order": null,
      "overflow": null,
      "overflow_x": null,
      "overflow_y": null,
      "padding": null,
      "right": null,
      "top": null,
      "visibility": null,
      "width": null
     }
    }
   }
  }
 },
 "nbformat": 4,
 "nbformat_minor": 0
}
